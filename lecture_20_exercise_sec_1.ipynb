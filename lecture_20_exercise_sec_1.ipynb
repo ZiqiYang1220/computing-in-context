{
 "cells": [
  {
   "cell_type": "markdown",
   "id": "ef3fdc21-70e5-4a5a-a5d4-88d83b52cf2b",
   "metadata": {},
   "source": [
    "# [Lecture 20 exercise](https://computing-in-context.afeld.me/lecture_20.html#in-class-exercise) - section 1\n",
    "\n",
    "Live-coded solution."
   ]
  },
  {
   "cell_type": "markdown",
   "id": "42c24b19-2954-43d7-8286-54c6a582a6b3",
   "metadata": {},
   "source": [
    "## Electricity data"
   ]
  },
  {
   "cell_type": "code",
   "execution_count": 2,
   "id": "de0ad380-1262-42fe-ab2a-2ba2056e6f4d",
   "metadata": {
    "editable": true,
    "scrolled": true,
    "slideshow": {
     "slide_type": ""
    },
    "tags": []
   },
   "outputs": [
    {
     "data": {
      "text/html": [
       "<div>\n",
       "<style scoped>\n",
       "    .dataframe tbody tr th:only-of-type {\n",
       "        vertical-align: middle;\n",
       "    }\n",
       "\n",
       "    .dataframe tbody tr th {\n",
       "        vertical-align: top;\n",
       "    }\n",
       "\n",
       "    .dataframe thead th {\n",
       "        text-align: right;\n",
       "    }\n",
       "</style>\n",
       "<table border=\"1\" class=\"dataframe\">\n",
       "  <thead>\n",
       "    <tr style=\"text-align: right;\">\n",
       "      <th></th>\n",
       "      <th>Series Name</th>\n",
       "      <th>Series Code</th>\n",
       "      <th>Country Name</th>\n",
       "      <th>Country Code</th>\n",
       "      <th>1990 [YR1990]</th>\n",
       "      <th>2000 [YR2000]</th>\n",
       "      <th>2014 [YR2014]</th>\n",
       "      <th>2015 [YR2015]</th>\n",
       "      <th>2016 [YR2016]</th>\n",
       "      <th>2017 [YR2017]</th>\n",
       "      <th>2018 [YR2018]</th>\n",
       "      <th>2019 [YR2019]</th>\n",
       "      <th>2020 [YR2020]</th>\n",
       "      <th>2021 [YR2021]</th>\n",
       "      <th>2022 [YR2022]</th>\n",
       "      <th>2023 [YR2023]</th>\n",
       "    </tr>\n",
       "  </thead>\n",
       "  <tbody>\n",
       "    <tr>\n",
       "      <th>0</th>\n",
       "      <td>Access to electricity (% of population)</td>\n",
       "      <td>EG.ELC.ACCS.ZS</td>\n",
       "      <td>Afghanistan</td>\n",
       "      <td>AFG</td>\n",
       "      <td>..</td>\n",
       "      <td>4.4</td>\n",
       "      <td>89.5</td>\n",
       "      <td>71.5</td>\n",
       "      <td>97.7</td>\n",
       "      <td>97.7</td>\n",
       "      <td>93.4</td>\n",
       "      <td>97.7</td>\n",
       "      <td>97.7</td>\n",
       "      <td>97.7</td>\n",
       "      <td>85.3</td>\n",
       "      <td>..</td>\n",
       "    </tr>\n",
       "    <tr>\n",
       "      <th>1</th>\n",
       "      <td>Access to electricity (% of population)</td>\n",
       "      <td>EG.ELC.ACCS.ZS</td>\n",
       "      <td>Albania</td>\n",
       "      <td>ALB</td>\n",
       "      <td>100</td>\n",
       "      <td>99.4</td>\n",
       "      <td>100</td>\n",
       "      <td>100</td>\n",
       "      <td>99.9</td>\n",
       "      <td>99.9</td>\n",
       "      <td>100</td>\n",
       "      <td>100</td>\n",
       "      <td>100</td>\n",
       "      <td>100</td>\n",
       "      <td>100</td>\n",
       "      <td>..</td>\n",
       "    </tr>\n",
       "    <tr>\n",
       "      <th>2</th>\n",
       "      <td>Access to electricity (% of population)</td>\n",
       "      <td>EG.ELC.ACCS.ZS</td>\n",
       "      <td>Algeria</td>\n",
       "      <td>DZA</td>\n",
       "      <td>..</td>\n",
       "      <td>98.6</td>\n",
       "      <td>99.3</td>\n",
       "      <td>99.4</td>\n",
       "      <td>99.4</td>\n",
       "      <td>99.5</td>\n",
       "      <td>99.6</td>\n",
       "      <td>99.5</td>\n",
       "      <td>99.7</td>\n",
       "      <td>99.8</td>\n",
       "      <td>100</td>\n",
       "      <td>..</td>\n",
       "    </tr>\n",
       "    <tr>\n",
       "      <th>3</th>\n",
       "      <td>Access to electricity (% of population)</td>\n",
       "      <td>EG.ELC.ACCS.ZS</td>\n",
       "      <td>American Samoa</td>\n",
       "      <td>ASM</td>\n",
       "      <td>..</td>\n",
       "      <td>..</td>\n",
       "      <td>..</td>\n",
       "      <td>..</td>\n",
       "      <td>..</td>\n",
       "      <td>..</td>\n",
       "      <td>..</td>\n",
       "      <td>..</td>\n",
       "      <td>..</td>\n",
       "      <td>..</td>\n",
       "      <td>..</td>\n",
       "      <td>..</td>\n",
       "    </tr>\n",
       "    <tr>\n",
       "      <th>4</th>\n",
       "      <td>Access to electricity (% of population)</td>\n",
       "      <td>EG.ELC.ACCS.ZS</td>\n",
       "      <td>Andorra</td>\n",
       "      <td>AND</td>\n",
       "      <td>100</td>\n",
       "      <td>100</td>\n",
       "      <td>100</td>\n",
       "      <td>100</td>\n",
       "      <td>100</td>\n",
       "      <td>100</td>\n",
       "      <td>100</td>\n",
       "      <td>100</td>\n",
       "      <td>100</td>\n",
       "      <td>100</td>\n",
       "      <td>100</td>\n",
       "      <td>..</td>\n",
       "    </tr>\n",
       "    <tr>\n",
       "      <th>...</th>\n",
       "      <td>...</td>\n",
       "      <td>...</td>\n",
       "      <td>...</td>\n",
       "      <td>...</td>\n",
       "      <td>...</td>\n",
       "      <td>...</td>\n",
       "      <td>...</td>\n",
       "      <td>...</td>\n",
       "      <td>...</td>\n",
       "      <td>...</td>\n",
       "      <td>...</td>\n",
       "      <td>...</td>\n",
       "      <td>...</td>\n",
       "      <td>...</td>\n",
       "      <td>...</td>\n",
       "      <td>...</td>\n",
       "    </tr>\n",
       "    <tr>\n",
       "      <th>266</th>\n",
       "      <td>NaN</td>\n",
       "      <td>NaN</td>\n",
       "      <td>NaN</td>\n",
       "      <td>NaN</td>\n",
       "      <td>NaN</td>\n",
       "      <td>NaN</td>\n",
       "      <td>NaN</td>\n",
       "      <td>NaN</td>\n",
       "      <td>NaN</td>\n",
       "      <td>NaN</td>\n",
       "      <td>NaN</td>\n",
       "      <td>NaN</td>\n",
       "      <td>NaN</td>\n",
       "      <td>NaN</td>\n",
       "      <td>NaN</td>\n",
       "      <td>NaN</td>\n",
       "    </tr>\n",
       "    <tr>\n",
       "      <th>267</th>\n",
       "      <td>NaN</td>\n",
       "      <td>NaN</td>\n",
       "      <td>NaN</td>\n",
       "      <td>NaN</td>\n",
       "      <td>NaN</td>\n",
       "      <td>NaN</td>\n",
       "      <td>NaN</td>\n",
       "      <td>NaN</td>\n",
       "      <td>NaN</td>\n",
       "      <td>NaN</td>\n",
       "      <td>NaN</td>\n",
       "      <td>NaN</td>\n",
       "      <td>NaN</td>\n",
       "      <td>NaN</td>\n",
       "      <td>NaN</td>\n",
       "      <td>NaN</td>\n",
       "    </tr>\n",
       "    <tr>\n",
       "      <th>268</th>\n",
       "      <td>NaN</td>\n",
       "      <td>NaN</td>\n",
       "      <td>NaN</td>\n",
       "      <td>NaN</td>\n",
       "      <td>NaN</td>\n",
       "      <td>NaN</td>\n",
       "      <td>NaN</td>\n",
       "      <td>NaN</td>\n",
       "      <td>NaN</td>\n",
       "      <td>NaN</td>\n",
       "      <td>NaN</td>\n",
       "      <td>NaN</td>\n",
       "      <td>NaN</td>\n",
       "      <td>NaN</td>\n",
       "      <td>NaN</td>\n",
       "      <td>NaN</td>\n",
       "    </tr>\n",
       "    <tr>\n",
       "      <th>269</th>\n",
       "      <td>Data from database: World Development Indicators</td>\n",
       "      <td>NaN</td>\n",
       "      <td>NaN</td>\n",
       "      <td>NaN</td>\n",
       "      <td>NaN</td>\n",
       "      <td>NaN</td>\n",
       "      <td>NaN</td>\n",
       "      <td>NaN</td>\n",
       "      <td>NaN</td>\n",
       "      <td>NaN</td>\n",
       "      <td>NaN</td>\n",
       "      <td>NaN</td>\n",
       "      <td>NaN</td>\n",
       "      <td>NaN</td>\n",
       "      <td>NaN</td>\n",
       "      <td>NaN</td>\n",
       "    </tr>\n",
       "    <tr>\n",
       "      <th>270</th>\n",
       "      <td>Last Updated: 10/24/2024</td>\n",
       "      <td>NaN</td>\n",
       "      <td>NaN</td>\n",
       "      <td>NaN</td>\n",
       "      <td>NaN</td>\n",
       "      <td>NaN</td>\n",
       "      <td>NaN</td>\n",
       "      <td>NaN</td>\n",
       "      <td>NaN</td>\n",
       "      <td>NaN</td>\n",
       "      <td>NaN</td>\n",
       "      <td>NaN</td>\n",
       "      <td>NaN</td>\n",
       "      <td>NaN</td>\n",
       "      <td>NaN</td>\n",
       "      <td>NaN</td>\n",
       "    </tr>\n",
       "  </tbody>\n",
       "</table>\n",
       "<p>271 rows × 16 columns</p>\n",
       "</div>"
      ],
      "text/plain": [
       "                                          Series Name     Series Code  \\\n",
       "0             Access to electricity (% of population)  EG.ELC.ACCS.ZS   \n",
       "1             Access to electricity (% of population)  EG.ELC.ACCS.ZS   \n",
       "2             Access to electricity (% of population)  EG.ELC.ACCS.ZS   \n",
       "3             Access to electricity (% of population)  EG.ELC.ACCS.ZS   \n",
       "4             Access to electricity (% of population)  EG.ELC.ACCS.ZS   \n",
       "..                                                ...             ...   \n",
       "266                                               NaN             NaN   \n",
       "267                                               NaN             NaN   \n",
       "268                                               NaN             NaN   \n",
       "269  Data from database: World Development Indicators             NaN   \n",
       "270                          Last Updated: 10/24/2024             NaN   \n",
       "\n",
       "       Country Name Country Code 1990 [YR1990] 2000 [YR2000] 2014 [YR2014]  \\\n",
       "0       Afghanistan          AFG            ..           4.4          89.5   \n",
       "1           Albania          ALB           100          99.4           100   \n",
       "2           Algeria          DZA            ..          98.6          99.3   \n",
       "3    American Samoa          ASM            ..            ..            ..   \n",
       "4           Andorra          AND           100           100           100   \n",
       "..              ...          ...           ...           ...           ...   \n",
       "266             NaN          NaN           NaN           NaN           NaN   \n",
       "267             NaN          NaN           NaN           NaN           NaN   \n",
       "268             NaN          NaN           NaN           NaN           NaN   \n",
       "269             NaN          NaN           NaN           NaN           NaN   \n",
       "270             NaN          NaN           NaN           NaN           NaN   \n",
       "\n",
       "    2015 [YR2015] 2016 [YR2016] 2017 [YR2017] 2018 [YR2018] 2019 [YR2019]  \\\n",
       "0            71.5          97.7          97.7          93.4          97.7   \n",
       "1             100          99.9          99.9           100           100   \n",
       "2            99.4          99.4          99.5          99.6          99.5   \n",
       "3              ..            ..            ..            ..            ..   \n",
       "4             100           100           100           100           100   \n",
       "..            ...           ...           ...           ...           ...   \n",
       "266           NaN           NaN           NaN           NaN           NaN   \n",
       "267           NaN           NaN           NaN           NaN           NaN   \n",
       "268           NaN           NaN           NaN           NaN           NaN   \n",
       "269           NaN           NaN           NaN           NaN           NaN   \n",
       "270           NaN           NaN           NaN           NaN           NaN   \n",
       "\n",
       "    2020 [YR2020] 2021 [YR2021] 2022 [YR2022] 2023 [YR2023]  \n",
       "0            97.7          97.7          85.3            ..  \n",
       "1             100           100           100            ..  \n",
       "2            99.7          99.8           100            ..  \n",
       "3              ..            ..            ..            ..  \n",
       "4             100           100           100            ..  \n",
       "..            ...           ...           ...           ...  \n",
       "266           NaN           NaN           NaN           NaN  \n",
       "267           NaN           NaN           NaN           NaN  \n",
       "268           NaN           NaN           NaN           NaN  \n",
       "269           NaN           NaN           NaN           NaN  \n",
       "270           NaN           NaN           NaN           NaN  \n",
       "\n",
       "[271 rows x 16 columns]"
      ]
     },
     "execution_count": 2,
     "metadata": {},
     "output_type": "execute_result"
    }
   ],
   "source": [
    "import pandas as pd\n",
    "\n",
    "electricity = pd.read_csv(\"data/P_Data_Extract_From_World_Development_Indicators/0a6eb0d7-9c99-4d18-bf17-7839ff3ad1ed_Data.csv\")\n",
    "electricity"
   ]
  },
  {
   "cell_type": "markdown",
   "id": "6411fca3-ee6e-4fd1-ba15-18e3e8d1b6b4",
   "metadata": {},
   "source": [
    "### Clean"
   ]
  },
  {
   "cell_type": "code",
   "execution_count": 4,
   "id": "15f27add-2b1e-43d2-953a-f582aa51982f",
   "metadata": {
    "scrolled": true
   },
   "outputs": [
    {
     "data": {
      "text/html": [
       "<div>\n",
       "<style scoped>\n",
       "    .dataframe tbody tr th:only-of-type {\n",
       "        vertical-align: middle;\n",
       "    }\n",
       "\n",
       "    .dataframe tbody tr th {\n",
       "        vertical-align: top;\n",
       "    }\n",
       "\n",
       "    .dataframe thead th {\n",
       "        text-align: right;\n",
       "    }\n",
       "</style>\n",
       "<table border=\"1\" class=\"dataframe\">\n",
       "  <thead>\n",
       "    <tr style=\"text-align: right;\">\n",
       "      <th></th>\n",
       "      <th>Series Name</th>\n",
       "      <th>Series Code</th>\n",
       "      <th>Country Name</th>\n",
       "      <th>Country Code</th>\n",
       "      <th>1990 [YR1990]</th>\n",
       "      <th>2000 [YR2000]</th>\n",
       "      <th>2014 [YR2014]</th>\n",
       "      <th>2015 [YR2015]</th>\n",
       "      <th>2016 [YR2016]</th>\n",
       "      <th>2017 [YR2017]</th>\n",
       "      <th>2018 [YR2018]</th>\n",
       "      <th>2019 [YR2019]</th>\n",
       "      <th>2020 [YR2020]</th>\n",
       "      <th>2021 [YR2021]</th>\n",
       "      <th>2022 [YR2022]</th>\n",
       "      <th>2023 [YR2023]</th>\n",
       "    </tr>\n",
       "  </thead>\n",
       "  <tbody>\n",
       "    <tr>\n",
       "      <th>0</th>\n",
       "      <td>Access to electricity (% of population)</td>\n",
       "      <td>EG.ELC.ACCS.ZS</td>\n",
       "      <td>Afghanistan</td>\n",
       "      <td>AFG</td>\n",
       "      <td>..</td>\n",
       "      <td>4.4</td>\n",
       "      <td>89.5</td>\n",
       "      <td>71.5</td>\n",
       "      <td>97.7</td>\n",
       "      <td>97.7</td>\n",
       "      <td>93.4</td>\n",
       "      <td>97.7</td>\n",
       "      <td>97.7</td>\n",
       "      <td>97.7</td>\n",
       "      <td>85.3</td>\n",
       "      <td>..</td>\n",
       "    </tr>\n",
       "    <tr>\n",
       "      <th>1</th>\n",
       "      <td>Access to electricity (% of population)</td>\n",
       "      <td>EG.ELC.ACCS.ZS</td>\n",
       "      <td>Albania</td>\n",
       "      <td>ALB</td>\n",
       "      <td>100</td>\n",
       "      <td>99.4</td>\n",
       "      <td>100</td>\n",
       "      <td>100</td>\n",
       "      <td>99.9</td>\n",
       "      <td>99.9</td>\n",
       "      <td>100</td>\n",
       "      <td>100</td>\n",
       "      <td>100</td>\n",
       "      <td>100</td>\n",
       "      <td>100</td>\n",
       "      <td>..</td>\n",
       "    </tr>\n",
       "    <tr>\n",
       "      <th>2</th>\n",
       "      <td>Access to electricity (% of population)</td>\n",
       "      <td>EG.ELC.ACCS.ZS</td>\n",
       "      <td>Algeria</td>\n",
       "      <td>DZA</td>\n",
       "      <td>..</td>\n",
       "      <td>98.6</td>\n",
       "      <td>99.3</td>\n",
       "      <td>99.4</td>\n",
       "      <td>99.4</td>\n",
       "      <td>99.5</td>\n",
       "      <td>99.6</td>\n",
       "      <td>99.5</td>\n",
       "      <td>99.7</td>\n",
       "      <td>99.8</td>\n",
       "      <td>100</td>\n",
       "      <td>..</td>\n",
       "    </tr>\n",
       "    <tr>\n",
       "      <th>3</th>\n",
       "      <td>Access to electricity (% of population)</td>\n",
       "      <td>EG.ELC.ACCS.ZS</td>\n",
       "      <td>American Samoa</td>\n",
       "      <td>ASM</td>\n",
       "      <td>..</td>\n",
       "      <td>..</td>\n",
       "      <td>..</td>\n",
       "      <td>..</td>\n",
       "      <td>..</td>\n",
       "      <td>..</td>\n",
       "      <td>..</td>\n",
       "      <td>..</td>\n",
       "      <td>..</td>\n",
       "      <td>..</td>\n",
       "      <td>..</td>\n",
       "      <td>..</td>\n",
       "    </tr>\n",
       "    <tr>\n",
       "      <th>4</th>\n",
       "      <td>Access to electricity (% of population)</td>\n",
       "      <td>EG.ELC.ACCS.ZS</td>\n",
       "      <td>Andorra</td>\n",
       "      <td>AND</td>\n",
       "      <td>100</td>\n",
       "      <td>100</td>\n",
       "      <td>100</td>\n",
       "      <td>100</td>\n",
       "      <td>100</td>\n",
       "      <td>100</td>\n",
       "      <td>100</td>\n",
       "      <td>100</td>\n",
       "      <td>100</td>\n",
       "      <td>100</td>\n",
       "      <td>100</td>\n",
       "      <td>..</td>\n",
       "    </tr>\n",
       "    <tr>\n",
       "      <th>...</th>\n",
       "      <td>...</td>\n",
       "      <td>...</td>\n",
       "      <td>...</td>\n",
       "      <td>...</td>\n",
       "      <td>...</td>\n",
       "      <td>...</td>\n",
       "      <td>...</td>\n",
       "      <td>...</td>\n",
       "      <td>...</td>\n",
       "      <td>...</td>\n",
       "      <td>...</td>\n",
       "      <td>...</td>\n",
       "      <td>...</td>\n",
       "      <td>...</td>\n",
       "      <td>...</td>\n",
       "      <td>...</td>\n",
       "    </tr>\n",
       "    <tr>\n",
       "      <th>266</th>\n",
       "      <td>0</td>\n",
       "      <td>0</td>\n",
       "      <td>0</td>\n",
       "      <td>0</td>\n",
       "      <td>0</td>\n",
       "      <td>0</td>\n",
       "      <td>0</td>\n",
       "      <td>0</td>\n",
       "      <td>0</td>\n",
       "      <td>0</td>\n",
       "      <td>0</td>\n",
       "      <td>0</td>\n",
       "      <td>0</td>\n",
       "      <td>0</td>\n",
       "      <td>0</td>\n",
       "      <td>0</td>\n",
       "    </tr>\n",
       "    <tr>\n",
       "      <th>267</th>\n",
       "      <td>0</td>\n",
       "      <td>0</td>\n",
       "      <td>0</td>\n",
       "      <td>0</td>\n",
       "      <td>0</td>\n",
       "      <td>0</td>\n",
       "      <td>0</td>\n",
       "      <td>0</td>\n",
       "      <td>0</td>\n",
       "      <td>0</td>\n",
       "      <td>0</td>\n",
       "      <td>0</td>\n",
       "      <td>0</td>\n",
       "      <td>0</td>\n",
       "      <td>0</td>\n",
       "      <td>0</td>\n",
       "    </tr>\n",
       "    <tr>\n",
       "      <th>268</th>\n",
       "      <td>0</td>\n",
       "      <td>0</td>\n",
       "      <td>0</td>\n",
       "      <td>0</td>\n",
       "      <td>0</td>\n",
       "      <td>0</td>\n",
       "      <td>0</td>\n",
       "      <td>0</td>\n",
       "      <td>0</td>\n",
       "      <td>0</td>\n",
       "      <td>0</td>\n",
       "      <td>0</td>\n",
       "      <td>0</td>\n",
       "      <td>0</td>\n",
       "      <td>0</td>\n",
       "      <td>0</td>\n",
       "    </tr>\n",
       "    <tr>\n",
       "      <th>269</th>\n",
       "      <td>Data from database: World Development Indicators</td>\n",
       "      <td>0</td>\n",
       "      <td>0</td>\n",
       "      <td>0</td>\n",
       "      <td>0</td>\n",
       "      <td>0</td>\n",
       "      <td>0</td>\n",
       "      <td>0</td>\n",
       "      <td>0</td>\n",
       "      <td>0</td>\n",
       "      <td>0</td>\n",
       "      <td>0</td>\n",
       "      <td>0</td>\n",
       "      <td>0</td>\n",
       "      <td>0</td>\n",
       "      <td>0</td>\n",
       "    </tr>\n",
       "    <tr>\n",
       "      <th>270</th>\n",
       "      <td>Last Updated: 10/24/2024</td>\n",
       "      <td>0</td>\n",
       "      <td>0</td>\n",
       "      <td>0</td>\n",
       "      <td>0</td>\n",
       "      <td>0</td>\n",
       "      <td>0</td>\n",
       "      <td>0</td>\n",
       "      <td>0</td>\n",
       "      <td>0</td>\n",
       "      <td>0</td>\n",
       "      <td>0</td>\n",
       "      <td>0</td>\n",
       "      <td>0</td>\n",
       "      <td>0</td>\n",
       "      <td>0</td>\n",
       "    </tr>\n",
       "  </tbody>\n",
       "</table>\n",
       "<p>271 rows × 16 columns</p>\n",
       "</div>"
      ],
      "text/plain": [
       "                                          Series Name     Series Code  \\\n",
       "0             Access to electricity (% of population)  EG.ELC.ACCS.ZS   \n",
       "1             Access to electricity (% of population)  EG.ELC.ACCS.ZS   \n",
       "2             Access to electricity (% of population)  EG.ELC.ACCS.ZS   \n",
       "3             Access to electricity (% of population)  EG.ELC.ACCS.ZS   \n",
       "4             Access to electricity (% of population)  EG.ELC.ACCS.ZS   \n",
       "..                                                ...             ...   \n",
       "266                                                 0               0   \n",
       "267                                                 0               0   \n",
       "268                                                 0               0   \n",
       "269  Data from database: World Development Indicators               0   \n",
       "270                          Last Updated: 10/24/2024               0   \n",
       "\n",
       "       Country Name Country Code 1990 [YR1990] 2000 [YR2000] 2014 [YR2014]  \\\n",
       "0       Afghanistan          AFG            ..           4.4          89.5   \n",
       "1           Albania          ALB           100          99.4           100   \n",
       "2           Algeria          DZA            ..          98.6          99.3   \n",
       "3    American Samoa          ASM            ..            ..            ..   \n",
       "4           Andorra          AND           100           100           100   \n",
       "..              ...          ...           ...           ...           ...   \n",
       "266               0            0             0             0             0   \n",
       "267               0            0             0             0             0   \n",
       "268               0            0             0             0             0   \n",
       "269               0            0             0             0             0   \n",
       "270               0            0             0             0             0   \n",
       "\n",
       "    2015 [YR2015] 2016 [YR2016] 2017 [YR2017] 2018 [YR2018] 2019 [YR2019]  \\\n",
       "0            71.5          97.7          97.7          93.4          97.7   \n",
       "1             100          99.9          99.9           100           100   \n",
       "2            99.4          99.4          99.5          99.6          99.5   \n",
       "3              ..            ..            ..            ..            ..   \n",
       "4             100           100           100           100           100   \n",
       "..            ...           ...           ...           ...           ...   \n",
       "266             0             0             0             0             0   \n",
       "267             0             0             0             0             0   \n",
       "268             0             0             0             0             0   \n",
       "269             0             0             0             0             0   \n",
       "270             0             0             0             0             0   \n",
       "\n",
       "    2020 [YR2020] 2021 [YR2021] 2022 [YR2022] 2023 [YR2023]  \n",
       "0            97.7          97.7          85.3            ..  \n",
       "1             100           100           100            ..  \n",
       "2            99.7          99.8           100            ..  \n",
       "3              ..            ..            ..            ..  \n",
       "4             100           100           100            ..  \n",
       "..            ...           ...           ...           ...  \n",
       "266             0             0             0             0  \n",
       "267             0             0             0             0  \n",
       "268             0             0             0             0  \n",
       "269             0             0             0             0  \n",
       "270             0             0             0             0  \n",
       "\n",
       "[271 rows x 16 columns]"
      ]
     },
     "execution_count": 4,
     "metadata": {},
     "output_type": "execute_result"
    }
   ],
   "source": [
    "electricity.fillna(0)"
   ]
  },
  {
   "cell_type": "code",
   "execution_count": 5,
   "id": "d4d8aa2d-5962-4548-836f-4f7721d9b788",
   "metadata": {},
   "outputs": [
    {
     "data": {
      "text/html": [
       "<div>\n",
       "<style scoped>\n",
       "    .dataframe tbody tr th:only-of-type {\n",
       "        vertical-align: middle;\n",
       "    }\n",
       "\n",
       "    .dataframe tbody tr th {\n",
       "        vertical-align: top;\n",
       "    }\n",
       "\n",
       "    .dataframe thead th {\n",
       "        text-align: right;\n",
       "    }\n",
       "</style>\n",
       "<table border=\"1\" class=\"dataframe\">\n",
       "  <thead>\n",
       "    <tr style=\"text-align: right;\">\n",
       "      <th></th>\n",
       "      <th>Series Name</th>\n",
       "      <th>Series Code</th>\n",
       "      <th>Country Name</th>\n",
       "      <th>Country Code</th>\n",
       "      <th>1990 [YR1990]</th>\n",
       "      <th>2000 [YR2000]</th>\n",
       "      <th>2014 [YR2014]</th>\n",
       "      <th>2015 [YR2015]</th>\n",
       "      <th>2016 [YR2016]</th>\n",
       "      <th>2017 [YR2017]</th>\n",
       "      <th>2018 [YR2018]</th>\n",
       "      <th>2019 [YR2019]</th>\n",
       "      <th>2020 [YR2020]</th>\n",
       "      <th>2021 [YR2021]</th>\n",
       "      <th>2022 [YR2022]</th>\n",
       "      <th>2023 [YR2023]</th>\n",
       "    </tr>\n",
       "  </thead>\n",
       "  <tbody>\n",
       "    <tr>\n",
       "      <th>3</th>\n",
       "      <td>Access to electricity (% of population)</td>\n",
       "      <td>EG.ELC.ACCS.ZS</td>\n",
       "      <td>American Samoa</td>\n",
       "      <td>ASM</td>\n",
       "      <td>..</td>\n",
       "      <td>..</td>\n",
       "      <td>..</td>\n",
       "      <td>..</td>\n",
       "      <td>..</td>\n",
       "      <td>..</td>\n",
       "      <td>..</td>\n",
       "      <td>..</td>\n",
       "      <td>..</td>\n",
       "      <td>..</td>\n",
       "      <td>..</td>\n",
       "      <td>..</td>\n",
       "    </tr>\n",
       "  </tbody>\n",
       "</table>\n",
       "</div>"
      ],
      "text/plain": [
       "                               Series Name     Series Code    Country Name  \\\n",
       "3  Access to electricity (% of population)  EG.ELC.ACCS.ZS  American Samoa   \n",
       "\n",
       "  Country Code 1990 [YR1990] 2000 [YR2000] 2014 [YR2014] 2015 [YR2015]  \\\n",
       "3          ASM            ..            ..            ..            ..   \n",
       "\n",
       "  2016 [YR2016] 2017 [YR2017] 2018 [YR2018] 2019 [YR2019] 2020 [YR2020]  \\\n",
       "3            ..            ..            ..            ..            ..   \n",
       "\n",
       "  2021 [YR2021] 2022 [YR2022] 2023 [YR2023]  \n",
       "3            ..            ..            ..  "
      ]
     },
     "execution_count": 5,
     "metadata": {},
     "output_type": "execute_result"
    }
   ],
   "source": [
    "electricity[electricity[\"Country Code\"] == \"ASM\"]"
   ]
  },
  {
   "cell_type": "code",
   "execution_count": 12,
   "id": "c25bfb94-5a08-4446-ac19-18b99bd68ef5",
   "metadata": {
    "scrolled": true
   },
   "outputs": [
    {
     "data": {
      "text/plain": [
       "1990 [YR1990]\n",
       "..                  159\n",
       "100                  78\n",
       "NaN                   5\n",
       "99.8443069458008      2\n",
       "92.1548004150391      1\n",
       "27.3                  1\n",
       "99.9943911362469      1\n",
       "99.546800179424       1\n",
       "99.8425200685198      1\n",
       "13.9                  1\n",
       "88.7                  1\n",
       "32.8                  1\n",
       "91.3068161010742      1\n",
       "99.9834289550781      1\n",
       "70.19                 1\n",
       "96.6253509521484      1\n",
       "99.8532638549805      1\n",
       "98.9990844726563      1\n",
       "99.9413986206055      1\n",
       "99.0415649414063      1\n",
       "95.7630462646484      1\n",
       "99.8828430175781      1\n",
       "96.8                  1\n",
       "70.334586             1\n",
       "89.9                  1\n",
       "92.257427             1\n",
       "99.846923828125       1\n",
       "94.606559753418       1\n",
       "87.475116             1\n",
       "99.9842529296875      1\n",
       "99.8492813110352      1\n",
       "Name: count, dtype: int64"
      ]
     },
     "execution_count": 12,
     "metadata": {},
     "output_type": "execute_result"
    }
   ],
   "source": [
    "electricity[\"1990 [YR1990]\"].value_counts(dropna=False)"
   ]
  },
  {
   "cell_type": "code",
   "execution_count": 9,
   "id": "d888bfa6-7aec-4829-976a-870b8219bcd3",
   "metadata": {
    "scrolled": true
   },
   "outputs": [
    {
     "ename": "TypeError",
     "evalue": "can only concatenate str (not \"int\") to str",
     "output_type": "error",
     "traceback": [
      "\u001b[0;31m---------------------------------------------------------------------------\u001b[0m",
      "\u001b[0;31mTypeError\u001b[0m                                 Traceback (most recent call last)",
      "Cell \u001b[0;32mIn[9], line 1\u001b[0m\n\u001b[0;32m----> 1\u001b[0m \u001b[43melectricity\u001b[49m\u001b[43m[\u001b[49m\u001b[38;5;124;43m\"\u001b[39;49m\u001b[38;5;124;43m1990 [YR1990]\u001b[39;49m\u001b[38;5;124;43m\"\u001b[39;49m\u001b[43m]\u001b[49m\u001b[38;5;241;43m.\u001b[39;49m\u001b[43mmean\u001b[49m\u001b[43m(\u001b[49m\u001b[43m)\u001b[49m\n",
      "File \u001b[0;32m/opt/homebrew/Caskroom/mambaforge/base/envs/computing-in-context/lib/python3.12/site-packages/pandas/core/series.py:6549\u001b[0m, in \u001b[0;36mSeries.mean\u001b[0;34m(self, axis, skipna, numeric_only, **kwargs)\u001b[0m\n\u001b[1;32m   6541\u001b[0m \u001b[38;5;129m@doc\u001b[39m(make_doc(\u001b[38;5;124m\"\u001b[39m\u001b[38;5;124mmean\u001b[39m\u001b[38;5;124m\"\u001b[39m, ndim\u001b[38;5;241m=\u001b[39m\u001b[38;5;241m1\u001b[39m))\n\u001b[1;32m   6542\u001b[0m \u001b[38;5;28;01mdef\u001b[39;00m \u001b[38;5;21mmean\u001b[39m(\n\u001b[1;32m   6543\u001b[0m     \u001b[38;5;28mself\u001b[39m,\n\u001b[0;32m   (...)\u001b[0m\n\u001b[1;32m   6547\u001b[0m     \u001b[38;5;241m*\u001b[39m\u001b[38;5;241m*\u001b[39mkwargs,\n\u001b[1;32m   6548\u001b[0m ):\n\u001b[0;32m-> 6549\u001b[0m     \u001b[38;5;28;01mreturn\u001b[39;00m \u001b[43mNDFrame\u001b[49m\u001b[38;5;241;43m.\u001b[39;49m\u001b[43mmean\u001b[49m\u001b[43m(\u001b[49m\u001b[38;5;28;43mself\u001b[39;49m\u001b[43m,\u001b[49m\u001b[43m \u001b[49m\u001b[43maxis\u001b[49m\u001b[43m,\u001b[49m\u001b[43m \u001b[49m\u001b[43mskipna\u001b[49m\u001b[43m,\u001b[49m\u001b[43m \u001b[49m\u001b[43mnumeric_only\u001b[49m\u001b[43m,\u001b[49m\u001b[43m \u001b[49m\u001b[38;5;241;43m*\u001b[39;49m\u001b[38;5;241;43m*\u001b[39;49m\u001b[43mkwargs\u001b[49m\u001b[43m)\u001b[49m\n",
      "File \u001b[0;32m/opt/homebrew/Caskroom/mambaforge/base/envs/computing-in-context/lib/python3.12/site-packages/pandas/core/generic.py:12420\u001b[0m, in \u001b[0;36mNDFrame.mean\u001b[0;34m(self, axis, skipna, numeric_only, **kwargs)\u001b[0m\n\u001b[1;32m  12413\u001b[0m \u001b[38;5;28;01mdef\u001b[39;00m \u001b[38;5;21mmean\u001b[39m(\n\u001b[1;32m  12414\u001b[0m     \u001b[38;5;28mself\u001b[39m,\n\u001b[1;32m  12415\u001b[0m     axis: Axis \u001b[38;5;241m|\u001b[39m \u001b[38;5;28;01mNone\u001b[39;00m \u001b[38;5;241m=\u001b[39m \u001b[38;5;241m0\u001b[39m,\n\u001b[0;32m   (...)\u001b[0m\n\u001b[1;32m  12418\u001b[0m     \u001b[38;5;241m*\u001b[39m\u001b[38;5;241m*\u001b[39mkwargs,\n\u001b[1;32m  12419\u001b[0m ) \u001b[38;5;241m-\u001b[39m\u001b[38;5;241m>\u001b[39m Series \u001b[38;5;241m|\u001b[39m \u001b[38;5;28mfloat\u001b[39m:\n\u001b[0;32m> 12420\u001b[0m     \u001b[38;5;28;01mreturn\u001b[39;00m \u001b[38;5;28;43mself\u001b[39;49m\u001b[38;5;241;43m.\u001b[39;49m\u001b[43m_stat_function\u001b[49m\u001b[43m(\u001b[49m\n\u001b[1;32m  12421\u001b[0m \u001b[43m        \u001b[49m\u001b[38;5;124;43m\"\u001b[39;49m\u001b[38;5;124;43mmean\u001b[39;49m\u001b[38;5;124;43m\"\u001b[39;49m\u001b[43m,\u001b[49m\u001b[43m \u001b[49m\u001b[43mnanops\u001b[49m\u001b[38;5;241;43m.\u001b[39;49m\u001b[43mnanmean\u001b[49m\u001b[43m,\u001b[49m\u001b[43m \u001b[49m\u001b[43maxis\u001b[49m\u001b[43m,\u001b[49m\u001b[43m \u001b[49m\u001b[43mskipna\u001b[49m\u001b[43m,\u001b[49m\u001b[43m \u001b[49m\u001b[43mnumeric_only\u001b[49m\u001b[43m,\u001b[49m\u001b[43m \u001b[49m\u001b[38;5;241;43m*\u001b[39;49m\u001b[38;5;241;43m*\u001b[39;49m\u001b[43mkwargs\u001b[49m\n\u001b[1;32m  12422\u001b[0m \u001b[43m    \u001b[49m\u001b[43m)\u001b[49m\n",
      "File \u001b[0;32m/opt/homebrew/Caskroom/mambaforge/base/envs/computing-in-context/lib/python3.12/site-packages/pandas/core/generic.py:12377\u001b[0m, in \u001b[0;36mNDFrame._stat_function\u001b[0;34m(self, name, func, axis, skipna, numeric_only, **kwargs)\u001b[0m\n\u001b[1;32m  12373\u001b[0m nv\u001b[38;5;241m.\u001b[39mvalidate_func(name, (), kwargs)\n\u001b[1;32m  12375\u001b[0m validate_bool_kwarg(skipna, \u001b[38;5;124m\"\u001b[39m\u001b[38;5;124mskipna\u001b[39m\u001b[38;5;124m\"\u001b[39m, none_allowed\u001b[38;5;241m=\u001b[39m\u001b[38;5;28;01mFalse\u001b[39;00m)\n\u001b[0;32m> 12377\u001b[0m \u001b[38;5;28;01mreturn\u001b[39;00m \u001b[38;5;28;43mself\u001b[39;49m\u001b[38;5;241;43m.\u001b[39;49m\u001b[43m_reduce\u001b[49m\u001b[43m(\u001b[49m\n\u001b[1;32m  12378\u001b[0m \u001b[43m    \u001b[49m\u001b[43mfunc\u001b[49m\u001b[43m,\u001b[49m\u001b[43m \u001b[49m\u001b[43mname\u001b[49m\u001b[38;5;241;43m=\u001b[39;49m\u001b[43mname\u001b[49m\u001b[43m,\u001b[49m\u001b[43m \u001b[49m\u001b[43maxis\u001b[49m\u001b[38;5;241;43m=\u001b[39;49m\u001b[43maxis\u001b[49m\u001b[43m,\u001b[49m\u001b[43m \u001b[49m\u001b[43mskipna\u001b[49m\u001b[38;5;241;43m=\u001b[39;49m\u001b[43mskipna\u001b[49m\u001b[43m,\u001b[49m\u001b[43m \u001b[49m\u001b[43mnumeric_only\u001b[49m\u001b[38;5;241;43m=\u001b[39;49m\u001b[43mnumeric_only\u001b[49m\n\u001b[1;32m  12379\u001b[0m \u001b[43m\u001b[49m\u001b[43m)\u001b[49m\n",
      "File \u001b[0;32m/opt/homebrew/Caskroom/mambaforge/base/envs/computing-in-context/lib/python3.12/site-packages/pandas/core/series.py:6457\u001b[0m, in \u001b[0;36mSeries._reduce\u001b[0;34m(self, op, name, axis, skipna, numeric_only, filter_type, **kwds)\u001b[0m\n\u001b[1;32m   6452\u001b[0m     \u001b[38;5;66;03m# GH#47500 - change to TypeError to match other methods\u001b[39;00m\n\u001b[1;32m   6453\u001b[0m     \u001b[38;5;28;01mraise\u001b[39;00m \u001b[38;5;167;01mTypeError\u001b[39;00m(\n\u001b[1;32m   6454\u001b[0m         \u001b[38;5;124mf\u001b[39m\u001b[38;5;124m\"\u001b[39m\u001b[38;5;124mSeries.\u001b[39m\u001b[38;5;132;01m{\u001b[39;00mname\u001b[38;5;132;01m}\u001b[39;00m\u001b[38;5;124m does not allow \u001b[39m\u001b[38;5;132;01m{\u001b[39;00mkwd_name\u001b[38;5;132;01m}\u001b[39;00m\u001b[38;5;124m=\u001b[39m\u001b[38;5;132;01m{\u001b[39;00mnumeric_only\u001b[38;5;132;01m}\u001b[39;00m\u001b[38;5;124m \u001b[39m\u001b[38;5;124m\"\u001b[39m\n\u001b[1;32m   6455\u001b[0m         \u001b[38;5;124m\"\u001b[39m\u001b[38;5;124mwith non-numeric dtypes.\u001b[39m\u001b[38;5;124m\"\u001b[39m\n\u001b[1;32m   6456\u001b[0m     )\n\u001b[0;32m-> 6457\u001b[0m \u001b[38;5;28;01mreturn\u001b[39;00m \u001b[43mop\u001b[49m\u001b[43m(\u001b[49m\u001b[43mdelegate\u001b[49m\u001b[43m,\u001b[49m\u001b[43m \u001b[49m\u001b[43mskipna\u001b[49m\u001b[38;5;241;43m=\u001b[39;49m\u001b[43mskipna\u001b[49m\u001b[43m,\u001b[49m\u001b[43m \u001b[49m\u001b[38;5;241;43m*\u001b[39;49m\u001b[38;5;241;43m*\u001b[39;49m\u001b[43mkwds\u001b[49m\u001b[43m)\u001b[49m\n",
      "File \u001b[0;32m/opt/homebrew/Caskroom/mambaforge/base/envs/computing-in-context/lib/python3.12/site-packages/pandas/core/nanops.py:147\u001b[0m, in \u001b[0;36mbottleneck_switch.__call__.<locals>.f\u001b[0;34m(values, axis, skipna, **kwds)\u001b[0m\n\u001b[1;32m    145\u001b[0m         result \u001b[38;5;241m=\u001b[39m alt(values, axis\u001b[38;5;241m=\u001b[39maxis, skipna\u001b[38;5;241m=\u001b[39mskipna, \u001b[38;5;241m*\u001b[39m\u001b[38;5;241m*\u001b[39mkwds)\n\u001b[1;32m    146\u001b[0m \u001b[38;5;28;01melse\u001b[39;00m:\n\u001b[0;32m--> 147\u001b[0m     result \u001b[38;5;241m=\u001b[39m \u001b[43malt\u001b[49m\u001b[43m(\u001b[49m\u001b[43mvalues\u001b[49m\u001b[43m,\u001b[49m\u001b[43m \u001b[49m\u001b[43maxis\u001b[49m\u001b[38;5;241;43m=\u001b[39;49m\u001b[43maxis\u001b[49m\u001b[43m,\u001b[49m\u001b[43m \u001b[49m\u001b[43mskipna\u001b[49m\u001b[38;5;241;43m=\u001b[39;49m\u001b[43mskipna\u001b[49m\u001b[43m,\u001b[49m\u001b[43m \u001b[49m\u001b[38;5;241;43m*\u001b[39;49m\u001b[38;5;241;43m*\u001b[39;49m\u001b[43mkwds\u001b[49m\u001b[43m)\u001b[49m\n\u001b[1;32m    149\u001b[0m \u001b[38;5;28;01mreturn\u001b[39;00m result\n",
      "File \u001b[0;32m/opt/homebrew/Caskroom/mambaforge/base/envs/computing-in-context/lib/python3.12/site-packages/pandas/core/nanops.py:404\u001b[0m, in \u001b[0;36m_datetimelike_compat.<locals>.new_func\u001b[0;34m(values, axis, skipna, mask, **kwargs)\u001b[0m\n\u001b[1;32m    401\u001b[0m \u001b[38;5;28;01mif\u001b[39;00m datetimelike \u001b[38;5;129;01mand\u001b[39;00m mask \u001b[38;5;129;01mis\u001b[39;00m \u001b[38;5;28;01mNone\u001b[39;00m:\n\u001b[1;32m    402\u001b[0m     mask \u001b[38;5;241m=\u001b[39m isna(values)\n\u001b[0;32m--> 404\u001b[0m result \u001b[38;5;241m=\u001b[39m \u001b[43mfunc\u001b[49m\u001b[43m(\u001b[49m\u001b[43mvalues\u001b[49m\u001b[43m,\u001b[49m\u001b[43m \u001b[49m\u001b[43maxis\u001b[49m\u001b[38;5;241;43m=\u001b[39;49m\u001b[43maxis\u001b[49m\u001b[43m,\u001b[49m\u001b[43m \u001b[49m\u001b[43mskipna\u001b[49m\u001b[38;5;241;43m=\u001b[39;49m\u001b[43mskipna\u001b[49m\u001b[43m,\u001b[49m\u001b[43m \u001b[49m\u001b[43mmask\u001b[49m\u001b[38;5;241;43m=\u001b[39;49m\u001b[43mmask\u001b[49m\u001b[43m,\u001b[49m\u001b[43m \u001b[49m\u001b[38;5;241;43m*\u001b[39;49m\u001b[38;5;241;43m*\u001b[39;49m\u001b[43mkwargs\u001b[49m\u001b[43m)\u001b[49m\n\u001b[1;32m    406\u001b[0m \u001b[38;5;28;01mif\u001b[39;00m datetimelike:\n\u001b[1;32m    407\u001b[0m     result \u001b[38;5;241m=\u001b[39m _wrap_results(result, orig_values\u001b[38;5;241m.\u001b[39mdtype, fill_value\u001b[38;5;241m=\u001b[39miNaT)\n",
      "File \u001b[0;32m/opt/homebrew/Caskroom/mambaforge/base/envs/computing-in-context/lib/python3.12/site-packages/pandas/core/nanops.py:719\u001b[0m, in \u001b[0;36mnanmean\u001b[0;34m(values, axis, skipna, mask)\u001b[0m\n\u001b[1;32m    716\u001b[0m     dtype_count \u001b[38;5;241m=\u001b[39m dtype\n\u001b[1;32m    718\u001b[0m count \u001b[38;5;241m=\u001b[39m _get_counts(values\u001b[38;5;241m.\u001b[39mshape, mask, axis, dtype\u001b[38;5;241m=\u001b[39mdtype_count)\n\u001b[0;32m--> 719\u001b[0m the_sum \u001b[38;5;241m=\u001b[39m \u001b[43mvalues\u001b[49m\u001b[38;5;241;43m.\u001b[39;49m\u001b[43msum\u001b[49m\u001b[43m(\u001b[49m\u001b[43maxis\u001b[49m\u001b[43m,\u001b[49m\u001b[43m \u001b[49m\u001b[43mdtype\u001b[49m\u001b[38;5;241;43m=\u001b[39;49m\u001b[43mdtype_sum\u001b[49m\u001b[43m)\u001b[49m\n\u001b[1;32m    720\u001b[0m the_sum \u001b[38;5;241m=\u001b[39m _ensure_numeric(the_sum)\n\u001b[1;32m    722\u001b[0m \u001b[38;5;28;01mif\u001b[39;00m axis \u001b[38;5;129;01mis\u001b[39;00m \u001b[38;5;129;01mnot\u001b[39;00m \u001b[38;5;28;01mNone\u001b[39;00m \u001b[38;5;129;01mand\u001b[39;00m \u001b[38;5;28mgetattr\u001b[39m(the_sum, \u001b[38;5;124m\"\u001b[39m\u001b[38;5;124mndim\u001b[39m\u001b[38;5;124m\"\u001b[39m, \u001b[38;5;28;01mFalse\u001b[39;00m):\n",
      "File \u001b[0;32m/opt/homebrew/Caskroom/mambaforge/base/envs/computing-in-context/lib/python3.12/site-packages/numpy/_core/_methods.py:53\u001b[0m, in \u001b[0;36m_sum\u001b[0;34m(a, axis, dtype, out, keepdims, initial, where)\u001b[0m\n\u001b[1;32m     51\u001b[0m \u001b[38;5;28;01mdef\u001b[39;00m \u001b[38;5;21m_sum\u001b[39m(a, axis\u001b[38;5;241m=\u001b[39m\u001b[38;5;28;01mNone\u001b[39;00m, dtype\u001b[38;5;241m=\u001b[39m\u001b[38;5;28;01mNone\u001b[39;00m, out\u001b[38;5;241m=\u001b[39m\u001b[38;5;28;01mNone\u001b[39;00m, keepdims\u001b[38;5;241m=\u001b[39m\u001b[38;5;28;01mFalse\u001b[39;00m,\n\u001b[1;32m     52\u001b[0m          initial\u001b[38;5;241m=\u001b[39m_NoValue, where\u001b[38;5;241m=\u001b[39m\u001b[38;5;28;01mTrue\u001b[39;00m):\n\u001b[0;32m---> 53\u001b[0m     \u001b[38;5;28;01mreturn\u001b[39;00m \u001b[43mumr_sum\u001b[49m\u001b[43m(\u001b[49m\u001b[43ma\u001b[49m\u001b[43m,\u001b[49m\u001b[43m \u001b[49m\u001b[43maxis\u001b[49m\u001b[43m,\u001b[49m\u001b[43m \u001b[49m\u001b[43mdtype\u001b[49m\u001b[43m,\u001b[49m\u001b[43m \u001b[49m\u001b[43mout\u001b[49m\u001b[43m,\u001b[49m\u001b[43m \u001b[49m\u001b[43mkeepdims\u001b[49m\u001b[43m,\u001b[49m\u001b[43m \u001b[49m\u001b[43minitial\u001b[49m\u001b[43m,\u001b[49m\u001b[43m \u001b[49m\u001b[43mwhere\u001b[49m\u001b[43m)\u001b[49m\n",
      "\u001b[0;31mTypeError\u001b[0m: can only concatenate str (not \"int\") to str"
     ]
    }
   ],
   "source": [
    "electricity[\"1990 [YR1990]\"].mean()"
   ]
  },
  {
   "cell_type": "code",
   "execution_count": 10,
   "id": "1ed015d7-7174-416d-96c1-f04c5f981915",
   "metadata": {},
   "outputs": [
    {
     "data": {
      "text/plain": [
       "array(['..', '100', '95.7630462646484', '92.1548004150391',\n",
       "       '99.9413986206055', '99.9842529296875', '87.475116',\n",
       "       '94.606559753418', '99.846923828125', '92.257427', '89.9',\n",
       "       '99.8443069458008', '70.334586', '96.8', '99.8828430175781',\n",
       "       '99.8492813110352', '99.0415649414063', '98.9990844726563', '27.3',\n",
       "       '99.8532638549805', '96.6253509521484', '70.19',\n",
       "       '99.9834289550781', '91.3068161010742', '32.8', '88.7', '13.9',\n",
       "       '99.8425200685198', '99.546800179424', '99.9943911362469', nan],\n",
       "      dtype=object)"
      ]
     },
     "execution_count": 10,
     "metadata": {},
     "output_type": "execute_result"
    }
   ],
   "source": [
    "electricity[\"1990 [YR1990]\"].unique()"
   ]
  },
  {
   "cell_type": "code",
   "execution_count": 11,
   "id": "0a5418bc-7ece-4908-a831-89d099ab4694",
   "metadata": {
    "scrolled": true
   },
   "outputs": [
    {
     "ename": "ValueError",
     "evalue": "invalid literal for int() with base 10: '..'",
     "output_type": "error",
     "traceback": [
      "\u001b[0;31m---------------------------------------------------------------------------\u001b[0m",
      "\u001b[0;31mValueError\u001b[0m                                Traceback (most recent call last)",
      "Cell \u001b[0;32mIn[11], line 1\u001b[0m\n\u001b[0;32m----> 1\u001b[0m \u001b[43melectricity\u001b[49m\u001b[43m[\u001b[49m\u001b[38;5;124;43m\"\u001b[39;49m\u001b[38;5;124;43m1990 [YR1990]\u001b[39;49m\u001b[38;5;124;43m\"\u001b[39;49m\u001b[43m]\u001b[49m\u001b[38;5;241;43m.\u001b[39;49m\u001b[43mastype\u001b[49m\u001b[43m(\u001b[49m\u001b[38;5;28;43mint\u001b[39;49m\u001b[43m)\u001b[49m\n",
      "File \u001b[0;32m/opt/homebrew/Caskroom/mambaforge/base/envs/computing-in-context/lib/python3.12/site-packages/pandas/core/generic.py:6643\u001b[0m, in \u001b[0;36mNDFrame.astype\u001b[0;34m(self, dtype, copy, errors)\u001b[0m\n\u001b[1;32m   6637\u001b[0m     results \u001b[38;5;241m=\u001b[39m [\n\u001b[1;32m   6638\u001b[0m         ser\u001b[38;5;241m.\u001b[39mastype(dtype, copy\u001b[38;5;241m=\u001b[39mcopy, errors\u001b[38;5;241m=\u001b[39merrors) \u001b[38;5;28;01mfor\u001b[39;00m _, ser \u001b[38;5;129;01min\u001b[39;00m \u001b[38;5;28mself\u001b[39m\u001b[38;5;241m.\u001b[39mitems()\n\u001b[1;32m   6639\u001b[0m     ]\n\u001b[1;32m   6641\u001b[0m \u001b[38;5;28;01melse\u001b[39;00m:\n\u001b[1;32m   6642\u001b[0m     \u001b[38;5;66;03m# else, only a single dtype is given\u001b[39;00m\n\u001b[0;32m-> 6643\u001b[0m     new_data \u001b[38;5;241m=\u001b[39m \u001b[38;5;28;43mself\u001b[39;49m\u001b[38;5;241;43m.\u001b[39;49m\u001b[43m_mgr\u001b[49m\u001b[38;5;241;43m.\u001b[39;49m\u001b[43mastype\u001b[49m\u001b[43m(\u001b[49m\u001b[43mdtype\u001b[49m\u001b[38;5;241;43m=\u001b[39;49m\u001b[43mdtype\u001b[49m\u001b[43m,\u001b[49m\u001b[43m \u001b[49m\u001b[43mcopy\u001b[49m\u001b[38;5;241;43m=\u001b[39;49m\u001b[43mcopy\u001b[49m\u001b[43m,\u001b[49m\u001b[43m \u001b[49m\u001b[43merrors\u001b[49m\u001b[38;5;241;43m=\u001b[39;49m\u001b[43merrors\u001b[49m\u001b[43m)\u001b[49m\n\u001b[1;32m   6644\u001b[0m     res \u001b[38;5;241m=\u001b[39m \u001b[38;5;28mself\u001b[39m\u001b[38;5;241m.\u001b[39m_constructor_from_mgr(new_data, axes\u001b[38;5;241m=\u001b[39mnew_data\u001b[38;5;241m.\u001b[39maxes)\n\u001b[1;32m   6645\u001b[0m     \u001b[38;5;28;01mreturn\u001b[39;00m res\u001b[38;5;241m.\u001b[39m__finalize__(\u001b[38;5;28mself\u001b[39m, method\u001b[38;5;241m=\u001b[39m\u001b[38;5;124m\"\u001b[39m\u001b[38;5;124mastype\u001b[39m\u001b[38;5;124m\"\u001b[39m)\n",
      "File \u001b[0;32m/opt/homebrew/Caskroom/mambaforge/base/envs/computing-in-context/lib/python3.12/site-packages/pandas/core/internals/managers.py:430\u001b[0m, in \u001b[0;36mBaseBlockManager.astype\u001b[0;34m(self, dtype, copy, errors)\u001b[0m\n\u001b[1;32m    427\u001b[0m \u001b[38;5;28;01melif\u001b[39;00m using_copy_on_write():\n\u001b[1;32m    428\u001b[0m     copy \u001b[38;5;241m=\u001b[39m \u001b[38;5;28;01mFalse\u001b[39;00m\n\u001b[0;32m--> 430\u001b[0m \u001b[38;5;28;01mreturn\u001b[39;00m \u001b[38;5;28;43mself\u001b[39;49m\u001b[38;5;241;43m.\u001b[39;49m\u001b[43mapply\u001b[49m\u001b[43m(\u001b[49m\n\u001b[1;32m    431\u001b[0m \u001b[43m    \u001b[49m\u001b[38;5;124;43m\"\u001b[39;49m\u001b[38;5;124;43mastype\u001b[39;49m\u001b[38;5;124;43m\"\u001b[39;49m\u001b[43m,\u001b[49m\n\u001b[1;32m    432\u001b[0m \u001b[43m    \u001b[49m\u001b[43mdtype\u001b[49m\u001b[38;5;241;43m=\u001b[39;49m\u001b[43mdtype\u001b[49m\u001b[43m,\u001b[49m\n\u001b[1;32m    433\u001b[0m \u001b[43m    \u001b[49m\u001b[43mcopy\u001b[49m\u001b[38;5;241;43m=\u001b[39;49m\u001b[43mcopy\u001b[49m\u001b[43m,\u001b[49m\n\u001b[1;32m    434\u001b[0m \u001b[43m    \u001b[49m\u001b[43merrors\u001b[49m\u001b[38;5;241;43m=\u001b[39;49m\u001b[43merrors\u001b[49m\u001b[43m,\u001b[49m\n\u001b[1;32m    435\u001b[0m \u001b[43m    \u001b[49m\u001b[43musing_cow\u001b[49m\u001b[38;5;241;43m=\u001b[39;49m\u001b[43musing_copy_on_write\u001b[49m\u001b[43m(\u001b[49m\u001b[43m)\u001b[49m\u001b[43m,\u001b[49m\n\u001b[1;32m    436\u001b[0m \u001b[43m\u001b[49m\u001b[43m)\u001b[49m\n",
      "File \u001b[0;32m/opt/homebrew/Caskroom/mambaforge/base/envs/computing-in-context/lib/python3.12/site-packages/pandas/core/internals/managers.py:363\u001b[0m, in \u001b[0;36mBaseBlockManager.apply\u001b[0;34m(self, f, align_keys, **kwargs)\u001b[0m\n\u001b[1;32m    361\u001b[0m         applied \u001b[38;5;241m=\u001b[39m b\u001b[38;5;241m.\u001b[39mapply(f, \u001b[38;5;241m*\u001b[39m\u001b[38;5;241m*\u001b[39mkwargs)\n\u001b[1;32m    362\u001b[0m     \u001b[38;5;28;01melse\u001b[39;00m:\n\u001b[0;32m--> 363\u001b[0m         applied \u001b[38;5;241m=\u001b[39m \u001b[38;5;28;43mgetattr\u001b[39;49m\u001b[43m(\u001b[49m\u001b[43mb\u001b[49m\u001b[43m,\u001b[49m\u001b[43m \u001b[49m\u001b[43mf\u001b[49m\u001b[43m)\u001b[49m\u001b[43m(\u001b[49m\u001b[38;5;241;43m*\u001b[39;49m\u001b[38;5;241;43m*\u001b[39;49m\u001b[43mkwargs\u001b[49m\u001b[43m)\u001b[49m\n\u001b[1;32m    364\u001b[0m     result_blocks \u001b[38;5;241m=\u001b[39m extend_blocks(applied, result_blocks)\n\u001b[1;32m    366\u001b[0m out \u001b[38;5;241m=\u001b[39m \u001b[38;5;28mtype\u001b[39m(\u001b[38;5;28mself\u001b[39m)\u001b[38;5;241m.\u001b[39mfrom_blocks(result_blocks, \u001b[38;5;28mself\u001b[39m\u001b[38;5;241m.\u001b[39maxes)\n",
      "File \u001b[0;32m/opt/homebrew/Caskroom/mambaforge/base/envs/computing-in-context/lib/python3.12/site-packages/pandas/core/internals/blocks.py:758\u001b[0m, in \u001b[0;36mBlock.astype\u001b[0;34m(self, dtype, copy, errors, using_cow, squeeze)\u001b[0m\n\u001b[1;32m    755\u001b[0m         \u001b[38;5;28;01mraise\u001b[39;00m \u001b[38;5;167;01mValueError\u001b[39;00m(\u001b[38;5;124m\"\u001b[39m\u001b[38;5;124mCan not squeeze with more than one column.\u001b[39m\u001b[38;5;124m\"\u001b[39m)\n\u001b[1;32m    756\u001b[0m     values \u001b[38;5;241m=\u001b[39m values[\u001b[38;5;241m0\u001b[39m, :]  \u001b[38;5;66;03m# type: ignore[call-overload]\u001b[39;00m\n\u001b[0;32m--> 758\u001b[0m new_values \u001b[38;5;241m=\u001b[39m \u001b[43mastype_array_safe\u001b[49m\u001b[43m(\u001b[49m\u001b[43mvalues\u001b[49m\u001b[43m,\u001b[49m\u001b[43m \u001b[49m\u001b[43mdtype\u001b[49m\u001b[43m,\u001b[49m\u001b[43m \u001b[49m\u001b[43mcopy\u001b[49m\u001b[38;5;241;43m=\u001b[39;49m\u001b[43mcopy\u001b[49m\u001b[43m,\u001b[49m\u001b[43m \u001b[49m\u001b[43merrors\u001b[49m\u001b[38;5;241;43m=\u001b[39;49m\u001b[43merrors\u001b[49m\u001b[43m)\u001b[49m\n\u001b[1;32m    760\u001b[0m new_values \u001b[38;5;241m=\u001b[39m maybe_coerce_values(new_values)\n\u001b[1;32m    762\u001b[0m refs \u001b[38;5;241m=\u001b[39m \u001b[38;5;28;01mNone\u001b[39;00m\n",
      "File \u001b[0;32m/opt/homebrew/Caskroom/mambaforge/base/envs/computing-in-context/lib/python3.12/site-packages/pandas/core/dtypes/astype.py:237\u001b[0m, in \u001b[0;36mastype_array_safe\u001b[0;34m(values, dtype, copy, errors)\u001b[0m\n\u001b[1;32m    234\u001b[0m     dtype \u001b[38;5;241m=\u001b[39m dtype\u001b[38;5;241m.\u001b[39mnumpy_dtype\n\u001b[1;32m    236\u001b[0m \u001b[38;5;28;01mtry\u001b[39;00m:\n\u001b[0;32m--> 237\u001b[0m     new_values \u001b[38;5;241m=\u001b[39m \u001b[43mastype_array\u001b[49m\u001b[43m(\u001b[49m\u001b[43mvalues\u001b[49m\u001b[43m,\u001b[49m\u001b[43m \u001b[49m\u001b[43mdtype\u001b[49m\u001b[43m,\u001b[49m\u001b[43m \u001b[49m\u001b[43mcopy\u001b[49m\u001b[38;5;241;43m=\u001b[39;49m\u001b[43mcopy\u001b[49m\u001b[43m)\u001b[49m\n\u001b[1;32m    238\u001b[0m \u001b[38;5;28;01mexcept\u001b[39;00m (\u001b[38;5;167;01mValueError\u001b[39;00m, \u001b[38;5;167;01mTypeError\u001b[39;00m):\n\u001b[1;32m    239\u001b[0m     \u001b[38;5;66;03m# e.g. _astype_nansafe can fail on object-dtype of strings\u001b[39;00m\n\u001b[1;32m    240\u001b[0m     \u001b[38;5;66;03m#  trying to convert to float\u001b[39;00m\n\u001b[1;32m    241\u001b[0m     \u001b[38;5;28;01mif\u001b[39;00m errors \u001b[38;5;241m==\u001b[39m \u001b[38;5;124m\"\u001b[39m\u001b[38;5;124mignore\u001b[39m\u001b[38;5;124m\"\u001b[39m:\n",
      "File \u001b[0;32m/opt/homebrew/Caskroom/mambaforge/base/envs/computing-in-context/lib/python3.12/site-packages/pandas/core/dtypes/astype.py:182\u001b[0m, in \u001b[0;36mastype_array\u001b[0;34m(values, dtype, copy)\u001b[0m\n\u001b[1;32m    179\u001b[0m     values \u001b[38;5;241m=\u001b[39m values\u001b[38;5;241m.\u001b[39mastype(dtype, copy\u001b[38;5;241m=\u001b[39mcopy)\n\u001b[1;32m    181\u001b[0m \u001b[38;5;28;01melse\u001b[39;00m:\n\u001b[0;32m--> 182\u001b[0m     values \u001b[38;5;241m=\u001b[39m \u001b[43m_astype_nansafe\u001b[49m\u001b[43m(\u001b[49m\u001b[43mvalues\u001b[49m\u001b[43m,\u001b[49m\u001b[43m \u001b[49m\u001b[43mdtype\u001b[49m\u001b[43m,\u001b[49m\u001b[43m \u001b[49m\u001b[43mcopy\u001b[49m\u001b[38;5;241;43m=\u001b[39;49m\u001b[43mcopy\u001b[49m\u001b[43m)\u001b[49m\n\u001b[1;32m    184\u001b[0m \u001b[38;5;66;03m# in pandas we don't store numpy str dtypes, so convert to object\u001b[39;00m\n\u001b[1;32m    185\u001b[0m \u001b[38;5;28;01mif\u001b[39;00m \u001b[38;5;28misinstance\u001b[39m(dtype, np\u001b[38;5;241m.\u001b[39mdtype) \u001b[38;5;129;01mand\u001b[39;00m \u001b[38;5;28missubclass\u001b[39m(values\u001b[38;5;241m.\u001b[39mdtype\u001b[38;5;241m.\u001b[39mtype, \u001b[38;5;28mstr\u001b[39m):\n",
      "File \u001b[0;32m/opt/homebrew/Caskroom/mambaforge/base/envs/computing-in-context/lib/python3.12/site-packages/pandas/core/dtypes/astype.py:133\u001b[0m, in \u001b[0;36m_astype_nansafe\u001b[0;34m(arr, dtype, copy, skipna)\u001b[0m\n\u001b[1;32m    129\u001b[0m     \u001b[38;5;28;01mraise\u001b[39;00m \u001b[38;5;167;01mValueError\u001b[39;00m(msg)\n\u001b[1;32m    131\u001b[0m \u001b[38;5;28;01mif\u001b[39;00m copy \u001b[38;5;129;01mor\u001b[39;00m arr\u001b[38;5;241m.\u001b[39mdtype \u001b[38;5;241m==\u001b[39m \u001b[38;5;28mobject\u001b[39m \u001b[38;5;129;01mor\u001b[39;00m dtype \u001b[38;5;241m==\u001b[39m \u001b[38;5;28mobject\u001b[39m:\n\u001b[1;32m    132\u001b[0m     \u001b[38;5;66;03m# Explicit copy, or required since NumPy can't view from / to object.\u001b[39;00m\n\u001b[0;32m--> 133\u001b[0m     \u001b[38;5;28;01mreturn\u001b[39;00m \u001b[43marr\u001b[49m\u001b[38;5;241;43m.\u001b[39;49m\u001b[43mastype\u001b[49m\u001b[43m(\u001b[49m\u001b[43mdtype\u001b[49m\u001b[43m,\u001b[49m\u001b[43m \u001b[49m\u001b[43mcopy\u001b[49m\u001b[38;5;241;43m=\u001b[39;49m\u001b[38;5;28;43;01mTrue\u001b[39;49;00m\u001b[43m)\u001b[49m\n\u001b[1;32m    135\u001b[0m \u001b[38;5;28;01mreturn\u001b[39;00m arr\u001b[38;5;241m.\u001b[39mastype(dtype, copy\u001b[38;5;241m=\u001b[39mcopy)\n",
      "\u001b[0;31mValueError\u001b[0m: invalid literal for int() with base 10: '..'"
     ]
    }
   ],
   "source": [
    "electricity[\"1990 [YR1990]\"].astype(int)"
   ]
  },
  {
   "cell_type": "code",
   "execution_count": 27,
   "id": "d82eb3e0-4aee-4e7b-9270-8011bcb0e99f",
   "metadata": {},
   "outputs": [
    {
     "data": {
      "text/plain": [
       "1990 [YR1990]\n",
       "100                 78\n",
       "99.8443069458008     2\n",
       "99.0415649414063     1\n",
       "99.546800179424      1\n",
       "99.8425200685198     1\n",
       "13.9                 1\n",
       "88.7                 1\n",
       "32.8                 1\n",
       "91.3068161010742     1\n",
       "99.9834289550781     1\n",
       "70.19                1\n",
       "96.6253509521484     1\n",
       "99.8532638549805     1\n",
       "27.3                 1\n",
       "98.9990844726563     1\n",
       "99.8492813110352     1\n",
       "95.7630462646484     1\n",
       "99.8828430175781     1\n",
       "96.8                 1\n",
       "70.334586            1\n",
       "89.9                 1\n",
       "92.257427            1\n",
       "99.846923828125      1\n",
       "94.606559753418      1\n",
       "87.475116            1\n",
       "99.9842529296875     1\n",
       "99.9413986206055     1\n",
       "92.1548004150391     1\n",
       "99.9943911362469     1\n",
       "Name: count, dtype: int64"
      ]
     },
     "execution_count": 27,
     "metadata": {},
     "output_type": "execute_result"
    }
   ],
   "source": [
    "import numpy as np\n",
    "\n",
    "electricity[\"1990 [YR1990]\"].replace({\n",
    "    '..': np.nan\n",
    "}).value_counts()"
   ]
  },
  {
   "cell_type": "code",
   "execution_count": 29,
   "id": "2e64e84b-4375-47de-bb34-ea1cf9334700",
   "metadata": {},
   "outputs": [
    {
     "data": {
      "text/plain": [
       "0        NaN\n",
       "1      100.0\n",
       "2        NaN\n",
       "3        NaN\n",
       "4      100.0\n",
       "       ...  \n",
       "266      NaN\n",
       "267      NaN\n",
       "268      NaN\n",
       "269      NaN\n",
       "270      NaN\n",
       "Name: 1990 [YR1990], Length: 271, dtype: float64"
      ]
     },
     "execution_count": 29,
     "metadata": {},
     "output_type": "execute_result"
    }
   ],
   "source": [
    "electricity[\"1990 [YR1990]\"].replace({\n",
    "    '..': np.nan\n",
    "}).astype(float)"
   ]
  },
  {
   "cell_type": "code",
   "execution_count": 34,
   "id": "d6c8b02b-3b7c-499e-a282-8cabc6c5881b",
   "metadata": {
    "scrolled": true
   },
   "outputs": [
    {
     "name": "stderr",
     "output_type": "stream",
     "text": [
      "/var/folders/kr/nx0m1j811kz5vy8c87ffchzr0000gn/T/ipykernel_74628/1911216467.py:1: FutureWarning: Downcasting behavior in `replace` is deprecated and will be removed in a future version. To retain the old behavior, explicitly call `result.infer_objects(copy=False)`. To opt-in to the future behavior, set `pd.set_option('future.no_silent_downcasting', True)`\n",
      "  electricity_clean = electricity.replace({\n"
     ]
    },
    {
     "data": {
      "text/html": [
       "<div>\n",
       "<style scoped>\n",
       "    .dataframe tbody tr th:only-of-type {\n",
       "        vertical-align: middle;\n",
       "    }\n",
       "\n",
       "    .dataframe tbody tr th {\n",
       "        vertical-align: top;\n",
       "    }\n",
       "\n",
       "    .dataframe thead th {\n",
       "        text-align: right;\n",
       "    }\n",
       "</style>\n",
       "<table border=\"1\" class=\"dataframe\">\n",
       "  <thead>\n",
       "    <tr style=\"text-align: right;\">\n",
       "      <th></th>\n",
       "      <th>Series Name</th>\n",
       "      <th>Series Code</th>\n",
       "      <th>Country Name</th>\n",
       "      <th>Country Code</th>\n",
       "      <th>1990 [YR1990]</th>\n",
       "      <th>2000 [YR2000]</th>\n",
       "      <th>2014 [YR2014]</th>\n",
       "      <th>2015 [YR2015]</th>\n",
       "      <th>2016 [YR2016]</th>\n",
       "      <th>2017 [YR2017]</th>\n",
       "      <th>2018 [YR2018]</th>\n",
       "      <th>2019 [YR2019]</th>\n",
       "      <th>2020 [YR2020]</th>\n",
       "      <th>2021 [YR2021]</th>\n",
       "      <th>2022 [YR2022]</th>\n",
       "      <th>2023 [YR2023]</th>\n",
       "    </tr>\n",
       "  </thead>\n",
       "  <tbody>\n",
       "    <tr>\n",
       "      <th>0</th>\n",
       "      <td>Access to electricity (% of population)</td>\n",
       "      <td>EG.ELC.ACCS.ZS</td>\n",
       "      <td>Afghanistan</td>\n",
       "      <td>AFG</td>\n",
       "      <td>NaN</td>\n",
       "      <td>4.4</td>\n",
       "      <td>89.5</td>\n",
       "      <td>71.5</td>\n",
       "      <td>97.7</td>\n",
       "      <td>97.7</td>\n",
       "      <td>93.4</td>\n",
       "      <td>97.7</td>\n",
       "      <td>97.7</td>\n",
       "      <td>97.7</td>\n",
       "      <td>85.3</td>\n",
       "      <td>NaN</td>\n",
       "    </tr>\n",
       "    <tr>\n",
       "      <th>1</th>\n",
       "      <td>Access to electricity (% of population)</td>\n",
       "      <td>EG.ELC.ACCS.ZS</td>\n",
       "      <td>Albania</td>\n",
       "      <td>ALB</td>\n",
       "      <td>100</td>\n",
       "      <td>99.4</td>\n",
       "      <td>100</td>\n",
       "      <td>100</td>\n",
       "      <td>99.9</td>\n",
       "      <td>99.9</td>\n",
       "      <td>100</td>\n",
       "      <td>100</td>\n",
       "      <td>100</td>\n",
       "      <td>100</td>\n",
       "      <td>100</td>\n",
       "      <td>NaN</td>\n",
       "    </tr>\n",
       "    <tr>\n",
       "      <th>2</th>\n",
       "      <td>Access to electricity (% of population)</td>\n",
       "      <td>EG.ELC.ACCS.ZS</td>\n",
       "      <td>Algeria</td>\n",
       "      <td>DZA</td>\n",
       "      <td>NaN</td>\n",
       "      <td>98.6</td>\n",
       "      <td>99.3</td>\n",
       "      <td>99.4</td>\n",
       "      <td>99.4</td>\n",
       "      <td>99.5</td>\n",
       "      <td>99.6</td>\n",
       "      <td>99.5</td>\n",
       "      <td>99.7</td>\n",
       "      <td>99.8</td>\n",
       "      <td>100</td>\n",
       "      <td>NaN</td>\n",
       "    </tr>\n",
       "    <tr>\n",
       "      <th>3</th>\n",
       "      <td>Access to electricity (% of population)</td>\n",
       "      <td>EG.ELC.ACCS.ZS</td>\n",
       "      <td>American Samoa</td>\n",
       "      <td>ASM</td>\n",
       "      <td>NaN</td>\n",
       "      <td>NaN</td>\n",
       "      <td>NaN</td>\n",
       "      <td>NaN</td>\n",
       "      <td>NaN</td>\n",
       "      <td>NaN</td>\n",
       "      <td>NaN</td>\n",
       "      <td>NaN</td>\n",
       "      <td>NaN</td>\n",
       "      <td>NaN</td>\n",
       "      <td>NaN</td>\n",
       "      <td>NaN</td>\n",
       "    </tr>\n",
       "    <tr>\n",
       "      <th>4</th>\n",
       "      <td>Access to electricity (% of population)</td>\n",
       "      <td>EG.ELC.ACCS.ZS</td>\n",
       "      <td>Andorra</td>\n",
       "      <td>AND</td>\n",
       "      <td>100</td>\n",
       "      <td>100</td>\n",
       "      <td>100</td>\n",
       "      <td>100</td>\n",
       "      <td>100</td>\n",
       "      <td>100</td>\n",
       "      <td>100</td>\n",
       "      <td>100</td>\n",
       "      <td>100</td>\n",
       "      <td>100</td>\n",
       "      <td>100</td>\n",
       "      <td>NaN</td>\n",
       "    </tr>\n",
       "    <tr>\n",
       "      <th>...</th>\n",
       "      <td>...</td>\n",
       "      <td>...</td>\n",
       "      <td>...</td>\n",
       "      <td>...</td>\n",
       "      <td>...</td>\n",
       "      <td>...</td>\n",
       "      <td>...</td>\n",
       "      <td>...</td>\n",
       "      <td>...</td>\n",
       "      <td>...</td>\n",
       "      <td>...</td>\n",
       "      <td>...</td>\n",
       "      <td>...</td>\n",
       "      <td>...</td>\n",
       "      <td>...</td>\n",
       "      <td>...</td>\n",
       "    </tr>\n",
       "    <tr>\n",
       "      <th>266</th>\n",
       "      <td>NaN</td>\n",
       "      <td>NaN</td>\n",
       "      <td>NaN</td>\n",
       "      <td>NaN</td>\n",
       "      <td>NaN</td>\n",
       "      <td>NaN</td>\n",
       "      <td>NaN</td>\n",
       "      <td>NaN</td>\n",
       "      <td>NaN</td>\n",
       "      <td>NaN</td>\n",
       "      <td>NaN</td>\n",
       "      <td>NaN</td>\n",
       "      <td>NaN</td>\n",
       "      <td>NaN</td>\n",
       "      <td>NaN</td>\n",
       "      <td>NaN</td>\n",
       "    </tr>\n",
       "    <tr>\n",
       "      <th>267</th>\n",
       "      <td>NaN</td>\n",
       "      <td>NaN</td>\n",
       "      <td>NaN</td>\n",
       "      <td>NaN</td>\n",
       "      <td>NaN</td>\n",
       "      <td>NaN</td>\n",
       "      <td>NaN</td>\n",
       "      <td>NaN</td>\n",
       "      <td>NaN</td>\n",
       "      <td>NaN</td>\n",
       "      <td>NaN</td>\n",
       "      <td>NaN</td>\n",
       "      <td>NaN</td>\n",
       "      <td>NaN</td>\n",
       "      <td>NaN</td>\n",
       "      <td>NaN</td>\n",
       "    </tr>\n",
       "    <tr>\n",
       "      <th>268</th>\n",
       "      <td>NaN</td>\n",
       "      <td>NaN</td>\n",
       "      <td>NaN</td>\n",
       "      <td>NaN</td>\n",
       "      <td>NaN</td>\n",
       "      <td>NaN</td>\n",
       "      <td>NaN</td>\n",
       "      <td>NaN</td>\n",
       "      <td>NaN</td>\n",
       "      <td>NaN</td>\n",
       "      <td>NaN</td>\n",
       "      <td>NaN</td>\n",
       "      <td>NaN</td>\n",
       "      <td>NaN</td>\n",
       "      <td>NaN</td>\n",
       "      <td>NaN</td>\n",
       "    </tr>\n",
       "    <tr>\n",
       "      <th>269</th>\n",
       "      <td>Data from database: World Development Indicators</td>\n",
       "      <td>NaN</td>\n",
       "      <td>NaN</td>\n",
       "      <td>NaN</td>\n",
       "      <td>NaN</td>\n",
       "      <td>NaN</td>\n",
       "      <td>NaN</td>\n",
       "      <td>NaN</td>\n",
       "      <td>NaN</td>\n",
       "      <td>NaN</td>\n",
       "      <td>NaN</td>\n",
       "      <td>NaN</td>\n",
       "      <td>NaN</td>\n",
       "      <td>NaN</td>\n",
       "      <td>NaN</td>\n",
       "      <td>NaN</td>\n",
       "    </tr>\n",
       "    <tr>\n",
       "      <th>270</th>\n",
       "      <td>Last Updated: 10/24/2024</td>\n",
       "      <td>NaN</td>\n",
       "      <td>NaN</td>\n",
       "      <td>NaN</td>\n",
       "      <td>NaN</td>\n",
       "      <td>NaN</td>\n",
       "      <td>NaN</td>\n",
       "      <td>NaN</td>\n",
       "      <td>NaN</td>\n",
       "      <td>NaN</td>\n",
       "      <td>NaN</td>\n",
       "      <td>NaN</td>\n",
       "      <td>NaN</td>\n",
       "      <td>NaN</td>\n",
       "      <td>NaN</td>\n",
       "      <td>NaN</td>\n",
       "    </tr>\n",
       "  </tbody>\n",
       "</table>\n",
       "<p>271 rows × 16 columns</p>\n",
       "</div>"
      ],
      "text/plain": [
       "                                          Series Name     Series Code  \\\n",
       "0             Access to electricity (% of population)  EG.ELC.ACCS.ZS   \n",
       "1             Access to electricity (% of population)  EG.ELC.ACCS.ZS   \n",
       "2             Access to electricity (% of population)  EG.ELC.ACCS.ZS   \n",
       "3             Access to electricity (% of population)  EG.ELC.ACCS.ZS   \n",
       "4             Access to electricity (% of population)  EG.ELC.ACCS.ZS   \n",
       "..                                                ...             ...   \n",
       "266                                               NaN             NaN   \n",
       "267                                               NaN             NaN   \n",
       "268                                               NaN             NaN   \n",
       "269  Data from database: World Development Indicators             NaN   \n",
       "270                          Last Updated: 10/24/2024             NaN   \n",
       "\n",
       "       Country Name Country Code 1990 [YR1990] 2000 [YR2000] 2014 [YR2014]  \\\n",
       "0       Afghanistan          AFG           NaN           4.4          89.5   \n",
       "1           Albania          ALB           100          99.4           100   \n",
       "2           Algeria          DZA           NaN          98.6          99.3   \n",
       "3    American Samoa          ASM           NaN           NaN           NaN   \n",
       "4           Andorra          AND           100           100           100   \n",
       "..              ...          ...           ...           ...           ...   \n",
       "266             NaN          NaN           NaN           NaN           NaN   \n",
       "267             NaN          NaN           NaN           NaN           NaN   \n",
       "268             NaN          NaN           NaN           NaN           NaN   \n",
       "269             NaN          NaN           NaN           NaN           NaN   \n",
       "270             NaN          NaN           NaN           NaN           NaN   \n",
       "\n",
       "    2015 [YR2015] 2016 [YR2016] 2017 [YR2017] 2018 [YR2018] 2019 [YR2019]  \\\n",
       "0            71.5          97.7          97.7          93.4          97.7   \n",
       "1             100          99.9          99.9           100           100   \n",
       "2            99.4          99.4          99.5          99.6          99.5   \n",
       "3             NaN           NaN           NaN           NaN           NaN   \n",
       "4             100           100           100           100           100   \n",
       "..            ...           ...           ...           ...           ...   \n",
       "266           NaN           NaN           NaN           NaN           NaN   \n",
       "267           NaN           NaN           NaN           NaN           NaN   \n",
       "268           NaN           NaN           NaN           NaN           NaN   \n",
       "269           NaN           NaN           NaN           NaN           NaN   \n",
       "270           NaN           NaN           NaN           NaN           NaN   \n",
       "\n",
       "    2020 [YR2020] 2021 [YR2021] 2022 [YR2022]  2023 [YR2023]  \n",
       "0            97.7          97.7          85.3            NaN  \n",
       "1             100           100           100            NaN  \n",
       "2            99.7          99.8           100            NaN  \n",
       "3             NaN           NaN           NaN            NaN  \n",
       "4             100           100           100            NaN  \n",
       "..            ...           ...           ...            ...  \n",
       "266           NaN           NaN           NaN            NaN  \n",
       "267           NaN           NaN           NaN            NaN  \n",
       "268           NaN           NaN           NaN            NaN  \n",
       "269           NaN           NaN           NaN            NaN  \n",
       "270           NaN           NaN           NaN            NaN  \n",
       "\n",
       "[271 rows x 16 columns]"
      ]
     },
     "execution_count": 34,
     "metadata": {},
     "output_type": "execute_result"
    }
   ],
   "source": [
    "electricity_clean = electricity.replace({\n",
    "    '..': np.nan\n",
    "})\n",
    "electricity_clean"
   ]
  },
  {
   "cell_type": "markdown",
   "id": "1ab6e850-4abf-464c-87f3-1ec584ba9db4",
   "metadata": {},
   "source": [
    "### [Reshape](https://pandas.pydata.org/pandas-docs/stable/user_guide/reshaping.html#melt-and-wide-to-long)"
   ]
  },
  {
   "cell_type": "code",
   "execution_count": 44,
   "id": "610df819-ef0d-41c7-af1f-a02dc8ee503c",
   "metadata": {
    "scrolled": true
   },
   "outputs": [
    {
     "data": {
      "text/html": [
       "<div>\n",
       "<style scoped>\n",
       "    .dataframe tbody tr th:only-of-type {\n",
       "        vertical-align: middle;\n",
       "    }\n",
       "\n",
       "    .dataframe tbody tr th {\n",
       "        vertical-align: top;\n",
       "    }\n",
       "\n",
       "    .dataframe thead th {\n",
       "        text-align: right;\n",
       "    }\n",
       "</style>\n",
       "<table border=\"1\" class=\"dataframe\">\n",
       "  <thead>\n",
       "    <tr style=\"text-align: right;\">\n",
       "      <th></th>\n",
       "      <th>Series Name</th>\n",
       "      <th>Series Code</th>\n",
       "      <th>Country Name</th>\n",
       "      <th>Country Code</th>\n",
       "      <th>Year</th>\n",
       "      <th>Access to electricity (% pop)</th>\n",
       "    </tr>\n",
       "  </thead>\n",
       "  <tbody>\n",
       "    <tr>\n",
       "      <th>0</th>\n",
       "      <td>Access to electricity (% of population)</td>\n",
       "      <td>EG.ELC.ACCS.ZS</td>\n",
       "      <td>Afghanistan</td>\n",
       "      <td>AFG</td>\n",
       "      <td>1990 [YR1990]</td>\n",
       "      <td>NaN</td>\n",
       "    </tr>\n",
       "    <tr>\n",
       "      <th>1</th>\n",
       "      <td>Access to electricity (% of population)</td>\n",
       "      <td>EG.ELC.ACCS.ZS</td>\n",
       "      <td>Albania</td>\n",
       "      <td>ALB</td>\n",
       "      <td>1990 [YR1990]</td>\n",
       "      <td>100</td>\n",
       "    </tr>\n",
       "    <tr>\n",
       "      <th>2</th>\n",
       "      <td>Access to electricity (% of population)</td>\n",
       "      <td>EG.ELC.ACCS.ZS</td>\n",
       "      <td>Algeria</td>\n",
       "      <td>DZA</td>\n",
       "      <td>1990 [YR1990]</td>\n",
       "      <td>NaN</td>\n",
       "    </tr>\n",
       "    <tr>\n",
       "      <th>3</th>\n",
       "      <td>Access to electricity (% of population)</td>\n",
       "      <td>EG.ELC.ACCS.ZS</td>\n",
       "      <td>American Samoa</td>\n",
       "      <td>ASM</td>\n",
       "      <td>1990 [YR1990]</td>\n",
       "      <td>NaN</td>\n",
       "    </tr>\n",
       "    <tr>\n",
       "      <th>4</th>\n",
       "      <td>Access to electricity (% of population)</td>\n",
       "      <td>EG.ELC.ACCS.ZS</td>\n",
       "      <td>Andorra</td>\n",
       "      <td>AND</td>\n",
       "      <td>1990 [YR1990]</td>\n",
       "      <td>100</td>\n",
       "    </tr>\n",
       "    <tr>\n",
       "      <th>...</th>\n",
       "      <td>...</td>\n",
       "      <td>...</td>\n",
       "      <td>...</td>\n",
       "      <td>...</td>\n",
       "      <td>...</td>\n",
       "      <td>...</td>\n",
       "    </tr>\n",
       "    <tr>\n",
       "      <th>3247</th>\n",
       "      <td>NaN</td>\n",
       "      <td>NaN</td>\n",
       "      <td>NaN</td>\n",
       "      <td>NaN</td>\n",
       "      <td>2023 [YR2023]</td>\n",
       "      <td>NaN</td>\n",
       "    </tr>\n",
       "    <tr>\n",
       "      <th>3248</th>\n",
       "      <td>NaN</td>\n",
       "      <td>NaN</td>\n",
       "      <td>NaN</td>\n",
       "      <td>NaN</td>\n",
       "      <td>2023 [YR2023]</td>\n",
       "      <td>NaN</td>\n",
       "    </tr>\n",
       "    <tr>\n",
       "      <th>3249</th>\n",
       "      <td>NaN</td>\n",
       "      <td>NaN</td>\n",
       "      <td>NaN</td>\n",
       "      <td>NaN</td>\n",
       "      <td>2023 [YR2023]</td>\n",
       "      <td>NaN</td>\n",
       "    </tr>\n",
       "    <tr>\n",
       "      <th>3250</th>\n",
       "      <td>Data from database: World Development Indicators</td>\n",
       "      <td>NaN</td>\n",
       "      <td>NaN</td>\n",
       "      <td>NaN</td>\n",
       "      <td>2023 [YR2023]</td>\n",
       "      <td>NaN</td>\n",
       "    </tr>\n",
       "    <tr>\n",
       "      <th>3251</th>\n",
       "      <td>Last Updated: 10/24/2024</td>\n",
       "      <td>NaN</td>\n",
       "      <td>NaN</td>\n",
       "      <td>NaN</td>\n",
       "      <td>2023 [YR2023]</td>\n",
       "      <td>NaN</td>\n",
       "    </tr>\n",
       "  </tbody>\n",
       "</table>\n",
       "<p>3252 rows × 6 columns</p>\n",
       "</div>"
      ],
      "text/plain": [
       "                                           Series Name     Series Code  \\\n",
       "0              Access to electricity (% of population)  EG.ELC.ACCS.ZS   \n",
       "1              Access to electricity (% of population)  EG.ELC.ACCS.ZS   \n",
       "2              Access to electricity (% of population)  EG.ELC.ACCS.ZS   \n",
       "3              Access to electricity (% of population)  EG.ELC.ACCS.ZS   \n",
       "4              Access to electricity (% of population)  EG.ELC.ACCS.ZS   \n",
       "...                                                ...             ...   \n",
       "3247                                               NaN             NaN   \n",
       "3248                                               NaN             NaN   \n",
       "3249                                               NaN             NaN   \n",
       "3250  Data from database: World Development Indicators             NaN   \n",
       "3251                          Last Updated: 10/24/2024             NaN   \n",
       "\n",
       "        Country Name Country Code           Year Access to electricity (% pop)  \n",
       "0        Afghanistan          AFG  1990 [YR1990]                           NaN  \n",
       "1            Albania          ALB  1990 [YR1990]                           100  \n",
       "2            Algeria          DZA  1990 [YR1990]                           NaN  \n",
       "3     American Samoa          ASM  1990 [YR1990]                           NaN  \n",
       "4            Andorra          AND  1990 [YR1990]                           100  \n",
       "...              ...          ...            ...                           ...  \n",
       "3247             NaN          NaN  2023 [YR2023]                           NaN  \n",
       "3248             NaN          NaN  2023 [YR2023]                           NaN  \n",
       "3249             NaN          NaN  2023 [YR2023]                           NaN  \n",
       "3250             NaN          NaN  2023 [YR2023]                           NaN  \n",
       "3251             NaN          NaN  2023 [YR2023]                           NaN  \n",
       "\n",
       "[3252 rows x 6 columns]"
      ]
     },
     "execution_count": 44,
     "metadata": {},
     "output_type": "execute_result"
    }
   ],
   "source": [
    "electricity_per_year = electricity_clean.melt(\n",
    "    id_vars=[\"Series Name\", \"Series Code\", \"Country Name\", \"Country Code\"],\n",
    "    var_name=\"Year\",\n",
    "    value_name=\"Access to electricity (% pop)\"\n",
    ")\n",
    "electricity_per_year"
   ]
  },
  {
   "cell_type": "markdown",
   "id": "0fadce13-daf9-4936-b1e4-4ebc8b81ab99",
   "metadata": {},
   "source": [
    "### Plot"
   ]
  },
  {
   "cell_type": "code",
   "execution_count": 47,
   "id": "cb9ea456-49a9-4986-9081-374f75574097",
   "metadata": {},
   "outputs": [],
   "source": [
    "electricity_per_year[\"Access to electricity (% pop)\"] = electricity_per_year[\"Access to electricity (% pop)\"].astype(float)"
   ]
  },
  {
   "cell_type": "code",
   "execution_count": 49,
   "id": "3d81afc7-37f9-4231-b7d9-9b25ae9e7c90",
   "metadata": {},
   "outputs": [
    {
     "data": {
      "application/vnd.plotly.v1+json": {
       "config": {
        "plotlyServerURL": "https://plot.ly"
       },
       "data": [
        {
         "hovertemplate": "Country Name=Afghanistan<br>Year=%{x}<br>Access to electricity (% pop)=%{y}<extra></extra>",
         "legendgroup": "Afghanistan",
         "line": {
          "color": "#636efa",
          "dash": "solid"
         },
         "marker": {
          "symbol": "circle"
         },
         "mode": "lines",
         "name": "Afghanistan",
         "showlegend": true,
         "type": "scattergl",
         "x": [
          "1990 [YR1990]",
          "2000 [YR2000]",
          "2014 [YR2014]",
          "2015 [YR2015]",
          "2016 [YR2016]",
          "2017 [YR2017]",
          "2018 [YR2018]",
          "2019 [YR2019]",
          "2020 [YR2020]",
          "2021 [YR2021]",
          "2022 [YR2022]",
          "2023 [YR2023]"
         ],
         "xaxis": "x",
         "y": [
          null,
          4.4,
          89.5,
          71.5,
          97.7,
          97.7,
          93.4,
          97.7,
          97.7,
          97.7,
          85.3,
          null
         ],
         "yaxis": "y"
        },
        {
         "hovertemplate": "Country Name=Albania<br>Year=%{x}<br>Access to electricity (% pop)=%{y}<extra></extra>",
         "legendgroup": "Albania",
         "line": {
          "color": "#EF553B",
          "dash": "solid"
         },
         "marker": {
          "symbol": "circle"
         },
         "mode": "lines",
         "name": "Albania",
         "showlegend": true,
         "type": "scattergl",
         "x": [
          "1990 [YR1990]",
          "2000 [YR2000]",
          "2014 [YR2014]",
          "2015 [YR2015]",
          "2016 [YR2016]",
          "2017 [YR2017]",
          "2018 [YR2018]",
          "2019 [YR2019]",
          "2020 [YR2020]",
          "2021 [YR2021]",
          "2022 [YR2022]",
          "2023 [YR2023]"
         ],
         "xaxis": "x",
         "y": [
          100,
          99.4,
          100,
          100,
          99.9,
          99.9,
          100,
          100,
          100,
          100,
          100,
          null
         ],
         "yaxis": "y"
        },
        {
         "hovertemplate": "Country Name=Algeria<br>Year=%{x}<br>Access to electricity (% pop)=%{y}<extra></extra>",
         "legendgroup": "Algeria",
         "line": {
          "color": "#00cc96",
          "dash": "solid"
         },
         "marker": {
          "symbol": "circle"
         },
         "mode": "lines",
         "name": "Algeria",
         "showlegend": true,
         "type": "scattergl",
         "x": [
          "1990 [YR1990]",
          "2000 [YR2000]",
          "2014 [YR2014]",
          "2015 [YR2015]",
          "2016 [YR2016]",
          "2017 [YR2017]",
          "2018 [YR2018]",
          "2019 [YR2019]",
          "2020 [YR2020]",
          "2021 [YR2021]",
          "2022 [YR2022]",
          "2023 [YR2023]"
         ],
         "xaxis": "x",
         "y": [
          null,
          98.6,
          99.3,
          99.4,
          99.4,
          99.5,
          99.6,
          99.5,
          99.7,
          99.8,
          100,
          null
         ],
         "yaxis": "y"
        },
        {
         "hovertemplate": "Country Name=American Samoa<br>Year=%{x}<br>Access to electricity (% pop)=%{y}<extra></extra>",
         "legendgroup": "American Samoa",
         "line": {
          "color": "#ab63fa",
          "dash": "solid"
         },
         "marker": {
          "symbol": "circle"
         },
         "mode": "lines",
         "name": "American Samoa",
         "showlegend": true,
         "type": "scattergl",
         "x": [
          "1990 [YR1990]",
          "2000 [YR2000]",
          "2014 [YR2014]",
          "2015 [YR2015]",
          "2016 [YR2016]",
          "2017 [YR2017]",
          "2018 [YR2018]",
          "2019 [YR2019]",
          "2020 [YR2020]",
          "2021 [YR2021]",
          "2022 [YR2022]",
          "2023 [YR2023]"
         ],
         "xaxis": "x",
         "y": [
          null,
          null,
          null,
          null,
          null,
          null,
          null,
          null,
          null,
          null,
          null,
          null
         ],
         "yaxis": "y"
        },
        {
         "hovertemplate": "Country Name=Andorra<br>Year=%{x}<br>Access to electricity (% pop)=%{y}<extra></extra>",
         "legendgroup": "Andorra",
         "line": {
          "color": "#FFA15A",
          "dash": "solid"
         },
         "marker": {
          "symbol": "circle"
         },
         "mode": "lines",
         "name": "Andorra",
         "showlegend": true,
         "type": "scattergl",
         "x": [
          "1990 [YR1990]",
          "2000 [YR2000]",
          "2014 [YR2014]",
          "2015 [YR2015]",
          "2016 [YR2016]",
          "2017 [YR2017]",
          "2018 [YR2018]",
          "2019 [YR2019]",
          "2020 [YR2020]",
          "2021 [YR2021]",
          "2022 [YR2022]",
          "2023 [YR2023]"
         ],
         "xaxis": "x",
         "y": [
          100,
          100,
          100,
          100,
          100,
          100,
          100,
          100,
          100,
          100,
          100,
          null
         ],
         "yaxis": "y"
        },
        {
         "hovertemplate": "Country Name=Angola<br>Year=%{x}<br>Access to electricity (% pop)=%{y}<extra></extra>",
         "legendgroup": "Angola",
         "line": {
          "color": "#19d3f3",
          "dash": "solid"
         },
         "marker": {
          "symbol": "circle"
         },
         "mode": "lines",
         "name": "Angola",
         "showlegend": true,
         "type": "scattergl",
         "x": [
          "1990 [YR1990]",
          "2000 [YR2000]",
          "2014 [YR2014]",
          "2015 [YR2015]",
          "2016 [YR2016]",
          "2017 [YR2017]",
          "2018 [YR2018]",
          "2019 [YR2019]",
          "2020 [YR2020]",
          "2021 [YR2021]",
          "2022 [YR2022]",
          "2023 [YR2023]"
         ],
         "xaxis": "x",
         "y": [
          null,
          24.2,
          32,
          42,
          41.8,
          42.9,
          45.3,
          45.6,
          47,
          48.2,
          48.5,
          null
         ],
         "yaxis": "y"
        },
        {
         "hovertemplate": "Country Name=Antigua and Barbuda<br>Year=%{x}<br>Access to electricity (% pop)=%{y}<extra></extra>",
         "legendgroup": "Antigua and Barbuda",
         "line": {
          "color": "#FF6692",
          "dash": "solid"
         },
         "marker": {
          "symbol": "circle"
         },
         "mode": "lines",
         "name": "Antigua and Barbuda",
         "showlegend": true,
         "type": "scattergl",
         "x": [
          "1990 [YR1990]",
          "2000 [YR2000]",
          "2014 [YR2014]",
          "2015 [YR2015]",
          "2016 [YR2016]",
          "2017 [YR2017]",
          "2018 [YR2018]",
          "2019 [YR2019]",
          "2020 [YR2020]",
          "2021 [YR2021]",
          "2022 [YR2022]",
          "2023 [YR2023]"
         ],
         "xaxis": "x",
         "y": [
          95.7630462646484,
          97.7,
          100,
          100,
          100,
          100,
          100,
          100,
          100,
          100,
          100,
          null
         ],
         "yaxis": "y"
        },
        {
         "hovertemplate": "Country Name=Argentina<br>Year=%{x}<br>Access to electricity (% pop)=%{y}<extra></extra>",
         "legendgroup": "Argentina",
         "line": {
          "color": "#B6E880",
          "dash": "solid"
         },
         "marker": {
          "symbol": "circle"
         },
         "mode": "lines",
         "name": "Argentina",
         "showlegend": true,
         "type": "scattergl",
         "x": [
          "1990 [YR1990]",
          "2000 [YR2000]",
          "2014 [YR2014]",
          "2015 [YR2015]",
          "2016 [YR2016]",
          "2017 [YR2017]",
          "2018 [YR2018]",
          "2019 [YR2019]",
          "2020 [YR2020]",
          "2021 [YR2021]",
          "2022 [YR2022]",
          "2023 [YR2023]"
         ],
         "xaxis": "x",
         "y": [
          92.1548004150391,
          95.7,
          100,
          99.7,
          99.9,
          100,
          100,
          100,
          100,
          100,
          100,
          null
         ],
         "yaxis": "y"
        },
        {
         "hovertemplate": "Country Name=Armenia<br>Year=%{x}<br>Access to electricity (% pop)=%{y}<extra></extra>",
         "legendgroup": "Armenia",
         "line": {
          "color": "#FF97FF",
          "dash": "solid"
         },
         "marker": {
          "symbol": "circle"
         },
         "mode": "lines",
         "name": "Armenia",
         "showlegend": true,
         "type": "scattergl",
         "x": [
          "1990 [YR1990]",
          "2000 [YR2000]",
          "2014 [YR2014]",
          "2015 [YR2015]",
          "2016 [YR2016]",
          "2017 [YR2017]",
          "2018 [YR2018]",
          "2019 [YR2019]",
          "2020 [YR2020]",
          "2021 [YR2021]",
          "2022 [YR2022]",
          "2023 [YR2023]"
         ],
         "xaxis": "x",
         "y": [
          null,
          98.9,
          99.7,
          100,
          99.8,
          99.7,
          99.9,
          100,
          100,
          100,
          100,
          null
         ],
         "yaxis": "y"
        },
        {
         "hovertemplate": "Country Name=Aruba<br>Year=%{x}<br>Access to electricity (% pop)=%{y}<extra></extra>",
         "legendgroup": "Aruba",
         "line": {
          "color": "#FECB52",
          "dash": "solid"
         },
         "marker": {
          "symbol": "circle"
         },
         "mode": "lines",
         "name": "Aruba",
         "showlegend": true,
         "type": "scattergl",
         "x": [
          "1990 [YR1990]",
          "2000 [YR2000]",
          "2014 [YR2014]",
          "2015 [YR2015]",
          "2016 [YR2016]",
          "2017 [YR2017]",
          "2018 [YR2018]",
          "2019 [YR2019]",
          "2020 [YR2020]",
          "2021 [YR2021]",
          "2022 [YR2022]",
          "2023 [YR2023]"
         ],
         "xaxis": "x",
         "y": [
          100,
          91.7,
          100,
          100,
          100,
          100,
          100,
          100,
          100,
          100,
          99.9,
          null
         ],
         "yaxis": "y"
        },
        {
         "hovertemplate": "Country Name=Australia<br>Year=%{x}<br>Access to electricity (% pop)=%{y}<extra></extra>",
         "legendgroup": "Australia",
         "line": {
          "color": "#636efa",
          "dash": "solid"
         },
         "marker": {
          "symbol": "circle"
         },
         "mode": "lines",
         "name": "Australia",
         "showlegend": true,
         "type": "scattergl",
         "x": [
          "1990 [YR1990]",
          "2000 [YR2000]",
          "2014 [YR2014]",
          "2015 [YR2015]",
          "2016 [YR2016]",
          "2017 [YR2017]",
          "2018 [YR2018]",
          "2019 [YR2019]",
          "2020 [YR2020]",
          "2021 [YR2021]",
          "2022 [YR2022]",
          "2023 [YR2023]"
         ],
         "xaxis": "x",
         "y": [
          100,
          100,
          100,
          100,
          100,
          100,
          100,
          100,
          100,
          100,
          100,
          null
         ],
         "yaxis": "y"
        },
        {
         "hovertemplate": "Country Name=Austria<br>Year=%{x}<br>Access to electricity (% pop)=%{y}<extra></extra>",
         "legendgroup": "Austria",
         "line": {
          "color": "#EF553B",
          "dash": "solid"
         },
         "marker": {
          "symbol": "circle"
         },
         "mode": "lines",
         "name": "Austria",
         "showlegend": true,
         "type": "scattergl",
         "x": [
          "1990 [YR1990]",
          "2000 [YR2000]",
          "2014 [YR2014]",
          "2015 [YR2015]",
          "2016 [YR2016]",
          "2017 [YR2017]",
          "2018 [YR2018]",
          "2019 [YR2019]",
          "2020 [YR2020]",
          "2021 [YR2021]",
          "2022 [YR2022]",
          "2023 [YR2023]"
         ],
         "xaxis": "x",
         "y": [
          100,
          100,
          100,
          100,
          100,
          100,
          100,
          100,
          100,
          100,
          100,
          null
         ],
         "yaxis": "y"
        },
        {
         "hovertemplate": "Country Name=Azerbaijan<br>Year=%{x}<br>Access to electricity (% pop)=%{y}<extra></extra>",
         "legendgroup": "Azerbaijan",
         "line": {
          "color": "#00cc96",
          "dash": "solid"
         },
         "marker": {
          "symbol": "circle"
         },
         "mode": "lines",
         "name": "Azerbaijan",
         "showlegend": true,
         "type": "scattergl",
         "x": [
          "1990 [YR1990]",
          "2000 [YR2000]",
          "2014 [YR2014]",
          "2015 [YR2015]",
          "2016 [YR2016]",
          "2017 [YR2017]",
          "2018 [YR2018]",
          "2019 [YR2019]",
          "2020 [YR2020]",
          "2021 [YR2021]",
          "2022 [YR2022]",
          "2023 [YR2023]"
         ],
         "xaxis": "x",
         "y": [
          null,
          98.9,
          100,
          100,
          100,
          100,
          100,
          100,
          100,
          100,
          100,
          null
         ],
         "yaxis": "y"
        },
        {
         "hovertemplate": "Country Name=Bahamas, The<br>Year=%{x}<br>Access to electricity (% pop)=%{y}<extra></extra>",
         "legendgroup": "Bahamas, The",
         "line": {
          "color": "#ab63fa",
          "dash": "solid"
         },
         "marker": {
          "symbol": "circle"
         },
         "mode": "lines",
         "name": "Bahamas, The",
         "showlegend": true,
         "type": "scattergl",
         "x": [
          "1990 [YR1990]",
          "2000 [YR2000]",
          "2014 [YR2014]",
          "2015 [YR2015]",
          "2016 [YR2016]",
          "2017 [YR2017]",
          "2018 [YR2018]",
          "2019 [YR2019]",
          "2020 [YR2020]",
          "2021 [YR2021]",
          "2022 [YR2022]",
          "2023 [YR2023]"
         ],
         "xaxis": "x",
         "y": [
          100,
          100,
          100,
          100,
          100,
          100,
          100,
          100,
          100,
          100,
          100,
          null
         ],
         "yaxis": "y"
        },
        {
         "hovertemplate": "Country Name=Bahrain<br>Year=%{x}<br>Access to electricity (% pop)=%{y}<extra></extra>",
         "legendgroup": "Bahrain",
         "line": {
          "color": "#FFA15A",
          "dash": "solid"
         },
         "marker": {
          "symbol": "circle"
         },
         "mode": "lines",
         "name": "Bahrain",
         "showlegend": true,
         "type": "scattergl",
         "x": [
          "1990 [YR1990]",
          "2000 [YR2000]",
          "2014 [YR2014]",
          "2015 [YR2015]",
          "2016 [YR2016]",
          "2017 [YR2017]",
          "2018 [YR2018]",
          "2019 [YR2019]",
          "2020 [YR2020]",
          "2021 [YR2021]",
          "2022 [YR2022]",
          "2023 [YR2023]"
         ],
         "xaxis": "x",
         "y": [
          99.9413986206055,
          100,
          100,
          100,
          100,
          100,
          100,
          100,
          100,
          100,
          100,
          null
         ],
         "yaxis": "y"
        },
        {
         "hovertemplate": "Country Name=Bangladesh<br>Year=%{x}<br>Access to electricity (% pop)=%{y}<extra></extra>",
         "legendgroup": "Bangladesh",
         "line": {
          "color": "#19d3f3",
          "dash": "solid"
         },
         "marker": {
          "symbol": "circle"
         },
         "mode": "lines",
         "name": "Bangladesh",
         "showlegend": true,
         "type": "scattergl",
         "x": [
          "1990 [YR1990]",
          "2000 [YR2000]",
          "2014 [YR2014]",
          "2015 [YR2015]",
          "2016 [YR2016]",
          "2017 [YR2017]",
          "2018 [YR2018]",
          "2019 [YR2019]",
          "2020 [YR2020]",
          "2021 [YR2021]",
          "2022 [YR2022]",
          "2023 [YR2023]"
         ],
         "xaxis": "x",
         "y": [
          null,
          32,
          62.4,
          74,
          75.9,
          88,
          86.9,
          92.2,
          96.2,
          99,
          99.4,
          null
         ],
         "yaxis": "y"
        },
        {
         "hovertemplate": "Country Name=Barbados<br>Year=%{x}<br>Access to electricity (% pop)=%{y}<extra></extra>",
         "legendgroup": "Barbados",
         "line": {
          "color": "#FF6692",
          "dash": "solid"
         },
         "marker": {
          "symbol": "circle"
         },
         "mode": "lines",
         "name": "Barbados",
         "showlegend": true,
         "type": "scattergl",
         "x": [
          "1990 [YR1990]",
          "2000 [YR2000]",
          "2014 [YR2014]",
          "2015 [YR2015]",
          "2016 [YR2016]",
          "2017 [YR2017]",
          "2018 [YR2018]",
          "2019 [YR2019]",
          "2020 [YR2020]",
          "2021 [YR2021]",
          "2022 [YR2022]",
          "2023 [YR2023]"
         ],
         "xaxis": "x",
         "y": [
          99.9842529296875,
          100,
          100,
          100,
          100,
          100,
          100,
          100,
          100,
          100,
          100,
          null
         ],
         "yaxis": "y"
        },
        {
         "hovertemplate": "Country Name=Belarus<br>Year=%{x}<br>Access to electricity (% pop)=%{y}<extra></extra>",
         "legendgroup": "Belarus",
         "line": {
          "color": "#B6E880",
          "dash": "solid"
         },
         "marker": {
          "symbol": "circle"
         },
         "mode": "lines",
         "name": "Belarus",
         "showlegend": true,
         "type": "scattergl",
         "x": [
          "1990 [YR1990]",
          "2000 [YR2000]",
          "2014 [YR2014]",
          "2015 [YR2015]",
          "2016 [YR2016]",
          "2017 [YR2017]",
          "2018 [YR2018]",
          "2019 [YR2019]",
          "2020 [YR2020]",
          "2021 [YR2021]",
          "2022 [YR2022]",
          "2023 [YR2023]"
         ],
         "xaxis": "x",
         "y": [
          100,
          89,
          96.8,
          97.4,
          98,
          98.7,
          99.3,
          100,
          100,
          100,
          100,
          null
         ],
         "yaxis": "y"
        },
        {
         "hovertemplate": "Country Name=Belgium<br>Year=%{x}<br>Access to electricity (% pop)=%{y}<extra></extra>",
         "legendgroup": "Belgium",
         "line": {
          "color": "#FF97FF",
          "dash": "solid"
         },
         "marker": {
          "symbol": "circle"
         },
         "mode": "lines",
         "name": "Belgium",
         "showlegend": true,
         "type": "scattergl",
         "x": [
          "1990 [YR1990]",
          "2000 [YR2000]",
          "2014 [YR2014]",
          "2015 [YR2015]",
          "2016 [YR2016]",
          "2017 [YR2017]",
          "2018 [YR2018]",
          "2019 [YR2019]",
          "2020 [YR2020]",
          "2021 [YR2021]",
          "2022 [YR2022]",
          "2023 [YR2023]"
         ],
         "xaxis": "x",
         "y": [
          100,
          100,
          100,
          100,
          100,
          100,
          100,
          100,
          100,
          100,
          100,
          null
         ],
         "yaxis": "y"
        },
        {
         "hovertemplate": "Country Name=Belize<br>Year=%{x}<br>Access to electricity (% pop)=%{y}<extra></extra>",
         "legendgroup": "Belize",
         "line": {
          "color": "#FECB52",
          "dash": "solid"
         },
         "marker": {
          "symbol": "circle"
         },
         "mode": "lines",
         "name": "Belize",
         "showlegend": true,
         "type": "scattergl",
         "x": [
          "1990 [YR1990]",
          "2000 [YR2000]",
          "2014 [YR2014]",
          "2015 [YR2015]",
          "2016 [YR2016]",
          "2017 [YR2017]",
          "2018 [YR2018]",
          "2019 [YR2019]",
          "2020 [YR2020]",
          "2021 [YR2021]",
          "2022 [YR2022]",
          "2023 [YR2023]"
         ],
         "xaxis": "x",
         "y": [
          null,
          79,
          91.5,
          91.8,
          93.3,
          94.2,
          91.7,
          92.7,
          96.8,
          97.7,
          98.6,
          null
         ],
         "yaxis": "y"
        },
        {
         "hovertemplate": "Country Name=Benin<br>Year=%{x}<br>Access to electricity (% pop)=%{y}<extra></extra>",
         "legendgroup": "Benin",
         "line": {
          "color": "#636efa",
          "dash": "solid"
         },
         "marker": {
          "symbol": "circle"
         },
         "mode": "lines",
         "name": "Benin",
         "showlegend": true,
         "type": "scattergl",
         "x": [
          "1990 [YR1990]",
          "2000 [YR2000]",
          "2014 [YR2014]",
          "2015 [YR2015]",
          "2016 [YR2016]",
          "2017 [YR2017]",
          "2018 [YR2018]",
          "2019 [YR2019]",
          "2020 [YR2020]",
          "2021 [YR2021]",
          "2022 [YR2022]",
          "2023 [YR2023]"
         ],
         "xaxis": "x",
         "y": [
          null,
          21.5,
          34.1,
          29.6,
          37,
          34.5,
          39,
          40,
          41,
          42,
          56.5,
          null
         ],
         "yaxis": "y"
        },
        {
         "hovertemplate": "Country Name=Bermuda<br>Year=%{x}<br>Access to electricity (% pop)=%{y}<extra></extra>",
         "legendgroup": "Bermuda",
         "line": {
          "color": "#EF553B",
          "dash": "solid"
         },
         "marker": {
          "symbol": "circle"
         },
         "mode": "lines",
         "name": "Bermuda",
         "showlegend": true,
         "type": "scattergl",
         "x": [
          "1990 [YR1990]",
          "2000 [YR2000]",
          "2014 [YR2014]",
          "2015 [YR2015]",
          "2016 [YR2016]",
          "2017 [YR2017]",
          "2018 [YR2018]",
          "2019 [YR2019]",
          "2020 [YR2020]",
          "2021 [YR2021]",
          "2022 [YR2022]",
          "2023 [YR2023]"
         ],
         "xaxis": "x",
         "y": [
          100,
          100,
          100,
          100,
          100,
          100,
          100,
          100,
          100,
          100,
          100,
          null
         ],
         "yaxis": "y"
        },
        {
         "hovertemplate": "Country Name=Bhutan<br>Year=%{x}<br>Access to electricity (% pop)=%{y}<extra></extra>",
         "legendgroup": "Bhutan",
         "line": {
          "color": "#00cc96",
          "dash": "solid"
         },
         "marker": {
          "symbol": "circle"
         },
         "mode": "lines",
         "name": "Bhutan",
         "showlegend": true,
         "type": "scattergl",
         "x": [
          "1990 [YR1990]",
          "2000 [YR2000]",
          "2014 [YR2014]",
          "2015 [YR2015]",
          "2016 [YR2016]",
          "2017 [YR2017]",
          "2018 [YR2018]",
          "2019 [YR2019]",
          "2020 [YR2020]",
          "2021 [YR2021]",
          "2022 [YR2022]",
          "2023 [YR2023]"
         ],
         "xaxis": "x",
         "y": [
          null,
          31.2,
          91.4,
          95.4,
          99.3,
          97.7,
          100,
          100,
          100,
          100,
          100,
          null
         ],
         "yaxis": "y"
        },
        {
         "hovertemplate": "Country Name=Bolivia<br>Year=%{x}<br>Access to electricity (% pop)=%{y}<extra></extra>",
         "legendgroup": "Bolivia",
         "line": {
          "color": "#ab63fa",
          "dash": "solid"
         },
         "marker": {
          "symbol": "circle"
         },
         "mode": "lines",
         "name": "Bolivia",
         "showlegend": true,
         "type": "scattergl",
         "x": [
          "1990 [YR1990]",
          "2000 [YR2000]",
          "2014 [YR2014]",
          "2015 [YR2015]",
          "2016 [YR2016]",
          "2017 [YR2017]",
          "2018 [YR2018]",
          "2019 [YR2019]",
          "2020 [YR2020]",
          "2021 [YR2021]",
          "2022 [YR2022]",
          "2023 [YR2023]"
         ],
         "xaxis": "x",
         "y": [
          null,
          70,
          90,
          91.5,
          91.8,
          91.8,
          92.8,
          95.1,
          97.2,
          98.6,
          99.9,
          null
         ],
         "yaxis": "y"
        },
        {
         "hovertemplate": "Country Name=Bosnia and Herzegovina<br>Year=%{x}<br>Access to electricity (% pop)=%{y}<extra></extra>",
         "legendgroup": "Bosnia and Herzegovina",
         "line": {
          "color": "#FFA15A",
          "dash": "solid"
         },
         "marker": {
          "symbol": "circle"
         },
         "mode": "lines",
         "name": "Bosnia and Herzegovina",
         "showlegend": true,
         "type": "scattergl",
         "x": [
          "1990 [YR1990]",
          "2000 [YR2000]",
          "2014 [YR2014]",
          "2015 [YR2015]",
          "2016 [YR2016]",
          "2017 [YR2017]",
          "2018 [YR2018]",
          "2019 [YR2019]",
          "2020 [YR2020]",
          "2021 [YR2021]",
          "2022 [YR2022]",
          "2023 [YR2023]"
         ],
         "xaxis": "x",
         "y": [
          100,
          99,
          99.9,
          99.7,
          100,
          100,
          100,
          100,
          100,
          100,
          100,
          null
         ],
         "yaxis": "y"
        },
        {
         "hovertemplate": "Country Name=Botswana<br>Year=%{x}<br>Access to electricity (% pop)=%{y}<extra></extra>",
         "legendgroup": "Botswana",
         "line": {
          "color": "#19d3f3",
          "dash": "solid"
         },
         "marker": {
          "symbol": "circle"
         },
         "mode": "lines",
         "name": "Botswana",
         "showlegend": true,
         "type": "scattergl",
         "x": [
          "1990 [YR1990]",
          "2000 [YR2000]",
          "2014 [YR2014]",
          "2015 [YR2015]",
          "2016 [YR2016]",
          "2017 [YR2017]",
          "2018 [YR2018]",
          "2019 [YR2019]",
          "2020 [YR2020]",
          "2021 [YR2021]",
          "2022 [YR2022]",
          "2023 [YR2023]"
         ],
         "xaxis": "x",
         "y": [
          null,
          26.5,
          60,
          62.1,
          64.2,
          67.4,
          68.3,
          70.1,
          71.8,
          73.7,
          75.9,
          null
         ],
         "yaxis": "y"
        },
        {
         "hovertemplate": "Country Name=Brazil<br>Year=%{x}<br>Access to electricity (% pop)=%{y}<extra></extra>",
         "legendgroup": "Brazil",
         "line": {
          "color": "#FF6692",
          "dash": "solid"
         },
         "marker": {
          "symbol": "circle"
         },
         "mode": "lines",
         "name": "Brazil",
         "showlegend": true,
         "type": "scattergl",
         "x": [
          "1990 [YR1990]",
          "2000 [YR2000]",
          "2014 [YR2014]",
          "2015 [YR2015]",
          "2016 [YR2016]",
          "2017 [YR2017]",
          "2018 [YR2018]",
          "2019 [YR2019]",
          "2020 [YR2020]",
          "2021 [YR2021]",
          "2022 [YR2022]",
          "2023 [YR2023]"
         ],
         "xaxis": "x",
         "y": [
          87.475116,
          94.4,
          99.7,
          99.7,
          99.7,
          99.8,
          99.7,
          99.8,
          99.7,
          99.5,
          100,
          null
         ],
         "yaxis": "y"
        },
        {
         "hovertemplate": "Country Name=British Virgin Islands<br>Year=%{x}<br>Access to electricity (% pop)=%{y}<extra></extra>",
         "legendgroup": "British Virgin Islands",
         "line": {
          "color": "#B6E880",
          "dash": "solid"
         },
         "marker": {
          "symbol": "circle"
         },
         "mode": "lines",
         "name": "British Virgin Islands",
         "showlegend": true,
         "type": "scattergl",
         "x": [
          "1990 [YR1990]",
          "2000 [YR2000]",
          "2014 [YR2014]",
          "2015 [YR2015]",
          "2016 [YR2016]",
          "2017 [YR2017]",
          "2018 [YR2018]",
          "2019 [YR2019]",
          "2020 [YR2020]",
          "2021 [YR2021]",
          "2022 [YR2022]",
          "2023 [YR2023]"
         ],
         "xaxis": "x",
         "y": [
          94.606559753418,
          97.1,
          99.2,
          100,
          100,
          100,
          100,
          100,
          100,
          100,
          100,
          null
         ],
         "yaxis": "y"
        },
        {
         "hovertemplate": "Country Name=Brunei Darussalam<br>Year=%{x}<br>Access to electricity (% pop)=%{y}<extra></extra>",
         "legendgroup": "Brunei Darussalam",
         "line": {
          "color": "#FF97FF",
          "dash": "solid"
         },
         "marker": {
          "symbol": "circle"
         },
         "mode": "lines",
         "name": "Brunei Darussalam",
         "showlegend": true,
         "type": "scattergl",
         "x": [
          "1990 [YR1990]",
          "2000 [YR2000]",
          "2014 [YR2014]",
          "2015 [YR2015]",
          "2016 [YR2016]",
          "2017 [YR2017]",
          "2018 [YR2018]",
          "2019 [YR2019]",
          "2020 [YR2020]",
          "2021 [YR2021]",
          "2022 [YR2022]",
          "2023 [YR2023]"
         ],
         "xaxis": "x",
         "y": [
          100,
          100,
          100,
          100,
          100,
          100,
          100,
          100,
          100,
          100,
          100,
          null
         ],
         "yaxis": "y"
        },
        {
         "hovertemplate": "Country Name=Bulgaria<br>Year=%{x}<br>Access to electricity (% pop)=%{y}<extra></extra>",
         "legendgroup": "Bulgaria",
         "line": {
          "color": "#FECB52",
          "dash": "solid"
         },
         "marker": {
          "symbol": "circle"
         },
         "mode": "lines",
         "name": "Bulgaria",
         "showlegend": true,
         "type": "scattergl",
         "x": [
          "1990 [YR1990]",
          "2000 [YR2000]",
          "2014 [YR2014]",
          "2015 [YR2015]",
          "2016 [YR2016]",
          "2017 [YR2017]",
          "2018 [YR2018]",
          "2019 [YR2019]",
          "2020 [YR2020]",
          "2021 [YR2021]",
          "2022 [YR2022]",
          "2023 [YR2023]"
         ],
         "xaxis": "x",
         "y": [
          100,
          88.1,
          95.9,
          96.6,
          97.3,
          98.1,
          98.7,
          99.2,
          99.7,
          99.8,
          100,
          null
         ],
         "yaxis": "y"
        },
        {
         "hovertemplate": "Country Name=Burkina Faso<br>Year=%{x}<br>Access to electricity (% pop)=%{y}<extra></extra>",
         "legendgroup": "Burkina Faso",
         "line": {
          "color": "#636efa",
          "dash": "solid"
         },
         "marker": {
          "symbol": "circle"
         },
         "mode": "lines",
         "name": "Burkina Faso",
         "showlegend": true,
         "type": "scattergl",
         "x": [
          "1990 [YR1990]",
          "2000 [YR2000]",
          "2014 [YR2014]",
          "2015 [YR2015]",
          "2016 [YR2016]",
          "2017 [YR2017]",
          "2018 [YR2018]",
          "2019 [YR2019]",
          "2020 [YR2020]",
          "2021 [YR2021]",
          "2022 [YR2022]",
          "2023 [YR2023]"
         ],
         "xaxis": "x",
         "y": [
          null,
          9.1,
          19.2,
          16.2,
          16.6,
          17,
          14.4,
          17.6,
          18.5,
          19,
          19.5,
          null
         ],
         "yaxis": "y"
        },
        {
         "hovertemplate": "Country Name=Burundi<br>Year=%{x}<br>Access to electricity (% pop)=%{y}<extra></extra>",
         "legendgroup": "Burundi",
         "line": {
          "color": "#EF553B",
          "dash": "solid"
         },
         "marker": {
          "symbol": "circle"
         },
         "mode": "lines",
         "name": "Burundi",
         "showlegend": true,
         "type": "scattergl",
         "x": [
          "1990 [YR1990]",
          "2000 [YR2000]",
          "2014 [YR2014]",
          "2015 [YR2015]",
          "2016 [YR2016]",
          "2017 [YR2017]",
          "2018 [YR2018]",
          "2019 [YR2019]",
          "2020 [YR2020]",
          "2021 [YR2021]",
          "2022 [YR2022]",
          "2023 [YR2023]"
         ],
         "xaxis": "x",
         "y": [
          null,
          2.5,
          7,
          7.9,
          8.5,
          9.3,
          9.5,
          9.8,
          9.1,
          10.2,
          10.3,
          null
         ],
         "yaxis": "y"
        },
        {
         "hovertemplate": "Country Name=Cabo Verde<br>Year=%{x}<br>Access to electricity (% pop)=%{y}<extra></extra>",
         "legendgroup": "Cabo Verde",
         "line": {
          "color": "#00cc96",
          "dash": "solid"
         },
         "marker": {
          "symbol": "circle"
         },
         "mode": "lines",
         "name": "Cabo Verde",
         "showlegend": true,
         "type": "scattergl",
         "x": [
          "1990 [YR1990]",
          "2000 [YR2000]",
          "2014 [YR2014]",
          "2015 [YR2015]",
          "2016 [YR2016]",
          "2017 [YR2017]",
          "2018 [YR2018]",
          "2019 [YR2019]",
          "2020 [YR2020]",
          "2021 [YR2021]",
          "2022 [YR2022]",
          "2023 [YR2023]"
         ],
         "xaxis": "x",
         "y": [
          null,
          58.6,
          85.3,
          86.4,
          87.5,
          88.6,
          90.2,
          91.4,
          93.7,
          95.5,
          97.1,
          null
         ],
         "yaxis": "y"
        },
        {
         "hovertemplate": "Country Name=Cambodia<br>Year=%{x}<br>Access to electricity (% pop)=%{y}<extra></extra>",
         "legendgroup": "Cambodia",
         "line": {
          "color": "#ab63fa",
          "dash": "solid"
         },
         "marker": {
          "symbol": "circle"
         },
         "mode": "lines",
         "name": "Cambodia",
         "showlegend": true,
         "type": "scattergl",
         "x": [
          "1990 [YR1990]",
          "2000 [YR2000]",
          "2014 [YR2014]",
          "2015 [YR2015]",
          "2016 [YR2016]",
          "2017 [YR2017]",
          "2018 [YR2018]",
          "2019 [YR2019]",
          "2020 [YR2020]",
          "2021 [YR2021]",
          "2022 [YR2022]",
          "2023 [YR2023]"
         ],
         "xaxis": "x",
         "y": [
          null,
          16.6,
          56.1,
          62.7,
          68.8,
          89.1,
          80.7,
          84,
          86.4,
          82.5,
          92.3,
          null
         ],
         "yaxis": "y"
        },
        {
         "hovertemplate": "Country Name=Cameroon<br>Year=%{x}<br>Access to electricity (% pop)=%{y}<extra></extra>",
         "legendgroup": "Cameroon",
         "line": {
          "color": "#FFA15A",
          "dash": "solid"
         },
         "marker": {
          "symbol": "circle"
         },
         "mode": "lines",
         "name": "Cameroon",
         "showlegend": true,
         "type": "scattergl",
         "x": [
          "1990 [YR1990]",
          "2000 [YR2000]",
          "2014 [YR2014]",
          "2015 [YR2015]",
          "2016 [YR2016]",
          "2017 [YR2017]",
          "2018 [YR2018]",
          "2019 [YR2019]",
          "2020 [YR2020]",
          "2021 [YR2021]",
          "2022 [YR2022]",
          "2023 [YR2023]"
         ],
         "xaxis": "x",
         "y": [
          null,
          41,
          56.8,
          58.6,
          59.8,
          60.9,
          62.2,
          63.2,
          64.3,
          65.4,
          71,
          null
         ],
         "yaxis": "y"
        },
        {
         "hovertemplate": "Country Name=Canada<br>Year=%{x}<br>Access to electricity (% pop)=%{y}<extra></extra>",
         "legendgroup": "Canada",
         "line": {
          "color": "#19d3f3",
          "dash": "solid"
         },
         "marker": {
          "symbol": "circle"
         },
         "mode": "lines",
         "name": "Canada",
         "showlegend": true,
         "type": "scattergl",
         "x": [
          "1990 [YR1990]",
          "2000 [YR2000]",
          "2014 [YR2014]",
          "2015 [YR2015]",
          "2016 [YR2016]",
          "2017 [YR2017]",
          "2018 [YR2018]",
          "2019 [YR2019]",
          "2020 [YR2020]",
          "2021 [YR2021]",
          "2022 [YR2022]",
          "2023 [YR2023]"
         ],
         "xaxis": "x",
         "y": [
          100,
          100,
          100,
          100,
          100,
          100,
          100,
          100,
          100,
          100,
          100,
          null
         ],
         "yaxis": "y"
        },
        {
         "hovertemplate": "Country Name=Cayman Islands<br>Year=%{x}<br>Access to electricity (% pop)=%{y}<extra></extra>",
         "legendgroup": "Cayman Islands",
         "line": {
          "color": "#FF6692",
          "dash": "solid"
         },
         "marker": {
          "symbol": "circle"
         },
         "mode": "lines",
         "name": "Cayman Islands",
         "showlegend": true,
         "type": "scattergl",
         "x": [
          "1990 [YR1990]",
          "2000 [YR2000]",
          "2014 [YR2014]",
          "2015 [YR2015]",
          "2016 [YR2016]",
          "2017 [YR2017]",
          "2018 [YR2018]",
          "2019 [YR2019]",
          "2020 [YR2020]",
          "2021 [YR2021]",
          "2022 [YR2022]",
          "2023 [YR2023]"
         ],
         "xaxis": "x",
         "y": [
          99.846923828125,
          100,
          100,
          100,
          100,
          100,
          100,
          100,
          100,
          100,
          100,
          null
         ],
         "yaxis": "y"
        },
        {
         "hovertemplate": "Country Name=Central African Republic<br>Year=%{x}<br>Access to electricity (% pop)=%{y}<extra></extra>",
         "legendgroup": "Central African Republic",
         "line": {
          "color": "#B6E880",
          "dash": "solid"
         },
         "marker": {
          "symbol": "circle"
         },
         "mode": "lines",
         "name": "Central African Republic",
         "showlegend": true,
         "type": "scattergl",
         "x": [
          "1990 [YR1990]",
          "2000 [YR2000]",
          "2014 [YR2014]",
          "2015 [YR2015]",
          "2016 [YR2016]",
          "2017 [YR2017]",
          "2018 [YR2018]",
          "2019 [YR2019]",
          "2020 [YR2020]",
          "2021 [YR2021]",
          "2022 [YR2022]",
          "2023 [YR2023]"
         ],
         "xaxis": "x",
         "y": [
          null,
          6,
          12,
          12.7,
          13.4,
          14.1,
          14.6,
          14.3,
          15.4,
          15.7,
          15.7,
          null
         ],
         "yaxis": "y"
        },
        {
         "hovertemplate": "Country Name=Chad<br>Year=%{x}<br>Access to electricity (% pop)=%{y}<extra></extra>",
         "legendgroup": "Chad",
         "line": {
          "color": "#FF97FF",
          "dash": "solid"
         },
         "marker": {
          "symbol": "circle"
         },
         "mode": "lines",
         "name": "Chad",
         "showlegend": true,
         "type": "scattergl",
         "x": [
          "1990 [YR1990]",
          "2000 [YR2000]",
          "2014 [YR2014]",
          "2015 [YR2015]",
          "2016 [YR2016]",
          "2017 [YR2017]",
          "2018 [YR2018]",
          "2019 [YR2019]",
          "2020 [YR2020]",
          "2021 [YR2021]",
          "2022 [YR2022]",
          "2023 [YR2023]"
         ],
         "xaxis": "x",
         "y": [
          null,
          3.1,
          8.4,
          7.7,
          9.2,
          10.9,
          10.1,
          8.4,
          10.9,
          11.3,
          11.7,
          null
         ],
         "yaxis": "y"
        },
        {
         "hovertemplate": "Country Name=Channel Islands<br>Year=%{x}<br>Access to electricity (% pop)=%{y}<extra></extra>",
         "legendgroup": "Channel Islands",
         "line": {
          "color": "#FECB52",
          "dash": "solid"
         },
         "marker": {
          "symbol": "circle"
         },
         "mode": "lines",
         "name": "Channel Islands",
         "showlegend": true,
         "type": "scattergl",
         "x": [
          "1990 [YR1990]",
          "2000 [YR2000]",
          "2014 [YR2014]",
          "2015 [YR2015]",
          "2016 [YR2016]",
          "2017 [YR2017]",
          "2018 [YR2018]",
          "2019 [YR2019]",
          "2020 [YR2020]",
          "2021 [YR2021]",
          "2022 [YR2022]",
          "2023 [YR2023]"
         ],
         "xaxis": "x",
         "y": [
          100,
          100,
          100,
          100,
          100,
          100,
          100,
          100,
          100,
          100,
          100,
          null
         ],
         "yaxis": "y"
        },
        {
         "hovertemplate": "Country Name=Chile<br>Year=%{x}<br>Access to electricity (% pop)=%{y}<extra></extra>",
         "legendgroup": "Chile",
         "line": {
          "color": "#636efa",
          "dash": "solid"
         },
         "marker": {
          "symbol": "circle"
         },
         "mode": "lines",
         "name": "Chile",
         "showlegend": true,
         "type": "scattergl",
         "x": [
          "1990 [YR1990]",
          "2000 [YR2000]",
          "2014 [YR2014]",
          "2015 [YR2015]",
          "2016 [YR2016]",
          "2017 [YR2017]",
          "2018 [YR2018]",
          "2019 [YR2019]",
          "2020 [YR2020]",
          "2021 [YR2021]",
          "2022 [YR2022]",
          "2023 [YR2023]"
         ],
         "xaxis": "x",
         "y": [
          92.257427,
          97.9,
          100,
          99.7,
          100,
          99.7,
          100,
          100,
          100,
          100,
          100,
          null
         ],
         "yaxis": "y"
        },
        {
         "hovertemplate": "Country Name=China<br>Year=%{x}<br>Access to electricity (% pop)=%{y}<extra></extra>",
         "legendgroup": "China",
         "line": {
          "color": "#EF553B",
          "dash": "solid"
         },
         "marker": {
          "symbol": "circle"
         },
         "mode": "lines",
         "name": "China",
         "showlegend": true,
         "type": "scattergl",
         "x": [
          "1990 [YR1990]",
          "2000 [YR2000]",
          "2014 [YR2014]",
          "2015 [YR2015]",
          "2016 [YR2016]",
          "2017 [YR2017]",
          "2018 [YR2018]",
          "2019 [YR2019]",
          "2020 [YR2020]",
          "2021 [YR2021]",
          "2022 [YR2022]",
          "2023 [YR2023]"
         ],
         "xaxis": "x",
         "y": [
          null,
          96.7,
          100,
          100,
          100,
          100,
          100,
          100,
          100,
          100,
          100,
          null
         ],
         "yaxis": "y"
        },
        {
         "hovertemplate": "Country Name=Colombia<br>Year=%{x}<br>Access to electricity (% pop)=%{y}<extra></extra>",
         "legendgroup": "Colombia",
         "line": {
          "color": "#00cc96",
          "dash": "solid"
         },
         "marker": {
          "symbol": "circle"
         },
         "mode": "lines",
         "name": "Colombia",
         "showlegend": true,
         "type": "scattergl",
         "x": [
          "1990 [YR1990]",
          "2000 [YR2000]",
          "2014 [YR2014]",
          "2015 [YR2015]",
          "2016 [YR2016]",
          "2017 [YR2017]",
          "2018 [YR2018]",
          "2019 [YR2019]",
          "2020 [YR2020]",
          "2021 [YR2021]",
          "2022 [YR2022]",
          "2023 [YR2023]"
         ],
         "xaxis": "x",
         "y": [
          89.9,
          95.2,
          97.8,
          98.2,
          98.4,
          98.5,
          98.5,
          99.4,
          99.7,
          100,
          100,
          null
         ],
         "yaxis": "y"
        },
        {
         "hovertemplate": "Country Name=Comoros<br>Year=%{x}<br>Access to electricity (% pop)=%{y}<extra></extra>",
         "legendgroup": "Comoros",
         "line": {
          "color": "#ab63fa",
          "dash": "solid"
         },
         "marker": {
          "symbol": "circle"
         },
         "mode": "lines",
         "name": "Comoros",
         "showlegend": true,
         "type": "scattergl",
         "x": [
          "1990 [YR1990]",
          "2000 [YR2000]",
          "2014 [YR2014]",
          "2015 [YR2015]",
          "2016 [YR2016]",
          "2017 [YR2017]",
          "2018 [YR2018]",
          "2019 [YR2019]",
          "2020 [YR2020]",
          "2021 [YR2021]",
          "2022 [YR2022]",
          "2023 [YR2023]"
         ],
         "xaxis": "x",
         "y": [
          null,
          39.8,
          71.8,
          74.1,
          76.4,
          78.7,
          81,
          83.3,
          85.6,
          87.9,
          89.9,
          null
         ],
         "yaxis": "y"
        },
        {
         "hovertemplate": "Country Name=Congo, Dem. Rep.<br>Year=%{x}<br>Access to electricity (% pop)=%{y}<extra></extra>",
         "legendgroup": "Congo, Dem. Rep.",
         "line": {
          "color": "#FFA15A",
          "dash": "solid"
         },
         "marker": {
          "symbol": "circle"
         },
         "mode": "lines",
         "name": "Congo, Dem. Rep.",
         "showlegend": true,
         "type": "scattergl",
         "x": [
          "1990 [YR1990]",
          "2000 [YR2000]",
          "2014 [YR2014]",
          "2015 [YR2015]",
          "2016 [YR2016]",
          "2017 [YR2017]",
          "2018 [YR2018]",
          "2019 [YR2019]",
          "2020 [YR2020]",
          "2021 [YR2021]",
          "2022 [YR2022]",
          "2023 [YR2023]"
         ],
         "xaxis": "x",
         "y": [
          null,
          6.7,
          13.5,
          16.6,
          17.3,
          18,
          18.7,
          19.1,
          20.1,
          20.8,
          21.5,
          null
         ],
         "yaxis": "y"
        },
        {
         "hovertemplate": "Country Name=Congo, Rep.<br>Year=%{x}<br>Access to electricity (% pop)=%{y}<extra></extra>",
         "legendgroup": "Congo, Rep.",
         "line": {
          "color": "#19d3f3",
          "dash": "solid"
         },
         "marker": {
          "symbol": "circle"
         },
         "mode": "lines",
         "name": "Congo, Rep.",
         "showlegend": true,
         "type": "scattergl",
         "x": [
          "1990 [YR1990]",
          "2000 [YR2000]",
          "2014 [YR2014]",
          "2015 [YR2015]",
          "2016 [YR2016]",
          "2017 [YR2017]",
          "2018 [YR2018]",
          "2019 [YR2019]",
          "2020 [YR2020]",
          "2021 [YR2021]",
          "2022 [YR2022]",
          "2023 [YR2023]"
         ],
         "xaxis": "x",
         "y": [
          null,
          29.4,
          43.4,
          44.3,
          45.3,
          46.2,
          47,
          47.7,
          48.7,
          49.7,
          50.6,
          null
         ],
         "yaxis": "y"
        },
        {
         "hovertemplate": "Country Name=Costa Rica<br>Year=%{x}<br>Access to electricity (% pop)=%{y}<extra></extra>",
         "legendgroup": "Costa Rica",
         "line": {
          "color": "#FF6692",
          "dash": "solid"
         },
         "marker": {
          "symbol": "circle"
         },
         "mode": "lines",
         "name": "Costa Rica",
         "showlegend": true,
         "type": "scattergl",
         "x": [
          "1990 [YR1990]",
          "2000 [YR2000]",
          "2014 [YR2014]",
          "2015 [YR2015]",
          "2016 [YR2016]",
          "2017 [YR2017]",
          "2018 [YR2018]",
          "2019 [YR2019]",
          "2020 [YR2020]",
          "2021 [YR2021]",
          "2022 [YR2022]",
          "2023 [YR2023]"
         ],
         "xaxis": "x",
         "y": [
          null,
          96.9,
          99.4,
          99.4,
          99.5,
          99.6,
          99.7,
          99.7,
          99.9,
          100,
          100,
          null
         ],
         "yaxis": "y"
        },
        {
         "hovertemplate": "Country Name=Cote d'Ivoire<br>Year=%{x}<br>Access to electricity (% pop)=%{y}<extra></extra>",
         "legendgroup": "Cote d'Ivoire",
         "line": {
          "color": "#B6E880",
          "dash": "solid"
         },
         "marker": {
          "symbol": "circle"
         },
         "mode": "lines",
         "name": "Cote d'Ivoire",
         "showlegend": true,
         "type": "scattergl",
         "x": [
          "1990 [YR1990]",
          "2000 [YR2000]",
          "2014 [YR2014]",
          "2015 [YR2015]",
          "2016 [YR2016]",
          "2017 [YR2017]",
          "2018 [YR2018]",
          "2019 [YR2019]",
          "2020 [YR2020]",
          "2021 [YR2021]",
          "2022 [YR2022]",
          "2023 [YR2023]"
         ],
         "xaxis": "x",
         "y": [
          null,
          48.7,
          61.9,
          62.6,
          64.3,
          65.6,
          67.1,
          68.6,
          69.9,
          71.1,
          70.4,
          null
         ],
         "yaxis": "y"
        },
        {
         "hovertemplate": "Country Name=Croatia<br>Year=%{x}<br>Access to electricity (% pop)=%{y}<extra></extra>",
         "legendgroup": "Croatia",
         "line": {
          "color": "#FF97FF",
          "dash": "solid"
         },
         "marker": {
          "symbol": "circle"
         },
         "mode": "lines",
         "name": "Croatia",
         "showlegend": true,
         "type": "scattergl",
         "x": [
          "1990 [YR1990]",
          "2000 [YR2000]",
          "2014 [YR2014]",
          "2015 [YR2015]",
          "2016 [YR2016]",
          "2017 [YR2017]",
          "2018 [YR2018]",
          "2019 [YR2019]",
          "2020 [YR2020]",
          "2021 [YR2021]",
          "2022 [YR2022]",
          "2023 [YR2023]"
         ],
         "xaxis": "x",
         "y": [
          100,
          100,
          100,
          100,
          100,
          100,
          100,
          100,
          100,
          100,
          100,
          null
         ],
         "yaxis": "y"
        },
        {
         "hovertemplate": "Country Name=Cuba<br>Year=%{x}<br>Access to electricity (% pop)=%{y}<extra></extra>",
         "legendgroup": "Cuba",
         "line": {
          "color": "#FECB52",
          "dash": "solid"
         },
         "marker": {
          "symbol": "circle"
         },
         "mode": "lines",
         "name": "Cuba",
         "showlegend": true,
         "type": "scattergl",
         "x": [
          "1990 [YR1990]",
          "2000 [YR2000]",
          "2014 [YR2014]",
          "2015 [YR2015]",
          "2016 [YR2016]",
          "2017 [YR2017]",
          "2018 [YR2018]",
          "2019 [YR2019]",
          "2020 [YR2020]",
          "2021 [YR2021]",
          "2022 [YR2022]",
          "2023 [YR2023]"
         ],
         "xaxis": "x",
         "y": [
          null,
          97,
          98.7,
          99,
          99.2,
          99.4,
          99.6,
          99.8,
          99.9,
          100,
          100,
          null
         ],
         "yaxis": "y"
        },
        {
         "hovertemplate": "Country Name=Curacao<br>Year=%{x}<br>Access to electricity (% pop)=%{y}<extra></extra>",
         "legendgroup": "Curacao",
         "line": {
          "color": "#636efa",
          "dash": "solid"
         },
         "marker": {
          "symbol": "circle"
         },
         "mode": "lines",
         "name": "Curacao",
         "showlegend": true,
         "type": "scattergl",
         "x": [
          "1990 [YR1990]",
          "2000 [YR2000]",
          "2014 [YR2014]",
          "2015 [YR2015]",
          "2016 [YR2016]",
          "2017 [YR2017]",
          "2018 [YR2018]",
          "2019 [YR2019]",
          "2020 [YR2020]",
          "2021 [YR2021]",
          "2022 [YR2022]",
          "2023 [YR2023]"
         ],
         "xaxis": "x",
         "y": [
          100,
          100,
          100,
          100,
          100,
          100,
          100,
          100,
          100,
          100,
          100,
          null
         ],
         "yaxis": "y"
        },
        {
         "hovertemplate": "Country Name=Cyprus<br>Year=%{x}<br>Access to electricity (% pop)=%{y}<extra></extra>",
         "legendgroup": "Cyprus",
         "line": {
          "color": "#EF553B",
          "dash": "solid"
         },
         "marker": {
          "symbol": "circle"
         },
         "mode": "lines",
         "name": "Cyprus",
         "showlegend": true,
         "type": "scattergl",
         "x": [
          "1990 [YR1990]",
          "2000 [YR2000]",
          "2014 [YR2014]",
          "2015 [YR2015]",
          "2016 [YR2016]",
          "2017 [YR2017]",
          "2018 [YR2018]",
          "2019 [YR2019]",
          "2020 [YR2020]",
          "2021 [YR2021]",
          "2022 [YR2022]",
          "2023 [YR2023]"
         ],
         "xaxis": "x",
         "y": [
          100,
          100,
          100,
          100,
          100,
          100,
          100,
          100,
          100,
          100,
          100,
          null
         ],
         "yaxis": "y"
        },
        {
         "hovertemplate": "Country Name=Czechia<br>Year=%{x}<br>Access to electricity (% pop)=%{y}<extra></extra>",
         "legendgroup": "Czechia",
         "line": {
          "color": "#00cc96",
          "dash": "solid"
         },
         "marker": {
          "symbol": "circle"
         },
         "mode": "lines",
         "name": "Czechia",
         "showlegend": true,
         "type": "scattergl",
         "x": [
          "1990 [YR1990]",
          "2000 [YR2000]",
          "2014 [YR2014]",
          "2015 [YR2015]",
          "2016 [YR2016]",
          "2017 [YR2017]",
          "2018 [YR2018]",
          "2019 [YR2019]",
          "2020 [YR2020]",
          "2021 [YR2021]",
          "2022 [YR2022]",
          "2023 [YR2023]"
         ],
         "xaxis": "x",
         "y": [
          100,
          100,
          100,
          100,
          100,
          100,
          100,
          100,
          100,
          100,
          100,
          null
         ],
         "yaxis": "y"
        },
        {
         "hovertemplate": "Country Name=Denmark<br>Year=%{x}<br>Access to electricity (% pop)=%{y}<extra></extra>",
         "legendgroup": "Denmark",
         "line": {
          "color": "#ab63fa",
          "dash": "solid"
         },
         "marker": {
          "symbol": "circle"
         },
         "mode": "lines",
         "name": "Denmark",
         "showlegend": true,
         "type": "scattergl",
         "x": [
          "1990 [YR1990]",
          "2000 [YR2000]",
          "2014 [YR2014]",
          "2015 [YR2015]",
          "2016 [YR2016]",
          "2017 [YR2017]",
          "2018 [YR2018]",
          "2019 [YR2019]",
          "2020 [YR2020]",
          "2021 [YR2021]",
          "2022 [YR2022]",
          "2023 [YR2023]"
         ],
         "xaxis": "x",
         "y": [
          100,
          100,
          100,
          100,
          100,
          100,
          100,
          100,
          100,
          100,
          100,
          null
         ],
         "yaxis": "y"
        },
        {
         "hovertemplate": "Country Name=Djibouti<br>Year=%{x}<br>Access to electricity (% pop)=%{y}<extra></extra>",
         "legendgroup": "Djibouti",
         "line": {
          "color": "#FFA15A",
          "dash": "solid"
         },
         "marker": {
          "symbol": "circle"
         },
         "mode": "lines",
         "name": "Djibouti",
         "showlegend": true,
         "type": "scattergl",
         "x": [
          "1990 [YR1990]",
          "2000 [YR2000]",
          "2014 [YR2014]",
          "2015 [YR2015]",
          "2016 [YR2016]",
          "2017 [YR2017]",
          "2018 [YR2018]",
          "2019 [YR2019]",
          "2020 [YR2020]",
          "2021 [YR2021]",
          "2022 [YR2022]",
          "2023 [YR2023]"
         ],
         "xaxis": "x",
         "y": [
          null,
          56,
          58.9,
          59.1,
          59.8,
          60.2,
          62.4,
          64.7,
          64.5,
          65.4,
          65,
          null
         ],
         "yaxis": "y"
        },
        {
         "hovertemplate": "Country Name=Dominica<br>Year=%{x}<br>Access to electricity (% pop)=%{y}<extra></extra>",
         "legendgroup": "Dominica",
         "line": {
          "color": "#19d3f3",
          "dash": "solid"
         },
         "marker": {
          "symbol": "circle"
         },
         "mode": "lines",
         "name": "Dominica",
         "showlegend": true,
         "type": "scattergl",
         "x": [
          "1990 [YR1990]",
          "2000 [YR2000]",
          "2014 [YR2014]",
          "2015 [YR2015]",
          "2016 [YR2016]",
          "2017 [YR2017]",
          "2018 [YR2018]",
          "2019 [YR2019]",
          "2020 [YR2020]",
          "2021 [YR2021]",
          "2022 [YR2022]",
          "2023 [YR2023]"
         ],
         "xaxis": "x",
         "y": [
          null,
          81.1,
          95.7,
          96.7,
          97.8,
          98.9,
          99.6,
          99.9,
          100,
          100,
          100,
          null
         ],
         "yaxis": "y"
        },
        {
         "hovertemplate": "Country Name=Dominican Republic<br>Year=%{x}<br>Access to electricity (% pop)=%{y}<extra></extra>",
         "legendgroup": "Dominican Republic",
         "line": {
          "color": "#FF6692",
          "dash": "solid"
         },
         "marker": {
          "symbol": "circle"
         },
         "mode": "lines",
         "name": "Dominican Republic",
         "showlegend": true,
         "type": "scattergl",
         "x": [
          "1990 [YR1990]",
          "2000 [YR2000]",
          "2014 [YR2014]",
          "2015 [YR2015]",
          "2016 [YR2016]",
          "2017 [YR2017]",
          "2018 [YR2018]",
          "2019 [YR2019]",
          "2020 [YR2020]",
          "2021 [YR2021]",
          "2022 [YR2022]",
          "2023 [YR2023]"
         ],
         "xaxis": "x",
         "y": [
          null,
          88.8,
          98.5,
          98.6,
          98.9,
          100,
          98.9,
          99,
          100,
          98.1,
          98.1,
          null
         ],
         "yaxis": "y"
        },
        {
         "hovertemplate": "Country Name=Ecuador<br>Year=%{x}<br>Access to electricity (% pop)=%{y}<extra></extra>",
         "legendgroup": "Ecuador",
         "line": {
          "color": "#B6E880",
          "dash": "solid"
         },
         "marker": {
          "symbol": "circle"
         },
         "mode": "lines",
         "name": "Ecuador",
         "showlegend": true,
         "type": "scattergl",
         "x": [
          "1990 [YR1990]",
          "2000 [YR2000]",
          "2014 [YR2014]",
          "2015 [YR2015]",
          "2016 [YR2016]",
          "2017 [YR2017]",
          "2018 [YR2018]",
          "2019 [YR2019]",
          "2020 [YR2020]",
          "2021 [YR2021]",
          "2022 [YR2022]",
          "2023 [YR2023]"
         ],
         "xaxis": "x",
         "y": [
          null,
          93.7,
          99,
          98.8,
          98.7,
          99.2,
          98.7,
          99.1,
          98.9,
          100,
          100,
          null
         ],
         "yaxis": "y"
        },
        {
         "hovertemplate": "Country Name=Egypt, Arab Rep.<br>Year=%{x}<br>Access to electricity (% pop)=%{y}<extra></extra>",
         "legendgroup": "Egypt, Arab Rep.",
         "line": {
          "color": "#FF97FF",
          "dash": "solid"
         },
         "marker": {
          "symbol": "circle"
         },
         "mode": "lines",
         "name": "Egypt, Arab Rep.",
         "showlegend": true,
         "type": "scattergl",
         "x": [
          "1990 [YR1990]",
          "2000 [YR2000]",
          "2014 [YR2014]",
          "2015 [YR2015]",
          "2016 [YR2016]",
          "2017 [YR2017]",
          "2018 [YR2018]",
          "2019 [YR2019]",
          "2020 [YR2020]",
          "2021 [YR2021]",
          "2022 [YR2022]",
          "2023 [YR2023]"
         ],
         "xaxis": "x",
         "y": [
          null,
          97.7,
          99.8,
          99.3,
          100,
          100,
          100,
          100,
          100,
          100,
          100,
          null
         ],
         "yaxis": "y"
        },
        {
         "hovertemplate": "Country Name=El Salvador<br>Year=%{x}<br>Access to electricity (% pop)=%{y}<extra></extra>",
         "legendgroup": "El Salvador",
         "line": {
          "color": "#FECB52",
          "dash": "solid"
         },
         "marker": {
          "symbol": "circle"
         },
         "mode": "lines",
         "name": "El Salvador",
         "showlegend": true,
         "type": "scattergl",
         "x": [
          "1990 [YR1990]",
          "2000 [YR2000]",
          "2014 [YR2014]",
          "2015 [YR2015]",
          "2016 [YR2016]",
          "2017 [YR2017]",
          "2018 [YR2018]",
          "2019 [YR2019]",
          "2020 [YR2020]",
          "2021 [YR2021]",
          "2022 [YR2022]",
          "2023 [YR2023]"
         ],
         "xaxis": "x",
         "y": [
          null,
          84.5,
          95.1,
          95.4,
          96,
          96.8,
          97,
          97.4,
          99.7,
          97.9,
          100,
          null
         ],
         "yaxis": "y"
        },
        {
         "hovertemplate": "Country Name=Equatorial Guinea<br>Year=%{x}<br>Access to electricity (% pop)=%{y}<extra></extra>",
         "legendgroup": "Equatorial Guinea",
         "line": {
          "color": "#636efa",
          "dash": "solid"
         },
         "marker": {
          "symbol": "circle"
         },
         "mode": "lines",
         "name": "Equatorial Guinea",
         "showlegend": true,
         "type": "scattergl",
         "x": [
          "1990 [YR1990]",
          "2000 [YR2000]",
          "2014 [YR2014]",
          "2015 [YR2015]",
          "2016 [YR2016]",
          "2017 [YR2017]",
          "2018 [YR2018]",
          "2019 [YR2019]",
          "2020 [YR2020]",
          "2021 [YR2021]",
          "2022 [YR2022]",
          "2023 [YR2023]"
         ],
         "xaxis": "x",
         "y": [
          null,
          64.8,
          66,
          66.1,
          66.2,
          66.4,
          66.5,
          66.6,
          66.7,
          66.8,
          67,
          null
         ],
         "yaxis": "y"
        },
        {
         "hovertemplate": "Country Name=Eritrea<br>Year=%{x}<br>Access to electricity (% pop)=%{y}<extra></extra>",
         "legendgroup": "Eritrea",
         "line": {
          "color": "#EF553B",
          "dash": "solid"
         },
         "marker": {
          "symbol": "circle"
         },
         "mode": "lines",
         "name": "Eritrea",
         "showlegend": true,
         "type": "scattergl",
         "x": [
          "1990 [YR1990]",
          "2000 [YR2000]",
          "2014 [YR2014]",
          "2015 [YR2015]",
          "2016 [YR2016]",
          "2017 [YR2017]",
          "2018 [YR2018]",
          "2019 [YR2019]",
          "2020 [YR2020]",
          "2021 [YR2021]",
          "2022 [YR2022]",
          "2023 [YR2023]"
         ],
         "xaxis": "x",
         "y": [
          null,
          29.3,
          44.6,
          45.8,
          46.9,
          48,
          49.1,
          50.3,
          51.4,
          52.5,
          55.4,
          null
         ],
         "yaxis": "y"
        },
        {
         "hovertemplate": "Country Name=Estonia<br>Year=%{x}<br>Access to electricity (% pop)=%{y}<extra></extra>",
         "legendgroup": "Estonia",
         "line": {
          "color": "#00cc96",
          "dash": "solid"
         },
         "marker": {
          "symbol": "circle"
         },
         "mode": "lines",
         "name": "Estonia",
         "showlegend": true,
         "type": "scattergl",
         "x": [
          "1990 [YR1990]",
          "2000 [YR2000]",
          "2014 [YR2014]",
          "2015 [YR2015]",
          "2016 [YR2016]",
          "2017 [YR2017]",
          "2018 [YR2018]",
          "2019 [YR2019]",
          "2020 [YR2020]",
          "2021 [YR2021]",
          "2022 [YR2022]",
          "2023 [YR2023]"
         ],
         "xaxis": "x",
         "y": [
          100,
          100,
          100,
          100,
          100,
          100,
          100,
          100,
          100,
          100,
          100,
          null
         ],
         "yaxis": "y"
        },
        {
         "hovertemplate": "Country Name=Eswatini<br>Year=%{x}<br>Access to electricity (% pop)=%{y}<extra></extra>",
         "legendgroup": "Eswatini",
         "line": {
          "color": "#ab63fa",
          "dash": "solid"
         },
         "marker": {
          "symbol": "circle"
         },
         "mode": "lines",
         "name": "Eswatini",
         "showlegend": true,
         "type": "scattergl",
         "x": [
          "1990 [YR1990]",
          "2000 [YR2000]",
          "2014 [YR2014]",
          "2015 [YR2015]",
          "2016 [YR2016]",
          "2017 [YR2017]",
          "2018 [YR2018]",
          "2019 [YR2019]",
          "2020 [YR2020]",
          "2021 [YR2021]",
          "2022 [YR2022]",
          "2023 [YR2023]"
         ],
         "xaxis": "x",
         "y": [
          null,
          20.4,
          65,
          64.1,
          63.4,
          73.5,
          74,
          77,
          80,
          82.9,
          82.3,
          null
         ],
         "yaxis": "y"
        },
        {
         "hovertemplate": "Country Name=Ethiopia<br>Year=%{x}<br>Access to electricity (% pop)=%{y}<extra></extra>",
         "legendgroup": "Ethiopia",
         "line": {
          "color": "#FFA15A",
          "dash": "solid"
         },
         "marker": {
          "symbol": "circle"
         },
         "mode": "lines",
         "name": "Ethiopia",
         "showlegend": true,
         "type": "scattergl",
         "x": [
          "1990 [YR1990]",
          "2000 [YR2000]",
          "2014 [YR2014]",
          "2015 [YR2015]",
          "2016 [YR2016]",
          "2017 [YR2017]",
          "2018 [YR2018]",
          "2019 [YR2019]",
          "2020 [YR2020]",
          "2021 [YR2021]",
          "2022 [YR2022]",
          "2023 [YR2023]"
         ],
         "xaxis": "x",
         "y": [
          null,
          12.7,
          27.2,
          29,
          42.9,
          44.3,
          44.8,
          48,
          51.1,
          54.2,
          55,
          null
         ],
         "yaxis": "y"
        },
        {
         "hovertemplate": "Country Name=Faroe Islands<br>Year=%{x}<br>Access to electricity (% pop)=%{y}<extra></extra>",
         "legendgroup": "Faroe Islands",
         "line": {
          "color": "#19d3f3",
          "dash": "solid"
         },
         "marker": {
          "symbol": "circle"
         },
         "mode": "lines",
         "name": "Faroe Islands",
         "showlegend": true,
         "type": "scattergl",
         "x": [
          "1990 [YR1990]",
          "2000 [YR2000]",
          "2014 [YR2014]",
          "2015 [YR2015]",
          "2016 [YR2016]",
          "2017 [YR2017]",
          "2018 [YR2018]",
          "2019 [YR2019]",
          "2020 [YR2020]",
          "2021 [YR2021]",
          "2022 [YR2022]",
          "2023 [YR2023]"
         ],
         "xaxis": "x",
         "y": [
          100,
          100,
          100,
          100,
          100,
          100,
          100,
          100,
          100,
          100,
          100,
          null
         ],
         "yaxis": "y"
        },
        {
         "hovertemplate": "Country Name=Fiji<br>Year=%{x}<br>Access to electricity (% pop)=%{y}<extra></extra>",
         "legendgroup": "Fiji",
         "line": {
          "color": "#FF6692",
          "dash": "solid"
         },
         "marker": {
          "symbol": "circle"
         },
         "mode": "lines",
         "name": "Fiji",
         "showlegend": true,
         "type": "scattergl",
         "x": [
          "1990 [YR1990]",
          "2000 [YR2000]",
          "2014 [YR2014]",
          "2015 [YR2015]",
          "2016 [YR2016]",
          "2017 [YR2017]",
          "2018 [YR2018]",
          "2019 [YR2019]",
          "2020 [YR2020]",
          "2021 [YR2021]",
          "2022 [YR2022]",
          "2023 [YR2023]"
         ],
         "xaxis": "x",
         "y": [
          null,
          76.8,
          93,
          93.2,
          93.4,
          96,
          95.1,
          96.1,
          97.1,
          92.1,
          92,
          null
         ],
         "yaxis": "y"
        },
        {
         "hovertemplate": "Country Name=Finland<br>Year=%{x}<br>Access to electricity (% pop)=%{y}<extra></extra>",
         "legendgroup": "Finland",
         "line": {
          "color": "#B6E880",
          "dash": "solid"
         },
         "marker": {
          "symbol": "circle"
         },
         "mode": "lines",
         "name": "Finland",
         "showlegend": true,
         "type": "scattergl",
         "x": [
          "1990 [YR1990]",
          "2000 [YR2000]",
          "2014 [YR2014]",
          "2015 [YR2015]",
          "2016 [YR2016]",
          "2017 [YR2017]",
          "2018 [YR2018]",
          "2019 [YR2019]",
          "2020 [YR2020]",
          "2021 [YR2021]",
          "2022 [YR2022]",
          "2023 [YR2023]"
         ],
         "xaxis": "x",
         "y": [
          100,
          100,
          100,
          100,
          100,
          100,
          100,
          100,
          100,
          100,
          100,
          null
         ],
         "yaxis": "y"
        },
        {
         "hovertemplate": "Country Name=France<br>Year=%{x}<br>Access to electricity (% pop)=%{y}<extra></extra>",
         "legendgroup": "France",
         "line": {
          "color": "#FF97FF",
          "dash": "solid"
         },
         "marker": {
          "symbol": "circle"
         },
         "mode": "lines",
         "name": "France",
         "showlegend": true,
         "type": "scattergl",
         "x": [
          "1990 [YR1990]",
          "2000 [YR2000]",
          "2014 [YR2014]",
          "2015 [YR2015]",
          "2016 [YR2016]",
          "2017 [YR2017]",
          "2018 [YR2018]",
          "2019 [YR2019]",
          "2020 [YR2020]",
          "2021 [YR2021]",
          "2022 [YR2022]",
          "2023 [YR2023]"
         ],
         "xaxis": "x",
         "y": [
          100,
          100,
          100,
          100,
          100,
          100,
          100,
          100,
          100,
          100,
          100,
          null
         ],
         "yaxis": "y"
        },
        {
         "hovertemplate": "Country Name=French Polynesia<br>Year=%{x}<br>Access to electricity (% pop)=%{y}<extra></extra>",
         "legendgroup": "French Polynesia",
         "line": {
          "color": "#FECB52",
          "dash": "solid"
         },
         "marker": {
          "symbol": "circle"
         },
         "mode": "lines",
         "name": "French Polynesia",
         "showlegend": true,
         "type": "scattergl",
         "x": [
          "1990 [YR1990]",
          "2000 [YR2000]",
          "2014 [YR2014]",
          "2015 [YR2015]",
          "2016 [YR2016]",
          "2017 [YR2017]",
          "2018 [YR2018]",
          "2019 [YR2019]",
          "2020 [YR2020]",
          "2021 [YR2021]",
          "2022 [YR2022]",
          "2023 [YR2023]"
         ],
         "xaxis": "x",
         "y": [
          100,
          100,
          100,
          100,
          100,
          100,
          100,
          100,
          100,
          100,
          100,
          null
         ],
         "yaxis": "y"
        },
        {
         "hovertemplate": "Country Name=Gabon<br>Year=%{x}<br>Access to electricity (% pop)=%{y}<extra></extra>",
         "legendgroup": "Gabon",
         "line": {
          "color": "#636efa",
          "dash": "solid"
         },
         "marker": {
          "symbol": "circle"
         },
         "mode": "lines",
         "name": "Gabon",
         "showlegend": true,
         "type": "scattergl",
         "x": [
          "1990 [YR1990]",
          "2000 [YR2000]",
          "2014 [YR2014]",
          "2015 [YR2015]",
          "2016 [YR2016]",
          "2017 [YR2017]",
          "2018 [YR2018]",
          "2019 [YR2019]",
          "2020 [YR2020]",
          "2021 [YR2021]",
          "2022 [YR2022]",
          "2023 [YR2023]"
         ],
         "xaxis": "x",
         "y": [
          null,
          73.6,
          87.1,
          87.3,
          88.1,
          86.3,
          89.6,
          90.3,
          91.1,
          91.8,
          93.5,
          null
         ],
         "yaxis": "y"
        },
        {
         "hovertemplate": "Country Name=Gambia, The<br>Year=%{x}<br>Access to electricity (% pop)=%{y}<extra></extra>",
         "legendgroup": "Gambia, The",
         "line": {
          "color": "#EF553B",
          "dash": "solid"
         },
         "marker": {
          "symbol": "circle"
         },
         "mode": "lines",
         "name": "Gambia, The",
         "showlegend": true,
         "type": "scattergl",
         "x": [
          "1990 [YR1990]",
          "2000 [YR2000]",
          "2014 [YR2014]",
          "2015 [YR2015]",
          "2016 [YR2016]",
          "2017 [YR2017]",
          "2018 [YR2018]",
          "2019 [YR2019]",
          "2020 [YR2020]",
          "2021 [YR2021]",
          "2022 [YR2022]",
          "2023 [YR2023]"
         ],
         "xaxis": "x",
         "y": [
          null,
          34.3,
          53,
          54.7,
          56.4,
          56.2,
          60.3,
          62.1,
          62.2,
          63.7,
          65.4,
          null
         ],
         "yaxis": "y"
        },
        {
         "hovertemplate": "Country Name=Georgia<br>Year=%{x}<br>Access to electricity (% pop)=%{y}<extra></extra>",
         "legendgroup": "Georgia",
         "line": {
          "color": "#00cc96",
          "dash": "solid"
         },
         "marker": {
          "symbol": "circle"
         },
         "mode": "lines",
         "name": "Georgia",
         "showlegend": true,
         "type": "scattergl",
         "x": [
          "1990 [YR1990]",
          "2000 [YR2000]",
          "2014 [YR2014]",
          "2015 [YR2015]",
          "2016 [YR2016]",
          "2017 [YR2017]",
          "2018 [YR2018]",
          "2019 [YR2019]",
          "2020 [YR2020]",
          "2021 [YR2021]",
          "2022 [YR2022]",
          "2023 [YR2023]"
         ],
         "xaxis": "x",
         "y": [
          null,
          99.8,
          100,
          100,
          100,
          100,
          99.9,
          100,
          100,
          100,
          100,
          null
         ],
         "yaxis": "y"
        },
        {
         "hovertemplate": "Country Name=Germany<br>Year=%{x}<br>Access to electricity (% pop)=%{y}<extra></extra>",
         "legendgroup": "Germany",
         "line": {
          "color": "#ab63fa",
          "dash": "solid"
         },
         "marker": {
          "symbol": "circle"
         },
         "mode": "lines",
         "name": "Germany",
         "showlegend": true,
         "type": "scattergl",
         "x": [
          "1990 [YR1990]",
          "2000 [YR2000]",
          "2014 [YR2014]",
          "2015 [YR2015]",
          "2016 [YR2016]",
          "2017 [YR2017]",
          "2018 [YR2018]",
          "2019 [YR2019]",
          "2020 [YR2020]",
          "2021 [YR2021]",
          "2022 [YR2022]",
          "2023 [YR2023]"
         ],
         "xaxis": "x",
         "y": [
          100,
          100,
          100,
          100,
          100,
          100,
          100,
          100,
          100,
          100,
          100,
          null
         ],
         "yaxis": "y"
        },
        {
         "hovertemplate": "Country Name=Ghana<br>Year=%{x}<br>Access to electricity (% pop)=%{y}<extra></extra>",
         "legendgroup": "Ghana",
         "line": {
          "color": "#FFA15A",
          "dash": "solid"
         },
         "marker": {
          "symbol": "circle"
         },
         "mode": "lines",
         "name": "Ghana",
         "showlegend": true,
         "type": "scattergl",
         "x": [
          "1990 [YR1990]",
          "2000 [YR2000]",
          "2014 [YR2014]",
          "2015 [YR2015]",
          "2016 [YR2016]",
          "2017 [YR2017]",
          "2018 [YR2018]",
          "2019 [YR2019]",
          "2020 [YR2020]",
          "2021 [YR2021]",
          "2022 [YR2022]",
          "2023 [YR2023]"
         ],
         "xaxis": "x",
         "y": [
          null,
          43.7,
          78.3,
          74,
          79.3,
          79,
          80.4,
          83.5,
          85.4,
          86.3,
          85.1,
          null
         ],
         "yaxis": "y"
        },
        {
         "hovertemplate": "Country Name=Gibraltar<br>Year=%{x}<br>Access to electricity (% pop)=%{y}<extra></extra>",
         "legendgroup": "Gibraltar",
         "line": {
          "color": "#19d3f3",
          "dash": "solid"
         },
         "marker": {
          "symbol": "circle"
         },
         "mode": "lines",
         "name": "Gibraltar",
         "showlegend": true,
         "type": "scattergl",
         "x": [
          "1990 [YR1990]",
          "2000 [YR2000]",
          "2014 [YR2014]",
          "2015 [YR2015]",
          "2016 [YR2016]",
          "2017 [YR2017]",
          "2018 [YR2018]",
          "2019 [YR2019]",
          "2020 [YR2020]",
          "2021 [YR2021]",
          "2022 [YR2022]",
          "2023 [YR2023]"
         ],
         "xaxis": "x",
         "y": [
          100,
          99.9,
          99.9,
          100,
          100,
          100,
          100,
          100,
          100,
          100,
          100,
          null
         ],
         "yaxis": "y"
        },
        {
         "hovertemplate": "Country Name=Greece<br>Year=%{x}<br>Access to electricity (% pop)=%{y}<extra></extra>",
         "legendgroup": "Greece",
         "line": {
          "color": "#FF6692",
          "dash": "solid"
         },
         "marker": {
          "symbol": "circle"
         },
         "mode": "lines",
         "name": "Greece",
         "showlegend": true,
         "type": "scattergl",
         "x": [
          "1990 [YR1990]",
          "2000 [YR2000]",
          "2014 [YR2014]",
          "2015 [YR2015]",
          "2016 [YR2016]",
          "2017 [YR2017]",
          "2018 [YR2018]",
          "2019 [YR2019]",
          "2020 [YR2020]",
          "2021 [YR2021]",
          "2022 [YR2022]",
          "2023 [YR2023]"
         ],
         "xaxis": "x",
         "y": [
          100,
          100,
          100,
          100,
          100,
          100,
          100,
          100,
          100,
          100,
          100,
          null
         ],
         "yaxis": "y"
        },
        {
         "hovertemplate": "Country Name=Greenland<br>Year=%{x}<br>Access to electricity (% pop)=%{y}<extra></extra>",
         "legendgroup": "Greenland",
         "line": {
          "color": "#B6E880",
          "dash": "solid"
         },
         "marker": {
          "symbol": "circle"
         },
         "mode": "lines",
         "name": "Greenland",
         "showlegend": true,
         "type": "scattergl",
         "x": [
          "1990 [YR1990]",
          "2000 [YR2000]",
          "2014 [YR2014]",
          "2015 [YR2015]",
          "2016 [YR2016]",
          "2017 [YR2017]",
          "2018 [YR2018]",
          "2019 [YR2019]",
          "2020 [YR2020]",
          "2021 [YR2021]",
          "2022 [YR2022]",
          "2023 [YR2023]"
         ],
         "xaxis": "x",
         "y": [
          100,
          100,
          100,
          100,
          100,
          100,
          100,
          100,
          100,
          100,
          100,
          null
         ],
         "yaxis": "y"
        },
        {
         "hovertemplate": "Country Name=Grenada<br>Year=%{x}<br>Access to electricity (% pop)=%{y}<extra></extra>",
         "legendgroup": "Grenada",
         "line": {
          "color": "#FF97FF",
          "dash": "solid"
         },
         "marker": {
          "symbol": "circle"
         },
         "mode": "lines",
         "name": "Grenada",
         "showlegend": true,
         "type": "scattergl",
         "x": [
          "1990 [YR1990]",
          "2000 [YR2000]",
          "2014 [YR2014]",
          "2015 [YR2015]",
          "2016 [YR2016]",
          "2017 [YR2017]",
          "2018 [YR2018]",
          "2019 [YR2019]",
          "2020 [YR2020]",
          "2021 [YR2021]",
          "2022 [YR2022]",
          "2023 [YR2023]"
         ],
         "xaxis": "x",
         "y": [
          null,
          86,
          91,
          91.4,
          91.8,
          92.2,
          92.3,
          93,
          93.4,
          93.7,
          94.2,
          null
         ],
         "yaxis": "y"
        },
        {
         "hovertemplate": "Country Name=Guam<br>Year=%{x}<br>Access to electricity (% pop)=%{y}<extra></extra>",
         "legendgroup": "Guam",
         "line": {
          "color": "#FECB52",
          "dash": "solid"
         },
         "marker": {
          "symbol": "circle"
         },
         "mode": "lines",
         "name": "Guam",
         "showlegend": true,
         "type": "scattergl",
         "x": [
          "1990 [YR1990]",
          "2000 [YR2000]",
          "2014 [YR2014]",
          "2015 [YR2015]",
          "2016 [YR2016]",
          "2017 [YR2017]",
          "2018 [YR2018]",
          "2019 [YR2019]",
          "2020 [YR2020]",
          "2021 [YR2021]",
          "2022 [YR2022]",
          "2023 [YR2023]"
         ],
         "xaxis": "x",
         "y": [
          99.8443069458008,
          100,
          100,
          100,
          100,
          100,
          100,
          100,
          100,
          100,
          100,
          null
         ],
         "yaxis": "y"
        },
        {
         "hovertemplate": "Country Name=Guatemala<br>Year=%{x}<br>Access to electricity (% pop)=%{y}<extra></extra>",
         "legendgroup": "Guatemala",
         "line": {
          "color": "#636efa",
          "dash": "solid"
         },
         "marker": {
          "symbol": "circle"
         },
         "mode": "lines",
         "name": "Guatemala",
         "showlegend": true,
         "type": "scattergl",
         "x": [
          "1990 [YR1990]",
          "2000 [YR2000]",
          "2014 [YR2014]",
          "2015 [YR2015]",
          "2016 [YR2016]",
          "2017 [YR2017]",
          "2018 [YR2018]",
          "2019 [YR2019]",
          "2020 [YR2020]",
          "2021 [YR2021]",
          "2022 [YR2022]",
          "2023 [YR2023]"
         ],
         "xaxis": "x",
         "y": [
          null,
          73.3,
          85.5,
          90.5,
          91.8,
          93.3,
          94.2,
          95.4,
          96.6,
          97.9,
          99.1,
          null
         ],
         "yaxis": "y"
        },
        {
         "hovertemplate": "Country Name=Guinea<br>Year=%{x}<br>Access to electricity (% pop)=%{y}<extra></extra>",
         "legendgroup": "Guinea",
         "line": {
          "color": "#EF553B",
          "dash": "solid"
         },
         "marker": {
          "symbol": "circle"
         },
         "mode": "lines",
         "name": "Guinea",
         "showlegend": true,
         "type": "scattergl",
         "x": [
          "1990 [YR1990]",
          "2000 [YR2000]",
          "2014 [YR2014]",
          "2015 [YR2015]",
          "2016 [YR2016]",
          "2017 [YR2017]",
          "2018 [YR2018]",
          "2019 [YR2019]",
          "2020 [YR2020]",
          "2021 [YR2021]",
          "2022 [YR2022]",
          "2023 [YR2023]"
         ],
         "xaxis": "x",
         "y": [
          null,
          15.2,
          33.5,
          34.9,
          33.5,
          35.4,
          45,
          42.2,
          44.7,
          46.8,
          47.7,
          null
         ],
         "yaxis": "y"
        },
        {
         "hovertemplate": "Country Name=Guinea-Bissau<br>Year=%{x}<br>Access to electricity (% pop)=%{y}<extra></extra>",
         "legendgroup": "Guinea-Bissau",
         "line": {
          "color": "#00cc96",
          "dash": "solid"
         },
         "marker": {
          "symbol": "circle"
         },
         "mode": "lines",
         "name": "Guinea-Bissau",
         "showlegend": true,
         "type": "scattergl",
         "x": [
          "1990 [YR1990]",
          "2000 [YR2000]",
          "2014 [YR2014]",
          "2015 [YR2015]",
          "2016 [YR2016]",
          "2017 [YR2017]",
          "2018 [YR2018]",
          "2019 [YR2019]",
          "2020 [YR2020]",
          "2021 [YR2021]",
          "2022 [YR2022]",
          "2023 [YR2023]"
         ],
         "xaxis": "x",
         "y": [
          null,
          null,
          17.2,
          20.1,
          22.9,
          26,
          28.4,
          30.9,
          33.4,
          35.8,
          37.4,
          null
         ],
         "yaxis": "y"
        },
        {
         "hovertemplate": "Country Name=Guyana<br>Year=%{x}<br>Access to electricity (% pop)=%{y}<extra></extra>",
         "legendgroup": "Guyana",
         "line": {
          "color": "#ab63fa",
          "dash": "solid"
         },
         "marker": {
          "symbol": "circle"
         },
         "mode": "lines",
         "name": "Guyana",
         "showlegend": true,
         "type": "scattergl",
         "x": [
          "1990 [YR1990]",
          "2000 [YR2000]",
          "2014 [YR2014]",
          "2015 [YR2015]",
          "2016 [YR2016]",
          "2017 [YR2017]",
          "2018 [YR2018]",
          "2019 [YR2019]",
          "2020 [YR2020]",
          "2021 [YR2021]",
          "2022 [YR2022]",
          "2023 [YR2023]"
         ],
         "xaxis": "x",
         "y": [
          null,
          74.6,
          86.9,
          88,
          89,
          90,
          90.9,
          91.6,
          92.3,
          92.9,
          93,
          null
         ],
         "yaxis": "y"
        },
        {
         "hovertemplate": "Country Name=Haiti<br>Year=%{x}<br>Access to electricity (% pop)=%{y}<extra></extra>",
         "legendgroup": "Haiti",
         "line": {
          "color": "#FFA15A",
          "dash": "solid"
         },
         "marker": {
          "symbol": "circle"
         },
         "mode": "lines",
         "name": "Haiti",
         "showlegend": true,
         "type": "scattergl",
         "x": [
          "1990 [YR1990]",
          "2000 [YR2000]",
          "2014 [YR2014]",
          "2015 [YR2015]",
          "2016 [YR2016]",
          "2017 [YR2017]",
          "2018 [YR2018]",
          "2019 [YR2019]",
          "2020 [YR2020]",
          "2021 [YR2021]",
          "2022 [YR2022]",
          "2023 [YR2023]"
         ],
         "xaxis": "x",
         "y": [
          null,
          33.7,
          39.6,
          40.8,
          40.4,
          43.3,
          44.4,
          45.4,
          46.3,
          47.2,
          49.3,
          null
         ],
         "yaxis": "y"
        },
        {
         "hovertemplate": "Country Name=Honduras<br>Year=%{x}<br>Access to electricity (% pop)=%{y}<extra></extra>",
         "legendgroup": "Honduras",
         "line": {
          "color": "#19d3f3",
          "dash": "solid"
         },
         "marker": {
          "symbol": "circle"
         },
         "mode": "lines",
         "name": "Honduras",
         "showlegend": true,
         "type": "scattergl",
         "x": [
          "1990 [YR1990]",
          "2000 [YR2000]",
          "2014 [YR2014]",
          "2015 [YR2015]",
          "2016 [YR2016]",
          "2017 [YR2017]",
          "2018 [YR2018]",
          "2019 [YR2019]",
          "2020 [YR2020]",
          "2021 [YR2021]",
          "2022 [YR2022]",
          "2023 [YR2023]"
         ],
         "xaxis": "x",
         "y": [
          null,
          67.4,
          88.7,
          90,
          91.6,
          86.5,
          91.6,
          91.1,
          93.1,
          94.1,
          94.4,
          null
         ],
         "yaxis": "y"
        },
        {
         "hovertemplate": "Country Name=Hong Kong SAR, China<br>Year=%{x}<br>Access to electricity (% pop)=%{y}<extra></extra>",
         "legendgroup": "Hong Kong SAR, China",
         "line": {
          "color": "#FF6692",
          "dash": "solid"
         },
         "marker": {
          "symbol": "circle"
         },
         "mode": "lines",
         "name": "Hong Kong SAR, China",
         "showlegend": true,
         "type": "scattergl",
         "x": [
          "1990 [YR1990]",
          "2000 [YR2000]",
          "2014 [YR2014]",
          "2015 [YR2015]",
          "2016 [YR2016]",
          "2017 [YR2017]",
          "2018 [YR2018]",
          "2019 [YR2019]",
          "2020 [YR2020]",
          "2021 [YR2021]",
          "2022 [YR2022]",
          "2023 [YR2023]"
         ],
         "xaxis": "x",
         "y": [
          100,
          100,
          100,
          100,
          100,
          100,
          100,
          100,
          100,
          100,
          100,
          null
         ],
         "yaxis": "y"
        },
        {
         "hovertemplate": "Country Name=Hungary<br>Year=%{x}<br>Access to electricity (% pop)=%{y}<extra></extra>",
         "legendgroup": "Hungary",
         "line": {
          "color": "#B6E880",
          "dash": "solid"
         },
         "marker": {
          "symbol": "circle"
         },
         "mode": "lines",
         "name": "Hungary",
         "showlegend": true,
         "type": "scattergl",
         "x": [
          "1990 [YR1990]",
          "2000 [YR2000]",
          "2014 [YR2014]",
          "2015 [YR2015]",
          "2016 [YR2016]",
          "2017 [YR2017]",
          "2018 [YR2018]",
          "2019 [YR2019]",
          "2020 [YR2020]",
          "2021 [YR2021]",
          "2022 [YR2022]",
          "2023 [YR2023]"
         ],
         "xaxis": "x",
         "y": [
          100,
          100,
          100,
          100,
          100,
          100,
          100,
          100,
          100,
          100,
          100,
          null
         ],
         "yaxis": "y"
        },
        {
         "hovertemplate": "Country Name=Iceland<br>Year=%{x}<br>Access to electricity (% pop)=%{y}<extra></extra>",
         "legendgroup": "Iceland",
         "line": {
          "color": "#FF97FF",
          "dash": "solid"
         },
         "marker": {
          "symbol": "circle"
         },
         "mode": "lines",
         "name": "Iceland",
         "showlegend": true,
         "type": "scattergl",
         "x": [
          "1990 [YR1990]",
          "2000 [YR2000]",
          "2014 [YR2014]",
          "2015 [YR2015]",
          "2016 [YR2016]",
          "2017 [YR2017]",
          "2018 [YR2018]",
          "2019 [YR2019]",
          "2020 [YR2020]",
          "2021 [YR2021]",
          "2022 [YR2022]",
          "2023 [YR2023]"
         ],
         "xaxis": "x",
         "y": [
          100,
          100,
          100,
          100,
          100,
          100,
          100,
          100,
          100,
          100,
          100,
          null
         ],
         "yaxis": "y"
        },
        {
         "hovertemplate": "Country Name=India<br>Year=%{x}<br>Access to electricity (% pop)=%{y}<extra></extra>",
         "legendgroup": "India",
         "line": {
          "color": "#FECB52",
          "dash": "solid"
         },
         "marker": {
          "symbol": "circle"
         },
         "mode": "lines",
         "name": "India",
         "showlegend": true,
         "type": "scattergl",
         "x": [
          "1990 [YR1990]",
          "2000 [YR2000]",
          "2014 [YR2014]",
          "2015 [YR2015]",
          "2016 [YR2016]",
          "2017 [YR2017]",
          "2018 [YR2018]",
          "2019 [YR2019]",
          "2020 [YR2020]",
          "2021 [YR2021]",
          "2022 [YR2022]",
          "2023 [YR2023]"
         ],
         "xaxis": "x",
         "y": [
          null,
          60.3,
          85.1,
          88,
          89.6,
          91.8,
          95.7,
          95.9,
          96.5,
          99.6,
          99.2,
          null
         ],
         "yaxis": "y"
        },
        {
         "hovertemplate": "Country Name=Indonesia<br>Year=%{x}<br>Access to electricity (% pop)=%{y}<extra></extra>",
         "legendgroup": "Indonesia",
         "line": {
          "color": "#636efa",
          "dash": "solid"
         },
         "marker": {
          "symbol": "circle"
         },
         "mode": "lines",
         "name": "Indonesia",
         "showlegend": true,
         "type": "scattergl",
         "x": [
          "1990 [YR1990]",
          "2000 [YR2000]",
          "2014 [YR2014]",
          "2015 [YR2015]",
          "2016 [YR2016]",
          "2017 [YR2017]",
          "2018 [YR2018]",
          "2019 [YR2019]",
          "2020 [YR2020]",
          "2021 [YR2021]",
          "2022 [YR2022]",
          "2023 [YR2023]"
         ],
         "xaxis": "x",
         "y": [
          null,
          86.3,
          97,
          97.5,
          97.6,
          98.1,
          98.5,
          98.9,
          97,
          99.2,
          100,
          null
         ],
         "yaxis": "y"
        },
        {
         "hovertemplate": "Country Name=Iran, Islamic Rep.<br>Year=%{x}<br>Access to electricity (% pop)=%{y}<extra></extra>",
         "legendgroup": "Iran, Islamic Rep.",
         "line": {
          "color": "#EF553B",
          "dash": "solid"
         },
         "marker": {
          "symbol": "circle"
         },
         "mode": "lines",
         "name": "Iran, Islamic Rep.",
         "showlegend": true,
         "type": "scattergl",
         "x": [
          "1990 [YR1990]",
          "2000 [YR2000]",
          "2014 [YR2014]",
          "2015 [YR2015]",
          "2016 [YR2016]",
          "2017 [YR2017]",
          "2018 [YR2018]",
          "2019 [YR2019]",
          "2020 [YR2020]",
          "2021 [YR2021]",
          "2022 [YR2022]",
          "2023 [YR2023]"
         ],
         "xaxis": "x",
         "y": [
          null,
          97.9,
          100,
          100,
          100,
          99.9,
          100,
          100,
          100,
          100,
          100,
          null
         ],
         "yaxis": "y"
        },
        {
         "hovertemplate": "Country Name=Iraq<br>Year=%{x}<br>Access to electricity (% pop)=%{y}<extra></extra>",
         "legendgroup": "Iraq",
         "line": {
          "color": "#00cc96",
          "dash": "solid"
         },
         "marker": {
          "symbol": "circle"
         },
         "mode": "lines",
         "name": "Iraq",
         "showlegend": true,
         "type": "scattergl",
         "x": [
          "1990 [YR1990]",
          "2000 [YR2000]",
          "2014 [YR2014]",
          "2015 [YR2015]",
          "2016 [YR2016]",
          "2017 [YR2017]",
          "2018 [YR2018]",
          "2019 [YR2019]",
          "2020 [YR2020]",
          "2021 [YR2021]",
          "2022 [YR2022]",
          "2023 [YR2023]"
         ],
         "xaxis": "x",
         "y": [
          null,
          96.8,
          99.2,
          99.4,
          99.7,
          99.9,
          99.9,
          100,
          100,
          100,
          100,
          null
         ],
         "yaxis": "y"
        },
        {
         "hovertemplate": "Country Name=Ireland<br>Year=%{x}<br>Access to electricity (% pop)=%{y}<extra></extra>",
         "legendgroup": "Ireland",
         "line": {
          "color": "#ab63fa",
          "dash": "solid"
         },
         "marker": {
          "symbol": "circle"
         },
         "mode": "lines",
         "name": "Ireland",
         "showlegend": true,
         "type": "scattergl",
         "x": [
          "1990 [YR1990]",
          "2000 [YR2000]",
          "2014 [YR2014]",
          "2015 [YR2015]",
          "2016 [YR2016]",
          "2017 [YR2017]",
          "2018 [YR2018]",
          "2019 [YR2019]",
          "2020 [YR2020]",
          "2021 [YR2021]",
          "2022 [YR2022]",
          "2023 [YR2023]"
         ],
         "xaxis": "x",
         "y": [
          100,
          100,
          100,
          100,
          100,
          100,
          100,
          100,
          100,
          100,
          100,
          null
         ],
         "yaxis": "y"
        },
        {
         "hovertemplate": "Country Name=Isle of Man<br>Year=%{x}<br>Access to electricity (% pop)=%{y}<extra></extra>",
         "legendgroup": "Isle of Man",
         "line": {
          "color": "#FFA15A",
          "dash": "solid"
         },
         "marker": {
          "symbol": "circle"
         },
         "mode": "lines",
         "name": "Isle of Man",
         "showlegend": true,
         "type": "scattergl",
         "x": [
          "1990 [YR1990]",
          "2000 [YR2000]",
          "2014 [YR2014]",
          "2015 [YR2015]",
          "2016 [YR2016]",
          "2017 [YR2017]",
          "2018 [YR2018]",
          "2019 [YR2019]",
          "2020 [YR2020]",
          "2021 [YR2021]",
          "2022 [YR2022]",
          "2023 [YR2023]"
         ],
         "xaxis": "x",
         "y": [
          100,
          100,
          100,
          100,
          100,
          100,
          100,
          100,
          100,
          100,
          100,
          null
         ],
         "yaxis": "y"
        },
        {
         "hovertemplate": "Country Name=Israel<br>Year=%{x}<br>Access to electricity (% pop)=%{y}<extra></extra>",
         "legendgroup": "Israel",
         "line": {
          "color": "#19d3f3",
          "dash": "solid"
         },
         "marker": {
          "symbol": "circle"
         },
         "mode": "lines",
         "name": "Israel",
         "showlegend": true,
         "type": "scattergl",
         "x": [
          "1990 [YR1990]",
          "2000 [YR2000]",
          "2014 [YR2014]",
          "2015 [YR2015]",
          "2016 [YR2016]",
          "2017 [YR2017]",
          "2018 [YR2018]",
          "2019 [YR2019]",
          "2020 [YR2020]",
          "2021 [YR2021]",
          "2022 [YR2022]",
          "2023 [YR2023]"
         ],
         "xaxis": "x",
         "y": [
          100,
          100,
          100,
          100,
          100,
          100,
          100,
          100,
          100,
          100,
          100,
          null
         ],
         "yaxis": "y"
        },
        {
         "hovertemplate": "Country Name=Italy<br>Year=%{x}<br>Access to electricity (% pop)=%{y}<extra></extra>",
         "legendgroup": "Italy",
         "line": {
          "color": "#FF6692",
          "dash": "solid"
         },
         "marker": {
          "symbol": "circle"
         },
         "mode": "lines",
         "name": "Italy",
         "showlegend": true,
         "type": "scattergl",
         "x": [
          "1990 [YR1990]",
          "2000 [YR2000]",
          "2014 [YR2014]",
          "2015 [YR2015]",
          "2016 [YR2016]",
          "2017 [YR2017]",
          "2018 [YR2018]",
          "2019 [YR2019]",
          "2020 [YR2020]",
          "2021 [YR2021]",
          "2022 [YR2022]",
          "2023 [YR2023]"
         ],
         "xaxis": "x",
         "y": [
          100,
          100,
          100,
          100,
          100,
          100,
          100,
          100,
          100,
          100,
          100,
          null
         ],
         "yaxis": "y"
        },
        {
         "hovertemplate": "Country Name=Jamaica<br>Year=%{x}<br>Access to electricity (% pop)=%{y}<extra></extra>",
         "legendgroup": "Jamaica",
         "line": {
          "color": "#B6E880",
          "dash": "solid"
         },
         "marker": {
          "symbol": "circle"
         },
         "mode": "lines",
         "name": "Jamaica",
         "showlegend": true,
         "type": "scattergl",
         "x": [
          "1990 [YR1990]",
          "2000 [YR2000]",
          "2014 [YR2014]",
          "2015 [YR2015]",
          "2016 [YR2016]",
          "2017 [YR2017]",
          "2018 [YR2018]",
          "2019 [YR2019]",
          "2020 [YR2020]",
          "2021 [YR2021]",
          "2022 [YR2022]",
          "2023 [YR2023]"
         ],
         "xaxis": "x",
         "y": [
          70.334586,
          84.4,
          93.3,
          94.9,
          96.6,
          97.4,
          98.2,
          98.9,
          99.7,
          100,
          100,
          null
         ],
         "yaxis": "y"
        },
        {
         "hovertemplate": "Country Name=Japan<br>Year=%{x}<br>Access to electricity (% pop)=%{y}<extra></extra>",
         "legendgroup": "Japan",
         "line": {
          "color": "#FF97FF",
          "dash": "solid"
         },
         "marker": {
          "symbol": "circle"
         },
         "mode": "lines",
         "name": "Japan",
         "showlegend": true,
         "type": "scattergl",
         "x": [
          "1990 [YR1990]",
          "2000 [YR2000]",
          "2014 [YR2014]",
          "2015 [YR2015]",
          "2016 [YR2016]",
          "2017 [YR2017]",
          "2018 [YR2018]",
          "2019 [YR2019]",
          "2020 [YR2020]",
          "2021 [YR2021]",
          "2022 [YR2022]",
          "2023 [YR2023]"
         ],
         "xaxis": "x",
         "y": [
          100,
          100,
          100,
          100,
          100,
          100,
          100,
          100,
          100,
          100,
          100,
          null
         ],
         "yaxis": "y"
        },
        {
         "hovertemplate": "Country Name=Jordan<br>Year=%{x}<br>Access to electricity (% pop)=%{y}<extra></extra>",
         "legendgroup": "Jordan",
         "line": {
          "color": "#FECB52",
          "dash": "solid"
         },
         "marker": {
          "symbol": "circle"
         },
         "mode": "lines",
         "name": "Jordan",
         "showlegend": true,
         "type": "scattergl",
         "x": [
          "1990 [YR1990]",
          "2000 [YR2000]",
          "2014 [YR2014]",
          "2015 [YR2015]",
          "2016 [YR2016]",
          "2017 [YR2017]",
          "2018 [YR2018]",
          "2019 [YR2019]",
          "2020 [YR2020]",
          "2021 [YR2021]",
          "2022 [YR2022]",
          "2023 [YR2023]"
         ],
         "xaxis": "x",
         "y": [
          96.8,
          99,
          99.8,
          99.9,
          100,
          100,
          99.9,
          99.9,
          99.9,
          99.9,
          100,
          null
         ],
         "yaxis": "y"
        },
        {
         "hovertemplate": "Country Name=Kazakhstan<br>Year=%{x}<br>Access to electricity (% pop)=%{y}<extra></extra>",
         "legendgroup": "Kazakhstan",
         "line": {
          "color": "#636efa",
          "dash": "solid"
         },
         "marker": {
          "symbol": "circle"
         },
         "mode": "lines",
         "name": "Kazakhstan",
         "showlegend": true,
         "type": "scattergl",
         "x": [
          "1990 [YR1990]",
          "2000 [YR2000]",
          "2014 [YR2014]",
          "2015 [YR2015]",
          "2016 [YR2016]",
          "2017 [YR2017]",
          "2018 [YR2018]",
          "2019 [YR2019]",
          "2020 [YR2020]",
          "2021 [YR2021]",
          "2022 [YR2022]",
          "2023 [YR2023]"
         ],
         "xaxis": "x",
         "y": [
          null,
          99.6,
          100,
          100,
          100,
          100,
          100,
          100,
          100,
          100,
          100,
          null
         ],
         "yaxis": "y"
        },
        {
         "hovertemplate": "Country Name=Kenya<br>Year=%{x}<br>Access to electricity (% pop)=%{y}<extra></extra>",
         "legendgroup": "Kenya",
         "line": {
          "color": "#EF553B",
          "dash": "solid"
         },
         "marker": {
          "symbol": "circle"
         },
         "mode": "lines",
         "name": "Kenya",
         "showlegend": true,
         "type": "scattergl",
         "x": [
          "1990 [YR1990]",
          "2000 [YR2000]",
          "2014 [YR2014]",
          "2015 [YR2015]",
          "2016 [YR2016]",
          "2017 [YR2017]",
          "2018 [YR2018]",
          "2019 [YR2019]",
          "2020 [YR2020]",
          "2021 [YR2021]",
          "2022 [YR2022]",
          "2023 [YR2023]"
         ],
         "xaxis": "x",
         "y": [
          null,
          15.2,
          36,
          41.6,
          53.1,
          55.8,
          61.2,
          69.7,
          71.5,
          76.5,
          76,
          null
         ],
         "yaxis": "y"
        },
        {
         "hovertemplate": "Country Name=Kiribati<br>Year=%{x}<br>Access to electricity (% pop)=%{y}<extra></extra>",
         "legendgroup": "Kiribati",
         "line": {
          "color": "#00cc96",
          "dash": "solid"
         },
         "marker": {
          "symbol": "circle"
         },
         "mode": "lines",
         "name": "Kiribati",
         "showlegend": true,
         "type": "scattergl",
         "x": [
          "1990 [YR1990]",
          "2000 [YR2000]",
          "2014 [YR2014]",
          "2015 [YR2015]",
          "2016 [YR2016]",
          "2017 [YR2017]",
          "2018 [YR2018]",
          "2019 [YR2019]",
          "2020 [YR2020]",
          "2021 [YR2021]",
          "2022 [YR2022]",
          "2023 [YR2023]"
         ],
         "xaxis": "x",
         "y": [
          null,
          55.6,
          83.4,
          90.6,
          92.6,
          85.7,
          87.5,
          89.3,
          91,
          92.8,
          94.4,
          null
         ],
         "yaxis": "y"
        },
        {
         "hovertemplate": "Country Name=Korea, Dem. People's Rep.<br>Year=%{x}<br>Access to electricity (% pop)=%{y}<extra></extra>",
         "legendgroup": "Korea, Dem. People's Rep.",
         "line": {
          "color": "#ab63fa",
          "dash": "solid"
         },
         "marker": {
          "symbol": "circle"
         },
         "mode": "lines",
         "name": "Korea, Dem. People's Rep.",
         "showlegend": true,
         "type": "scattergl",
         "x": [
          "1990 [YR1990]",
          "2000 [YR2000]",
          "2014 [YR2014]",
          "2015 [YR2015]",
          "2016 [YR2016]",
          "2017 [YR2017]",
          "2018 [YR2018]",
          "2019 [YR2019]",
          "2020 [YR2020]",
          "2021 [YR2021]",
          "2022 [YR2022]",
          "2023 [YR2023]"
         ],
         "xaxis": "x",
         "y": [
          null,
          null,
          37.8,
          40,
          42.1,
          44.2,
          46.3,
          48.4,
          50.5,
          52.6,
          54.7,
          null
         ],
         "yaxis": "y"
        },
        {
         "hovertemplate": "Country Name=Korea, Rep.<br>Year=%{x}<br>Access to electricity (% pop)=%{y}<extra></extra>",
         "legendgroup": "Korea, Rep.",
         "line": {
          "color": "#FFA15A",
          "dash": "solid"
         },
         "marker": {
          "symbol": "circle"
         },
         "mode": "lines",
         "name": "Korea, Rep.",
         "showlegend": true,
         "type": "scattergl",
         "x": [
          "1990 [YR1990]",
          "2000 [YR2000]",
          "2014 [YR2014]",
          "2015 [YR2015]",
          "2016 [YR2016]",
          "2017 [YR2017]",
          "2018 [YR2018]",
          "2019 [YR2019]",
          "2020 [YR2020]",
          "2021 [YR2021]",
          "2022 [YR2022]",
          "2023 [YR2023]"
         ],
         "xaxis": "x",
         "y": [
          99.8828430175781,
          100,
          100,
          100,
          100,
          100,
          100,
          100,
          100,
          100,
          100,
          null
         ],
         "yaxis": "y"
        },
        {
         "hovertemplate": "Country Name=Kosovo<br>Year=%{x}<br>Access to electricity (% pop)=%{y}<extra></extra>",
         "legendgroup": "Kosovo",
         "line": {
          "color": "#19d3f3",
          "dash": "solid"
         },
         "marker": {
          "symbol": "circle"
         },
         "mode": "lines",
         "name": "Kosovo",
         "showlegend": true,
         "type": "scattergl",
         "x": [
          "1990 [YR1990]",
          "2000 [YR2000]",
          "2014 [YR2014]",
          "2015 [YR2015]",
          "2016 [YR2016]",
          "2017 [YR2017]",
          "2018 [YR2018]",
          "2019 [YR2019]",
          "2020 [YR2020]",
          "2021 [YR2021]",
          "2022 [YR2022]",
          "2023 [YR2023]"
         ],
         "xaxis": "x",
         "y": [
          100,
          null,
          null,
          null,
          null,
          null,
          null,
          null,
          null,
          null,
          null,
          null
         ],
         "yaxis": "y"
        },
        {
         "hovertemplate": "Country Name=Kuwait<br>Year=%{x}<br>Access to electricity (% pop)=%{y}<extra></extra>",
         "legendgroup": "Kuwait",
         "line": {
          "color": "#FF6692",
          "dash": "solid"
         },
         "marker": {
          "symbol": "circle"
         },
         "mode": "lines",
         "name": "Kuwait",
         "showlegend": true,
         "type": "scattergl",
         "x": [
          "1990 [YR1990]",
          "2000 [YR2000]",
          "2014 [YR2014]",
          "2015 [YR2015]",
          "2016 [YR2016]",
          "2017 [YR2017]",
          "2018 [YR2018]",
          "2019 [YR2019]",
          "2020 [YR2020]",
          "2021 [YR2021]",
          "2022 [YR2022]",
          "2023 [YR2023]"
         ],
         "xaxis": "x",
         "y": [
          100,
          100,
          100,
          100,
          100,
          100,
          100,
          100,
          100,
          100,
          100,
          null
         ],
         "yaxis": "y"
        },
        {
         "hovertemplate": "Country Name=Kyrgyz Republic<br>Year=%{x}<br>Access to electricity (% pop)=%{y}<extra></extra>",
         "legendgroup": "Kyrgyz Republic",
         "line": {
          "color": "#B6E880",
          "dash": "solid"
         },
         "marker": {
          "symbol": "circle"
         },
         "mode": "lines",
         "name": "Kyrgyz Republic",
         "showlegend": true,
         "type": "scattergl",
         "x": [
          "1990 [YR1990]",
          "2000 [YR2000]",
          "2014 [YR2014]",
          "2015 [YR2015]",
          "2016 [YR2016]",
          "2017 [YR2017]",
          "2018 [YR2018]",
          "2019 [YR2019]",
          "2020 [YR2020]",
          "2021 [YR2021]",
          "2022 [YR2022]",
          "2023 [YR2023]"
         ],
         "xaxis": "x",
         "y": [
          null,
          99.6,
          99.8,
          98.7,
          99.7,
          100,
          100,
          99.9,
          99.9,
          99.7,
          99.7,
          null
         ],
         "yaxis": "y"
        },
        {
         "hovertemplate": "Country Name=Lao PDR<br>Year=%{x}<br>Access to electricity (% pop)=%{y}<extra></extra>",
         "legendgroup": "Lao PDR",
         "line": {
          "color": "#FF97FF",
          "dash": "solid"
         },
         "marker": {
          "symbol": "circle"
         },
         "mode": "lines",
         "name": "Lao PDR",
         "showlegend": true,
         "type": "scattergl",
         "x": [
          "1990 [YR1990]",
          "2000 [YR2000]",
          "2014 [YR2014]",
          "2015 [YR2015]",
          "2016 [YR2016]",
          "2017 [YR2017]",
          "2018 [YR2018]",
          "2019 [YR2019]",
          "2020 [YR2020]",
          "2021 [YR2021]",
          "2022 [YR2022]",
          "2023 [YR2023]"
         ],
         "xaxis": "x",
         "y": [
          null,
          42.6,
          82.5,
          89.7,
          89,
          93.6,
          92.9,
          98.4,
          99.3,
          100,
          100,
          null
         ],
         "yaxis": "y"
        },
        {
         "hovertemplate": "Country Name=Latvia<br>Year=%{x}<br>Access to electricity (% pop)=%{y}<extra></extra>",
         "legendgroup": "Latvia",
         "line": {
          "color": "#FECB52",
          "dash": "solid"
         },
         "marker": {
          "symbol": "circle"
         },
         "mode": "lines",
         "name": "Latvia",
         "showlegend": true,
         "type": "scattergl",
         "x": [
          "1990 [YR1990]",
          "2000 [YR2000]",
          "2014 [YR2014]",
          "2015 [YR2015]",
          "2016 [YR2016]",
          "2017 [YR2017]",
          "2018 [YR2018]",
          "2019 [YR2019]",
          "2020 [YR2020]",
          "2021 [YR2021]",
          "2022 [YR2022]",
          "2023 [YR2023]"
         ],
         "xaxis": "x",
         "y": [
          100,
          99.9,
          100,
          100,
          100,
          100,
          100,
          100,
          100,
          100,
          100,
          null
         ],
         "yaxis": "y"
        },
        {
         "hovertemplate": "Country Name=Lebanon<br>Year=%{x}<br>Access to electricity (% pop)=%{y}<extra></extra>",
         "legendgroup": "Lebanon",
         "line": {
          "color": "#636efa",
          "dash": "solid"
         },
         "marker": {
          "symbol": "circle"
         },
         "mode": "lines",
         "name": "Lebanon",
         "showlegend": true,
         "type": "scattergl",
         "x": [
          "1990 [YR1990]",
          "2000 [YR2000]",
          "2014 [YR2014]",
          "2015 [YR2015]",
          "2016 [YR2016]",
          "2017 [YR2017]",
          "2018 [YR2018]",
          "2019 [YR2019]",
          "2020 [YR2020]",
          "2021 [YR2021]",
          "2022 [YR2022]",
          "2023 [YR2023]"
         ],
         "xaxis": "x",
         "y": [
          null,
          99.3,
          99.7,
          99.7,
          99.8,
          99.9,
          99.7,
          100,
          100,
          100,
          100,
          null
         ],
         "yaxis": "y"
        },
        {
         "hovertemplate": "Country Name=Lesotho<br>Year=%{x}<br>Access to electricity (% pop)=%{y}<extra></extra>",
         "legendgroup": "Lesotho",
         "line": {
          "color": "#EF553B",
          "dash": "solid"
         },
         "marker": {
          "symbol": "circle"
         },
         "mode": "lines",
         "name": "Lesotho",
         "showlegend": true,
         "type": "scattergl",
         "x": [
          "1990 [YR1990]",
          "2000 [YR2000]",
          "2014 [YR2014]",
          "2015 [YR2015]",
          "2016 [YR2016]",
          "2017 [YR2017]",
          "2018 [YR2018]",
          "2019 [YR2019]",
          "2020 [YR2020]",
          "2021 [YR2021]",
          "2022 [YR2022]",
          "2023 [YR2023]"
         ],
         "xaxis": "x",
         "y": [
          null,
          4.3,
          27.8,
          31.8,
          35.1,
          33.7,
          47,
          44.6,
          47.5,
          50.4,
          50,
          null
         ],
         "yaxis": "y"
        },
        {
         "hovertemplate": "Country Name=Liberia<br>Year=%{x}<br>Access to electricity (% pop)=%{y}<extra></extra>",
         "legendgroup": "Liberia",
         "line": {
          "color": "#00cc96",
          "dash": "solid"
         },
         "marker": {
          "symbol": "circle"
         },
         "mode": "lines",
         "name": "Liberia",
         "showlegend": true,
         "type": "scattergl",
         "x": [
          "1990 [YR1990]",
          "2000 [YR2000]",
          "2014 [YR2014]",
          "2015 [YR2015]",
          "2016 [YR2016]",
          "2017 [YR2017]",
          "2018 [YR2018]",
          "2019 [YR2019]",
          "2020 [YR2020]",
          "2021 [YR2021]",
          "2022 [YR2022]",
          "2023 [YR2023]"
         ],
         "xaxis": "x",
         "y": [
          null,
          null,
          9.4,
          15.2,
          17.7,
          24.2,
          22.8,
          23.1,
          27.6,
          29.8,
          31.8,
          null
         ],
         "yaxis": "y"
        },
        {
         "hovertemplate": "Country Name=Libya<br>Year=%{x}<br>Access to electricity (% pop)=%{y}<extra></extra>",
         "legendgroup": "Libya",
         "line": {
          "color": "#ab63fa",
          "dash": "solid"
         },
         "marker": {
          "symbol": "circle"
         },
         "mode": "lines",
         "name": "Libya",
         "showlegend": true,
         "type": "scattergl",
         "x": [
          "1990 [YR1990]",
          "2000 [YR2000]",
          "2014 [YR2014]",
          "2015 [YR2015]",
          "2016 [YR2016]",
          "2017 [YR2017]",
          "2018 [YR2018]",
          "2019 [YR2019]",
          "2020 [YR2020]",
          "2021 [YR2021]",
          "2022 [YR2022]",
          "2023 [YR2023]"
         ],
         "xaxis": "x",
         "y": [
          null,
          99.8,
          75.5,
          73.8,
          72.2,
          70.6,
          67,
          68.5,
          69.4,
          70.2,
          70,
          null
         ],
         "yaxis": "y"
        },
        {
         "hovertemplate": "Country Name=Liechtenstein<br>Year=%{x}<br>Access to electricity (% pop)=%{y}<extra></extra>",
         "legendgroup": "Liechtenstein",
         "line": {
          "color": "#FFA15A",
          "dash": "solid"
         },
         "marker": {
          "symbol": "circle"
         },
         "mode": "lines",
         "name": "Liechtenstein",
         "showlegend": true,
         "type": "scattergl",
         "x": [
          "1990 [YR1990]",
          "2000 [YR2000]",
          "2014 [YR2014]",
          "2015 [YR2015]",
          "2016 [YR2016]",
          "2017 [YR2017]",
          "2018 [YR2018]",
          "2019 [YR2019]",
          "2020 [YR2020]",
          "2021 [YR2021]",
          "2022 [YR2022]",
          "2023 [YR2023]"
         ],
         "xaxis": "x",
         "y": [
          100,
          100,
          100,
          100,
          100,
          100,
          100,
          100,
          100,
          100,
          100,
          null
         ],
         "yaxis": "y"
        },
        {
         "hovertemplate": "Country Name=Lithuania<br>Year=%{x}<br>Access to electricity (% pop)=%{y}<extra></extra>",
         "legendgroup": "Lithuania",
         "line": {
          "color": "#19d3f3",
          "dash": "solid"
         },
         "marker": {
          "symbol": "circle"
         },
         "mode": "lines",
         "name": "Lithuania",
         "showlegend": true,
         "type": "scattergl",
         "x": [
          "1990 [YR1990]",
          "2000 [YR2000]",
          "2014 [YR2014]",
          "2015 [YR2015]",
          "2016 [YR2016]",
          "2017 [YR2017]",
          "2018 [YR2018]",
          "2019 [YR2019]",
          "2020 [YR2020]",
          "2021 [YR2021]",
          "2022 [YR2022]",
          "2023 [YR2023]"
         ],
         "xaxis": "x",
         "y": [
          100,
          99.5,
          100,
          100,
          100,
          100,
          100,
          100,
          100,
          100,
          100,
          null
         ],
         "yaxis": "y"
        },
        {
         "hovertemplate": "Country Name=Luxembourg<br>Year=%{x}<br>Access to electricity (% pop)=%{y}<extra></extra>",
         "legendgroup": "Luxembourg",
         "line": {
          "color": "#FF6692",
          "dash": "solid"
         },
         "marker": {
          "symbol": "circle"
         },
         "mode": "lines",
         "name": "Luxembourg",
         "showlegend": true,
         "type": "scattergl",
         "x": [
          "1990 [YR1990]",
          "2000 [YR2000]",
          "2014 [YR2014]",
          "2015 [YR2015]",
          "2016 [YR2016]",
          "2017 [YR2017]",
          "2018 [YR2018]",
          "2019 [YR2019]",
          "2020 [YR2020]",
          "2021 [YR2021]",
          "2022 [YR2022]",
          "2023 [YR2023]"
         ],
         "xaxis": "x",
         "y": [
          100,
          100,
          100,
          100,
          100,
          100,
          100,
          100,
          100,
          100,
          100,
          null
         ],
         "yaxis": "y"
        },
        {
         "hovertemplate": "Country Name=Macao SAR, China<br>Year=%{x}<br>Access to electricity (% pop)=%{y}<extra></extra>",
         "legendgroup": "Macao SAR, China",
         "line": {
          "color": "#B6E880",
          "dash": "solid"
         },
         "marker": {
          "symbol": "circle"
         },
         "mode": "lines",
         "name": "Macao SAR, China",
         "showlegend": true,
         "type": "scattergl",
         "x": [
          "1990 [YR1990]",
          "2000 [YR2000]",
          "2014 [YR2014]",
          "2015 [YR2015]",
          "2016 [YR2016]",
          "2017 [YR2017]",
          "2018 [YR2018]",
          "2019 [YR2019]",
          "2020 [YR2020]",
          "2021 [YR2021]",
          "2022 [YR2022]",
          "2023 [YR2023]"
         ],
         "xaxis": "x",
         "y": [
          99.8492813110352,
          100,
          100,
          100,
          100,
          100,
          100,
          100,
          100,
          100,
          100,
          null
         ],
         "yaxis": "y"
        },
        {
         "hovertemplate": "Country Name=Madagascar<br>Year=%{x}<br>Access to electricity (% pop)=%{y}<extra></extra>",
         "legendgroup": "Madagascar",
         "line": {
          "color": "#FF97FF",
          "dash": "solid"
         },
         "marker": {
          "symbol": "circle"
         },
         "mode": "lines",
         "name": "Madagascar",
         "showlegend": true,
         "type": "scattergl",
         "x": [
          "1990 [YR1990]",
          "2000 [YR2000]",
          "2014 [YR2014]",
          "2015 [YR2015]",
          "2016 [YR2016]",
          "2017 [YR2017]",
          "2018 [YR2018]",
          "2019 [YR2019]",
          "2020 [YR2020]",
          "2021 [YR2021]",
          "2022 [YR2022]",
          "2023 [YR2023]"
         ],
         "xaxis": "x",
         "y": [
          null,
          12.6,
          23,
          23.8,
          22.9,
          24.1,
          36.5,
          31,
          32,
          35.1,
          36.1,
          null
         ],
         "yaxis": "y"
        },
        {
         "hovertemplate": "Country Name=Malawi<br>Year=%{x}<br>Access to electricity (% pop)=%{y}<extra></extra>",
         "legendgroup": "Malawi",
         "line": {
          "color": "#FECB52",
          "dash": "solid"
         },
         "marker": {
          "symbol": "circle"
         },
         "mode": "lines",
         "name": "Malawi",
         "showlegend": true,
         "type": "scattergl",
         "x": [
          "1990 [YR1990]",
          "2000 [YR2000]",
          "2014 [YR2014]",
          "2015 [YR2015]",
          "2016 [YR2016]",
          "2017 [YR2017]",
          "2018 [YR2018]",
          "2019 [YR2019]",
          "2020 [YR2020]",
          "2021 [YR2021]",
          "2022 [YR2022]",
          "2023 [YR2023]"
         ],
         "xaxis": "x",
         "y": [
          null,
          4.8,
          11.9,
          10.8,
          11,
          12.7,
          18,
          11.2,
          11.5,
          14.2,
          14,
          null
         ],
         "yaxis": "y"
        },
        {
         "hovertemplate": "Country Name=Malaysia<br>Year=%{x}<br>Access to electricity (% pop)=%{y}<extra></extra>",
         "legendgroup": "Malaysia",
         "line": {
          "color": "#636efa",
          "dash": "solid"
         },
         "marker": {
          "symbol": "circle"
         },
         "mode": "lines",
         "name": "Malaysia",
         "showlegend": true,
         "type": "scattergl",
         "x": [
          "1990 [YR1990]",
          "2000 [YR2000]",
          "2014 [YR2014]",
          "2015 [YR2015]",
          "2016 [YR2016]",
          "2017 [YR2017]",
          "2018 [YR2018]",
          "2019 [YR2019]",
          "2020 [YR2020]",
          "2021 [YR2021]",
          "2022 [YR2022]",
          "2023 [YR2023]"
         ],
         "xaxis": "x",
         "y": [
          null,
          98.6,
          99.7,
          99.9,
          99.9,
          100,
          100,
          100,
          100,
          100,
          100,
          null
         ],
         "yaxis": "y"
        },
        {
         "hovertemplate": "Country Name=Maldives<br>Year=%{x}<br>Access to electricity (% pop)=%{y}<extra></extra>",
         "legendgroup": "Maldives",
         "line": {
          "color": "#EF553B",
          "dash": "solid"
         },
         "marker": {
          "symbol": "circle"
         },
         "mode": "lines",
         "name": "Maldives",
         "showlegend": true,
         "type": "scattergl",
         "x": [
          "1990 [YR1990]",
          "2000 [YR2000]",
          "2014 [YR2014]",
          "2015 [YR2015]",
          "2016 [YR2016]",
          "2017 [YR2017]",
          "2018 [YR2018]",
          "2019 [YR2019]",
          "2020 [YR2020]",
          "2021 [YR2021]",
          "2022 [YR2022]",
          "2023 [YR2023]"
         ],
         "xaxis": "x",
         "y": [
          null,
          83.8,
          100,
          99.8,
          100,
          99.8,
          100,
          100,
          100,
          100,
          100,
          null
         ],
         "yaxis": "y"
        },
        {
         "hovertemplate": "Country Name=Mali<br>Year=%{x}<br>Access to electricity (% pop)=%{y}<extra></extra>",
         "legendgroup": "Mali",
         "line": {
          "color": "#00cc96",
          "dash": "solid"
         },
         "marker": {
          "symbol": "circle"
         },
         "mode": "lines",
         "name": "Mali",
         "showlegend": true,
         "type": "scattergl",
         "x": [
          "1990 [YR1990]",
          "2000 [YR2000]",
          "2014 [YR2014]",
          "2015 [YR2015]",
          "2016 [YR2016]",
          "2017 [YR2017]",
          "2018 [YR2018]",
          "2019 [YR2019]",
          "2020 [YR2020]",
          "2021 [YR2021]",
          "2022 [YR2022]",
          "2023 [YR2023]"
         ],
         "xaxis": "x",
         "y": [
          null,
          9.6,
          34.2,
          37.6,
          38.8,
          34.8,
          50.9,
          47.9,
          50.6,
          53.4,
          53,
          null
         ],
         "yaxis": "y"
        },
        {
         "hovertemplate": "Country Name=Malta<br>Year=%{x}<br>Access to electricity (% pop)=%{y}<extra></extra>",
         "legendgroup": "Malta",
         "line": {
          "color": "#ab63fa",
          "dash": "solid"
         },
         "marker": {
          "symbol": "circle"
         },
         "mode": "lines",
         "name": "Malta",
         "showlegend": true,
         "type": "scattergl",
         "x": [
          "1990 [YR1990]",
          "2000 [YR2000]",
          "2014 [YR2014]",
          "2015 [YR2015]",
          "2016 [YR2016]",
          "2017 [YR2017]",
          "2018 [YR2018]",
          "2019 [YR2019]",
          "2020 [YR2020]",
          "2021 [YR2021]",
          "2022 [YR2022]",
          "2023 [YR2023]"
         ],
         "xaxis": "x",
         "y": [
          100,
          100,
          100,
          100,
          100,
          100,
          100,
          100,
          100,
          100,
          100,
          null
         ],
         "yaxis": "y"
        },
        {
         "hovertemplate": "Country Name=Marshall Islands<br>Year=%{x}<br>Access to electricity (% pop)=%{y}<extra></extra>",
         "legendgroup": "Marshall Islands",
         "line": {
          "color": "#FFA15A",
          "dash": "solid"
         },
         "marker": {
          "symbol": "circle"
         },
         "mode": "lines",
         "name": "Marshall Islands",
         "showlegend": true,
         "type": "scattergl",
         "x": [
          "1990 [YR1990]",
          "2000 [YR2000]",
          "2014 [YR2014]",
          "2015 [YR2015]",
          "2016 [YR2016]",
          "2017 [YR2017]",
          "2018 [YR2018]",
          "2019 [YR2019]",
          "2020 [YR2020]",
          "2021 [YR2021]",
          "2022 [YR2022]",
          "2023 [YR2023]"
         ],
         "xaxis": "x",
         "y": [
          null,
          68.6,
          91.5,
          92.1,
          92.7,
          93.8,
          95.3,
          96.8,
          98.3,
          99.8,
          100,
          null
         ],
         "yaxis": "y"
        },
        {
         "hovertemplate": "Country Name=Mauritania<br>Year=%{x}<br>Access to electricity (% pop)=%{y}<extra></extra>",
         "legendgroup": "Mauritania",
         "line": {
          "color": "#19d3f3",
          "dash": "solid"
         },
         "marker": {
          "symbol": "circle"
         },
         "mode": "lines",
         "name": "Mauritania",
         "showlegend": true,
         "type": "scattergl",
         "x": [
          "1990 [YR1990]",
          "2000 [YR2000]",
          "2014 [YR2014]",
          "2015 [YR2015]",
          "2016 [YR2016]",
          "2017 [YR2017]",
          "2018 [YR2018]",
          "2019 [YR2019]",
          "2020 [YR2020]",
          "2021 [YR2021]",
          "2022 [YR2022]",
          "2023 [YR2023]"
         ],
         "xaxis": "x",
         "y": [
          null,
          19.1,
          38.8,
          39.5,
          41.2,
          42.9,
          43.6,
          44.9,
          45.4,
          47.7,
          49,
          null
         ],
         "yaxis": "y"
        },
        {
         "hovertemplate": "Country Name=Mauritius<br>Year=%{x}<br>Access to electricity (% pop)=%{y}<extra></extra>",
         "legendgroup": "Mauritius",
         "line": {
          "color": "#FF6692",
          "dash": "solid"
         },
         "marker": {
          "symbol": "circle"
         },
         "mode": "lines",
         "name": "Mauritius",
         "showlegend": true,
         "type": "scattergl",
         "x": [
          "1990 [YR1990]",
          "2000 [YR2000]",
          "2014 [YR2014]",
          "2015 [YR2015]",
          "2016 [YR2016]",
          "2017 [YR2017]",
          "2018 [YR2018]",
          "2019 [YR2019]",
          "2020 [YR2020]",
          "2021 [YR2021]",
          "2022 [YR2022]",
          "2023 [YR2023]"
         ],
         "xaxis": "x",
         "y": [
          99.0415649414063,
          99,
          99.5,
          99.6,
          99.7,
          99.6,
          99.8,
          100,
          99.5,
          99.6,
          100,
          null
         ],
         "yaxis": "y"
        },
        {
         "hovertemplate": "Country Name=Mexico<br>Year=%{x}<br>Access to electricity (% pop)=%{y}<extra></extra>",
         "legendgroup": "Mexico",
         "line": {
          "color": "#B6E880",
          "dash": "solid"
         },
         "marker": {
          "symbol": "circle"
         },
         "mode": "lines",
         "name": "Mexico",
         "showlegend": true,
         "type": "scattergl",
         "x": [
          "1990 [YR1990]",
          "2000 [YR2000]",
          "2014 [YR2014]",
          "2015 [YR2015]",
          "2016 [YR2016]",
          "2017 [YR2017]",
          "2018 [YR2018]",
          "2019 [YR2019]",
          "2020 [YR2020]",
          "2021 [YR2021]",
          "2022 [YR2022]",
          "2023 [YR2023]"
         ],
         "xaxis": "x",
         "y": [
          null,
          98,
          99.2,
          99,
          99.5,
          100,
          99.5,
          99.6,
          99.4,
          100,
          100,
          null
         ],
         "yaxis": "y"
        },
        {
         "hovertemplate": "Country Name=Micronesia, Fed. Sts.<br>Year=%{x}<br>Access to electricity (% pop)=%{y}<extra></extra>",
         "legendgroup": "Micronesia, Fed. Sts.",
         "line": {
          "color": "#FF97FF",
          "dash": "solid"
         },
         "marker": {
          "symbol": "circle"
         },
         "mode": "lines",
         "name": "Micronesia, Fed. Sts.",
         "showlegend": true,
         "type": "scattergl",
         "x": [
          "1990 [YR1990]",
          "2000 [YR2000]",
          "2014 [YR2014]",
          "2015 [YR2015]",
          "2016 [YR2016]",
          "2017 [YR2017]",
          "2018 [YR2018]",
          "2019 [YR2019]",
          "2020 [YR2020]",
          "2021 [YR2021]",
          "2022 [YR2022]",
          "2023 [YR2023]"
         ],
         "xaxis": "x",
         "y": [
          null,
          46,
          71.2,
          73,
          74.8,
          76.5,
          78.3,
          80.1,
          81.9,
          83.6,
          85.3,
          null
         ],
         "yaxis": "y"
        },
        {
         "hovertemplate": "Country Name=Moldova<br>Year=%{x}<br>Access to electricity (% pop)=%{y}<extra></extra>",
         "legendgroup": "Moldova",
         "line": {
          "color": "#FECB52",
          "dash": "solid"
         },
         "marker": {
          "symbol": "circle"
         },
         "mode": "lines",
         "name": "Moldova",
         "showlegend": true,
         "type": "scattergl",
         "x": [
          "1990 [YR1990]",
          "2000 [YR2000]",
          "2014 [YR2014]",
          "2015 [YR2015]",
          "2016 [YR2016]",
          "2017 [YR2017]",
          "2018 [YR2018]",
          "2019 [YR2019]",
          "2020 [YR2020]",
          "2021 [YR2021]",
          "2022 [YR2022]",
          "2023 [YR2023]"
         ],
         "xaxis": "x",
         "y": [
          100,
          98.7,
          99.8,
          99.9,
          99.9,
          100,
          100,
          100,
          100,
          100,
          100,
          null
         ],
         "yaxis": "y"
        },
        {
         "hovertemplate": "Country Name=Monaco<br>Year=%{x}<br>Access to electricity (% pop)=%{y}<extra></extra>",
         "legendgroup": "Monaco",
         "line": {
          "color": "#636efa",
          "dash": "solid"
         },
         "marker": {
          "symbol": "circle"
         },
         "mode": "lines",
         "name": "Monaco",
         "showlegend": true,
         "type": "scattergl",
         "x": [
          "1990 [YR1990]",
          "2000 [YR2000]",
          "2014 [YR2014]",
          "2015 [YR2015]",
          "2016 [YR2016]",
          "2017 [YR2017]",
          "2018 [YR2018]",
          "2019 [YR2019]",
          "2020 [YR2020]",
          "2021 [YR2021]",
          "2022 [YR2022]",
          "2023 [YR2023]"
         ],
         "xaxis": "x",
         "y": [
          100,
          100,
          100,
          100,
          100,
          100,
          100,
          100,
          100,
          100,
          100,
          null
         ],
         "yaxis": "y"
        },
        {
         "hovertemplate": "Country Name=Mongolia<br>Year=%{x}<br>Access to electricity (% pop)=%{y}<extra></extra>",
         "legendgroup": "Mongolia",
         "line": {
          "color": "#EF553B",
          "dash": "solid"
         },
         "marker": {
          "symbol": "circle"
         },
         "mode": "lines",
         "name": "Mongolia",
         "showlegend": true,
         "type": "scattergl",
         "x": [
          "1990 [YR1990]",
          "2000 [YR2000]",
          "2014 [YR2014]",
          "2015 [YR2015]",
          "2016 [YR2016]",
          "2017 [YR2017]",
          "2018 [YR2018]",
          "2019 [YR2019]",
          "2020 [YR2020]",
          "2021 [YR2021]",
          "2022 [YR2022]",
          "2023 [YR2023]"
         ],
         "xaxis": "x",
         "y": [
          null,
          67.3,
          86,
          88,
          90.8,
          93.6,
          98.1,
          98.9,
          99.5,
          100,
          100,
          null
         ],
         "yaxis": "y"
        },
        {
         "hovertemplate": "Country Name=Montenegro<br>Year=%{x}<br>Access to electricity (% pop)=%{y}<extra></extra>",
         "legendgroup": "Montenegro",
         "line": {
          "color": "#00cc96",
          "dash": "solid"
         },
         "marker": {
          "symbol": "circle"
         },
         "mode": "lines",
         "name": "Montenegro",
         "showlegend": true,
         "type": "scattergl",
         "x": [
          "1990 [YR1990]",
          "2000 [YR2000]",
          "2014 [YR2014]",
          "2015 [YR2015]",
          "2016 [YR2016]",
          "2017 [YR2017]",
          "2018 [YR2018]",
          "2019 [YR2019]",
          "2020 [YR2020]",
          "2021 [YR2021]",
          "2022 [YR2022]",
          "2023 [YR2023]"
         ],
         "xaxis": "x",
         "y": [
          100,
          99.1,
          97.7,
          99.5,
          99.6,
          100,
          100,
          100,
          99.9,
          99.8,
          100,
          null
         ],
         "yaxis": "y"
        },
        {
         "hovertemplate": "Country Name=Morocco<br>Year=%{x}<br>Access to electricity (% pop)=%{y}<extra></extra>",
         "legendgroup": "Morocco",
         "line": {
          "color": "#ab63fa",
          "dash": "solid"
         },
         "marker": {
          "symbol": "circle"
         },
         "mode": "lines",
         "name": "Morocco",
         "showlegend": true,
         "type": "scattergl",
         "x": [
          "1990 [YR1990]",
          "2000 [YR2000]",
          "2014 [YR2014]",
          "2015 [YR2015]",
          "2016 [YR2016]",
          "2017 [YR2017]",
          "2018 [YR2018]",
          "2019 [YR2019]",
          "2020 [YR2020]",
          "2021 [YR2021]",
          "2022 [YR2022]",
          "2023 [YR2023]"
         ],
         "xaxis": "x",
         "y": [
          null,
          69.8,
          97.3,
          97.3,
          97.8,
          100,
          98.1,
          99.6,
          100,
          100,
          100,
          null
         ],
         "yaxis": "y"
        },
        {
         "hovertemplate": "Country Name=Mozambique<br>Year=%{x}<br>Access to electricity (% pop)=%{y}<extra></extra>",
         "legendgroup": "Mozambique",
         "line": {
          "color": "#FFA15A",
          "dash": "solid"
         },
         "marker": {
          "symbol": "circle"
         },
         "mode": "lines",
         "name": "Mozambique",
         "showlegend": true,
         "type": "scattergl",
         "x": [
          "1990 [YR1990]",
          "2000 [YR2000]",
          "2014 [YR2014]",
          "2015 [YR2015]",
          "2016 [YR2016]",
          "2017 [YR2017]",
          "2018 [YR2018]",
          "2019 [YR2019]",
          "2020 [YR2020]",
          "2021 [YR2021]",
          "2022 [YR2022]",
          "2023 [YR2023]"
         ],
         "xaxis": "x",
         "y": [
          null,
          6.1,
          24.8,
          24,
          26.2,
          24.3,
          31.1,
          29.7,
          30.6,
          31.5,
          33.2,
          null
         ],
         "yaxis": "y"
        },
        {
         "hovertemplate": "Country Name=Myanmar<br>Year=%{x}<br>Access to electricity (% pop)=%{y}<extra></extra>",
         "legendgroup": "Myanmar",
         "line": {
          "color": "#19d3f3",
          "dash": "solid"
         },
         "marker": {
          "symbol": "circle"
         },
         "mode": "lines",
         "name": "Myanmar",
         "showlegend": true,
         "type": "scattergl",
         "x": [
          "1990 [YR1990]",
          "2000 [YR2000]",
          "2014 [YR2014]",
          "2015 [YR2015]",
          "2016 [YR2016]",
          "2017 [YR2017]",
          "2018 [YR2018]",
          "2019 [YR2019]",
          "2020 [YR2020]",
          "2021 [YR2021]",
          "2022 [YR2022]",
          "2023 [YR2023]"
         ],
         "xaxis": "x",
         "y": [
          null,
          41.9,
          52,
          60.5,
          55.6,
          69.8,
          66.1,
          68.3,
          70.4,
          72.5,
          73.7,
          null
         ],
         "yaxis": "y"
        },
        {
         "hovertemplate": "Country Name=Namibia<br>Year=%{x}<br>Access to electricity (% pop)=%{y}<extra></extra>",
         "legendgroup": "Namibia",
         "line": {
          "color": "#FF6692",
          "dash": "solid"
         },
         "marker": {
          "symbol": "circle"
         },
         "mode": "lines",
         "name": "Namibia",
         "showlegend": true,
         "type": "scattergl",
         "x": [
          "1990 [YR1990]",
          "2000 [YR2000]",
          "2014 [YR2014]",
          "2015 [YR2015]",
          "2016 [YR2016]",
          "2017 [YR2017]",
          "2018 [YR2018]",
          "2019 [YR2019]",
          "2020 [YR2020]",
          "2021 [YR2021]",
          "2022 [YR2022]",
          "2023 [YR2023]"
         ],
         "xaxis": "x",
         "y": [
          null,
          36.5,
          48.4,
          51.6,
          49.7,
          52.5,
          52.3,
          53.3,
          52.3,
          55.2,
          56.2,
          null
         ],
         "yaxis": "y"
        },
        {
         "hovertemplate": "Country Name=Nauru<br>Year=%{x}<br>Access to electricity (% pop)=%{y}<extra></extra>",
         "legendgroup": "Nauru",
         "line": {
          "color": "#B6E880",
          "dash": "solid"
         },
         "marker": {
          "symbol": "circle"
         },
         "mode": "lines",
         "name": "Nauru",
         "showlegend": true,
         "type": "scattergl",
         "x": [
          "1990 [YR1990]",
          "2000 [YR2000]",
          "2014 [YR2014]",
          "2015 [YR2015]",
          "2016 [YR2016]",
          "2017 [YR2017]",
          "2018 [YR2018]",
          "2019 [YR2019]",
          "2020 [YR2020]",
          "2021 [YR2021]",
          "2022 [YR2022]",
          "2023 [YR2023]"
         ],
         "xaxis": "x",
         "y": [
          98.9990844726563,
          99.1,
          99.5,
          99,
          99.7,
          99.8,
          99.9,
          100,
          100,
          100,
          100,
          null
         ],
         "yaxis": "y"
        },
        {
         "hovertemplate": "Country Name=Nepal<br>Year=%{x}<br>Access to electricity (% pop)=%{y}<extra></extra>",
         "legendgroup": "Nepal",
         "line": {
          "color": "#FF97FF",
          "dash": "solid"
         },
         "marker": {
          "symbol": "circle"
         },
         "mode": "lines",
         "name": "Nepal",
         "showlegend": true,
         "type": "scattergl",
         "x": [
          "1990 [YR1990]",
          "2000 [YR2000]",
          "2014 [YR2014]",
          "2015 [YR2015]",
          "2016 [YR2016]",
          "2017 [YR2017]",
          "2018 [YR2018]",
          "2019 [YR2019]",
          "2020 [YR2020]",
          "2021 [YR2021]",
          "2022 [YR2022]",
          "2023 [YR2023]"
         ],
         "xaxis": "x",
         "y": [
          null,
          29.9,
          84.9,
          82,
          90.7,
          86.6,
          93.9,
          89.9,
          89.9,
          89.9,
          91.3,
          null
         ],
         "yaxis": "y"
        },
        {
         "hovertemplate": "Country Name=Netherlands<br>Year=%{x}<br>Access to electricity (% pop)=%{y}<extra></extra>",
         "legendgroup": "Netherlands",
         "line": {
          "color": "#FECB52",
          "dash": "solid"
         },
         "marker": {
          "symbol": "circle"
         },
         "mode": "lines",
         "name": "Netherlands",
         "showlegend": true,
         "type": "scattergl",
         "x": [
          "1990 [YR1990]",
          "2000 [YR2000]",
          "2014 [YR2014]",
          "2015 [YR2015]",
          "2016 [YR2016]",
          "2017 [YR2017]",
          "2018 [YR2018]",
          "2019 [YR2019]",
          "2020 [YR2020]",
          "2021 [YR2021]",
          "2022 [YR2022]",
          "2023 [YR2023]"
         ],
         "xaxis": "x",
         "y": [
          100,
          100,
          100,
          100,
          100,
          100,
          100,
          100,
          100,
          100,
          100,
          null
         ],
         "yaxis": "y"
        },
        {
         "hovertemplate": "Country Name=New Caledonia<br>Year=%{x}<br>Access to electricity (% pop)=%{y}<extra></extra>",
         "legendgroup": "New Caledonia",
         "line": {
          "color": "#636efa",
          "dash": "solid"
         },
         "marker": {
          "symbol": "circle"
         },
         "mode": "lines",
         "name": "New Caledonia",
         "showlegend": true,
         "type": "scattergl",
         "x": [
          "1990 [YR1990]",
          "2000 [YR2000]",
          "2014 [YR2014]",
          "2015 [YR2015]",
          "2016 [YR2016]",
          "2017 [YR2017]",
          "2018 [YR2018]",
          "2019 [YR2019]",
          "2020 [YR2020]",
          "2021 [YR2021]",
          "2022 [YR2022]",
          "2023 [YR2023]"
         ],
         "xaxis": "x",
         "y": [
          99.8443069458008,
          100,
          100,
          100,
          100,
          100,
          100,
          100,
          100,
          100,
          100,
          null
         ],
         "yaxis": "y"
        },
        {
         "hovertemplate": "Country Name=New Zealand<br>Year=%{x}<br>Access to electricity (% pop)=%{y}<extra></extra>",
         "legendgroup": "New Zealand",
         "line": {
          "color": "#EF553B",
          "dash": "solid"
         },
         "marker": {
          "symbol": "circle"
         },
         "mode": "lines",
         "name": "New Zealand",
         "showlegend": true,
         "type": "scattergl",
         "x": [
          "1990 [YR1990]",
          "2000 [YR2000]",
          "2014 [YR2014]",
          "2015 [YR2015]",
          "2016 [YR2016]",
          "2017 [YR2017]",
          "2018 [YR2018]",
          "2019 [YR2019]",
          "2020 [YR2020]",
          "2021 [YR2021]",
          "2022 [YR2022]",
          "2023 [YR2023]"
         ],
         "xaxis": "x",
         "y": [
          100,
          100,
          100,
          100,
          100,
          100,
          100,
          100,
          100,
          100,
          100,
          null
         ],
         "yaxis": "y"
        },
        {
         "hovertemplate": "Country Name=Nicaragua<br>Year=%{x}<br>Access to electricity (% pop)=%{y}<extra></extra>",
         "legendgroup": "Nicaragua",
         "line": {
          "color": "#00cc96",
          "dash": "solid"
         },
         "marker": {
          "symbol": "circle"
         },
         "mode": "lines",
         "name": "Nicaragua",
         "showlegend": true,
         "type": "scattergl",
         "x": [
          "1990 [YR1990]",
          "2000 [YR2000]",
          "2014 [YR2014]",
          "2015 [YR2015]",
          "2016 [YR2016]",
          "2017 [YR2017]",
          "2018 [YR2018]",
          "2019 [YR2019]",
          "2020 [YR2020]",
          "2021 [YR2021]",
          "2022 [YR2022]",
          "2023 [YR2023]"
         ],
         "xaxis": "x",
         "y": [
          null,
          73,
          81.9,
          83.2,
          83.9,
          84.6,
          85.2,
          85.7,
          86,
          86.3,
          86.5,
          null
         ],
         "yaxis": "y"
        },
        {
         "hovertemplate": "Country Name=Niger<br>Year=%{x}<br>Access to electricity (% pop)=%{y}<extra></extra>",
         "legendgroup": "Niger",
         "line": {
          "color": "#ab63fa",
          "dash": "solid"
         },
         "marker": {
          "symbol": "circle"
         },
         "mode": "lines",
         "name": "Niger",
         "showlegend": true,
         "type": "scattergl",
         "x": [
          "1990 [YR1990]",
          "2000 [YR2000]",
          "2014 [YR2014]",
          "2015 [YR2015]",
          "2016 [YR2016]",
          "2017 [YR2017]",
          "2018 [YR2018]",
          "2019 [YR2019]",
          "2020 [YR2020]",
          "2021 [YR2021]",
          "2022 [YR2022]",
          "2023 [YR2023]"
         ],
         "xaxis": "x",
         "y": [
          null,
          6.5,
          15.7,
          16.6,
          17,
          17.6,
          17.6,
          18.5,
          18.7,
          18.6,
          19.5,
          null
         ],
         "yaxis": "y"
        },
        {
         "hovertemplate": "Country Name=Nigeria<br>Year=%{x}<br>Access to electricity (% pop)=%{y}<extra></extra>",
         "legendgroup": "Nigeria",
         "line": {
          "color": "#FFA15A",
          "dash": "solid"
         },
         "marker": {
          "symbol": "circle"
         },
         "mode": "lines",
         "name": "Nigeria",
         "showlegend": true,
         "type": "scattergl",
         "x": [
          "1990 [YR1990]",
          "2000 [YR2000]",
          "2014 [YR2014]",
          "2015 [YR2015]",
          "2016 [YR2016]",
          "2017 [YR2017]",
          "2018 [YR2018]",
          "2019 [YR2019]",
          "2020 [YR2020]",
          "2021 [YR2021]",
          "2022 [YR2022]",
          "2023 [YR2023]"
         ],
         "xaxis": "x",
         "y": [
          27.3,
          43.2,
          54.2,
          52.5,
          59.3,
          54.4,
          56.5,
          55.4,
          55.4,
          59.5,
          60.5,
          null
         ],
         "yaxis": "y"
        },
        {
         "hovertemplate": "Country Name=North Macedonia<br>Year=%{x}<br>Access to electricity (% pop)=%{y}<extra></extra>",
         "legendgroup": "North Macedonia",
         "line": {
          "color": "#19d3f3",
          "dash": "solid"
         },
         "marker": {
          "symbol": "circle"
         },
         "mode": "lines",
         "name": "North Macedonia",
         "showlegend": true,
         "type": "scattergl",
         "x": [
          "1990 [YR1990]",
          "2000 [YR2000]",
          "2014 [YR2014]",
          "2015 [YR2015]",
          "2016 [YR2016]",
          "2017 [YR2017]",
          "2018 [YR2018]",
          "2019 [YR2019]",
          "2020 [YR2020]",
          "2021 [YR2021]",
          "2022 [YR2022]",
          "2023 [YR2023]"
         ],
         "xaxis": "x",
         "y": [
          100,
          99,
          99.8,
          99.9,
          100,
          100,
          99.8,
          100,
          100,
          100,
          100,
          null
         ],
         "yaxis": "y"
        },
        {
         "hovertemplate": "Country Name=Northern Mariana Islands<br>Year=%{x}<br>Access to electricity (% pop)=%{y}<extra></extra>",
         "legendgroup": "Northern Mariana Islands",
         "line": {
          "color": "#FF6692",
          "dash": "solid"
         },
         "marker": {
          "symbol": "circle"
         },
         "mode": "lines",
         "name": "Northern Mariana Islands",
         "showlegend": true,
         "type": "scattergl",
         "x": [
          "1990 [YR1990]",
          "2000 [YR2000]",
          "2014 [YR2014]",
          "2015 [YR2015]",
          "2016 [YR2016]",
          "2017 [YR2017]",
          "2018 [YR2018]",
          "2019 [YR2019]",
          "2020 [YR2020]",
          "2021 [YR2021]",
          "2022 [YR2022]",
          "2023 [YR2023]"
         ],
         "xaxis": "x",
         "y": [
          99.8532638549805,
          100,
          100,
          100,
          100,
          100,
          100,
          100,
          100,
          100,
          100,
          null
         ],
         "yaxis": "y"
        },
        {
         "hovertemplate": "Country Name=Norway<br>Year=%{x}<br>Access to electricity (% pop)=%{y}<extra></extra>",
         "legendgroup": "Norway",
         "line": {
          "color": "#B6E880",
          "dash": "solid"
         },
         "marker": {
          "symbol": "circle"
         },
         "mode": "lines",
         "name": "Norway",
         "showlegend": true,
         "type": "scattergl",
         "x": [
          "1990 [YR1990]",
          "2000 [YR2000]",
          "2014 [YR2014]",
          "2015 [YR2015]",
          "2016 [YR2016]",
          "2017 [YR2017]",
          "2018 [YR2018]",
          "2019 [YR2019]",
          "2020 [YR2020]",
          "2021 [YR2021]",
          "2022 [YR2022]",
          "2023 [YR2023]"
         ],
         "xaxis": "x",
         "y": [
          100,
          100,
          100,
          100,
          100,
          100,
          100,
          100,
          100,
          100,
          100,
          null
         ],
         "yaxis": "y"
        },
        {
         "hovertemplate": "Country Name=Oman<br>Year=%{x}<br>Access to electricity (% pop)=%{y}<extra></extra>",
         "legendgroup": "Oman",
         "line": {
          "color": "#FF97FF",
          "dash": "solid"
         },
         "marker": {
          "symbol": "circle"
         },
         "mode": "lines",
         "name": "Oman",
         "showlegend": true,
         "type": "scattergl",
         "x": [
          "1990 [YR1990]",
          "2000 [YR2000]",
          "2014 [YR2014]",
          "2015 [YR2015]",
          "2016 [YR2016]",
          "2017 [YR2017]",
          "2018 [YR2018]",
          "2019 [YR2019]",
          "2020 [YR2020]",
          "2021 [YR2021]",
          "2022 [YR2022]",
          "2023 [YR2023]"
         ],
         "xaxis": "x",
         "y": [
          100,
          100,
          100,
          100,
          100,
          100,
          100,
          100,
          100,
          100,
          100,
          null
         ],
         "yaxis": "y"
        },
        {
         "hovertemplate": "Country Name=Pakistan<br>Year=%{x}<br>Access to electricity (% pop)=%{y}<extra></extra>",
         "legendgroup": "Pakistan",
         "line": {
          "color": "#FECB52",
          "dash": "solid"
         },
         "marker": {
          "symbol": "circle"
         },
         "mode": "lines",
         "name": "Pakistan",
         "showlegend": true,
         "type": "scattergl",
         "x": [
          "1990 [YR1990]",
          "2000 [YR2000]",
          "2014 [YR2014]",
          "2015 [YR2015]",
          "2016 [YR2016]",
          "2017 [YR2017]",
          "2018 [YR2018]",
          "2019 [YR2019]",
          "2020 [YR2020]",
          "2021 [YR2021]",
          "2022 [YR2022]",
          "2023 [YR2023]"
         ],
         "xaxis": "x",
         "y": [
          null,
          72.8,
          90.1,
          91,
          91.8,
          92.7,
          93.4,
          93.9,
          94.5,
          94.9,
          95,
          null
         ],
         "yaxis": "y"
        },
        {
         "hovertemplate": "Country Name=Palau<br>Year=%{x}<br>Access to electricity (% pop)=%{y}<extra></extra>",
         "legendgroup": "Palau",
         "line": {
          "color": "#636efa",
          "dash": "solid"
         },
         "marker": {
          "symbol": "circle"
         },
         "mode": "lines",
         "name": "Palau",
         "showlegend": true,
         "type": "scattergl",
         "x": [
          "1990 [YR1990]",
          "2000 [YR2000]",
          "2014 [YR2014]",
          "2015 [YR2015]",
          "2016 [YR2016]",
          "2017 [YR2017]",
          "2018 [YR2018]",
          "2019 [YR2019]",
          "2020 [YR2020]",
          "2021 [YR2021]",
          "2022 [YR2022]",
          "2023 [YR2023]"
         ],
         "xaxis": "x",
         "y": [
          96.6253509521484,
          97.9,
          99.8,
          99.5,
          100,
          100,
          100,
          100,
          100,
          100,
          100,
          null
         ],
         "yaxis": "y"
        },
        {
         "hovertemplate": "Country Name=Panama<br>Year=%{x}<br>Access to electricity (% pop)=%{y}<extra></extra>",
         "legendgroup": "Panama",
         "line": {
          "color": "#EF553B",
          "dash": "solid"
         },
         "marker": {
          "symbol": "circle"
         },
         "mode": "lines",
         "name": "Panama",
         "showlegend": true,
         "type": "scattergl",
         "x": [
          "1990 [YR1990]",
          "2000 [YR2000]",
          "2014 [YR2014]",
          "2015 [YR2015]",
          "2016 [YR2016]",
          "2017 [YR2017]",
          "2018 [YR2018]",
          "2019 [YR2019]",
          "2020 [YR2020]",
          "2021 [YR2021]",
          "2022 [YR2022]",
          "2023 [YR2023]"
         ],
         "xaxis": "x",
         "y": [
          70.19,
          81.4,
          90.8,
          91.6,
          92.4,
          93.7,
          93.8,
          93.9,
          95.3,
          95.3,
          95,
          null
         ],
         "yaxis": "y"
        },
        {
         "hovertemplate": "Country Name=Papua New Guinea<br>Year=%{x}<br>Access to electricity (% pop)=%{y}<extra></extra>",
         "legendgroup": "Papua New Guinea",
         "line": {
          "color": "#00cc96",
          "dash": "solid"
         },
         "marker": {
          "symbol": "circle"
         },
         "mode": "lines",
         "name": "Papua New Guinea",
         "showlegend": true,
         "type": "scattergl",
         "x": [
          "1990 [YR1990]",
          "2000 [YR2000]",
          "2014 [YR2014]",
          "2015 [YR2015]",
          "2016 [YR2016]",
          "2017 [YR2017]",
          "2018 [YR2018]",
          "2019 [YR2019]",
          "2020 [YR2020]",
          "2021 [YR2021]",
          "2022 [YR2022]",
          "2023 [YR2023]"
         ],
         "xaxis": "x",
         "y": [
          null,
          12.4,
          18.1,
          18.4,
          13.5,
          19.2,
          16.6,
          23.6,
          20.5,
          20.9,
          19,
          null
         ],
         "yaxis": "y"
        },
        {
         "hovertemplate": "Country Name=Paraguay<br>Year=%{x}<br>Access to electricity (% pop)=%{y}<extra></extra>",
         "legendgroup": "Paraguay",
         "line": {
          "color": "#ab63fa",
          "dash": "solid"
         },
         "marker": {
          "symbol": "circle"
         },
         "mode": "lines",
         "name": "Paraguay",
         "showlegend": true,
         "type": "scattergl",
         "x": [
          "1990 [YR1990]",
          "2000 [YR2000]",
          "2014 [YR2014]",
          "2015 [YR2015]",
          "2016 [YR2016]",
          "2017 [YR2017]",
          "2018 [YR2018]",
          "2019 [YR2019]",
          "2020 [YR2020]",
          "2021 [YR2021]",
          "2022 [YR2022]",
          "2023 [YR2023]"
         ],
         "xaxis": "x",
         "y": [
          null,
          89.6,
          99,
          99.3,
          98.4,
          99.3,
          99.6,
          99.7,
          99.7,
          100,
          100,
          null
         ],
         "yaxis": "y"
        },
        {
         "hovertemplate": "Country Name=Peru<br>Year=%{x}<br>Access to electricity (% pop)=%{y}<extra></extra>",
         "legendgroup": "Peru",
         "line": {
          "color": "#FFA15A",
          "dash": "solid"
         },
         "marker": {
          "symbol": "circle"
         },
         "mode": "lines",
         "name": "Peru",
         "showlegend": true,
         "type": "scattergl",
         "x": [
          "1990 [YR1990]",
          "2000 [YR2000]",
          "2014 [YR2014]",
          "2015 [YR2015]",
          "2016 [YR2016]",
          "2017 [YR2017]",
          "2018 [YR2018]",
          "2019 [YR2019]",
          "2020 [YR2020]",
          "2021 [YR2021]",
          "2022 [YR2022]",
          "2023 [YR2023]"
         ],
         "xaxis": "x",
         "y": [
          null,
          72.5,
          92.9,
          93.9,
          94.2,
          94.8,
          95.2,
          95.6,
          96.2,
          95.6,
          96.2,
          null
         ],
         "yaxis": "y"
        },
        {
         "hovertemplate": "Country Name=Philippines<br>Year=%{x}<br>Access to electricity (% pop)=%{y}<extra></extra>",
         "legendgroup": "Philippines",
         "line": {
          "color": "#19d3f3",
          "dash": "solid"
         },
         "marker": {
          "symbol": "circle"
         },
         "mode": "lines",
         "name": "Philippines",
         "showlegend": true,
         "type": "scattergl",
         "x": [
          "1990 [YR1990]",
          "2000 [YR2000]",
          "2014 [YR2014]",
          "2015 [YR2015]",
          "2016 [YR2016]",
          "2017 [YR2017]",
          "2018 [YR2018]",
          "2019 [YR2019]",
          "2020 [YR2020]",
          "2021 [YR2021]",
          "2022 [YR2022]",
          "2023 [YR2023]"
         ],
         "xaxis": "x",
         "y": [
          null,
          74.7,
          89.8,
          89.1,
          92,
          93,
          94.2,
          95.3,
          96.4,
          97.5,
          94.8,
          null
         ],
         "yaxis": "y"
        },
        {
         "hovertemplate": "Country Name=Poland<br>Year=%{x}<br>Access to electricity (% pop)=%{y}<extra></extra>",
         "legendgroup": "Poland",
         "line": {
          "color": "#FF6692",
          "dash": "solid"
         },
         "marker": {
          "symbol": "circle"
         },
         "mode": "lines",
         "name": "Poland",
         "showlegend": true,
         "type": "scattergl",
         "x": [
          "1990 [YR1990]",
          "2000 [YR2000]",
          "2014 [YR2014]",
          "2015 [YR2015]",
          "2016 [YR2016]",
          "2017 [YR2017]",
          "2018 [YR2018]",
          "2019 [YR2019]",
          "2020 [YR2020]",
          "2021 [YR2021]",
          "2022 [YR2022]",
          "2023 [YR2023]"
         ],
         "xaxis": "x",
         "y": [
          100,
          100,
          100,
          100,
          100,
          100,
          100,
          100,
          100,
          100,
          100,
          null
         ],
         "yaxis": "y"
        },
        {
         "hovertemplate": "Country Name=Portugal<br>Year=%{x}<br>Access to electricity (% pop)=%{y}<extra></extra>",
         "legendgroup": "Portugal",
         "line": {
          "color": "#B6E880",
          "dash": "solid"
         },
         "marker": {
          "symbol": "circle"
         },
         "mode": "lines",
         "name": "Portugal",
         "showlegend": true,
         "type": "scattergl",
         "x": [
          "1990 [YR1990]",
          "2000 [YR2000]",
          "2014 [YR2014]",
          "2015 [YR2015]",
          "2016 [YR2016]",
          "2017 [YR2017]",
          "2018 [YR2018]",
          "2019 [YR2019]",
          "2020 [YR2020]",
          "2021 [YR2021]",
          "2022 [YR2022]",
          "2023 [YR2023]"
         ],
         "xaxis": "x",
         "y": [
          100,
          100,
          100,
          100,
          100,
          100,
          100,
          100,
          100,
          100,
          100,
          null
         ],
         "yaxis": "y"
        },
        {
         "hovertemplate": "Country Name=Puerto Rico<br>Year=%{x}<br>Access to electricity (% pop)=%{y}<extra></extra>",
         "legendgroup": "Puerto Rico",
         "line": {
          "color": "#FF97FF",
          "dash": "solid"
         },
         "marker": {
          "symbol": "circle"
         },
         "mode": "lines",
         "name": "Puerto Rico",
         "showlegend": true,
         "type": "scattergl",
         "x": [
          "1990 [YR1990]",
          "2000 [YR2000]",
          "2014 [YR2014]",
          "2015 [YR2015]",
          "2016 [YR2016]",
          "2017 [YR2017]",
          "2018 [YR2018]",
          "2019 [YR2019]",
          "2020 [YR2020]",
          "2021 [YR2021]",
          "2022 [YR2022]",
          "2023 [YR2023]"
         ],
         "xaxis": "x",
         "y": [
          99.9834289550781,
          100,
          100,
          100,
          100,
          100,
          100,
          100,
          100,
          100,
          100,
          null
         ],
         "yaxis": "y"
        },
        {
         "hovertemplate": "Country Name=Qatar<br>Year=%{x}<br>Access to electricity (% pop)=%{y}<extra></extra>",
         "legendgroup": "Qatar",
         "line": {
          "color": "#FECB52",
          "dash": "solid"
         },
         "marker": {
          "symbol": "circle"
         },
         "mode": "lines",
         "name": "Qatar",
         "showlegend": true,
         "type": "scattergl",
         "x": [
          "1990 [YR1990]",
          "2000 [YR2000]",
          "2014 [YR2014]",
          "2015 [YR2015]",
          "2016 [YR2016]",
          "2017 [YR2017]",
          "2018 [YR2018]",
          "2019 [YR2019]",
          "2020 [YR2020]",
          "2021 [YR2021]",
          "2022 [YR2022]",
          "2023 [YR2023]"
         ],
         "xaxis": "x",
         "y": [
          100,
          100,
          100,
          100,
          100,
          100,
          100,
          100,
          100,
          100,
          100,
          null
         ],
         "yaxis": "y"
        },
        {
         "hovertemplate": "Country Name=Romania<br>Year=%{x}<br>Access to electricity (% pop)=%{y}<extra></extra>",
         "legendgroup": "Romania",
         "line": {
          "color": "#636efa",
          "dash": "solid"
         },
         "marker": {
          "symbol": "circle"
         },
         "mode": "lines",
         "name": "Romania",
         "showlegend": true,
         "type": "scattergl",
         "x": [
          "1990 [YR1990]",
          "2000 [YR2000]",
          "2014 [YR2014]",
          "2015 [YR2015]",
          "2016 [YR2016]",
          "2017 [YR2017]",
          "2018 [YR2018]",
          "2019 [YR2019]",
          "2020 [YR2020]",
          "2021 [YR2021]",
          "2022 [YR2022]",
          "2023 [YR2023]"
         ],
         "xaxis": "x",
         "y": [
          100,
          94.4,
          98.4,
          98.8,
          99.1,
          100,
          99.8,
          100,
          100,
          100,
          100,
          null
         ],
         "yaxis": "y"
        },
        {
         "hovertemplate": "Country Name=Russian Federation<br>Year=%{x}<br>Access to electricity (% pop)=%{y}<extra></extra>",
         "legendgroup": "Russian Federation",
         "line": {
          "color": "#EF553B",
          "dash": "solid"
         },
         "marker": {
          "symbol": "circle"
         },
         "mode": "lines",
         "name": "Russian Federation",
         "showlegend": true,
         "type": "scattergl",
         "x": [
          "1990 [YR1990]",
          "2000 [YR2000]",
          "2014 [YR2014]",
          "2015 [YR2015]",
          "2016 [YR2016]",
          "2017 [YR2017]",
          "2018 [YR2018]",
          "2019 [YR2019]",
          "2020 [YR2020]",
          "2021 [YR2021]",
          "2022 [YR2022]",
          "2023 [YR2023]"
         ],
         "xaxis": "x",
         "y": [
          100,
          97.8,
          100,
          95.5,
          99.4,
          100,
          100,
          99.8,
          99.9,
          100,
          100,
          null
         ],
         "yaxis": "y"
        },
        {
         "hovertemplate": "Country Name=Rwanda<br>Year=%{x}<br>Access to electricity (% pop)=%{y}<extra></extra>",
         "legendgroup": "Rwanda",
         "line": {
          "color": "#00cc96",
          "dash": "solid"
         },
         "marker": {
          "symbol": "circle"
         },
         "mode": "lines",
         "name": "Rwanda",
         "showlegend": true,
         "type": "scattergl",
         "x": [
          "1990 [YR1990]",
          "2000 [YR2000]",
          "2014 [YR2014]",
          "2015 [YR2015]",
          "2016 [YR2016]",
          "2017 [YR2017]",
          "2018 [YR2018]",
          "2019 [YR2019]",
          "2020 [YR2020]",
          "2021 [YR2021]",
          "2022 [YR2022]",
          "2023 [YR2023]"
         ],
         "xaxis": "x",
         "y": [
          null,
          6.2,
          19.8,
          22.8,
          29.4,
          34.1,
          38,
          46.6,
          45.2,
          48.7,
          50.6,
          null
         ],
         "yaxis": "y"
        },
        {
         "hovertemplate": "Country Name=Samoa<br>Year=%{x}<br>Access to electricity (% pop)=%{y}<extra></extra>",
         "legendgroup": "Samoa",
         "line": {
          "color": "#ab63fa",
          "dash": "solid"
         },
         "marker": {
          "symbol": "circle"
         },
         "mode": "lines",
         "name": "Samoa",
         "showlegend": true,
         "type": "scattergl",
         "x": [
          "1990 [YR1990]",
          "2000 [YR2000]",
          "2014 [YR2014]",
          "2015 [YR2015]",
          "2016 [YR2016]",
          "2017 [YR2017]",
          "2018 [YR2018]",
          "2019 [YR2019]",
          "2020 [YR2020]",
          "2021 [YR2021]",
          "2022 [YR2022]",
          "2023 [YR2023]"
         ],
         "xaxis": "x",
         "y": [
          null,
          88,
          97.9,
          98.2,
          98.9,
          96.8,
          99.8,
          99.2,
          100,
          98.3,
          98.3,
          null
         ],
         "yaxis": "y"
        },
        {
         "hovertemplate": "Country Name=San Marino<br>Year=%{x}<br>Access to electricity (% pop)=%{y}<extra></extra>",
         "legendgroup": "San Marino",
         "line": {
          "color": "#FFA15A",
          "dash": "solid"
         },
         "marker": {
          "symbol": "circle"
         },
         "mode": "lines",
         "name": "San Marino",
         "showlegend": true,
         "type": "scattergl",
         "x": [
          "1990 [YR1990]",
          "2000 [YR2000]",
          "2014 [YR2014]",
          "2015 [YR2015]",
          "2016 [YR2016]",
          "2017 [YR2017]",
          "2018 [YR2018]",
          "2019 [YR2019]",
          "2020 [YR2020]",
          "2021 [YR2021]",
          "2022 [YR2022]",
          "2023 [YR2023]"
         ],
         "xaxis": "x",
         "y": [
          100,
          100,
          100,
          100,
          100,
          100,
          100,
          100,
          100,
          100,
          100,
          null
         ],
         "yaxis": "y"
        },
        {
         "hovertemplate": "Country Name=Sao Tome and Principe<br>Year=%{x}<br>Access to electricity (% pop)=%{y}<extra></extra>",
         "legendgroup": "Sao Tome and Principe",
         "line": {
          "color": "#19d3f3",
          "dash": "solid"
         },
         "marker": {
          "symbol": "circle"
         },
         "mode": "lines",
         "name": "Sao Tome and Principe",
         "showlegend": true,
         "type": "scattergl",
         "x": [
          "1990 [YR1990]",
          "2000 [YR2000]",
          "2014 [YR2014]",
          "2015 [YR2015]",
          "2016 [YR2016]",
          "2017 [YR2017]",
          "2018 [YR2018]",
          "2019 [YR2019]",
          "2020 [YR2020]",
          "2021 [YR2021]",
          "2022 [YR2022]",
          "2023 [YR2023]"
         ],
         "xaxis": "x",
         "y": [
          null,
          52.9,
          68.6,
          67.3,
          69.4,
          74.3,
          71,
          75.1,
          76.8,
          78.5,
          78,
          null
         ],
         "yaxis": "y"
        },
        {
         "hovertemplate": "Country Name=Saudi Arabia<br>Year=%{x}<br>Access to electricity (% pop)=%{y}<extra></extra>",
         "legendgroup": "Saudi Arabia",
         "line": {
          "color": "#FF6692",
          "dash": "solid"
         },
         "marker": {
          "symbol": "circle"
         },
         "mode": "lines",
         "name": "Saudi Arabia",
         "showlegend": true,
         "type": "scattergl",
         "x": [
          "1990 [YR1990]",
          "2000 [YR2000]",
          "2014 [YR2014]",
          "2015 [YR2015]",
          "2016 [YR2016]",
          "2017 [YR2017]",
          "2018 [YR2018]",
          "2019 [YR2019]",
          "2020 [YR2020]",
          "2021 [YR2021]",
          "2022 [YR2022]",
          "2023 [YR2023]"
         ],
         "xaxis": "x",
         "y": [
          100,
          100,
          100,
          100,
          99.9,
          100,
          99.9,
          100,
          100,
          100,
          100,
          null
         ],
         "yaxis": "y"
        },
        {
         "hovertemplate": "Country Name=Senegal<br>Year=%{x}<br>Access to electricity (% pop)=%{y}<extra></extra>",
         "legendgroup": "Senegal",
         "line": {
          "color": "#B6E880",
          "dash": "solid"
         },
         "marker": {
          "symbol": "circle"
         },
         "mode": "lines",
         "name": "Senegal",
         "showlegend": true,
         "type": "scattergl",
         "x": [
          "1990 [YR1990]",
          "2000 [YR2000]",
          "2014 [YR2014]",
          "2015 [YR2015]",
          "2016 [YR2016]",
          "2017 [YR2017]",
          "2018 [YR2018]",
          "2019 [YR2019]",
          "2020 [YR2020]",
          "2021 [YR2021]",
          "2022 [YR2022]",
          "2023 [YR2023]"
         ],
         "xaxis": "x",
         "y": [
          null,
          37.7,
          61,
          60.5,
          64.5,
          61.7,
          66,
          70.4,
          64.3,
          68,
          67.9,
          null
         ],
         "yaxis": "y"
        },
        {
         "hovertemplate": "Country Name=Serbia<br>Year=%{x}<br>Access to electricity (% pop)=%{y}<extra></extra>",
         "legendgroup": "Serbia",
         "line": {
          "color": "#FF97FF",
          "dash": "solid"
         },
         "marker": {
          "symbol": "circle"
         },
         "mode": "lines",
         "name": "Serbia",
         "showlegend": true,
         "type": "scattergl",
         "x": [
          "1990 [YR1990]",
          "2000 [YR2000]",
          "2014 [YR2014]",
          "2015 [YR2015]",
          "2016 [YR2016]",
          "2017 [YR2017]",
          "2018 [YR2018]",
          "2019 [YR2019]",
          "2020 [YR2020]",
          "2021 [YR2021]",
          "2022 [YR2022]",
          "2023 [YR2023]"
         ],
         "xaxis": "x",
         "y": [
          100,
          99.9,
          99.7,
          99.9,
          99.9,
          100,
          100,
          99.8,
          100,
          100,
          100,
          null
         ],
         "yaxis": "y"
        },
        {
         "hovertemplate": "Country Name=Seychelles<br>Year=%{x}<br>Access to electricity (% pop)=%{y}<extra></extra>",
         "legendgroup": "Seychelles",
         "line": {
          "color": "#FECB52",
          "dash": "solid"
         },
         "marker": {
          "symbol": "circle"
         },
         "mode": "lines",
         "name": "Seychelles",
         "showlegend": true,
         "type": "scattergl",
         "x": [
          "1990 [YR1990]",
          "2000 [YR2000]",
          "2014 [YR2014]",
          "2015 [YR2015]",
          "2016 [YR2016]",
          "2017 [YR2017]",
          "2018 [YR2018]",
          "2019 [YR2019]",
          "2020 [YR2020]",
          "2021 [YR2021]",
          "2022 [YR2022]",
          "2023 [YR2023]"
         ],
         "xaxis": "x",
         "y": [
          null,
          94.1,
          100,
          100,
          100,
          100,
          100,
          100,
          100,
          100,
          100,
          null
         ],
         "yaxis": "y"
        },
        {
         "hovertemplate": "Country Name=Sierra Leone<br>Year=%{x}<br>Access to electricity (% pop)=%{y}<extra></extra>",
         "legendgroup": "Sierra Leone",
         "line": {
          "color": "#636efa",
          "dash": "solid"
         },
         "marker": {
          "symbol": "circle"
         },
         "mode": "lines",
         "name": "Sierra Leone",
         "showlegend": true,
         "type": "scattergl",
         "x": [
          "1990 [YR1990]",
          "2000 [YR2000]",
          "2014 [YR2014]",
          "2015 [YR2015]",
          "2016 [YR2016]",
          "2017 [YR2017]",
          "2018 [YR2018]",
          "2019 [YR2019]",
          "2020 [YR2020]",
          "2021 [YR2021]",
          "2022 [YR2022]",
          "2023 [YR2023]"
         ],
         "xaxis": "x",
         "y": [
          null,
          7.7,
          18.8,
          19.7,
          20.3,
          23.4,
          26.1,
          22.7,
          26.3,
          27.5,
          29.4,
          null
         ],
         "yaxis": "y"
        },
        {
         "hovertemplate": "Country Name=Singapore<br>Year=%{x}<br>Access to electricity (% pop)=%{y}<extra></extra>",
         "legendgroup": "Singapore",
         "line": {
          "color": "#EF553B",
          "dash": "solid"
         },
         "marker": {
          "symbol": "circle"
         },
         "mode": "lines",
         "name": "Singapore",
         "showlegend": true,
         "type": "scattergl",
         "x": [
          "1990 [YR1990]",
          "2000 [YR2000]",
          "2014 [YR2014]",
          "2015 [YR2015]",
          "2016 [YR2016]",
          "2017 [YR2017]",
          "2018 [YR2018]",
          "2019 [YR2019]",
          "2020 [YR2020]",
          "2021 [YR2021]",
          "2022 [YR2022]",
          "2023 [YR2023]"
         ],
         "xaxis": "x",
         "y": [
          100,
          100,
          100,
          100,
          100,
          100,
          100,
          100,
          100,
          100,
          100,
          null
         ],
         "yaxis": "y"
        },
        {
         "hovertemplate": "Country Name=Sint Maarten (Dutch part)<br>Year=%{x}<br>Access to electricity (% pop)=%{y}<extra></extra>",
         "legendgroup": "Sint Maarten (Dutch part)",
         "line": {
          "color": "#00cc96",
          "dash": "solid"
         },
         "marker": {
          "symbol": "circle"
         },
         "mode": "lines",
         "name": "Sint Maarten (Dutch part)",
         "showlegend": true,
         "type": "scattergl",
         "x": [
          "1990 [YR1990]",
          "2000 [YR2000]",
          "2014 [YR2014]",
          "2015 [YR2015]",
          "2016 [YR2016]",
          "2017 [YR2017]",
          "2018 [YR2018]",
          "2019 [YR2019]",
          "2020 [YR2020]",
          "2021 [YR2021]",
          "2022 [YR2022]",
          "2023 [YR2023]"
         ],
         "xaxis": "x",
         "y": [
          100,
          100,
          100,
          100,
          100,
          100,
          100,
          100,
          100,
          100,
          100,
          null
         ],
         "yaxis": "y"
        },
        {
         "hovertemplate": "Country Name=Slovak Republic<br>Year=%{x}<br>Access to electricity (% pop)=%{y}<extra></extra>",
         "legendgroup": "Slovak Republic",
         "line": {
          "color": "#ab63fa",
          "dash": "solid"
         },
         "marker": {
          "symbol": "circle"
         },
         "mode": "lines",
         "name": "Slovak Republic",
         "showlegend": true,
         "type": "scattergl",
         "x": [
          "1990 [YR1990]",
          "2000 [YR2000]",
          "2014 [YR2014]",
          "2015 [YR2015]",
          "2016 [YR2016]",
          "2017 [YR2017]",
          "2018 [YR2018]",
          "2019 [YR2019]",
          "2020 [YR2020]",
          "2021 [YR2021]",
          "2022 [YR2022]",
          "2023 [YR2023]"
         ],
         "xaxis": "x",
         "y": [
          100,
          100,
          100,
          100,
          100,
          100,
          100,
          100,
          100,
          100,
          100,
          null
         ],
         "yaxis": "y"
        },
        {
         "hovertemplate": "Country Name=Slovenia<br>Year=%{x}<br>Access to electricity (% pop)=%{y}<extra></extra>",
         "legendgroup": "Slovenia",
         "line": {
          "color": "#FFA15A",
          "dash": "solid"
         },
         "marker": {
          "symbol": "circle"
         },
         "mode": "lines",
         "name": "Slovenia",
         "showlegend": true,
         "type": "scattergl",
         "x": [
          "1990 [YR1990]",
          "2000 [YR2000]",
          "2014 [YR2014]",
          "2015 [YR2015]",
          "2016 [YR2016]",
          "2017 [YR2017]",
          "2018 [YR2018]",
          "2019 [YR2019]",
          "2020 [YR2020]",
          "2021 [YR2021]",
          "2022 [YR2022]",
          "2023 [YR2023]"
         ],
         "xaxis": "x",
         "y": [
          100,
          100,
          100,
          100,
          100,
          100,
          100,
          100,
          100,
          100,
          100,
          null
         ],
         "yaxis": "y"
        },
        {
         "hovertemplate": "Country Name=Solomon Islands<br>Year=%{x}<br>Access to electricity (% pop)=%{y}<extra></extra>",
         "legendgroup": "Solomon Islands",
         "line": {
          "color": "#19d3f3",
          "dash": "solid"
         },
         "marker": {
          "symbol": "circle"
         },
         "mode": "lines",
         "name": "Solomon Islands",
         "showlegend": true,
         "type": "scattergl",
         "x": [
          "1990 [YR1990]",
          "2000 [YR2000]",
          "2014 [YR2014]",
          "2015 [YR2015]",
          "2016 [YR2016]",
          "2017 [YR2017]",
          "2018 [YR2018]",
          "2019 [YR2019]",
          "2020 [YR2020]",
          "2021 [YR2021]",
          "2022 [YR2022]",
          "2023 [YR2023]"
         ],
         "xaxis": "x",
         "y": [
          null,
          4.7,
          50.5,
          55.1,
          58.2,
          62.9,
          65.8,
          69.4,
          72.9,
          76.3,
          76,
          null
         ],
         "yaxis": "y"
        },
        {
         "hovertemplate": "Country Name=Somalia<br>Year=%{x}<br>Access to electricity (% pop)=%{y}<extra></extra>",
         "legendgroup": "Somalia",
         "line": {
          "color": "#FF6692",
          "dash": "solid"
         },
         "marker": {
          "symbol": "circle"
         },
         "mode": "lines",
         "name": "Somalia",
         "showlegend": true,
         "type": "scattergl",
         "x": [
          "1990 [YR1990]",
          "2000 [YR2000]",
          "2014 [YR2014]",
          "2015 [YR2015]",
          "2016 [YR2016]",
          "2017 [YR2017]",
          "2018 [YR2018]",
          "2019 [YR2019]",
          "2020 [YR2020]",
          "2021 [YR2021]",
          "2022 [YR2022]",
          "2023 [YR2023]"
         ],
         "xaxis": "x",
         "y": [
          null,
          2.1,
          51.4,
          51.2,
          51.1,
          52.1,
          50.7,
          49.2,
          49.9,
          49.3,
          48.9,
          null
         ],
         "yaxis": "y"
        },
        {
         "hovertemplate": "Country Name=South Africa<br>Year=%{x}<br>Access to electricity (% pop)=%{y}<extra></extra>",
         "legendgroup": "South Africa",
         "line": {
          "color": "#B6E880",
          "dash": "solid"
         },
         "marker": {
          "symbol": "circle"
         },
         "mode": "lines",
         "name": "South Africa",
         "showlegend": true,
         "type": "scattergl",
         "x": [
          "1990 [YR1990]",
          "2000 [YR2000]",
          "2014 [YR2014]",
          "2015 [YR2015]",
          "2016 [YR2016]",
          "2017 [YR2017]",
          "2018 [YR2018]",
          "2019 [YR2019]",
          "2020 [YR2020]",
          "2021 [YR2021]",
          "2022 [YR2022]",
          "2023 [YR2023]"
         ],
         "xaxis": "x",
         "y": [
          null,
          72.4,
          85.9,
          85.3,
          83.9,
          84.4,
          84.7,
          85,
          90,
          89.3,
          86.5,
          null
         ],
         "yaxis": "y"
        },
        {
         "hovertemplate": "Country Name=South Sudan<br>Year=%{x}<br>Access to electricity (% pop)=%{y}<extra></extra>",
         "legendgroup": "South Sudan",
         "line": {
          "color": "#FF97FF",
          "dash": "solid"
         },
         "marker": {
          "symbol": "circle"
         },
         "mode": "lines",
         "name": "South Sudan",
         "showlegend": true,
         "type": "scattergl",
         "x": [
          "1990 [YR1990]",
          "2000 [YR2000]",
          "2014 [YR2014]",
          "2015 [YR2015]",
          "2016 [YR2016]",
          "2017 [YR2017]",
          "2018 [YR2018]",
          "2019 [YR2019]",
          "2020 [YR2020]",
          "2021 [YR2021]",
          "2022 [YR2022]",
          "2023 [YR2023]"
         ],
         "xaxis": "x",
         "y": [
          null,
          null,
          4.3,
          4.8,
          5.3,
          4.2,
          6.3,
          6.8,
          7.3,
          7.7,
          8.4,
          null
         ],
         "yaxis": "y"
        },
        {
         "hovertemplate": "Country Name=Spain<br>Year=%{x}<br>Access to electricity (% pop)=%{y}<extra></extra>",
         "legendgroup": "Spain",
         "line": {
          "color": "#FECB52",
          "dash": "solid"
         },
         "marker": {
          "symbol": "circle"
         },
         "mode": "lines",
         "name": "Spain",
         "showlegend": true,
         "type": "scattergl",
         "x": [
          "1990 [YR1990]",
          "2000 [YR2000]",
          "2014 [YR2014]",
          "2015 [YR2015]",
          "2016 [YR2016]",
          "2017 [YR2017]",
          "2018 [YR2018]",
          "2019 [YR2019]",
          "2020 [YR2020]",
          "2021 [YR2021]",
          "2022 [YR2022]",
          "2023 [YR2023]"
         ],
         "xaxis": "x",
         "y": [
          100,
          100,
          100,
          100,
          100,
          100,
          100,
          100,
          100,
          100,
          100,
          null
         ],
         "yaxis": "y"
        },
        {
         "hovertemplate": "Country Name=Sri Lanka<br>Year=%{x}<br>Access to electricity (% pop)=%{y}<extra></extra>",
         "legendgroup": "Sri Lanka",
         "line": {
          "color": "#636efa",
          "dash": "solid"
         },
         "marker": {
          "symbol": "circle"
         },
         "mode": "lines",
         "name": "Sri Lanka",
         "showlegend": true,
         "type": "scattergl",
         "x": [
          "1990 [YR1990]",
          "2000 [YR2000]",
          "2014 [YR2014]",
          "2015 [YR2015]",
          "2016 [YR2016]",
          "2017 [YR2017]",
          "2018 [YR2018]",
          "2019 [YR2019]",
          "2020 [YR2020]",
          "2021 [YR2021]",
          "2022 [YR2022]",
          "2023 [YR2023]"
         ],
         "xaxis": "x",
         "y": [
          null,
          70.3,
          92.7,
          94.3,
          97.5,
          97.5,
          99.6,
          99.8,
          100,
          100,
          100,
          null
         ],
         "yaxis": "y"
        },
        {
         "hovertemplate": "Country Name=St. Kitts and Nevis<br>Year=%{x}<br>Access to electricity (% pop)=%{y}<extra></extra>",
         "legendgroup": "St. Kitts and Nevis",
         "line": {
          "color": "#EF553B",
          "dash": "solid"
         },
         "marker": {
          "symbol": "circle"
         },
         "mode": "lines",
         "name": "St. Kitts and Nevis",
         "showlegend": true,
         "type": "scattergl",
         "x": [
          "1990 [YR1990]",
          "2000 [YR2000]",
          "2014 [YR2014]",
          "2015 [YR2015]",
          "2016 [YR2016]",
          "2017 [YR2017]",
          "2018 [YR2018]",
          "2019 [YR2019]",
          "2020 [YR2020]",
          "2021 [YR2021]",
          "2022 [YR2022]",
          "2023 [YR2023]"
         ],
         "xaxis": "x",
         "y": [
          91.3068161010742,
          95.4,
          100,
          100,
          100,
          100,
          100,
          100,
          100,
          100,
          100,
          null
         ],
         "yaxis": "y"
        },
        {
         "hovertemplate": "Country Name=St. Lucia<br>Year=%{x}<br>Access to electricity (% pop)=%{y}<extra></extra>",
         "legendgroup": "St. Lucia",
         "line": {
          "color": "#00cc96",
          "dash": "solid"
         },
         "marker": {
          "symbol": "circle"
         },
         "mode": "lines",
         "name": "St. Lucia",
         "showlegend": true,
         "type": "scattergl",
         "x": [
          "1990 [YR1990]",
          "2000 [YR2000]",
          "2014 [YR2014]",
          "2015 [YR2015]",
          "2016 [YR2016]",
          "2017 [YR2017]",
          "2018 [YR2018]",
          "2019 [YR2019]",
          "2020 [YR2020]",
          "2021 [YR2021]",
          "2022 [YR2022]",
          "2023 [YR2023]"
         ],
         "xaxis": "x",
         "y": [
          null,
          86,
          98.1,
          99,
          99.8,
          99.9,
          100,
          100,
          100,
          100,
          100,
          null
         ],
         "yaxis": "y"
        },
        {
         "hovertemplate": "Country Name=St. Martin (French part)<br>Year=%{x}<br>Access to electricity (% pop)=%{y}<extra></extra>",
         "legendgroup": "St. Martin (French part)",
         "line": {
          "color": "#ab63fa",
          "dash": "solid"
         },
         "marker": {
          "symbol": "circle"
         },
         "mode": "lines",
         "name": "St. Martin (French part)",
         "showlegend": true,
         "type": "scattergl",
         "x": [
          "1990 [YR1990]",
          "2000 [YR2000]",
          "2014 [YR2014]",
          "2015 [YR2015]",
          "2016 [YR2016]",
          "2017 [YR2017]",
          "2018 [YR2018]",
          "2019 [YR2019]",
          "2020 [YR2020]",
          "2021 [YR2021]",
          "2022 [YR2022]",
          "2023 [YR2023]"
         ],
         "xaxis": "x",
         "y": [
          100,
          100,
          100,
          100,
          100,
          100,
          100,
          100,
          100,
          100,
          100,
          null
         ],
         "yaxis": "y"
        },
        {
         "hovertemplate": "Country Name=St. Vincent and the Grenadines<br>Year=%{x}<br>Access to electricity (% pop)=%{y}<extra></extra>",
         "legendgroup": "St. Vincent and the Grenadines",
         "line": {
          "color": "#FFA15A",
          "dash": "solid"
         },
         "marker": {
          "symbol": "circle"
         },
         "mode": "lines",
         "name": "St. Vincent and the Grenadines",
         "showlegend": true,
         "type": "scattergl",
         "x": [
          "1990 [YR1990]",
          "2000 [YR2000]",
          "2014 [YR2014]",
          "2015 [YR2015]",
          "2016 [YR2016]",
          "2017 [YR2017]",
          "2018 [YR2018]",
          "2019 [YR2019]",
          "2020 [YR2020]",
          "2021 [YR2021]",
          "2022 [YR2022]",
          "2023 [YR2023]"
         ],
         "xaxis": "x",
         "y": [
          null,
          80,
          98.1,
          99.4,
          99.7,
          100,
          100,
          100,
          100,
          100,
          100,
          null
         ],
         "yaxis": "y"
        },
        {
         "hovertemplate": "Country Name=Sudan<br>Year=%{x}<br>Access to electricity (% pop)=%{y}<extra></extra>",
         "legendgroup": "Sudan",
         "line": {
          "color": "#19d3f3",
          "dash": "solid"
         },
         "marker": {
          "symbol": "circle"
         },
         "mode": "lines",
         "name": "Sudan",
         "showlegend": true,
         "type": "scattergl",
         "x": [
          "1990 [YR1990]",
          "2000 [YR2000]",
          "2014 [YR2014]",
          "2015 [YR2015]",
          "2016 [YR2016]",
          "2017 [YR2017]",
          "2018 [YR2018]",
          "2019 [YR2019]",
          "2020 [YR2020]",
          "2021 [YR2021]",
          "2022 [YR2022]",
          "2023 [YR2023]"
         ],
         "xaxis": "x",
         "y": [
          32.8,
          23,
          44.9,
          48,
          50.5,
          53,
          55.3,
          57.6,
          59.7,
          61.8,
          63.2,
          null
         ],
         "yaxis": "y"
        },
        {
         "hovertemplate": "Country Name=Suriname<br>Year=%{x}<br>Access to electricity (% pop)=%{y}<extra></extra>",
         "legendgroup": "Suriname",
         "line": {
          "color": "#FF6692",
          "dash": "solid"
         },
         "marker": {
          "symbol": "circle"
         },
         "mode": "lines",
         "name": "Suriname",
         "showlegend": true,
         "type": "scattergl",
         "x": [
          "1990 [YR1990]",
          "2000 [YR2000]",
          "2014 [YR2014]",
          "2015 [YR2015]",
          "2016 [YR2016]",
          "2017 [YR2017]",
          "2018 [YR2018]",
          "2019 [YR2019]",
          "2020 [YR2020]",
          "2021 [YR2021]",
          "2022 [YR2022]",
          "2023 [YR2023]"
         ],
         "xaxis": "x",
         "y": [
          null,
          95.4,
          94.6,
          95,
          95.8,
          96.6,
          97.4,
          97.9,
          98.4,
          98.8,
          99,
          null
         ],
         "yaxis": "y"
        },
        {
         "hovertemplate": "Country Name=Sweden<br>Year=%{x}<br>Access to electricity (% pop)=%{y}<extra></extra>",
         "legendgroup": "Sweden",
         "line": {
          "color": "#B6E880",
          "dash": "solid"
         },
         "marker": {
          "symbol": "circle"
         },
         "mode": "lines",
         "name": "Sweden",
         "showlegend": true,
         "type": "scattergl",
         "x": [
          "1990 [YR1990]",
          "2000 [YR2000]",
          "2014 [YR2014]",
          "2015 [YR2015]",
          "2016 [YR2016]",
          "2017 [YR2017]",
          "2018 [YR2018]",
          "2019 [YR2019]",
          "2020 [YR2020]",
          "2021 [YR2021]",
          "2022 [YR2022]",
          "2023 [YR2023]"
         ],
         "xaxis": "x",
         "y": [
          100,
          100,
          100,
          100,
          100,
          100,
          100,
          100,
          100,
          100,
          100,
          null
         ],
         "yaxis": "y"
        },
        {
         "hovertemplate": "Country Name=Switzerland<br>Year=%{x}<br>Access to electricity (% pop)=%{y}<extra></extra>",
         "legendgroup": "Switzerland",
         "line": {
          "color": "#FF97FF",
          "dash": "solid"
         },
         "marker": {
          "symbol": "circle"
         },
         "mode": "lines",
         "name": "Switzerland",
         "showlegend": true,
         "type": "scattergl",
         "x": [
          "1990 [YR1990]",
          "2000 [YR2000]",
          "2014 [YR2014]",
          "2015 [YR2015]",
          "2016 [YR2016]",
          "2017 [YR2017]",
          "2018 [YR2018]",
          "2019 [YR2019]",
          "2020 [YR2020]",
          "2021 [YR2021]",
          "2022 [YR2022]",
          "2023 [YR2023]"
         ],
         "xaxis": "x",
         "y": [
          100,
          100,
          100,
          100,
          100,
          100,
          100,
          100,
          100,
          100,
          100,
          null
         ],
         "yaxis": "y"
        },
        {
         "hovertemplate": "Country Name=Syrian Arab Republic<br>Year=%{x}<br>Access to electricity (% pop)=%{y}<extra></extra>",
         "legendgroup": "Syrian Arab Republic",
         "line": {
          "color": "#FECB52",
          "dash": "solid"
         },
         "marker": {
          "symbol": "circle"
         },
         "mode": "lines",
         "name": "Syrian Arab Republic",
         "showlegend": true,
         "type": "scattergl",
         "x": [
          "1990 [YR1990]",
          "2000 [YR2000]",
          "2014 [YR2014]",
          "2015 [YR2015]",
          "2016 [YR2016]",
          "2017 [YR2017]",
          "2018 [YR2018]",
          "2019 [YR2019]",
          "2020 [YR2020]",
          "2021 [YR2021]",
          "2022 [YR2022]",
          "2023 [YR2023]"
         ],
         "xaxis": "x",
         "y": [
          null,
          93.4,
          90.2,
          90,
          89.8,
          89.6,
          86,
          89.2,
          89,
          88.8,
          89,
          null
         ],
         "yaxis": "y"
        },
        {
         "hovertemplate": "Country Name=Tajikistan<br>Year=%{x}<br>Access to electricity (% pop)=%{y}<extra></extra>",
         "legendgroup": "Tajikistan",
         "line": {
          "color": "#636efa",
          "dash": "solid"
         },
         "marker": {
          "symbol": "circle"
         },
         "mode": "lines",
         "name": "Tajikistan",
         "showlegend": true,
         "type": "scattergl",
         "x": [
          "1990 [YR1990]",
          "2000 [YR2000]",
          "2014 [YR2014]",
          "2015 [YR2015]",
          "2016 [YR2016]",
          "2017 [YR2017]",
          "2018 [YR2018]",
          "2019 [YR2019]",
          "2020 [YR2020]",
          "2021 [YR2021]",
          "2022 [YR2022]",
          "2023 [YR2023]"
         ],
         "xaxis": "x",
         "y": [
          null,
          98.5,
          99.1,
          98,
          99.3,
          99.3,
          99.3,
          99.4,
          99.5,
          99.6,
          100,
          null
         ],
         "yaxis": "y"
        },
        {
         "hovertemplate": "Country Name=Tanzania<br>Year=%{x}<br>Access to electricity (% pop)=%{y}<extra></extra>",
         "legendgroup": "Tanzania",
         "line": {
          "color": "#EF553B",
          "dash": "solid"
         },
         "marker": {
          "symbol": "circle"
         },
         "mode": "lines",
         "name": "Tanzania",
         "showlegend": true,
         "type": "scattergl",
         "x": [
          "1990 [YR1990]",
          "2000 [YR2000]",
          "2014 [YR2014]",
          "2015 [YR2015]",
          "2016 [YR2016]",
          "2017 [YR2017]",
          "2018 [YR2018]",
          "2019 [YR2019]",
          "2020 [YR2020]",
          "2021 [YR2021]",
          "2022 [YR2022]",
          "2023 [YR2023]"
         ],
         "xaxis": "x",
         "y": [
          null,
          8.7,
          23.5,
          26.2,
          32.8,
          32.1,
          34.9,
          37.7,
          39.9,
          42.7,
          45.8,
          null
         ],
         "yaxis": "y"
        },
        {
         "hovertemplate": "Country Name=Thailand<br>Year=%{x}<br>Access to electricity (% pop)=%{y}<extra></extra>",
         "legendgroup": "Thailand",
         "line": {
          "color": "#00cc96",
          "dash": "solid"
         },
         "marker": {
          "symbol": "circle"
         },
         "mode": "lines",
         "name": "Thailand",
         "showlegend": true,
         "type": "scattergl",
         "x": [
          "1990 [YR1990]",
          "2000 [YR2000]",
          "2014 [YR2014]",
          "2015 [YR2015]",
          "2016 [YR2016]",
          "2017 [YR2017]",
          "2018 [YR2018]",
          "2019 [YR2019]",
          "2020 [YR2020]",
          "2021 [YR2021]",
          "2022 [YR2022]",
          "2023 [YR2023]"
         ],
         "xaxis": "x",
         "y": [
          null,
          82.1,
          99.5,
          99.6,
          99.9,
          99.9,
          99.8,
          99.9,
          100,
          100,
          99.9,
          null
         ],
         "yaxis": "y"
        },
        {
         "hovertemplate": "Country Name=Timor-Leste<br>Year=%{x}<br>Access to electricity (% pop)=%{y}<extra></extra>",
         "legendgroup": "Timor-Leste",
         "line": {
          "color": "#ab63fa",
          "dash": "solid"
         },
         "marker": {
          "symbol": "circle"
         },
         "mode": "lines",
         "name": "Timor-Leste",
         "showlegend": true,
         "type": "scattergl",
         "x": [
          "1990 [YR1990]",
          "2000 [YR2000]",
          "2014 [YR2014]",
          "2015 [YR2015]",
          "2016 [YR2016]",
          "2017 [YR2017]",
          "2018 [YR2018]",
          "2019 [YR2019]",
          "2020 [YR2020]",
          "2021 [YR2021]",
          "2022 [YR2022]",
          "2023 [YR2023]"
         ],
         "xaxis": "x",
         "y": [
          null,
          17.8,
          62.4,
          67.3,
          76.5,
          79.5,
          85.2,
          90.6,
          96,
          100,
          99.7,
          null
         ],
         "yaxis": "y"
        },
        {
         "hovertemplate": "Country Name=Togo<br>Year=%{x}<br>Access to electricity (% pop)=%{y}<extra></extra>",
         "legendgroup": "Togo",
         "line": {
          "color": "#FFA15A",
          "dash": "solid"
         },
         "marker": {
          "symbol": "circle"
         },
         "mode": "lines",
         "name": "Togo",
         "showlegend": true,
         "type": "scattergl",
         "x": [
          "1990 [YR1990]",
          "2000 [YR2000]",
          "2014 [YR2014]",
          "2015 [YR2015]",
          "2016 [YR2016]",
          "2017 [YR2017]",
          "2018 [YR2018]",
          "2019 [YR2019]",
          "2020 [YR2020]",
          "2021 [YR2021]",
          "2022 [YR2022]",
          "2023 [YR2023]"
         ],
         "xaxis": "x",
         "y": [
          null,
          17,
          45.7,
          44.7,
          46.8,
          48,
          50,
          52.5,
          54.1,
          55.7,
          57.2,
          null
         ],
         "yaxis": "y"
        },
        {
         "hovertemplate": "Country Name=Tonga<br>Year=%{x}<br>Access to electricity (% pop)=%{y}<extra></extra>",
         "legendgroup": "Tonga",
         "line": {
          "color": "#19d3f3",
          "dash": "solid"
         },
         "marker": {
          "symbol": "circle"
         },
         "mode": "lines",
         "name": "Tonga",
         "showlegend": true,
         "type": "scattergl",
         "x": [
          "1990 [YR1990]",
          "2000 [YR2000]",
          "2014 [YR2014]",
          "2015 [YR2015]",
          "2016 [YR2016]",
          "2017 [YR2017]",
          "2018 [YR2018]",
          "2019 [YR2019]",
          "2020 [YR2020]",
          "2021 [YR2021]",
          "2022 [YR2022]",
          "2023 [YR2023]"
         ],
         "xaxis": "x",
         "y": [
          null,
          85.6,
          95.9,
          100,
          97,
          98.2,
          99,
          98.4,
          99.9,
          100,
          100,
          null
         ],
         "yaxis": "y"
        },
        {
         "hovertemplate": "Country Name=Trinidad and Tobago<br>Year=%{x}<br>Access to electricity (% pop)=%{y}<extra></extra>",
         "legendgroup": "Trinidad and Tobago",
         "line": {
          "color": "#FF6692",
          "dash": "solid"
         },
         "marker": {
          "symbol": "circle"
         },
         "mode": "lines",
         "name": "Trinidad and Tobago",
         "showlegend": true,
         "type": "scattergl",
         "x": [
          "1990 [YR1990]",
          "2000 [YR2000]",
          "2014 [YR2014]",
          "2015 [YR2015]",
          "2016 [YR2016]",
          "2017 [YR2017]",
          "2018 [YR2018]",
          "2019 [YR2019]",
          "2020 [YR2020]",
          "2021 [YR2021]",
          "2022 [YR2022]",
          "2023 [YR2023]"
         ],
         "xaxis": "x",
         "y": [
          null,
          91.3,
          100,
          100,
          100,
          100,
          100,
          100,
          100,
          100,
          100,
          null
         ],
         "yaxis": "y"
        },
        {
         "hovertemplate": "Country Name=Tunisia<br>Year=%{x}<br>Access to electricity (% pop)=%{y}<extra></extra>",
         "legendgroup": "Tunisia",
         "line": {
          "color": "#B6E880",
          "dash": "solid"
         },
         "marker": {
          "symbol": "circle"
         },
         "mode": "lines",
         "name": "Tunisia",
         "showlegend": true,
         "type": "scattergl",
         "x": [
          "1990 [YR1990]",
          "2000 [YR2000]",
          "2014 [YR2014]",
          "2015 [YR2015]",
          "2016 [YR2016]",
          "2017 [YR2017]",
          "2018 [YR2018]",
          "2019 [YR2019]",
          "2020 [YR2020]",
          "2021 [YR2021]",
          "2022 [YR2022]",
          "2023 [YR2023]"
         ],
         "xaxis": "x",
         "y": [
          null,
          94.8,
          99.8,
          99.9,
          100,
          100,
          99.8,
          100,
          99.9,
          99.9,
          100,
          null
         ],
         "yaxis": "y"
        },
        {
         "hovertemplate": "Country Name=Turkiye<br>Year=%{x}<br>Access to electricity (% pop)=%{y}<extra></extra>",
         "legendgroup": "Turkiye",
         "line": {
          "color": "#FF97FF",
          "dash": "solid"
         },
         "marker": {
          "symbol": "circle"
         },
         "mode": "lines",
         "name": "Turkiye",
         "showlegend": true,
         "type": "scattergl",
         "x": [
          "1990 [YR1990]",
          "2000 [YR2000]",
          "2014 [YR2014]",
          "2015 [YR2015]",
          "2016 [YR2016]",
          "2017 [YR2017]",
          "2018 [YR2018]",
          "2019 [YR2019]",
          "2020 [YR2020]",
          "2021 [YR2021]",
          "2022 [YR2022]",
          "2023 [YR2023]"
         ],
         "xaxis": "x",
         "y": [
          null,
          99.9,
          100,
          100,
          100,
          100,
          100,
          100,
          100,
          100,
          100,
          null
         ],
         "yaxis": "y"
        },
        {
         "hovertemplate": "Country Name=Turkmenistan<br>Year=%{x}<br>Access to electricity (% pop)=%{y}<extra></extra>",
         "legendgroup": "Turkmenistan",
         "line": {
          "color": "#FECB52",
          "dash": "solid"
         },
         "marker": {
          "symbol": "circle"
         },
         "mode": "lines",
         "name": "Turkmenistan",
         "showlegend": true,
         "type": "scattergl",
         "x": [
          "1990 [YR1990]",
          "2000 [YR2000]",
          "2014 [YR2014]",
          "2015 [YR2015]",
          "2016 [YR2016]",
          "2017 [YR2017]",
          "2018 [YR2018]",
          "2019 [YR2019]",
          "2020 [YR2020]",
          "2021 [YR2021]",
          "2022 [YR2022]",
          "2023 [YR2023]"
         ],
         "xaxis": "x",
         "y": [
          null,
          99.6,
          100,
          100,
          100,
          100,
          100,
          99.9,
          100,
          100,
          100,
          null
         ],
         "yaxis": "y"
        },
        {
         "hovertemplate": "Country Name=Turks and Caicos Islands<br>Year=%{x}<br>Access to electricity (% pop)=%{y}<extra></extra>",
         "legendgroup": "Turks and Caicos Islands",
         "line": {
          "color": "#636efa",
          "dash": "solid"
         },
         "marker": {
          "symbol": "circle"
         },
         "mode": "lines",
         "name": "Turks and Caicos Islands",
         "showlegend": true,
         "type": "scattergl",
         "x": [
          "1990 [YR1990]",
          "2000 [YR2000]",
          "2014 [YR2014]",
          "2015 [YR2015]",
          "2016 [YR2016]",
          "2017 [YR2017]",
          "2018 [YR2018]",
          "2019 [YR2019]",
          "2020 [YR2020]",
          "2021 [YR2021]",
          "2022 [YR2022]",
          "2023 [YR2023]"
         ],
         "xaxis": "x",
         "y": [
          88.7,
          95.6,
          100,
          100,
          100,
          100,
          100,
          100,
          99.4,
          100,
          99.9,
          null
         ],
         "yaxis": "y"
        },
        {
         "hovertemplate": "Country Name=Tuvalu<br>Year=%{x}<br>Access to electricity (% pop)=%{y}<extra></extra>",
         "legendgroup": "Tuvalu",
         "line": {
          "color": "#EF553B",
          "dash": "solid"
         },
         "marker": {
          "symbol": "circle"
         },
         "mode": "lines",
         "name": "Tuvalu",
         "showlegend": true,
         "type": "scattergl",
         "x": [
          "1990 [YR1990]",
          "2000 [YR2000]",
          "2014 [YR2014]",
          "2015 [YR2015]",
          "2016 [YR2016]",
          "2017 [YR2017]",
          "2018 [YR2018]",
          "2019 [YR2019]",
          "2020 [YR2020]",
          "2021 [YR2021]",
          "2022 [YR2022]",
          "2023 [YR2023]"
         ],
         "xaxis": "x",
         "y": [
          null,
          94.6,
          97.9,
          98.1,
          97.3,
          98.7,
          99,
          99.7,
          99.4,
          99.7,
          100,
          null
         ],
         "yaxis": "y"
        },
        {
         "hovertemplate": "Country Name=Uganda<br>Year=%{x}<br>Access to electricity (% pop)=%{y}<extra></extra>",
         "legendgroup": "Uganda",
         "line": {
          "color": "#00cc96",
          "dash": "solid"
         },
         "marker": {
          "symbol": "circle"
         },
         "mode": "lines",
         "name": "Uganda",
         "showlegend": true,
         "type": "scattergl",
         "x": [
          "1990 [YR1990]",
          "2000 [YR2000]",
          "2014 [YR2014]",
          "2015 [YR2015]",
          "2016 [YR2016]",
          "2017 [YR2017]",
          "2018 [YR2018]",
          "2019 [YR2019]",
          "2020 [YR2020]",
          "2021 [YR2021]",
          "2022 [YR2022]",
          "2023 [YR2023]"
         ],
         "xaxis": "x",
         "y": [
          null,
          7.4,
          20.4,
          18.5,
          26.7,
          32.4,
          41.9,
          41.3,
          42.1,
          45.2,
          47.1,
          null
         ],
         "yaxis": "y"
        },
        {
         "hovertemplate": "Country Name=Ukraine<br>Year=%{x}<br>Access to electricity (% pop)=%{y}<extra></extra>",
         "legendgroup": "Ukraine",
         "line": {
          "color": "#ab63fa",
          "dash": "solid"
         },
         "marker": {
          "symbol": "circle"
         },
         "mode": "lines",
         "name": "Ukraine",
         "showlegend": true,
         "type": "scattergl",
         "x": [
          "1990 [YR1990]",
          "2000 [YR2000]",
          "2014 [YR2014]",
          "2015 [YR2015]",
          "2016 [YR2016]",
          "2017 [YR2017]",
          "2018 [YR2018]",
          "2019 [YR2019]",
          "2020 [YR2020]",
          "2021 [YR2021]",
          "2022 [YR2022]",
          "2023 [YR2023]"
         ],
         "xaxis": "x",
         "y": [
          100,
          99.1,
          100,
          100,
          100,
          100,
          100,
          100,
          100,
          100,
          100,
          null
         ],
         "yaxis": "y"
        },
        {
         "hovertemplate": "Country Name=United Arab Emirates<br>Year=%{x}<br>Access to electricity (% pop)=%{y}<extra></extra>",
         "legendgroup": "United Arab Emirates",
         "line": {
          "color": "#FFA15A",
          "dash": "solid"
         },
         "marker": {
          "symbol": "circle"
         },
         "mode": "lines",
         "name": "United Arab Emirates",
         "showlegend": true,
         "type": "scattergl",
         "x": [
          "1990 [YR1990]",
          "2000 [YR2000]",
          "2014 [YR2014]",
          "2015 [YR2015]",
          "2016 [YR2016]",
          "2017 [YR2017]",
          "2018 [YR2018]",
          "2019 [YR2019]",
          "2020 [YR2020]",
          "2021 [YR2021]",
          "2022 [YR2022]",
          "2023 [YR2023]"
         ],
         "xaxis": "x",
         "y": [
          100,
          100,
          100,
          100,
          100,
          100,
          100,
          100,
          100,
          100,
          100,
          null
         ],
         "yaxis": "y"
        },
        {
         "hovertemplate": "Country Name=United Kingdom<br>Year=%{x}<br>Access to electricity (% pop)=%{y}<extra></extra>",
         "legendgroup": "United Kingdom",
         "line": {
          "color": "#19d3f3",
          "dash": "solid"
         },
         "marker": {
          "symbol": "circle"
         },
         "mode": "lines",
         "name": "United Kingdom",
         "showlegend": true,
         "type": "scattergl",
         "x": [
          "1990 [YR1990]",
          "2000 [YR2000]",
          "2014 [YR2014]",
          "2015 [YR2015]",
          "2016 [YR2016]",
          "2017 [YR2017]",
          "2018 [YR2018]",
          "2019 [YR2019]",
          "2020 [YR2020]",
          "2021 [YR2021]",
          "2022 [YR2022]",
          "2023 [YR2023]"
         ],
         "xaxis": "x",
         "y": [
          100,
          100,
          100,
          100,
          100,
          100,
          100,
          100,
          100,
          100,
          100,
          null
         ],
         "yaxis": "y"
        },
        {
         "hovertemplate": "Country Name=United States<br>Year=%{x}<br>Access to electricity (% pop)=%{y}<extra></extra>",
         "legendgroup": "United States",
         "line": {
          "color": "#FF6692",
          "dash": "solid"
         },
         "marker": {
          "symbol": "circle"
         },
         "mode": "lines",
         "name": "United States",
         "showlegend": true,
         "type": "scattergl",
         "x": [
          "1990 [YR1990]",
          "2000 [YR2000]",
          "2014 [YR2014]",
          "2015 [YR2015]",
          "2016 [YR2016]",
          "2017 [YR2017]",
          "2018 [YR2018]",
          "2019 [YR2019]",
          "2020 [YR2020]",
          "2021 [YR2021]",
          "2022 [YR2022]",
          "2023 [YR2023]"
         ],
         "xaxis": "x",
         "y": [
          100,
          100,
          100,
          100,
          100,
          100,
          100,
          100,
          100,
          100,
          100,
          null
         ],
         "yaxis": "y"
        },
        {
         "hovertemplate": "Country Name=Uruguay<br>Year=%{x}<br>Access to electricity (% pop)=%{y}<extra></extra>",
         "legendgroup": "Uruguay",
         "line": {
          "color": "#B6E880",
          "dash": "solid"
         },
         "marker": {
          "symbol": "circle"
         },
         "mode": "lines",
         "name": "Uruguay",
         "showlegend": true,
         "type": "scattergl",
         "x": [
          "1990 [YR1990]",
          "2000 [YR2000]",
          "2014 [YR2014]",
          "2015 [YR2015]",
          "2016 [YR2016]",
          "2017 [YR2017]",
          "2018 [YR2018]",
          "2019 [YR2019]",
          "2020 [YR2020]",
          "2021 [YR2021]",
          "2022 [YR2022]",
          "2023 [YR2023]"
         ],
         "xaxis": "x",
         "y": [
          null,
          97.6,
          99.7,
          99.7,
          99.7,
          99.8,
          99.8,
          99.9,
          100,
          100,
          100,
          null
         ],
         "yaxis": "y"
        },
        {
         "hovertemplate": "Country Name=Uzbekistan<br>Year=%{x}<br>Access to electricity (% pop)=%{y}<extra></extra>",
         "legendgroup": "Uzbekistan",
         "line": {
          "color": "#FF97FF",
          "dash": "solid"
         },
         "marker": {
          "symbol": "circle"
         },
         "mode": "lines",
         "name": "Uzbekistan",
         "showlegend": true,
         "type": "scattergl",
         "x": [
          "1990 [YR1990]",
          "2000 [YR2000]",
          "2014 [YR2014]",
          "2015 [YR2015]",
          "2016 [YR2016]",
          "2017 [YR2017]",
          "2018 [YR2018]",
          "2019 [YR2019]",
          "2020 [YR2020]",
          "2021 [YR2021]",
          "2022 [YR2022]",
          "2023 [YR2023]"
         ],
         "xaxis": "x",
         "y": [
          null,
          99.6,
          99.8,
          99.9,
          99.9,
          100,
          100,
          100,
          100,
          99.9,
          100,
          null
         ],
         "yaxis": "y"
        },
        {
         "hovertemplate": "Country Name=Vanuatu<br>Year=%{x}<br>Access to electricity (% pop)=%{y}<extra></extra>",
         "legendgroup": "Vanuatu",
         "line": {
          "color": "#FECB52",
          "dash": "solid"
         },
         "marker": {
          "symbol": "circle"
         },
         "mode": "lines",
         "name": "Vanuatu",
         "showlegend": true,
         "type": "scattergl",
         "x": [
          "1990 [YR1990]",
          "2000 [YR2000]",
          "2014 [YR2014]",
          "2015 [YR2015]",
          "2016 [YR2016]",
          "2017 [YR2017]",
          "2018 [YR2018]",
          "2019 [YR2019]",
          "2020 [YR2020]",
          "2021 [YR2021]",
          "2022 [YR2022]",
          "2023 [YR2023]"
         ],
         "xaxis": "x",
         "y": [
          null,
          22.2,
          49.1,
          52.3,
          57.8,
          62.8,
          61.6,
          64.5,
          67.3,
          70,
          70,
          null
         ],
         "yaxis": "y"
        },
        {
         "hovertemplate": "Country Name=Venezuela, RB<br>Year=%{x}<br>Access to electricity (% pop)=%{y}<extra></extra>",
         "legendgroup": "Venezuela, RB",
         "line": {
          "color": "#636efa",
          "dash": "solid"
         },
         "marker": {
          "symbol": "circle"
         },
         "mode": "lines",
         "name": "Venezuela, RB",
         "showlegend": true,
         "type": "scattergl",
         "x": [
          "1990 [YR1990]",
          "2000 [YR2000]",
          "2014 [YR2014]",
          "2015 [YR2015]",
          "2016 [YR2016]",
          "2017 [YR2017]",
          "2018 [YR2018]",
          "2019 [YR2019]",
          "2020 [YR2020]",
          "2021 [YR2021]",
          "2022 [YR2022]",
          "2023 [YR2023]"
         ],
         "xaxis": "x",
         "y": [
          null,
          98.9,
          100,
          100,
          99.4,
          99.2,
          99.9,
          99.8,
          99.9,
          100,
          100,
          null
         ],
         "yaxis": "y"
        },
        {
         "hovertemplate": "Country Name=Viet Nam<br>Year=%{x}<br>Access to electricity (% pop)=%{y}<extra></extra>",
         "legendgroup": "Viet Nam",
         "line": {
          "color": "#EF553B",
          "dash": "solid"
         },
         "marker": {
          "symbol": "circle"
         },
         "mode": "lines",
         "name": "Viet Nam",
         "showlegend": true,
         "type": "scattergl",
         "x": [
          "1990 [YR1990]",
          "2000 [YR2000]",
          "2014 [YR2014]",
          "2015 [YR2015]",
          "2016 [YR2016]",
          "2017 [YR2017]",
          "2018 [YR2018]",
          "2019 [YR2019]",
          "2020 [YR2020]",
          "2021 [YR2021]",
          "2022 [YR2022]",
          "2023 [YR2023]"
         ],
         "xaxis": "x",
         "y": [
          null,
          88.2,
          99.2,
          99.3,
          99.2,
          100,
          100,
          99.4,
          99.8,
          100,
          100,
          null
         ],
         "yaxis": "y"
        },
        {
         "hovertemplate": "Country Name=Virgin Islands (U.S.)<br>Year=%{x}<br>Access to electricity (% pop)=%{y}<extra></extra>",
         "legendgroup": "Virgin Islands (U.S.)",
         "line": {
          "color": "#00cc96",
          "dash": "solid"
         },
         "marker": {
          "symbol": "circle"
         },
         "mode": "lines",
         "name": "Virgin Islands (U.S.)",
         "showlegend": true,
         "type": "scattergl",
         "x": [
          "1990 [YR1990]",
          "2000 [YR2000]",
          "2014 [YR2014]",
          "2015 [YR2015]",
          "2016 [YR2016]",
          "2017 [YR2017]",
          "2018 [YR2018]",
          "2019 [YR2019]",
          "2020 [YR2020]",
          "2021 [YR2021]",
          "2022 [YR2022]",
          "2023 [YR2023]"
         ],
         "xaxis": "x",
         "y": [
          100,
          100,
          100,
          100,
          100,
          100,
          100,
          100,
          100,
          100,
          100,
          null
         ],
         "yaxis": "y"
        },
        {
         "hovertemplate": "Country Name=West Bank and Gaza<br>Year=%{x}<br>Access to electricity (% pop)=%{y}<extra></extra>",
         "legendgroup": "West Bank and Gaza",
         "line": {
          "color": "#ab63fa",
          "dash": "solid"
         },
         "marker": {
          "symbol": "circle"
         },
         "mode": "lines",
         "name": "West Bank and Gaza",
         "showlegend": true,
         "type": "scattergl",
         "x": [
          "1990 [YR1990]",
          "2000 [YR2000]",
          "2014 [YR2014]",
          "2015 [YR2015]",
          "2016 [YR2016]",
          "2017 [YR2017]",
          "2018 [YR2018]",
          "2019 [YR2019]",
          "2020 [YR2020]",
          "2021 [YR2021]",
          "2022 [YR2022]",
          "2023 [YR2023]"
         ],
         "xaxis": "x",
         "y": [
          null,
          99.7,
          99.9,
          99.9,
          100,
          99.9,
          100,
          100,
          100,
          100,
          100,
          null
         ],
         "yaxis": "y"
        },
        {
         "hovertemplate": "Country Name=Yemen, Rep.<br>Year=%{x}<br>Access to electricity (% pop)=%{y}<extra></extra>",
         "legendgroup": "Yemen, Rep.",
         "line": {
          "color": "#FFA15A",
          "dash": "solid"
         },
         "marker": {
          "symbol": "circle"
         },
         "mode": "lines",
         "name": "Yemen, Rep.",
         "showlegend": true,
         "type": "scattergl",
         "x": [
          "1990 [YR1990]",
          "2000 [YR2000]",
          "2014 [YR2014]",
          "2015 [YR2015]",
          "2016 [YR2016]",
          "2017 [YR2017]",
          "2018 [YR2018]",
          "2019 [YR2019]",
          "2020 [YR2020]",
          "2021 [YR2021]",
          "2022 [YR2022]",
          "2023 [YR2023]"
         ],
         "xaxis": "x",
         "y": [
          null,
          49.2,
          66.1,
          67.4,
          68.9,
          79.2,
          62,
          72.8,
          73.9,
          74.9,
          76,
          null
         ],
         "yaxis": "y"
        },
        {
         "hovertemplate": "Country Name=Zambia<br>Year=%{x}<br>Access to electricity (% pop)=%{y}<extra></extra>",
         "legendgroup": "Zambia",
         "line": {
          "color": "#19d3f3",
          "dash": "solid"
         },
         "marker": {
          "symbol": "circle"
         },
         "mode": "lines",
         "name": "Zambia",
         "showlegend": true,
         "type": "scattergl",
         "x": [
          "1990 [YR1990]",
          "2000 [YR2000]",
          "2014 [YR2014]",
          "2015 [YR2015]",
          "2016 [YR2016]",
          "2017 [YR2017]",
          "2018 [YR2018]",
          "2019 [YR2019]",
          "2020 [YR2020]",
          "2021 [YR2021]",
          "2022 [YR2022]",
          "2023 [YR2023]"
         ],
         "xaxis": "x",
         "y": [
          13.9,
          16.7,
          27.9,
          31.1,
          35.4,
          40.3,
          40.2,
          43,
          44.6,
          46.7,
          47.8,
          null
         ],
         "yaxis": "y"
        },
        {
         "hovertemplate": "Country Name=Zimbabwe<br>Year=%{x}<br>Access to electricity (% pop)=%{y}<extra></extra>",
         "legendgroup": "Zimbabwe",
         "line": {
          "color": "#FF6692",
          "dash": "solid"
         },
         "marker": {
          "symbol": "circle"
         },
         "mode": "lines",
         "name": "Zimbabwe",
         "showlegend": true,
         "type": "scattergl",
         "x": [
          "1990 [YR1990]",
          "2000 [YR2000]",
          "2014 [YR2014]",
          "2015 [YR2015]",
          "2016 [YR2016]",
          "2017 [YR2017]",
          "2018 [YR2018]",
          "2019 [YR2019]",
          "2020 [YR2020]",
          "2021 [YR2021]",
          "2022 [YR2022]",
          "2023 [YR2023]"
         ],
         "xaxis": "x",
         "y": [
          null,
          33.7,
          32.3,
          33.7,
          42.5,
          44,
          45.4,
          46.7,
          52.7,
          49,
          50.1,
          null
         ],
         "yaxis": "y"
        },
        {
         "hovertemplate": "Country Name=Africa Eastern and Southern<br>Year=%{x}<br>Access to electricity (% pop)=%{y}<extra></extra>",
         "legendgroup": "Africa Eastern and Southern",
         "line": {
          "color": "#B6E880",
          "dash": "solid"
         },
         "marker": {
          "symbol": "circle"
         },
         "mode": "lines",
         "name": "Africa Eastern and Southern",
         "showlegend": true,
         "type": "scattergl",
         "x": [
          "1990 [YR1990]",
          "2000 [YR2000]",
          "2014 [YR2014]",
          "2015 [YR2015]",
          "2016 [YR2016]",
          "2017 [YR2017]",
          "2018 [YR2018]",
          "2019 [YR2019]",
          "2020 [YR2020]",
          "2021 [YR2021]",
          "2022 [YR2022]",
          "2023 [YR2023]"
         ],
         "xaxis": "x",
         "y": [
          null,
          19.9638817610371,
          31.860474023504,
          33.9038001286462,
          38.8546244221511,
          40.199898068195,
          43.0171479832647,
          44.3812594428681,
          46.2648745577187,
          48.100862134193,
          48.7119945935567,
          null
         ],
         "yaxis": "y"
        },
        {
         "hovertemplate": "Country Name=Africa Western and Central<br>Year=%{x}<br>Access to electricity (% pop)=%{y}<extra></extra>",
         "legendgroup": "Africa Western and Central",
         "line": {
          "color": "#FF97FF",
          "dash": "solid"
         },
         "marker": {
          "symbol": "circle"
         },
         "mode": "lines",
         "name": "Africa Western and Central",
         "showlegend": true,
         "type": "scattergl",
         "x": [
          "1990 [YR1990]",
          "2000 [YR2000]",
          "2014 [YR2014]",
          "2015 [YR2015]",
          "2016 [YR2016]",
          "2017 [YR2017]",
          "2018 [YR2018]",
          "2019 [YR2019]",
          "2020 [YR2020]",
          "2021 [YR2021]",
          "2022 [YR2022]",
          "2023 [YR2023]"
         ],
         "xaxis": "x",
         "y": [
          null,
          34.1432102135773,
          47.6625364866446,
          46.7587390583886,
          50.906114634764,
          48.789457473528,
          51.2110549404709,
          51.1680826551065,
          51.7308990685072,
          54.224724307904,
          55.4375772541101,
          null
         ],
         "yaxis": "y"
        },
        {
         "hovertemplate": "Country Name=Arab World<br>Year=%{x}<br>Access to electricity (% pop)=%{y}<extra></extra>",
         "legendgroup": "Arab World",
         "line": {
          "color": "#FECB52",
          "dash": "solid"
         },
         "marker": {
          "symbol": "circle"
         },
         "mode": "lines",
         "name": "Arab World",
         "showlegend": true,
         "type": "scattergl",
         "x": [
          "1990 [YR1990]",
          "2000 [YR2000]",
          "2014 [YR2014]",
          "2015 [YR2015]",
          "2016 [YR2016]",
          "2017 [YR2017]",
          "2018 [YR2018]",
          "2019 [YR2019]",
          "2020 [YR2020]",
          "2021 [YR2021]",
          "2022 [YR2022]",
          "2023 [YR2023]"
         ],
         "xaxis": "x",
         "y": [
          null,
          81.0997416649668,
          88.8342958618003,
          89.0475351878897,
          89.5411657691967,
          90.6663018742983,
          89.1692812379426,
          90.3581538695401,
          90.6384870529171,
          90.8493820461977,
          91.0264045161148,
          null
         ],
         "yaxis": "y"
        },
        {
         "hovertemplate": "Country Name=Caribbean small states<br>Year=%{x}<br>Access to electricity (% pop)=%{y}<extra></extra>",
         "legendgroup": "Caribbean small states",
         "line": {
          "color": "#636efa",
          "dash": "solid"
         },
         "marker": {
          "symbol": "circle"
         },
         "mode": "lines",
         "name": "Caribbean small states",
         "showlegend": true,
         "type": "scattergl",
         "x": [
          "1990 [YR1990]",
          "2000 [YR2000]",
          "2014 [YR2014]",
          "2015 [YR2015]",
          "2016 [YR2016]",
          "2017 [YR2017]",
          "2018 [YR2018]",
          "2019 [YR2019]",
          "2020 [YR2020]",
          "2021 [YR2021]",
          "2022 [YR2022]",
          "2023 [YR2023]"
         ],
         "xaxis": "x",
         "y": [
          null,
          87.0272667097087,
          93.9555303410912,
          94.4839855823945,
          95.1697890618449,
          95.7430331185145,
          95.804767395244,
          96.2215700753372,
          97.0414890291467,
          97.3939355970029,
          97.5932932895718,
          null
         ],
         "yaxis": "y"
        },
        {
         "hovertemplate": "Country Name=Central Europe and the Baltics<br>Year=%{x}<br>Access to electricity (% pop)=%{y}<extra></extra>",
         "legendgroup": "Central Europe and the Baltics",
         "line": {
          "color": "#EF553B",
          "dash": "solid"
         },
         "marker": {
          "symbol": "circle"
         },
         "mode": "lines",
         "name": "Central Europe and the Baltics",
         "showlegend": true,
         "type": "scattergl",
         "x": [
          "1990 [YR1990]",
          "2000 [YR2000]",
          "2014 [YR2014]",
          "2015 [YR2015]",
          "2016 [YR2016]",
          "2017 [YR2017]",
          "2018 [YR2018]",
          "2019 [YR2019]",
          "2020 [YR2020]",
          "2021 [YR2021]",
          "2022 [YR2022]",
          "2023 [YR2023]"
         ],
         "xaxis": "x",
         "y": [
          100,
          97.9262635329594,
          99.4060407563452,
          99.5333634023846,
          99.6409785046505,
          99.86914260178,
          99.8729516393806,
          99.9455010885556,
          99.9796417892388,
          99.9864361919036,
          100,
          null
         ],
         "yaxis": "y"
        },
        {
         "hovertemplate": "Country Name=Early-demographic dividend<br>Year=%{x}<br>Access to electricity (% pop)=%{y}<extra></extra>",
         "legendgroup": "Early-demographic dividend",
         "line": {
          "color": "#00cc96",
          "dash": "solid"
         },
         "marker": {
          "symbol": "circle"
         },
         "mode": "lines",
         "name": "Early-demographic dividend",
         "showlegend": true,
         "type": "scattergl",
         "x": [
          "1990 [YR1990]",
          "2000 [YR2000]",
          "2014 [YR2014]",
          "2015 [YR2015]",
          "2016 [YR2016]",
          "2017 [YR2017]",
          "2018 [YR2018]",
          "2019 [YR2019]",
          "2020 [YR2020]",
          "2021 [YR2021]",
          "2022 [YR2022]",
          "2023 [YR2023]"
         ],
         "xaxis": "x",
         "y": [
          null,
          67.5690834435773,
          84.7781290421301,
          86.8527487873062,
          88.3686079048487,
          90.5262379043035,
          92.0349140485874,
          92.834365738276,
          93.4926075631317,
          95.2851631707137,
          95.1851634429426,
          null
         ],
         "yaxis": "y"
        },
        {
         "hovertemplate": "Country Name=East Asia & Pacific<br>Year=%{x}<br>Access to electricity (% pop)=%{y}<extra></extra>",
         "legendgroup": "East Asia & Pacific",
         "line": {
          "color": "#ab63fa",
          "dash": "solid"
         },
         "marker": {
          "symbol": "circle"
         },
         "mode": "lines",
         "name": "East Asia & Pacific",
         "showlegend": true,
         "type": "scattergl",
         "x": [
          "1990 [YR1990]",
          "2000 [YR2000]",
          "2014 [YR2014]",
          "2015 [YR2015]",
          "2016 [YR2016]",
          "2017 [YR2017]",
          "2018 [YR2018]",
          "2019 [YR2019]",
          "2020 [YR2020]",
          "2021 [YR2021]",
          "2022 [YR2022]",
          "2023 [YR2023]"
         ],
         "xaxis": "x",
         "y": [
          null,
          92.080656312843,
          96.650227815738,
          96.9635036230764,
          97.0422752719492,
          97.6980233866031,
          97.6650202588857,
          97.8779427927934,
          97.8013659805564,
          98.1555450173615,
          98.2132410752903,
          null
         ],
         "yaxis": "y"
        },
        {
         "hovertemplate": "Country Name=East Asia & Pacific (excluding high income)<br>Year=%{x}<br>Access to electricity (% pop)=%{y}<extra></extra>",
         "legendgroup": "East Asia & Pacific (excluding high income)",
         "line": {
          "color": "#FFA15A",
          "dash": "solid"
         },
         "marker": {
          "symbol": "circle"
         },
         "mode": "lines",
         "name": "East Asia & Pacific (excluding high income)",
         "showlegend": true,
         "type": "scattergl",
         "x": [
          "1990 [YR1990]",
          "2000 [YR2000]",
          "2014 [YR2014]",
          "2015 [YR2015]",
          "2016 [YR2016]",
          "2017 [YR2017]",
          "2018 [YR2018]",
          "2019 [YR2019]",
          "2020 [YR2020]",
          "2021 [YR2021]",
          "2022 [YR2022]",
          "2023 [YR2023]"
         ],
         "xaxis": "x",
         "y": [
          null,
          91.1581940859182,
          96.2870699100877,
          96.6357464510822,
          96.7243162467113,
          97.4517427779889,
          97.4161347769004,
          97.6524316332846,
          97.5687165889393,
          97.9617970162443,
          98.026194403413,
          null
         ],
         "yaxis": "y"
        },
        {
         "hovertemplate": "Country Name=East Asia & Pacific (IDA & IBRD countries)<br>Year=%{x}<br>Access to electricity (% pop)=%{y}<extra></extra>",
         "legendgroup": "East Asia & Pacific (IDA & IBRD countries)",
         "line": {
          "color": "#19d3f3",
          "dash": "solid"
         },
         "marker": {
          "symbol": "circle"
         },
         "mode": "lines",
         "name": "East Asia & Pacific (IDA & IBRD countries)",
         "showlegend": true,
         "type": "scattergl",
         "x": [
          "1990 [YR1990]",
          "2000 [YR2000]",
          "2014 [YR2014]",
          "2015 [YR2015]",
          "2016 [YR2016]",
          "2017 [YR2017]",
          "2018 [YR2018]",
          "2019 [YR2019]",
          "2020 [YR2020]",
          "2021 [YR2021]",
          "2022 [YR2022]",
          "2023 [YR2023]"
         ],
         "xaxis": "x",
         "y": [
          null,
          91.1583141767936,
          97.0185492289121,
          97.342378290966,
          97.4042780321237,
          98.1128558182722,
          98.0496113702534,
          98.2621398882088,
          98.1511649991063,
          98.5234655577502,
          98.563293539577,
          null
         ],
         "yaxis": "y"
        },
        {
         "hovertemplate": "Country Name=Euro area<br>Year=%{x}<br>Access to electricity (% pop)=%{y}<extra></extra>",
         "legendgroup": "Euro area",
         "line": {
          "color": "#FF6692",
          "dash": "solid"
         },
         "marker": {
          "symbol": "circle"
         },
         "mode": "lines",
         "name": "Euro area",
         "showlegend": true,
         "type": "scattergl",
         "x": [
          "1990 [YR1990]",
          "2000 [YR2000]",
          "2014 [YR2014]",
          "2015 [YR2015]",
          "2016 [YR2016]",
          "2017 [YR2017]",
          "2018 [YR2018]",
          "2019 [YR2019]",
          "2020 [YR2020]",
          "2021 [YR2021]",
          "2022 [YR2022]",
          "2023 [YR2023]"
         ],
         "xaxis": "x",
         "y": [
          100,
          99.9939024980174,
          100,
          100,
          100,
          100,
          100,
          100,
          100,
          100,
          100,
          null
         ],
         "yaxis": "y"
        },
        {
         "hovertemplate": "Country Name=Europe & Central Asia<br>Year=%{x}<br>Access to electricity (% pop)=%{y}<extra></extra>",
         "legendgroup": "Europe & Central Asia",
         "line": {
          "color": "#B6E880",
          "dash": "solid"
         },
         "marker": {
          "symbol": "circle"
         },
         "mode": "lines",
         "name": "Europe & Central Asia",
         "showlegend": true,
         "type": "scattergl",
         "x": [
          "1990 [YR1990]",
          "2000 [YR2000]",
          "2014 [YR2014]",
          "2015 [YR2015]",
          "2016 [YR2016]",
          "2017 [YR2017]",
          "2018 [YR2018]",
          "2019 [YR2019]",
          "2020 [YR2020]",
          "2021 [YR2021]",
          "2022 [YR2022]",
          "2023 [YR2023]"
         ],
         "xaxis": "x",
         "y": [
          100,
          99.1137058587738,
          99.8754093344162,
          99.1669776184071,
          99.8283065055591,
          99.9637094037616,
          99.9704727607712,
          99.9533142481858,
          99.9760236823625,
          99.9881579022417,
          99.9977236468108,
          null
         ],
         "yaxis": "y"
        },
        {
         "hovertemplate": "Country Name=Europe & Central Asia (excluding high income)<br>Year=%{x}<br>Access to electricity (% pop)=%{y}<extra></extra>",
         "legendgroup": "Europe & Central Asia (excluding high income)",
         "line": {
          "color": "#FF97FF",
          "dash": "solid"
         },
         "marker": {
          "symbol": "circle"
         },
         "mode": "lines",
         "name": "Europe & Central Asia (excluding high income)",
         "showlegend": true,
         "type": "scattergl",
         "x": [
          "1990 [YR1990]",
          "2000 [YR2000]",
          "2014 [YR2014]",
          "2015 [YR2015]",
          "2016 [YR2016]",
          "2017 [YR2017]",
          "2018 [YR2018]",
          "2019 [YR2019]",
          "2020 [YR2020]",
          "2021 [YR2021]",
          "2022 [YR2022]",
          "2023 [YR2023]"
         ],
         "xaxis": "x",
         "y": [
          null,
          98.9925837200275,
          99.7837597994349,
          99.7676812016782,
          99.8655891836026,
          99.9183821940095,
          99.942320081113,
          99.9663713381538,
          99.9777773685799,
          99.9616380974146,
          99.9914644530224,
          null
         ],
         "yaxis": "y"
        },
        {
         "hovertemplate": "Country Name=Europe & Central Asia (IDA & IBRD countries)<br>Year=%{x}<br>Access to electricity (% pop)=%{y}<extra></extra>",
         "legendgroup": "Europe & Central Asia (IDA & IBRD countries)",
         "line": {
          "color": "#FECB52",
          "dash": "solid"
         },
         "marker": {
          "symbol": "circle"
         },
         "mode": "lines",
         "name": "Europe & Central Asia (IDA & IBRD countries)",
         "showlegend": true,
         "type": "scattergl",
         "x": [
          "1990 [YR1990]",
          "2000 [YR2000]",
          "2014 [YR2014]",
          "2015 [YR2015]",
          "2016 [YR2016]",
          "2017 [YR2017]",
          "2018 [YR2018]",
          "2019 [YR2019]",
          "2020 [YR2020]",
          "2021 [YR2021]",
          "2022 [YR2022]",
          "2023 [YR2023]"
         ],
         "xaxis": "x",
         "y": [
          100,
          98.2465834253865,
          99.7496943982014,
          98.3274195169609,
          99.655469757283,
          99.9272265326044,
          99.940819336018,
          99.9065322711927,
          99.9520178888209,
          99.9763188018388,
          99.9954069607762,
          null
         ],
         "yaxis": "y"
        },
        {
         "hovertemplate": "Country Name=European Union<br>Year=%{x}<br>Access to electricity (% pop)=%{y}<extra></extra>",
         "legendgroup": "European Union",
         "line": {
          "color": "#636efa",
          "dash": "solid"
         },
         "marker": {
          "symbol": "circle"
         },
         "mode": "lines",
         "name": "European Union",
         "showlegend": true,
         "type": "scattergl",
         "x": [
          "1990 [YR1990]",
          "2000 [YR2000]",
          "2014 [YR2014]",
          "2015 [YR2015]",
          "2016 [YR2016]",
          "2017 [YR2017]",
          "2018 [YR2018]",
          "2019 [YR2019]",
          "2020 [YR2020]",
          "2021 [YR2021]",
          "2022 [YR2022]",
          "2023 [YR2023]"
         ],
         "xaxis": "x",
         "y": [
          100,
          99.4761938755859,
          99.8614239812103,
          99.8916168370621,
          99.9170013923783,
          99.9698703678352,
          99.9708561296605,
          99.9875256636779,
          99.9953534951789,
          99.9969239356276,
          100,
          null
         ],
         "yaxis": "y"
        },
        {
         "hovertemplate": "Country Name=Fragile and conflict affected situations<br>Year=%{x}<br>Access to electricity (% pop)=%{y}<extra></extra>",
         "legendgroup": "Fragile and conflict affected situations",
         "line": {
          "color": "#EF553B",
          "dash": "solid"
         },
         "marker": {
          "symbol": "circle"
         },
         "mode": "lines",
         "name": "Fragile and conflict affected situations",
         "showlegend": true,
         "type": "scattergl",
         "x": [
          "1990 [YR1990]",
          "2000 [YR2000]",
          "2014 [YR2014]",
          "2015 [YR2015]",
          "2016 [YR2016]",
          "2017 [YR2017]",
          "2018 [YR2018]",
          "2019 [YR2019]",
          "2020 [YR2020]",
          "2021 [YR2021]",
          "2022 [YR2022]",
          "2023 [YR2023]"
         ],
         "xaxis": "x",
         "y": [
          null,
          40.5982967572402,
          50.0334416807631,
          50.0818317262279,
          54.1947420802944,
          54.5631752651004,
          54.5831226685803,
          55.5016312834383,
          56.346408400069,
          57.8615299350207,
          57.8181418204066,
          null
         ],
         "yaxis": "y"
        },
        {
         "hovertemplate": "Country Name=Heavily indebted poor countries (HIPC)<br>Year=%{x}<br>Access to electricity (% pop)=%{y}<extra></extra>",
         "legendgroup": "Heavily indebted poor countries (HIPC)",
         "line": {
          "color": "#00cc96",
          "dash": "solid"
         },
         "marker": {
          "symbol": "circle"
         },
         "mode": "lines",
         "name": "Heavily indebted poor countries (HIPC)",
         "showlegend": true,
         "type": "scattergl",
         "x": [
          "1990 [YR1990]",
          "2000 [YR2000]",
          "2014 [YR2014]",
          "2015 [YR2015]",
          "2016 [YR2016]",
          "2017 [YR2017]",
          "2018 [YR2018]",
          "2019 [YR2019]",
          "2020 [YR2020]",
          "2021 [YR2021]",
          "2022 [YR2022]",
          "2023 [YR2023]"
         ],
         "xaxis": "x",
         "y": [
          null,
          17.8675254053848,
          35.3989999768092,
          35.4839102740872,
          40.6329285874508,
          41.5183905621843,
          44.0132817192788,
          45.0522458898094,
          46.3640414093557,
          48.0509504079887,
          48.6553933920956,
          null
         ],
         "yaxis": "y"
        },
        {
         "hovertemplate": "Country Name=High income<br>Year=%{x}<br>Access to electricity (% pop)=%{y}<extra></extra>",
         "legendgroup": "High income",
         "line": {
          "color": "#ab63fa",
          "dash": "solid"
         },
         "marker": {
          "symbol": "circle"
         },
         "mode": "lines",
         "name": "High income",
         "showlegend": true,
         "type": "scattergl",
         "x": [
          "1990 [YR1990]",
          "2000 [YR2000]",
          "2014 [YR2014]",
          "2015 [YR2015]",
          "2016 [YR2016]",
          "2017 [YR2017]",
          "2018 [YR2018]",
          "2019 [YR2019]",
          "2020 [YR2020]",
          "2021 [YR2021]",
          "2022 [YR2022]",
          "2023 [YR2023]"
         ],
         "xaxis": "x",
         "y": [
          99.8425200685198,
          99.4524626648336,
          99.9189168958054,
          99.4422835628403,
          99.8758820464439,
          99.9608075777366,
          99.9631057051384,
          99.9505379687558,
          99.9686544956864,
          99.9798902530907,
          99.9798069474748,
          null
         ],
         "yaxis": "y"
        },
        {
         "hovertemplate": "Country Name=IBRD only<br>Year=%{x}<br>Access to electricity (% pop)=%{y}<extra></extra>",
         "legendgroup": "IBRD only",
         "line": {
          "color": "#FFA15A",
          "dash": "solid"
         },
         "marker": {
          "symbol": "circle"
         },
         "mode": "lines",
         "name": "IBRD only",
         "showlegend": true,
         "type": "scattergl",
         "x": [
          "1990 [YR1990]",
          "2000 [YR2000]",
          "2014 [YR2014]",
          "2015 [YR2015]",
          "2016 [YR2016]",
          "2017 [YR2017]",
          "2018 [YR2018]",
          "2019 [YR2019]",
          "2020 [YR2020]",
          "2021 [YR2021]",
          "2022 [YR2022]",
          "2023 [YR2023]"
         ],
         "xaxis": "x",
         "y": [
          null,
          84.5263170160897,
          94.4349904993138,
          95.1884141896381,
          95.847095252009,
          96.6140192932522,
          97.7587635009644,
          97.8867643059813,
          98.0667929887089,
          99.1169517100785,
          98.9771817674784,
          null
         ],
         "yaxis": "y"
        },
        {
         "hovertemplate": "Country Name=IDA & IBRD total<br>Year=%{x}<br>Access to electricity (% pop)=%{y}<extra></extra>",
         "legendgroup": "IDA & IBRD total",
         "line": {
          "color": "#19d3f3",
          "dash": "solid"
         },
         "marker": {
          "symbol": "circle"
         },
         "mode": "lines",
         "name": "IDA & IBRD total",
         "showlegend": true,
         "type": "scattergl",
         "x": [
          "1990 [YR1990]",
          "2000 [YR2000]",
          "2014 [YR2014]",
          "2015 [YR2015]",
          "2016 [YR2016]",
          "2017 [YR2017]",
          "2018 [YR2018]",
          "2019 [YR2019]",
          "2020 [YR2020]",
          "2021 [YR2021]",
          "2022 [YR2022]",
          "2023 [YR2023]"
         ],
         "xaxis": "x",
         "y": [
          null,
          74.0831790968894,
          84.0374385425314,
          84.8979365612511,
          86.2839085579144,
          87.2637509200286,
          88.2960951797823,
          88.6615853993001,
          89.0003692130539,
          90.1059784759654,
          90.0236427088539,
          null
         ],
         "yaxis": "y"
        },
        {
         "hovertemplate": "Country Name=IDA blend<br>Year=%{x}<br>Access to electricity (% pop)=%{y}<extra></extra>",
         "legendgroup": "IDA blend",
         "line": {
          "color": "#FF6692",
          "dash": "solid"
         },
         "marker": {
          "symbol": "circle"
         },
         "mode": "lines",
         "name": "IDA blend",
         "showlegend": true,
         "type": "scattergl",
         "x": [
          "1990 [YR1990]",
          "2000 [YR2000]",
          "2014 [YR2014]",
          "2015 [YR2015]",
          "2016 [YR2016]",
          "2017 [YR2017]",
          "2018 [YR2018]",
          "2019 [YR2019]",
          "2020 [YR2020]",
          "2021 [YR2021]",
          "2022 [YR2022]",
          "2023 [YR2023]"
         ],
         "xaxis": "x",
         "y": [
          null,
          55.9714119039902,
          68.7595094033684,
          69.0584544888191,
          72.8985169734875,
          71.9060547127056,
          73.3946899985265,
          74.1134591811169,
          74.6422206071065,
          76.6323166518695,
          77.2202249370555,
          null
         ],
         "yaxis": "y"
        },
        {
         "hovertemplate": "Country Name=IDA only<br>Year=%{x}<br>Access to electricity (% pop)=%{y}<extra></extra>",
         "legendgroup": "IDA only",
         "line": {
          "color": "#B6E880",
          "dash": "solid"
         },
         "marker": {
          "symbol": "circle"
         },
         "mode": "lines",
         "name": "IDA only",
         "showlegend": true,
         "type": "scattergl",
         "x": [
          "1990 [YR1990]",
          "2000 [YR2000]",
          "2014 [YR2014]",
          "2015 [YR2015]",
          "2016 [YR2016]",
          "2017 [YR2017]",
          "2018 [YR2018]",
          "2019 [YR2019]",
          "2020 [YR2020]",
          "2021 [YR2021]",
          "2022 [YR2022]",
          "2023 [YR2023]"
         ],
         "xaxis": "x",
         "y": [
          null,
          26.4350562984302,
          44.9427767431572,
          47.0891947927519,
          50.9990853826559,
          54.4361536322367,
          55.3160844961813,
          57.0959550724622,
          58.6069711033586,
          60.1327212117,
          60.6234216234335,
          null
         ],
         "yaxis": "y"
        },
        {
         "hovertemplate": "Country Name=IDA total<br>Year=%{x}<br>Access to electricity (% pop)=%{y}<extra></extra>",
         "legendgroup": "IDA total",
         "line": {
          "color": "#FF97FF",
          "dash": "solid"
         },
         "marker": {
          "symbol": "circle"
         },
         "mode": "lines",
         "name": "IDA total",
         "showlegend": true,
         "type": "scattergl",
         "x": [
          "1990 [YR1990]",
          "2000 [YR2000]",
          "2014 [YR2014]",
          "2015 [YR2015]",
          "2016 [YR2016]",
          "2017 [YR2017]",
          "2018 [YR2018]",
          "2019 [YR2019]",
          "2020 [YR2020]",
          "2021 [YR2021]",
          "2022 [YR2022]",
          "2023 [YR2023]"
         ],
         "xaxis": "x",
         "y": [
          null,
          36.4025530411247,
          52.9422008030466,
          54.457463855061,
          58.3264142215853,
          60.2679332649365,
          61.3394550392999,
          62.7544694323566,
          63.9296623394879,
          65.6017359512866,
          66.1197318922923,
          null
         ],
         "yaxis": "y"
        },
        {
         "hovertemplate": "Country Name=Late-demographic dividend<br>Year=%{x}<br>Access to electricity (% pop)=%{y}<extra></extra>",
         "legendgroup": "Late-demographic dividend",
         "line": {
          "color": "#FECB52",
          "dash": "solid"
         },
         "marker": {
          "symbol": "circle"
         },
         "mode": "lines",
         "name": "Late-demographic dividend",
         "showlegend": true,
         "type": "scattergl",
         "x": [
          "1990 [YR1990]",
          "2000 [YR2000]",
          "2014 [YR2014]",
          "2015 [YR2015]",
          "2016 [YR2016]",
          "2017 [YR2017]",
          "2018 [YR2018]",
          "2019 [YR2019]",
          "2020 [YR2020]",
          "2021 [YR2021]",
          "2022 [YR2022]",
          "2023 [YR2023]"
         ],
         "xaxis": "x",
         "y": [
          null,
          95.2456141733554,
          99.0133006644742,
          98.7891607198295,
          99.1246661085904,
          99.2795749258714,
          99.2872327792157,
          99.3356536729549,
          99.3926777630817,
          99.416690000063,
          99.4825175455422,
          null
         ],
         "yaxis": "y"
        },
        {
         "hovertemplate": "Country Name=Latin America & Caribbean<br>Year=%{x}<br>Access to electricity (% pop)=%{y}<extra></extra>",
         "legendgroup": "Latin America & Caribbean",
         "line": {
          "color": "#636efa",
          "dash": "solid"
         },
         "marker": {
          "symbol": "circle"
         },
         "mode": "lines",
         "name": "Latin America & Caribbean",
         "showlegend": true,
         "type": "scattergl",
         "x": [
          "1990 [YR1990]",
          "2000 [YR2000]",
          "2014 [YR2014]",
          "2015 [YR2015]",
          "2016 [YR2016]",
          "2017 [YR2017]",
          "2018 [YR2018]",
          "2019 [YR2019]",
          "2020 [YR2020]",
          "2021 [YR2021]",
          "2022 [YR2022]",
          "2023 [YR2023]"
         ],
         "xaxis": "x",
         "y": [
          null,
          91.722504391963,
          97.0593672921663,
          97.2889505262466,
          97.4818550592041,
          97.7135942305631,
          97.7603349993766,
          98.0015266427987,
          98.152759448219,
          98.2743453702088,
          98.5791344954591,
          null
         ],
         "yaxis": "y"
        },
        {
         "hovertemplate": "Country Name=Latin America & Caribbean (excluding high income)<br>Year=%{x}<br>Access to electricity (% pop)=%{y}<extra></extra>",
         "legendgroup": "Latin America & Caribbean (excluding high income)",
         "line": {
          "color": "#EF553B",
          "dash": "solid"
         },
         "marker": {
          "symbol": "circle"
         },
         "mode": "lines",
         "name": "Latin America & Caribbean (excluding high income)",
         "showlegend": true,
         "type": "scattergl",
         "x": [
          "1990 [YR1990]",
          "2000 [YR2000]",
          "2014 [YR2014]",
          "2015 [YR2015]",
          "2016 [YR2016]",
          "2017 [YR2017]",
          "2018 [YR2018]",
          "2019 [YR2019]",
          "2020 [YR2020]",
          "2021 [YR2021]",
          "2022 [YR2022]",
          "2023 [YR2023]"
         ],
         "xaxis": "x",
         "y": [
          null,
          91.113646802215,
          96.8125407490586,
          97.0711664557134,
          97.3029797168612,
          97.5717475090532,
          97.5791568486266,
          97.8532110437475,
          98.0060017525721,
          98.1365448192491,
          98.4762455431909,
          null
         ],
         "yaxis": "y"
        },
        {
         "hovertemplate": "Country Name=Latin America & the Caribbean (IDA & IBRD countries)<br>Year=%{x}<br>Access to electricity (% pop)=%{y}<extra></extra>",
         "legendgroup": "Latin America & the Caribbean (IDA & IBRD countries)",
         "line": {
          "color": "#00cc96",
          "dash": "solid"
         },
         "marker": {
          "symbol": "circle"
         },
         "mode": "lines",
         "name": "Latin America & the Caribbean (IDA & IBRD countries)",
         "showlegend": true,
         "type": "scattergl",
         "x": [
          "1990 [YR1990]",
          "2000 [YR2000]",
          "2014 [YR2014]",
          "2015 [YR2015]",
          "2016 [YR2016]",
          "2017 [YR2017]",
          "2018 [YR2018]",
          "2019 [YR2019]",
          "2020 [YR2020]",
          "2021 [YR2021]",
          "2022 [YR2022]",
          "2023 [YR2023]"
         ],
         "xaxis": "x",
         "y": [
          null,
          91.532905512629,
          97.0063562569368,
          97.2370514445961,
          97.4319920019967,
          97.6667483687171,
          97.7119543642317,
          97.9559417265741,
          98.1092788328358,
          98.2324938466415,
          98.5451250779113,
          null
         ],
         "yaxis": "y"
        },
        {
         "hovertemplate": "Country Name=Least developed countries: UN classification<br>Year=%{x}<br>Access to electricity (% pop)=%{y}<extra></extra>",
         "legendgroup": "Least developed countries: UN classification",
         "line": {
          "color": "#ab63fa",
          "dash": "solid"
         },
         "marker": {
          "symbol": "circle"
         },
         "mode": "lines",
         "name": "Least developed countries: UN classification",
         "showlegend": true,
         "type": "scattergl",
         "x": [
          "1990 [YR1990]",
          "2000 [YR2000]",
          "2014 [YR2014]",
          "2015 [YR2015]",
          "2016 [YR2016]",
          "2017 [YR2017]",
          "2018 [YR2018]",
          "2019 [YR2019]",
          "2020 [YR2020]",
          "2021 [YR2021]",
          "2022 [YR2022]",
          "2023 [YR2023]"
         ],
         "xaxis": "x",
         "y": [
          null,
          20.1822161091548,
          39.4566989775184,
          42.2813802769193,
          46.3321398827951,
          50.2107357057394,
          51.1674138439625,
          52.9514648159524,
          54.562507330301,
          56.2251693973526,
          56.8264012842674,
          null
         ],
         "yaxis": "y"
        },
        {
         "hovertemplate": "Country Name=Low & middle income<br>Year=%{x}<br>Access to electricity (% pop)=%{y}<extra></extra>",
         "legendgroup": "Low & middle income",
         "line": {
          "color": "#FFA15A",
          "dash": "solid"
         },
         "marker": {
          "symbol": "circle"
         },
         "mode": "lines",
         "name": "Low & middle income",
         "showlegend": true,
         "type": "scattergl",
         "x": [
          "1990 [YR1990]",
          "2000 [YR2000]",
          "2014 [YR2014]",
          "2015 [YR2015]",
          "2016 [YR2016]",
          "2017 [YR2017]",
          "2018 [YR2018]",
          "2019 [YR2019]",
          "2020 [YR2020]",
          "2021 [YR2021]",
          "2022 [YR2022]",
          "2023 [YR2023]"
         ],
         "xaxis": "x",
         "y": [
          null,
          72.8544678231575,
          83.1677876328261,
          84.1863196499328,
          85.5482587344368,
          86.565149962679,
          87.6492919680925,
          88.0490889564092,
          88.4120504553677,
          89.570092140798,
          89.5002576329068,
          null
         ],
         "yaxis": "y"
        },
        {
         "hovertemplate": "Country Name=Low income<br>Year=%{x}<br>Access to electricity (% pop)=%{y}<extra></extra>",
         "legendgroup": "Low income",
         "line": {
          "color": "#19d3f3",
          "dash": "solid"
         },
         "marker": {
          "symbol": "circle"
         },
         "mode": "lines",
         "name": "Low income",
         "showlegend": true,
         "type": "scattergl",
         "x": [
          "1990 [YR1990]",
          "2000 [YR2000]",
          "2014 [YR2014]",
          "2015 [YR2015]",
          "2016 [YR2016]",
          "2017 [YR2017]",
          "2018 [YR2018]",
          "2019 [YR2019]",
          "2020 [YR2020]",
          "2021 [YR2021]",
          "2022 [YR2022]",
          "2023 [YR2023]"
         ],
         "xaxis": "x",
         "y": [
          null,
          15.8054672531362,
          32.2789179055918,
          32.2126229767553,
          37.4463085105182,
          39.0805495764912,
          40.4843611286372,
          41.836982681727,
          43.217947106415,
          44.8163768347735,
          44.9483258927663,
          null
         ],
         "yaxis": "y"
        },
        {
         "hovertemplate": "Country Name=Lower middle income<br>Year=%{x}<br>Access to electricity (% pop)=%{y}<extra></extra>",
         "legendgroup": "Lower middle income",
         "line": {
          "color": "#FF6692",
          "dash": "solid"
         },
         "marker": {
          "symbol": "circle"
         },
         "mode": "lines",
         "name": "Lower middle income",
         "showlegend": true,
         "type": "scattergl",
         "x": [
          "1990 [YR1990]",
          "2000 [YR2000]",
          "2014 [YR2014]",
          "2015 [YR2015]",
          "2016 [YR2016]",
          "2017 [YR2017]",
          "2018 [YR2018]",
          "2019 [YR2019]",
          "2020 [YR2020]",
          "2021 [YR2021]",
          "2022 [YR2022]",
          "2023 [YR2023]"
         ],
         "xaxis": "x",
         "y": [
          null,
          58.2676706695706,
          78.3455492706838,
          80.7234409574285,
          82.7714915723345,
          84.7280368393812,
          86.9830368829659,
          87.6841442253686,
          88.4522403939564,
          90.6238225668445,
          90.6193347387435,
          null
         ],
         "yaxis": "y"
        },
        {
         "hovertemplate": "Country Name=Middle East & North Africa<br>Year=%{x}<br>Access to electricity (% pop)=%{y}<extra></extra>",
         "legendgroup": "Middle East & North Africa",
         "line": {
          "color": "#B6E880",
          "dash": "solid"
         },
         "marker": {
          "symbol": "circle"
         },
         "mode": "lines",
         "name": "Middle East & North Africa",
         "showlegend": true,
         "type": "scattergl",
         "x": [
          "1990 [YR1990]",
          "2000 [YR2000]",
          "2014 [YR2014]",
          "2015 [YR2015]",
          "2016 [YR2016]",
          "2017 [YR2017]",
          "2018 [YR2018]",
          "2019 [YR2019]",
          "2020 [YR2020]",
          "2021 [YR2021]",
          "2022 [YR2022]",
          "2023 [YR2023]"
         ],
         "xaxis": "x",
         "y": [
          null,
          92.4180531531316,
          96.5203825283056,
          96.5086550115235,
          96.7983436224903,
          97.6250026473811,
          96.1467646904579,
          97.1324839563419,
          97.2315412836112,
          97.2914835513583,
          97.3733015431867,
          null
         ],
         "yaxis": "y"
        },
        {
         "hovertemplate": "Country Name=Middle East & North Africa (excluding high income)<br>Year=%{x}<br>Access to electricity (% pop)=%{y}<extra></extra>",
         "legendgroup": "Middle East & North Africa (excluding high income)",
         "line": {
          "color": "#FF97FF",
          "dash": "solid"
         },
         "marker": {
          "symbol": "circle"
         },
         "mode": "lines",
         "name": "Middle East & North Africa (excluding high income)",
         "showlegend": true,
         "type": "scattergl",
         "x": [
          "1990 [YR1990]",
          "2000 [YR2000]",
          "2014 [YR2014]",
          "2015 [YR2015]",
          "2016 [YR2016]",
          "2017 [YR2017]",
          "2018 [YR2018]",
          "2019 [YR2019]",
          "2020 [YR2020]",
          "2021 [YR2021]",
          "2022 [YR2022]",
          "2023 [YR2023]"
         ],
         "xaxis": "x",
         "y": [
          null,
          91.426218615127,
          95.9487475084581,
          95.9328003127985,
          96.276014130497,
          97.2291081354939,
          95.5104255149385,
          96.6517404120541,
          96.7733482603745,
          96.8500869295379,
          96.9464771200397,
          null
         ],
         "yaxis": "y"
        },
        {
         "hovertemplate": "Country Name=Middle East & North Africa (IDA & IBRD countries)<br>Year=%{x}<br>Access to electricity (% pop)=%{y}<extra></extra>",
         "legendgroup": "Middle East & North Africa (IDA & IBRD countries)",
         "line": {
          "color": "#FECB52",
          "dash": "solid"
         },
         "marker": {
          "symbol": "circle"
         },
         "mode": "lines",
         "name": "Middle East & North Africa (IDA & IBRD countries)",
         "showlegend": true,
         "type": "scattergl",
         "x": [
          "1990 [YR1990]",
          "2000 [YR2000]",
          "2014 [YR2014]",
          "2015 [YR2015]",
          "2016 [YR2016]",
          "2017 [YR2017]",
          "2018 [YR2018]",
          "2019 [YR2019]",
          "2020 [YR2020]",
          "2021 [YR2021]",
          "2022 [YR2022]",
          "2023 [YR2023]"
         ],
         "xaxis": "x",
         "y": [
          null,
          91.3401715052384,
          95.9037641046041,
          95.8874892892129,
          96.2332941143712,
          97.1983752877486,
          95.4583357981029,
          96.6125775683893,
          96.7352691074454,
          96.8125528853954,
          96.9097460346813,
          null
         ],
         "yaxis": "y"
        },
        {
         "hovertemplate": "Country Name=Middle income<br>Year=%{x}<br>Access to electricity (% pop)=%{y}<extra></extra>",
         "legendgroup": "Middle income",
         "line": {
          "color": "#636efa",
          "dash": "solid"
         },
         "marker": {
          "symbol": "circle"
         },
         "mode": "lines",
         "name": "Middle income",
         "showlegend": true,
         "type": "scattergl",
         "x": [
          "1990 [YR1990]",
          "2000 [YR2000]",
          "2014 [YR2014]",
          "2015 [YR2015]",
          "2016 [YR2016]",
          "2017 [YR2017]",
          "2018 [YR2018]",
          "2019 [YR2019]",
          "2020 [YR2020]",
          "2021 [YR2021]",
          "2022 [YR2022]",
          "2023 [YR2023]"
         ],
         "xaxis": "x",
         "y": [
          null,
          77.299823288762,
          88.5572255305389,
          89.763281693845,
          90.7857334721579,
          91.815222539659,
          92.9486959090124,
          93.3328680629391,
          93.673300524618,
          94.8751847446865,
          94.8855561460311,
          null
         ],
         "yaxis": "y"
        },
        {
         "hovertemplate": "Country Name=North America<br>Year=%{x}<br>Access to electricity (% pop)=%{y}<extra></extra>",
         "legendgroup": "North America",
         "line": {
          "color": "#EF553B",
          "dash": "solid"
         },
         "marker": {
          "symbol": "circle"
         },
         "mode": "lines",
         "name": "North America",
         "showlegend": true,
         "type": "scattergl",
         "x": [
          "1990 [YR1990]",
          "2000 [YR2000]",
          "2014 [YR2014]",
          "2015 [YR2015]",
          "2016 [YR2016]",
          "2017 [YR2017]",
          "2018 [YR2018]",
          "2019 [YR2019]",
          "2020 [YR2020]",
          "2021 [YR2021]",
          "2022 [YR2022]",
          "2023 [YR2023]"
         ],
         "xaxis": "x",
         "y": [
          100,
          100,
          100,
          100,
          100,
          100,
          100,
          100,
          100,
          100,
          100,
          null
         ],
         "yaxis": "y"
        },
        {
         "hovertemplate": "Country Name=Not classified<br>Year=%{x}<br>Access to electricity (% pop)=%{y}<extra></extra>",
         "legendgroup": "Not classified",
         "line": {
          "color": "#00cc96",
          "dash": "solid"
         },
         "marker": {
          "symbol": "circle"
         },
         "mode": "lines",
         "name": "Not classified",
         "showlegend": true,
         "type": "scattergl",
         "x": [
          "1990 [YR1990]",
          "2000 [YR2000]",
          "2014 [YR2014]",
          "2015 [YR2015]",
          "2016 [YR2016]",
          "2017 [YR2017]",
          "2018 [YR2018]",
          "2019 [YR2019]",
          "2020 [YR2020]",
          "2021 [YR2021]",
          "2022 [YR2022]",
          "2023 [YR2023]"
         ],
         "xaxis": "x",
         "y": [
          null,
          null,
          null,
          null,
          null,
          null,
          null,
          null,
          null,
          null,
          null,
          null
         ],
         "yaxis": "y"
        },
        {
         "hovertemplate": "Country Name=OECD members<br>Year=%{x}<br>Access to electricity (% pop)=%{y}<extra></extra>",
         "legendgroup": "OECD members",
         "line": {
          "color": "#ab63fa",
          "dash": "solid"
         },
         "marker": {
          "symbol": "circle"
         },
         "mode": "lines",
         "name": "OECD members",
         "showlegend": true,
         "type": "scattergl",
         "x": [
          "1990 [YR1990]",
          "2000 [YR2000]",
          "2014 [YR2014]",
          "2015 [YR2015]",
          "2016 [YR2016]",
          "2017 [YR2017]",
          "2018 [YR2018]",
          "2019 [YR2019]",
          "2020 [YR2020]",
          "2021 [YR2021]",
          "2022 [YR2022]",
          "2023 [YR2023]"
         ],
         "xaxis": "x",
         "y": [
          99.546800179424,
          99.6359280517518,
          99.8482663987896,
          99.8396896396459,
          99.89585109751,
          99.9405764596022,
          99.8985605663644,
          99.9400367116293,
          99.9332673681265,
          100,
          100,
          null
         ],
         "yaxis": "y"
        },
        {
         "hovertemplate": "Country Name=Other small states<br>Year=%{x}<br>Access to electricity (% pop)=%{y}<extra></extra>",
         "legendgroup": "Other small states",
         "line": {
          "color": "#FFA15A",
          "dash": "solid"
         },
         "marker": {
          "symbol": "circle"
         },
         "mode": "lines",
         "name": "Other small states",
         "showlegend": true,
         "type": "scattergl",
         "x": [
          "1990 [YR1990]",
          "2000 [YR2000]",
          "2014 [YR2014]",
          "2015 [YR2015]",
          "2016 [YR2016]",
          "2017 [YR2017]",
          "2018 [YR2018]",
          "2019 [YR2019]",
          "2020 [YR2020]",
          "2021 [YR2021]",
          "2022 [YR2022]",
          "2023 [YR2023]"
         ],
         "xaxis": "x",
         "y": [
          null,
          72.4961541796735,
          87.0248640437107,
          87.8757714925346,
          89.1589196955869,
          90.4945894126707,
          91.5254892263974,
          92.7013041706379,
          93.6071297305702,
          94.5025759531236,
          94.6027752416708,
          null
         ],
         "yaxis": "y"
        },
        {
         "hovertemplate": "Country Name=Pacific island small states<br>Year=%{x}<br>Access to electricity (% pop)=%{y}<extra></extra>",
         "legendgroup": "Pacific island small states",
         "line": {
          "color": "#19d3f3",
          "dash": "solid"
         },
         "marker": {
          "symbol": "circle"
         },
         "mode": "lines",
         "name": "Pacific island small states",
         "showlegend": true,
         "type": "scattergl",
         "x": [
          "1990 [YR1990]",
          "2000 [YR2000]",
          "2014 [YR2014]",
          "2015 [YR2015]",
          "2016 [YR2016]",
          "2017 [YR2017]",
          "2018 [YR2018]",
          "2019 [YR2019]",
          "2020 [YR2020]",
          "2021 [YR2021]",
          "2022 [YR2022]",
          "2023 [YR2023]"
         ],
         "xaxis": "x",
         "y": [
          null,
          55.4438771570273,
          76.6814711878895,
          78.703229504003,
          80.1272307017537,
          82.3564554155498,
          82.9591610078136,
          84.5931602439996,
          86.4225510641771,
          85.849707571326,
          85.8227472405466,
          null
         ],
         "yaxis": "y"
        },
        {
         "hovertemplate": "Country Name=Post-demographic dividend<br>Year=%{x}<br>Access to electricity (% pop)=%{y}<extra></extra>",
         "legendgroup": "Post-demographic dividend",
         "line": {
          "color": "#FF6692",
          "dash": "solid"
         },
         "marker": {
          "symbol": "circle"
         },
         "mode": "lines",
         "name": "Post-demographic dividend",
         "showlegend": true,
         "type": "scattergl",
         "x": [
          "1990 [YR1990]",
          "2000 [YR2000]",
          "2014 [YR2014]",
          "2015 [YR2015]",
          "2016 [YR2016]",
          "2017 [YR2017]",
          "2018 [YR2018]",
          "2019 [YR2019]",
          "2020 [YR2020]",
          "2021 [YR2021]",
          "2022 [YR2022]",
          "2023 [YR2023]"
         ],
         "xaxis": "x",
         "y": [
          99.9943911362469,
          99.7152423608883,
          99.9313827467578,
          99.9440320084058,
          99.9571187558814,
          99.970583083607,
          99.981741114911,
          99.9929550285056,
          99.9971273501603,
          99.9987681484921,
          100,
          null
         ],
         "yaxis": "y"
        },
        {
         "hovertemplate": "Country Name=Pre-demographic dividend<br>Year=%{x}<br>Access to electricity (% pop)=%{y}<extra></extra>",
         "legendgroup": "Pre-demographic dividend",
         "line": {
          "color": "#B6E880",
          "dash": "solid"
         },
         "marker": {
          "symbol": "circle"
         },
         "mode": "lines",
         "name": "Pre-demographic dividend",
         "showlegend": true,
         "type": "scattergl",
         "x": [
          "1990 [YR1990]",
          "2000 [YR2000]",
          "2014 [YR2014]",
          "2015 [YR2015]",
          "2016 [YR2016]",
          "2017 [YR2017]",
          "2018 [YR2018]",
          "2019 [YR2019]",
          "2020 [YR2020]",
          "2021 [YR2021]",
          "2022 [YR2022]",
          "2023 [YR2023]"
         ],
         "xaxis": "x",
         "y": [
          null,
          24.871639267962,
          39.8441097568589,
          40.0606293618327,
          44.61180063733,
          44.320455294993,
          47.0762627878568,
          47.5782396795133,
          48.3855447902348,
          50.5238061632824,
          51.1203418281979,
          null
         ],
         "yaxis": "y"
        },
        {
         "hovertemplate": "Country Name=Small states<br>Year=%{x}<br>Access to electricity (% pop)=%{y}<extra></extra>",
         "legendgroup": "Small states",
         "line": {
          "color": "#FF97FF",
          "dash": "solid"
         },
         "marker": {
          "symbol": "circle"
         },
         "mode": "lines",
         "name": "Small states",
         "showlegend": true,
         "type": "scattergl",
         "x": [
          "1990 [YR1990]",
          "2000 [YR2000]",
          "2014 [YR2014]",
          "2015 [YR2015]",
          "2016 [YR2016]",
          "2017 [YR2017]",
          "2018 [YR2018]",
          "2019 [YR2019]",
          "2020 [YR2020]",
          "2021 [YR2021]",
          "2022 [YR2022]",
          "2023 [YR2023]"
         ],
         "xaxis": "x",
         "y": [
          null,
          72.7326037651714,
          86.7803650873228,
          87.7309920878869,
          88.9341020251841,
          90.2630998844596,
          91.0865817462377,
          92.2015549079081,
          93.2090070960632,
          93.8179009205047,
          93.9107043828779,
          null
         ],
         "yaxis": "y"
        },
        {
         "hovertemplate": "Country Name=South Asia<br>Year=%{x}<br>Access to electricity (% pop)=%{y}<extra></extra>",
         "legendgroup": "South Asia",
         "line": {
          "color": "#FECB52",
          "dash": "solid"
         },
         "marker": {
          "symbol": "circle"
         },
         "mode": "lines",
         "name": "South Asia",
         "showlegend": true,
         "type": "scattergl",
         "x": [
          "1990 [YR1990]",
          "2000 [YR2000]",
          "2014 [YR2014]",
          "2015 [YR2015]",
          "2016 [YR2016]",
          "2017 [YR2017]",
          "2018 [YR2018]",
          "2019 [YR2019]",
          "2020 [YR2020]",
          "2021 [YR2021]",
          "2022 [YR2022]",
          "2023 [YR2023]"
         ],
         "xaxis": "x",
         "y": [
          null,
          57.891737765281,
          83.8523954854089,
          86.7867132149237,
          88.9173147181527,
          91.6760241733433,
          94.6179244479771,
          95.3232055481217,
          96.197039231936,
          98.786423758525,
          98.2879959489889,
          null
         ],
         "yaxis": "y"
        },
        {
         "hovertemplate": "Country Name=South Asia (IDA & IBRD)<br>Year=%{x}<br>Access to electricity (% pop)=%{y}<extra></extra>",
         "legendgroup": "South Asia (IDA & IBRD)",
         "line": {
          "color": "#636efa",
          "dash": "solid"
         },
         "marker": {
          "symbol": "circle"
         },
         "mode": "lines",
         "name": "South Asia (IDA & IBRD)",
         "showlegend": true,
         "type": "scattergl",
         "x": [
          "1990 [YR1990]",
          "2000 [YR2000]",
          "2014 [YR2014]",
          "2015 [YR2015]",
          "2016 [YR2016]",
          "2017 [YR2017]",
          "2018 [YR2018]",
          "2019 [YR2019]",
          "2020 [YR2020]",
          "2021 [YR2021]",
          "2022 [YR2022]",
          "2023 [YR2023]"
         ],
         "xaxis": "x",
         "y": [
          null,
          57.891737765281,
          83.8523954854089,
          86.7867132149237,
          88.9173147181527,
          91.6760241733433,
          94.6179244479771,
          95.3232055481217,
          96.197039231936,
          98.786423758525,
          98.2879959489889,
          null
         ],
         "yaxis": "y"
        },
        {
         "hovertemplate": "Country Name=Sub-Saharan Africa<br>Year=%{x}<br>Access to electricity (% pop)=%{y}<extra></extra>",
         "legendgroup": "Sub-Saharan Africa",
         "line": {
          "color": "#EF553B",
          "dash": "solid"
         },
         "marker": {
          "symbol": "circle"
         },
         "mode": "lines",
         "name": "Sub-Saharan Africa",
         "showlegend": true,
         "type": "scattergl",
         "x": [
          "1990 [YR1990]",
          "2000 [YR2000]",
          "2014 [YR2014]",
          "2015 [YR2015]",
          "2016 [YR2016]",
          "2017 [YR2017]",
          "2018 [YR2018]",
          "2019 [YR2019]",
          "2020 [YR2020]",
          "2021 [YR2021]",
          "2022 [YR2022]",
          "2023 [YR2023]"
         ],
         "xaxis": "x",
         "y": [
          null,
          25.659147015754,
          38.2658690780816,
          39.1121832624488,
          43.7370505625674,
          43.6808105316438,
          46.3373545996798,
          47.1303990695105,
          48.478195544667,
          50.5800665756201,
          51.4347389951457,
          null
         ],
         "yaxis": "y"
        },
        {
         "hovertemplate": "Country Name=Sub-Saharan Africa (excluding high income)<br>Year=%{x}<br>Access to electricity (% pop)=%{y}<extra></extra>",
         "legendgroup": "Sub-Saharan Africa (excluding high income)",
         "line": {
          "color": "#00cc96",
          "dash": "solid"
         },
         "marker": {
          "symbol": "circle"
         },
         "mode": "lines",
         "name": "Sub-Saharan Africa (excluding high income)",
         "showlegend": true,
         "type": "scattergl",
         "x": [
          "1990 [YR1990]",
          "2000 [YR2000]",
          "2014 [YR2014]",
          "2015 [YR2015]",
          "2016 [YR2016]",
          "2017 [YR2017]",
          "2018 [YR2018]",
          "2019 [YR2019]",
          "2020 [YR2020]",
          "2021 [YR2021]",
          "2022 [YR2022]",
          "2023 [YR2023]"
         ],
         "xaxis": "x",
         "y": [
          null,
          25.6507452124749,
          38.2601223073109,
          39.1065437139548,
          43.7319091609899,
          43.675736407086,
          46.3326008959214,
          47.1257966456512,
          48.4737889046716,
          50.5759132657492,
          51.4299317538115,
          null
         ],
         "yaxis": "y"
        },
        {
         "hovertemplate": "Country Name=Sub-Saharan Africa (IDA & IBRD countries)<br>Year=%{x}<br>Access to electricity (% pop)=%{y}<extra></extra>",
         "legendgroup": "Sub-Saharan Africa (IDA & IBRD countries)",
         "line": {
          "color": "#ab63fa",
          "dash": "solid"
         },
         "marker": {
          "symbol": "circle"
         },
         "mode": "lines",
         "name": "Sub-Saharan Africa (IDA & IBRD countries)",
         "showlegend": true,
         "type": "scattergl",
         "x": [
          "1990 [YR1990]",
          "2000 [YR2000]",
          "2014 [YR2014]",
          "2015 [YR2015]",
          "2016 [YR2016]",
          "2017 [YR2017]",
          "2018 [YR2018]",
          "2019 [YR2019]",
          "2020 [YR2020]",
          "2021 [YR2021]",
          "2022 [YR2022]",
          "2023 [YR2023]"
         ],
         "xaxis": "x",
         "y": [
          null,
          25.659147015754,
          38.2658690780816,
          39.1121832624488,
          43.7370505625674,
          43.6808105316439,
          46.3373545996798,
          47.1303990695105,
          48.478195544667,
          50.5800665756201,
          51.4347389951457,
          null
         ],
         "yaxis": "y"
        },
        {
         "hovertemplate": "Country Name=Upper middle income<br>Year=%{x}<br>Access to electricity (% pop)=%{y}<extra></extra>",
         "legendgroup": "Upper middle income",
         "line": {
          "color": "#FFA15A",
          "dash": "solid"
         },
         "marker": {
          "symbol": "circle"
         },
         "mode": "lines",
         "name": "Upper middle income",
         "showlegend": true,
         "type": "scattergl",
         "x": [
          "1990 [YR1990]",
          "2000 [YR2000]",
          "2014 [YR2014]",
          "2015 [YR2015]",
          "2016 [YR2016]",
          "2017 [YR2017]",
          "2018 [YR2018]",
          "2019 [YR2019]",
          "2020 [YR2020]",
          "2021 [YR2021]",
          "2022 [YR2022]",
          "2023 [YR2023]"
         ],
         "xaxis": "x",
         "y": [
          null,
          94.3274648640233,
          98.8894942576766,
          98.9709975774677,
          99.0052638487001,
          99.1339177479467,
          99.152882923018,
          99.2510521973761,
          99.1899480241711,
          99.4083794765038,
          99.4851190889072,
          null
         ],
         "yaxis": "y"
        },
        {
         "hovertemplate": "Country Name=World<br>Year=%{x}<br>Access to electricity (% pop)=%{y}<extra></extra>",
         "legendgroup": "World",
         "line": {
          "color": "#19d3f3",
          "dash": "solid"
         },
         "marker": {
          "symbol": "circle"
         },
         "mode": "lines",
         "name": "World",
         "showlegend": true,
         "type": "scattergl",
         "x": [
          "1990 [YR1990]",
          "2000 [YR2000]",
          "2014 [YR2014]",
          "2015 [YR2015]",
          "2016 [YR2016]",
          "2017 [YR2017]",
          "2018 [YR2018]",
          "2019 [YR2019]",
          "2020 [YR2020]",
          "2021 [YR2021]",
          "2022 [YR2022]",
          "2023 [YR2023]"
         ],
         "xaxis": "x",
         "y": [
          null,
          78.3543617623921,
          86.3012690468959,
          87.0237851218521,
          88.1922255251927,
          89.0186672372511,
          89.8908858380532,
          90.199100032655,
          90.4854035957629,
          91.4203322426229,
          91.3525709654628,
          null
         ],
         "yaxis": "y"
        }
       ],
       "layout": {
        "legend": {
         "title": {
          "text": "Country Name"
         },
         "tracegroupgap": 0
        },
        "margin": {
         "t": 60
        },
        "template": {
         "data": {
          "bar": [
           {
            "error_x": {
             "color": "#2a3f5f"
            },
            "error_y": {
             "color": "#2a3f5f"
            },
            "marker": {
             "line": {
              "color": "#E5ECF6",
              "width": 0.5
             },
             "pattern": {
              "fillmode": "overlay",
              "size": 10,
              "solidity": 0.2
             }
            },
            "type": "bar"
           }
          ],
          "barpolar": [
           {
            "marker": {
             "line": {
              "color": "#E5ECF6",
              "width": 0.5
             },
             "pattern": {
              "fillmode": "overlay",
              "size": 10,
              "solidity": 0.2
             }
            },
            "type": "barpolar"
           }
          ],
          "carpet": [
           {
            "aaxis": {
             "endlinecolor": "#2a3f5f",
             "gridcolor": "white",
             "linecolor": "white",
             "minorgridcolor": "white",
             "startlinecolor": "#2a3f5f"
            },
            "baxis": {
             "endlinecolor": "#2a3f5f",
             "gridcolor": "white",
             "linecolor": "white",
             "minorgridcolor": "white",
             "startlinecolor": "#2a3f5f"
            },
            "type": "carpet"
           }
          ],
          "choropleth": [
           {
            "colorbar": {
             "outlinewidth": 0,
             "ticks": ""
            },
            "type": "choropleth"
           }
          ],
          "contour": [
           {
            "colorbar": {
             "outlinewidth": 0,
             "ticks": ""
            },
            "colorscale": [
             [
              0,
              "#0d0887"
             ],
             [
              0.1111111111111111,
              "#46039f"
             ],
             [
              0.2222222222222222,
              "#7201a8"
             ],
             [
              0.3333333333333333,
              "#9c179e"
             ],
             [
              0.4444444444444444,
              "#bd3786"
             ],
             [
              0.5555555555555556,
              "#d8576b"
             ],
             [
              0.6666666666666666,
              "#ed7953"
             ],
             [
              0.7777777777777778,
              "#fb9f3a"
             ],
             [
              0.8888888888888888,
              "#fdca26"
             ],
             [
              1,
              "#f0f921"
             ]
            ],
            "type": "contour"
           }
          ],
          "contourcarpet": [
           {
            "colorbar": {
             "outlinewidth": 0,
             "ticks": ""
            },
            "type": "contourcarpet"
           }
          ],
          "heatmap": [
           {
            "colorbar": {
             "outlinewidth": 0,
             "ticks": ""
            },
            "colorscale": [
             [
              0,
              "#0d0887"
             ],
             [
              0.1111111111111111,
              "#46039f"
             ],
             [
              0.2222222222222222,
              "#7201a8"
             ],
             [
              0.3333333333333333,
              "#9c179e"
             ],
             [
              0.4444444444444444,
              "#bd3786"
             ],
             [
              0.5555555555555556,
              "#d8576b"
             ],
             [
              0.6666666666666666,
              "#ed7953"
             ],
             [
              0.7777777777777778,
              "#fb9f3a"
             ],
             [
              0.8888888888888888,
              "#fdca26"
             ],
             [
              1,
              "#f0f921"
             ]
            ],
            "type": "heatmap"
           }
          ],
          "heatmapgl": [
           {
            "colorbar": {
             "outlinewidth": 0,
             "ticks": ""
            },
            "colorscale": [
             [
              0,
              "#0d0887"
             ],
             [
              0.1111111111111111,
              "#46039f"
             ],
             [
              0.2222222222222222,
              "#7201a8"
             ],
             [
              0.3333333333333333,
              "#9c179e"
             ],
             [
              0.4444444444444444,
              "#bd3786"
             ],
             [
              0.5555555555555556,
              "#d8576b"
             ],
             [
              0.6666666666666666,
              "#ed7953"
             ],
             [
              0.7777777777777778,
              "#fb9f3a"
             ],
             [
              0.8888888888888888,
              "#fdca26"
             ],
             [
              1,
              "#f0f921"
             ]
            ],
            "type": "heatmapgl"
           }
          ],
          "histogram": [
           {
            "marker": {
             "pattern": {
              "fillmode": "overlay",
              "size": 10,
              "solidity": 0.2
             }
            },
            "type": "histogram"
           }
          ],
          "histogram2d": [
           {
            "colorbar": {
             "outlinewidth": 0,
             "ticks": ""
            },
            "colorscale": [
             [
              0,
              "#0d0887"
             ],
             [
              0.1111111111111111,
              "#46039f"
             ],
             [
              0.2222222222222222,
              "#7201a8"
             ],
             [
              0.3333333333333333,
              "#9c179e"
             ],
             [
              0.4444444444444444,
              "#bd3786"
             ],
             [
              0.5555555555555556,
              "#d8576b"
             ],
             [
              0.6666666666666666,
              "#ed7953"
             ],
             [
              0.7777777777777778,
              "#fb9f3a"
             ],
             [
              0.8888888888888888,
              "#fdca26"
             ],
             [
              1,
              "#f0f921"
             ]
            ],
            "type": "histogram2d"
           }
          ],
          "histogram2dcontour": [
           {
            "colorbar": {
             "outlinewidth": 0,
             "ticks": ""
            },
            "colorscale": [
             [
              0,
              "#0d0887"
             ],
             [
              0.1111111111111111,
              "#46039f"
             ],
             [
              0.2222222222222222,
              "#7201a8"
             ],
             [
              0.3333333333333333,
              "#9c179e"
             ],
             [
              0.4444444444444444,
              "#bd3786"
             ],
             [
              0.5555555555555556,
              "#d8576b"
             ],
             [
              0.6666666666666666,
              "#ed7953"
             ],
             [
              0.7777777777777778,
              "#fb9f3a"
             ],
             [
              0.8888888888888888,
              "#fdca26"
             ],
             [
              1,
              "#f0f921"
             ]
            ],
            "type": "histogram2dcontour"
           }
          ],
          "mesh3d": [
           {
            "colorbar": {
             "outlinewidth": 0,
             "ticks": ""
            },
            "type": "mesh3d"
           }
          ],
          "parcoords": [
           {
            "line": {
             "colorbar": {
              "outlinewidth": 0,
              "ticks": ""
             }
            },
            "type": "parcoords"
           }
          ],
          "pie": [
           {
            "automargin": true,
            "type": "pie"
           }
          ],
          "scatter": [
           {
            "fillpattern": {
             "fillmode": "overlay",
             "size": 10,
             "solidity": 0.2
            },
            "type": "scatter"
           }
          ],
          "scatter3d": [
           {
            "line": {
             "colorbar": {
              "outlinewidth": 0,
              "ticks": ""
             }
            },
            "marker": {
             "colorbar": {
              "outlinewidth": 0,
              "ticks": ""
             }
            },
            "type": "scatter3d"
           }
          ],
          "scattercarpet": [
           {
            "marker": {
             "colorbar": {
              "outlinewidth": 0,
              "ticks": ""
             }
            },
            "type": "scattercarpet"
           }
          ],
          "scattergeo": [
           {
            "marker": {
             "colorbar": {
              "outlinewidth": 0,
              "ticks": ""
             }
            },
            "type": "scattergeo"
           }
          ],
          "scattergl": [
           {
            "marker": {
             "colorbar": {
              "outlinewidth": 0,
              "ticks": ""
             }
            },
            "type": "scattergl"
           }
          ],
          "scattermapbox": [
           {
            "marker": {
             "colorbar": {
              "outlinewidth": 0,
              "ticks": ""
             }
            },
            "type": "scattermapbox"
           }
          ],
          "scatterpolar": [
           {
            "marker": {
             "colorbar": {
              "outlinewidth": 0,
              "ticks": ""
             }
            },
            "type": "scatterpolar"
           }
          ],
          "scatterpolargl": [
           {
            "marker": {
             "colorbar": {
              "outlinewidth": 0,
              "ticks": ""
             }
            },
            "type": "scatterpolargl"
           }
          ],
          "scatterternary": [
           {
            "marker": {
             "colorbar": {
              "outlinewidth": 0,
              "ticks": ""
             }
            },
            "type": "scatterternary"
           }
          ],
          "surface": [
           {
            "colorbar": {
             "outlinewidth": 0,
             "ticks": ""
            },
            "colorscale": [
             [
              0,
              "#0d0887"
             ],
             [
              0.1111111111111111,
              "#46039f"
             ],
             [
              0.2222222222222222,
              "#7201a8"
             ],
             [
              0.3333333333333333,
              "#9c179e"
             ],
             [
              0.4444444444444444,
              "#bd3786"
             ],
             [
              0.5555555555555556,
              "#d8576b"
             ],
             [
              0.6666666666666666,
              "#ed7953"
             ],
             [
              0.7777777777777778,
              "#fb9f3a"
             ],
             [
              0.8888888888888888,
              "#fdca26"
             ],
             [
              1,
              "#f0f921"
             ]
            ],
            "type": "surface"
           }
          ],
          "table": [
           {
            "cells": {
             "fill": {
              "color": "#EBF0F8"
             },
             "line": {
              "color": "white"
             }
            },
            "header": {
             "fill": {
              "color": "#C8D4E3"
             },
             "line": {
              "color": "white"
             }
            },
            "type": "table"
           }
          ]
         },
         "layout": {
          "annotationdefaults": {
           "arrowcolor": "#2a3f5f",
           "arrowhead": 0,
           "arrowwidth": 1
          },
          "autotypenumbers": "strict",
          "coloraxis": {
           "colorbar": {
            "outlinewidth": 0,
            "ticks": ""
           }
          },
          "colorscale": {
           "diverging": [
            [
             0,
             "#8e0152"
            ],
            [
             0.1,
             "#c51b7d"
            ],
            [
             0.2,
             "#de77ae"
            ],
            [
             0.3,
             "#f1b6da"
            ],
            [
             0.4,
             "#fde0ef"
            ],
            [
             0.5,
             "#f7f7f7"
            ],
            [
             0.6,
             "#e6f5d0"
            ],
            [
             0.7,
             "#b8e186"
            ],
            [
             0.8,
             "#7fbc41"
            ],
            [
             0.9,
             "#4d9221"
            ],
            [
             1,
             "#276419"
            ]
           ],
           "sequential": [
            [
             0,
             "#0d0887"
            ],
            [
             0.1111111111111111,
             "#46039f"
            ],
            [
             0.2222222222222222,
             "#7201a8"
            ],
            [
             0.3333333333333333,
             "#9c179e"
            ],
            [
             0.4444444444444444,
             "#bd3786"
            ],
            [
             0.5555555555555556,
             "#d8576b"
            ],
            [
             0.6666666666666666,
             "#ed7953"
            ],
            [
             0.7777777777777778,
             "#fb9f3a"
            ],
            [
             0.8888888888888888,
             "#fdca26"
            ],
            [
             1,
             "#f0f921"
            ]
           ],
           "sequentialminus": [
            [
             0,
             "#0d0887"
            ],
            [
             0.1111111111111111,
             "#46039f"
            ],
            [
             0.2222222222222222,
             "#7201a8"
            ],
            [
             0.3333333333333333,
             "#9c179e"
            ],
            [
             0.4444444444444444,
             "#bd3786"
            ],
            [
             0.5555555555555556,
             "#d8576b"
            ],
            [
             0.6666666666666666,
             "#ed7953"
            ],
            [
             0.7777777777777778,
             "#fb9f3a"
            ],
            [
             0.8888888888888888,
             "#fdca26"
            ],
            [
             1,
             "#f0f921"
            ]
           ]
          },
          "colorway": [
           "#636efa",
           "#EF553B",
           "#00cc96",
           "#ab63fa",
           "#FFA15A",
           "#19d3f3",
           "#FF6692",
           "#B6E880",
           "#FF97FF",
           "#FECB52"
          ],
          "font": {
           "color": "#2a3f5f"
          },
          "geo": {
           "bgcolor": "white",
           "lakecolor": "white",
           "landcolor": "#E5ECF6",
           "showlakes": true,
           "showland": true,
           "subunitcolor": "white"
          },
          "hoverlabel": {
           "align": "left"
          },
          "hovermode": "closest",
          "mapbox": {
           "style": "light"
          },
          "paper_bgcolor": "white",
          "plot_bgcolor": "#E5ECF6",
          "polar": {
           "angularaxis": {
            "gridcolor": "white",
            "linecolor": "white",
            "ticks": ""
           },
           "bgcolor": "#E5ECF6",
           "radialaxis": {
            "gridcolor": "white",
            "linecolor": "white",
            "ticks": ""
           }
          },
          "scene": {
           "xaxis": {
            "backgroundcolor": "#E5ECF6",
            "gridcolor": "white",
            "gridwidth": 2,
            "linecolor": "white",
            "showbackground": true,
            "ticks": "",
            "zerolinecolor": "white"
           },
           "yaxis": {
            "backgroundcolor": "#E5ECF6",
            "gridcolor": "white",
            "gridwidth": 2,
            "linecolor": "white",
            "showbackground": true,
            "ticks": "",
            "zerolinecolor": "white"
           },
           "zaxis": {
            "backgroundcolor": "#E5ECF6",
            "gridcolor": "white",
            "gridwidth": 2,
            "linecolor": "white",
            "showbackground": true,
            "ticks": "",
            "zerolinecolor": "white"
           }
          },
          "shapedefaults": {
           "line": {
            "color": "#2a3f5f"
           }
          },
          "ternary": {
           "aaxis": {
            "gridcolor": "white",
            "linecolor": "white",
            "ticks": ""
           },
           "baxis": {
            "gridcolor": "white",
            "linecolor": "white",
            "ticks": ""
           },
           "bgcolor": "#E5ECF6",
           "caxis": {
            "gridcolor": "white",
            "linecolor": "white",
            "ticks": ""
           }
          },
          "title": {
           "x": 0.05
          },
          "xaxis": {
           "automargin": true,
           "gridcolor": "white",
           "linecolor": "white",
           "ticks": "",
           "title": {
            "standoff": 15
           },
           "zerolinecolor": "white",
           "zerolinewidth": 2
          },
          "yaxis": {
           "automargin": true,
           "gridcolor": "white",
           "linecolor": "white",
           "ticks": "",
           "title": {
            "standoff": 15
           },
           "zerolinecolor": "white",
           "zerolinewidth": 2
          }
         }
        },
        "xaxis": {
         "anchor": "y",
         "domain": [
          0,
          1
         ],
         "title": {
          "text": "Year"
         }
        },
        "yaxis": {
         "anchor": "x",
         "domain": [
          0,
          1
         ],
         "title": {
          "text": "Access to electricity (% pop)"
         }
        }
       }
      },
      "image/png": "[encoded data removed]",
      "text/html": [
       "<div>                            <div id=\"49f46447-598e-4879-ab1c-735152051c7f\" class=\"plotly-graph-div\" style=\"height:525px; width:100%;\"></div>            <script type=\"text/javascript\">                require([\"plotly\"], function(Plotly) {                    window.PLOTLYENV=window.PLOTLYENV || {};                                    if (document.getElementById(\"49f46447-598e-4879-ab1c-735152051c7f\")) {                    Plotly.newPlot(                        \"49f46447-598e-4879-ab1c-735152051c7f\",                        [{\"hovertemplate\":\"Country Name=Afghanistan\\u003cbr\\u003eYear=%{x}\\u003cbr\\u003eAccess to electricity (% pop)=%{y}\\u003cextra\\u003e\\u003c\\u002fextra\\u003e\",\"legendgroup\":\"Afghanistan\",\"line\":{\"color\":\"#636efa\",\"dash\":\"solid\"},\"marker\":{\"symbol\":\"circle\"},\"mode\":\"lines\",\"name\":\"Afghanistan\",\"showlegend\":true,\"x\":[\"1990 [YR1990]\",\"2000 [YR2000]\",\"2014 [YR2014]\",\"2015 [YR2015]\",\"2016 [YR2016]\",\"2017 [YR2017]\",\"2018 [YR2018]\",\"2019 [YR2019]\",\"2020 [YR2020]\",\"2021 [YR2021]\",\"2022 [YR2022]\",\"2023 [YR2023]\"],\"xaxis\":\"x\",\"y\":[null,4.4,89.5,71.5,97.7,97.7,93.4,97.7,97.7,97.7,85.3,null],\"yaxis\":\"y\",\"type\":\"scattergl\"},{\"hovertemplate\":\"Country Name=Albania\\u003cbr\\u003eYear=%{x}\\u003cbr\\u003eAccess to electricity (% pop)=%{y}\\u003cextra\\u003e\\u003c\\u002fextra\\u003e\",\"legendgroup\":\"Albania\",\"line\":{\"color\":\"#EF553B\",\"dash\":\"solid\"},\"marker\":{\"symbol\":\"circle\"},\"mode\":\"lines\",\"name\":\"Albania\",\"showlegend\":true,\"x\":[\"1990 [YR1990]\",\"2000 [YR2000]\",\"2014 [YR2014]\",\"2015 [YR2015]\",\"2016 [YR2016]\",\"2017 [YR2017]\",\"2018 [YR2018]\",\"2019 [YR2019]\",\"2020 [YR2020]\",\"2021 [YR2021]\",\"2022 [YR2022]\",\"2023 [YR2023]\"],\"xaxis\":\"x\",\"y\":[100.0,99.4,100.0,100.0,99.9,99.9,100.0,100.0,100.0,100.0,100.0,null],\"yaxis\":\"y\",\"type\":\"scattergl\"},{\"hovertemplate\":\"Country Name=Algeria\\u003cbr\\u003eYear=%{x}\\u003cbr\\u003eAccess to electricity (% pop)=%{y}\\u003cextra\\u003e\\u003c\\u002fextra\\u003e\",\"legendgroup\":\"Algeria\",\"line\":{\"color\":\"#00cc96\",\"dash\":\"solid\"},\"marker\":{\"symbol\":\"circle\"},\"mode\":\"lines\",\"name\":\"Algeria\",\"showlegend\":true,\"x\":[\"1990 [YR1990]\",\"2000 [YR2000]\",\"2014 [YR2014]\",\"2015 [YR2015]\",\"2016 [YR2016]\",\"2017 [YR2017]\",\"2018 [YR2018]\",\"2019 [YR2019]\",\"2020 [YR2020]\",\"2021 [YR2021]\",\"2022 [YR2022]\",\"2023 [YR2023]\"],\"xaxis\":\"x\",\"y\":[null,98.6,99.3,99.4,99.4,99.5,99.6,99.5,99.7,99.8,100.0,null],\"yaxis\":\"y\",\"type\":\"scattergl\"},{\"hovertemplate\":\"Country Name=American Samoa\\u003cbr\\u003eYear=%{x}\\u003cbr\\u003eAccess to electricity (% pop)=%{y}\\u003cextra\\u003e\\u003c\\u002fextra\\u003e\",\"legendgroup\":\"American Samoa\",\"line\":{\"color\":\"#ab63fa\",\"dash\":\"solid\"},\"marker\":{\"symbol\":\"circle\"},\"mode\":\"lines\",\"name\":\"American Samoa\",\"showlegend\":true,\"x\":[\"1990 [YR1990]\",\"2000 [YR2000]\",\"2014 [YR2014]\",\"2015 [YR2015]\",\"2016 [YR2016]\",\"2017 [YR2017]\",\"2018 [YR2018]\",\"2019 [YR2019]\",\"2020 [YR2020]\",\"2021 [YR2021]\",\"2022 [YR2022]\",\"2023 [YR2023]\"],\"xaxis\":\"x\",\"y\":[null,null,null,null,null,null,null,null,null,null,null,null],\"yaxis\":\"y\",\"type\":\"scattergl\"},{\"hovertemplate\":\"Country Name=Andorra\\u003cbr\\u003eYear=%{x}\\u003cbr\\u003eAccess to electricity (% pop)=%{y}\\u003cextra\\u003e\\u003c\\u002fextra\\u003e\",\"legendgroup\":\"Andorra\",\"line\":{\"color\":\"#FFA15A\",\"dash\":\"solid\"},\"marker\":{\"symbol\":\"circle\"},\"mode\":\"lines\",\"name\":\"Andorra\",\"showlegend\":true,\"x\":[\"1990 [YR1990]\",\"2000 [YR2000]\",\"2014 [YR2014]\",\"2015 [YR2015]\",\"2016 [YR2016]\",\"2017 [YR2017]\",\"2018 [YR2018]\",\"2019 [YR2019]\",\"2020 [YR2020]\",\"2021 [YR2021]\",\"2022 [YR2022]\",\"2023 [YR2023]\"],\"xaxis\":\"x\",\"y\":[100.0,100.0,100.0,100.0,100.0,100.0,100.0,100.0,100.0,100.0,100.0,null],\"yaxis\":\"y\",\"type\":\"scattergl\"},{\"hovertemplate\":\"Country Name=Angola\\u003cbr\\u003eYear=%{x}\\u003cbr\\u003eAccess to electricity (% pop)=%{y}\\u003cextra\\u003e\\u003c\\u002fextra\\u003e\",\"legendgroup\":\"Angola\",\"line\":{\"color\":\"#19d3f3\",\"dash\":\"solid\"},\"marker\":{\"symbol\":\"circle\"},\"mode\":\"lines\",\"name\":\"Angola\",\"showlegend\":true,\"x\":[\"1990 [YR1990]\",\"2000 [YR2000]\",\"2014 [YR2014]\",\"2015 [YR2015]\",\"2016 [YR2016]\",\"2017 [YR2017]\",\"2018 [YR2018]\",\"2019 [YR2019]\",\"2020 [YR2020]\",\"2021 [YR2021]\",\"2022 [YR2022]\",\"2023 [YR2023]\"],\"xaxis\":\"x\",\"y\":[null,24.2,32.0,42.0,41.8,42.9,45.3,45.6,47.0,48.2,48.5,null],\"yaxis\":\"y\",\"type\":\"scattergl\"},{\"hovertemplate\":\"Country Name=Antigua and Barbuda\\u003cbr\\u003eYear=%{x}\\u003cbr\\u003eAccess to electricity (% pop)=%{y}\\u003cextra\\u003e\\u003c\\u002fextra\\u003e\",\"legendgroup\":\"Antigua and Barbuda\",\"line\":{\"color\":\"#FF6692\",\"dash\":\"solid\"},\"marker\":{\"symbol\":\"circle\"},\"mode\":\"lines\",\"name\":\"Antigua and Barbuda\",\"showlegend\":true,\"x\":[\"1990 [YR1990]\",\"2000 [YR2000]\",\"2014 [YR2014]\",\"2015 [YR2015]\",\"2016 [YR2016]\",\"2017 [YR2017]\",\"2018 [YR2018]\",\"2019 [YR2019]\",\"2020 [YR2020]\",\"2021 [YR2021]\",\"2022 [YR2022]\",\"2023 [YR2023]\"],\"xaxis\":\"x\",\"y\":[95.7630462646484,97.7,100.0,100.0,100.0,100.0,100.0,100.0,100.0,100.0,100.0,null],\"yaxis\":\"y\",\"type\":\"scattergl\"},{\"hovertemplate\":\"Country Name=Argentina\\u003cbr\\u003eYear=%{x}\\u003cbr\\u003eAccess to electricity (% pop)=%{y}\\u003cextra\\u003e\\u003c\\u002fextra\\u003e\",\"legendgroup\":\"Argentina\",\"line\":{\"color\":\"#B6E880\",\"dash\":\"solid\"},\"marker\":{\"symbol\":\"circle\"},\"mode\":\"lines\",\"name\":\"Argentina\",\"showlegend\":true,\"x\":[\"1990 [YR1990]\",\"2000 [YR2000]\",\"2014 [YR2014]\",\"2015 [YR2015]\",\"2016 [YR2016]\",\"2017 [YR2017]\",\"2018 [YR2018]\",\"2019 [YR2019]\",\"2020 [YR2020]\",\"2021 [YR2021]\",\"2022 [YR2022]\",\"2023 [YR2023]\"],\"xaxis\":\"x\",\"y\":[92.1548004150391,95.7,100.0,99.7,99.9,100.0,100.0,100.0,100.0,100.0,100.0,null],\"yaxis\":\"y\",\"type\":\"scattergl\"},{\"hovertemplate\":\"Country Name=Armenia\\u003cbr\\u003eYear=%{x}\\u003cbr\\u003eAccess to electricity (% pop)=%{y}\\u003cextra\\u003e\\u003c\\u002fextra\\u003e\",\"legendgroup\":\"Armenia\",\"line\":{\"color\":\"#FF97FF\",\"dash\":\"solid\"},\"marker\":{\"symbol\":\"circle\"},\"mode\":\"lines\",\"name\":\"Armenia\",\"showlegend\":true,\"x\":[\"1990 [YR1990]\",\"2000 [YR2000]\",\"2014 [YR2014]\",\"2015 [YR2015]\",\"2016 [YR2016]\",\"2017 [YR2017]\",\"2018 [YR2018]\",\"2019 [YR2019]\",\"2020 [YR2020]\",\"2021 [YR2021]\",\"2022 [YR2022]\",\"2023 [YR2023]\"],\"xaxis\":\"x\",\"y\":[null,98.9,99.7,100.0,99.8,99.7,99.9,100.0,100.0,100.0,100.0,null],\"yaxis\":\"y\",\"type\":\"scattergl\"},{\"hovertemplate\":\"Country Name=Aruba\\u003cbr\\u003eYear=%{x}\\u003cbr\\u003eAccess to electricity (% pop)=%{y}\\u003cextra\\u003e\\u003c\\u002fextra\\u003e\",\"legendgroup\":\"Aruba\",\"line\":{\"color\":\"#FECB52\",\"dash\":\"solid\"},\"marker\":{\"symbol\":\"circle\"},\"mode\":\"lines\",\"name\":\"Aruba\",\"showlegend\":true,\"x\":[\"1990 [YR1990]\",\"2000 [YR2000]\",\"2014 [YR2014]\",\"2015 [YR2015]\",\"2016 [YR2016]\",\"2017 [YR2017]\",\"2018 [YR2018]\",\"2019 [YR2019]\",\"2020 [YR2020]\",\"2021 [YR2021]\",\"2022 [YR2022]\",\"2023 [YR2023]\"],\"xaxis\":\"x\",\"y\":[100.0,91.7,100.0,100.0,100.0,100.0,100.0,100.0,100.0,100.0,99.9,null],\"yaxis\":\"y\",\"type\":\"scattergl\"},{\"hovertemplate\":\"Country Name=Australia\\u003cbr\\u003eYear=%{x}\\u003cbr\\u003eAccess to electricity (% pop)=%{y}\\u003cextra\\u003e\\u003c\\u002fextra\\u003e\",\"legendgroup\":\"Australia\",\"line\":{\"color\":\"#636efa\",\"dash\":\"solid\"},\"marker\":{\"symbol\":\"circle\"},\"mode\":\"lines\",\"name\":\"Australia\",\"showlegend\":true,\"x\":[\"1990 [YR1990]\",\"2000 [YR2000]\",\"2014 [YR2014]\",\"2015 [YR2015]\",\"2016 [YR2016]\",\"2017 [YR2017]\",\"2018 [YR2018]\",\"2019 [YR2019]\",\"2020 [YR2020]\",\"2021 [YR2021]\",\"2022 [YR2022]\",\"2023 [YR2023]\"],\"xaxis\":\"x\",\"y\":[100.0,100.0,100.0,100.0,100.0,100.0,100.0,100.0,100.0,100.0,100.0,null],\"yaxis\":\"y\",\"type\":\"scattergl\"},{\"hovertemplate\":\"Country Name=Austria\\u003cbr\\u003eYear=%{x}\\u003cbr\\u003eAccess to electricity (% pop)=%{y}\\u003cextra\\u003e\\u003c\\u002fextra\\u003e\",\"legendgroup\":\"Austria\",\"line\":{\"color\":\"#EF553B\",\"dash\":\"solid\"},\"marker\":{\"symbol\":\"circle\"},\"mode\":\"lines\",\"name\":\"Austria\",\"showlegend\":true,\"x\":[\"1990 [YR1990]\",\"2000 [YR2000]\",\"2014 [YR2014]\",\"2015 [YR2015]\",\"2016 [YR2016]\",\"2017 [YR2017]\",\"2018 [YR2018]\",\"2019 [YR2019]\",\"2020 [YR2020]\",\"2021 [YR2021]\",\"2022 [YR2022]\",\"2023 [YR2023]\"],\"xaxis\":\"x\",\"y\":[100.0,100.0,100.0,100.0,100.0,100.0,100.0,100.0,100.0,100.0,100.0,null],\"yaxis\":\"y\",\"type\":\"scattergl\"},{\"hovertemplate\":\"Country Name=Azerbaijan\\u003cbr\\u003eYear=%{x}\\u003cbr\\u003eAccess to electricity (% pop)=%{y}\\u003cextra\\u003e\\u003c\\u002fextra\\u003e\",\"legendgroup\":\"Azerbaijan\",\"line\":{\"color\":\"#00cc96\",\"dash\":\"solid\"},\"marker\":{\"symbol\":\"circle\"},\"mode\":\"lines\",\"name\":\"Azerbaijan\",\"showlegend\":true,\"x\":[\"1990 [YR1990]\",\"2000 [YR2000]\",\"2014 [YR2014]\",\"2015 [YR2015]\",\"2016 [YR2016]\",\"2017 [YR2017]\",\"2018 [YR2018]\",\"2019 [YR2019]\",\"2020 [YR2020]\",\"2021 [YR2021]\",\"2022 [YR2022]\",\"2023 [YR2023]\"],\"xaxis\":\"x\",\"y\":[null,98.9,100.0,100.0,100.0,100.0,100.0,100.0,100.0,100.0,100.0,null],\"yaxis\":\"y\",\"type\":\"scattergl\"},{\"hovertemplate\":\"Country Name=Bahamas, The\\u003cbr\\u003eYear=%{x}\\u003cbr\\u003eAccess to electricity (% pop)=%{y}\\u003cextra\\u003e\\u003c\\u002fextra\\u003e\",\"legendgroup\":\"Bahamas, The\",\"line\":{\"color\":\"#ab63fa\",\"dash\":\"solid\"},\"marker\":{\"symbol\":\"circle\"},\"mode\":\"lines\",\"name\":\"Bahamas, The\",\"showlegend\":true,\"x\":[\"1990 [YR1990]\",\"2000 [YR2000]\",\"2014 [YR2014]\",\"2015 [YR2015]\",\"2016 [YR2016]\",\"2017 [YR2017]\",\"2018 [YR2018]\",\"2019 [YR2019]\",\"2020 [YR2020]\",\"2021 [YR2021]\",\"2022 [YR2022]\",\"2023 [YR2023]\"],\"xaxis\":\"x\",\"y\":[100.0,100.0,100.0,100.0,100.0,100.0,100.0,100.0,100.0,100.0,100.0,null],\"yaxis\":\"y\",\"type\":\"scattergl\"},{\"hovertemplate\":\"Country Name=Bahrain\\u003cbr\\u003eYear=%{x}\\u003cbr\\u003eAccess to electricity (% pop)=%{y}\\u003cextra\\u003e\\u003c\\u002fextra\\u003e\",\"legendgroup\":\"Bahrain\",\"line\":{\"color\":\"#FFA15A\",\"dash\":\"solid\"},\"marker\":{\"symbol\":\"circle\"},\"mode\":\"lines\",\"name\":\"Bahrain\",\"showlegend\":true,\"x\":[\"1990 [YR1990]\",\"2000 [YR2000]\",\"2014 [YR2014]\",\"2015 [YR2015]\",\"2016 [YR2016]\",\"2017 [YR2017]\",\"2018 [YR2018]\",\"2019 [YR2019]\",\"2020 [YR2020]\",\"2021 [YR2021]\",\"2022 [YR2022]\",\"2023 [YR2023]\"],\"xaxis\":\"x\",\"y\":[99.9413986206055,100.0,100.0,100.0,100.0,100.0,100.0,100.0,100.0,100.0,100.0,null],\"yaxis\":\"y\",\"type\":\"scattergl\"},{\"hovertemplate\":\"Country Name=Bangladesh\\u003cbr\\u003eYear=%{x}\\u003cbr\\u003eAccess to electricity (% pop)=%{y}\\u003cextra\\u003e\\u003c\\u002fextra\\u003e\",\"legendgroup\":\"Bangladesh\",\"line\":{\"color\":\"#19d3f3\",\"dash\":\"solid\"},\"marker\":{\"symbol\":\"circle\"},\"mode\":\"lines\",\"name\":\"Bangladesh\",\"showlegend\":true,\"x\":[\"1990 [YR1990]\",\"2000 [YR2000]\",\"2014 [YR2014]\",\"2015 [YR2015]\",\"2016 [YR2016]\",\"2017 [YR2017]\",\"2018 [YR2018]\",\"2019 [YR2019]\",\"2020 [YR2020]\",\"2021 [YR2021]\",\"2022 [YR2022]\",\"2023 [YR2023]\"],\"xaxis\":\"x\",\"y\":[null,32.0,62.4,74.0,75.9,88.0,86.9,92.2,96.2,99.0,99.4,null],\"yaxis\":\"y\",\"type\":\"scattergl\"},{\"hovertemplate\":\"Country Name=Barbados\\u003cbr\\u003eYear=%{x}\\u003cbr\\u003eAccess to electricity (% pop)=%{y}\\u003cextra\\u003e\\u003c\\u002fextra\\u003e\",\"legendgroup\":\"Barbados\",\"line\":{\"color\":\"#FF6692\",\"dash\":\"solid\"},\"marker\":{\"symbol\":\"circle\"},\"mode\":\"lines\",\"name\":\"Barbados\",\"showlegend\":true,\"x\":[\"1990 [YR1990]\",\"2000 [YR2000]\",\"2014 [YR2014]\",\"2015 [YR2015]\",\"2016 [YR2016]\",\"2017 [YR2017]\",\"2018 [YR2018]\",\"2019 [YR2019]\",\"2020 [YR2020]\",\"2021 [YR2021]\",\"2022 [YR2022]\",\"2023 [YR2023]\"],\"xaxis\":\"x\",\"y\":[99.9842529296875,100.0,100.0,100.0,100.0,100.0,100.0,100.0,100.0,100.0,100.0,null],\"yaxis\":\"y\",\"type\":\"scattergl\"},{\"hovertemplate\":\"Country Name=Belarus\\u003cbr\\u003eYear=%{x}\\u003cbr\\u003eAccess to electricity (% pop)=%{y}\\u003cextra\\u003e\\u003c\\u002fextra\\u003e\",\"legendgroup\":\"Belarus\",\"line\":{\"color\":\"#B6E880\",\"dash\":\"solid\"},\"marker\":{\"symbol\":\"circle\"},\"mode\":\"lines\",\"name\":\"Belarus\",\"showlegend\":true,\"x\":[\"1990 [YR1990]\",\"2000 [YR2000]\",\"2014 [YR2014]\",\"2015 [YR2015]\",\"2016 [YR2016]\",\"2017 [YR2017]\",\"2018 [YR2018]\",\"2019 [YR2019]\",\"2020 [YR2020]\",\"2021 [YR2021]\",\"2022 [YR2022]\",\"2023 [YR2023]\"],\"xaxis\":\"x\",\"y\":[100.0,89.0,96.8,97.4,98.0,98.7,99.3,100.0,100.0,100.0,100.0,null],\"yaxis\":\"y\",\"type\":\"scattergl\"},{\"hovertemplate\":\"Country Name=Belgium\\u003cbr\\u003eYear=%{x}\\u003cbr\\u003eAccess to electricity (% pop)=%{y}\\u003cextra\\u003e\\u003c\\u002fextra\\u003e\",\"legendgroup\":\"Belgium\",\"line\":{\"color\":\"#FF97FF\",\"dash\":\"solid\"},\"marker\":{\"symbol\":\"circle\"},\"mode\":\"lines\",\"name\":\"Belgium\",\"showlegend\":true,\"x\":[\"1990 [YR1990]\",\"2000 [YR2000]\",\"2014 [YR2014]\",\"2015 [YR2015]\",\"2016 [YR2016]\",\"2017 [YR2017]\",\"2018 [YR2018]\",\"2019 [YR2019]\",\"2020 [YR2020]\",\"2021 [YR2021]\",\"2022 [YR2022]\",\"2023 [YR2023]\"],\"xaxis\":\"x\",\"y\":[100.0,100.0,100.0,100.0,100.0,100.0,100.0,100.0,100.0,100.0,100.0,null],\"yaxis\":\"y\",\"type\":\"scattergl\"},{\"hovertemplate\":\"Country Name=Belize\\u003cbr\\u003eYear=%{x}\\u003cbr\\u003eAccess to electricity (% pop)=%{y}\\u003cextra\\u003e\\u003c\\u002fextra\\u003e\",\"legendgroup\":\"Belize\",\"line\":{\"color\":\"#FECB52\",\"dash\":\"solid\"},\"marker\":{\"symbol\":\"circle\"},\"mode\":\"lines\",\"name\":\"Belize\",\"showlegend\":true,\"x\":[\"1990 [YR1990]\",\"2000 [YR2000]\",\"2014 [YR2014]\",\"2015 [YR2015]\",\"2016 [YR2016]\",\"2017 [YR2017]\",\"2018 [YR2018]\",\"2019 [YR2019]\",\"2020 [YR2020]\",\"2021 [YR2021]\",\"2022 [YR2022]\",\"2023 [YR2023]\"],\"xaxis\":\"x\",\"y\":[null,79.0,91.5,91.8,93.3,94.2,91.7,92.7,96.8,97.7,98.6,null],\"yaxis\":\"y\",\"type\":\"scattergl\"},{\"hovertemplate\":\"Country Name=Benin\\u003cbr\\u003eYear=%{x}\\u003cbr\\u003eAccess to electricity (% pop)=%{y}\\u003cextra\\u003e\\u003c\\u002fextra\\u003e\",\"legendgroup\":\"Benin\",\"line\":{\"color\":\"#636efa\",\"dash\":\"solid\"},\"marker\":{\"symbol\":\"circle\"},\"mode\":\"lines\",\"name\":\"Benin\",\"showlegend\":true,\"x\":[\"1990 [YR1990]\",\"2000 [YR2000]\",\"2014 [YR2014]\",\"2015 [YR2015]\",\"2016 [YR2016]\",\"2017 [YR2017]\",\"2018 [YR2018]\",\"2019 [YR2019]\",\"2020 [YR2020]\",\"2021 [YR2021]\",\"2022 [YR2022]\",\"2023 [YR2023]\"],\"xaxis\":\"x\",\"y\":[null,21.5,34.1,29.6,37.0,34.5,39.0,40.0,41.0,42.0,56.5,null],\"yaxis\":\"y\",\"type\":\"scattergl\"},{\"hovertemplate\":\"Country Name=Bermuda\\u003cbr\\u003eYear=%{x}\\u003cbr\\u003eAccess to electricity (% pop)=%{y}\\u003cextra\\u003e\\u003c\\u002fextra\\u003e\",\"legendgroup\":\"Bermuda\",\"line\":{\"color\":\"#EF553B\",\"dash\":\"solid\"},\"marker\":{\"symbol\":\"circle\"},\"mode\":\"lines\",\"name\":\"Bermuda\",\"showlegend\":true,\"x\":[\"1990 [YR1990]\",\"2000 [YR2000]\",\"2014 [YR2014]\",\"2015 [YR2015]\",\"2016 [YR2016]\",\"2017 [YR2017]\",\"2018 [YR2018]\",\"2019 [YR2019]\",\"2020 [YR2020]\",\"2021 [YR2021]\",\"2022 [YR2022]\",\"2023 [YR2023]\"],\"xaxis\":\"x\",\"y\":[100.0,100.0,100.0,100.0,100.0,100.0,100.0,100.0,100.0,100.0,100.0,null],\"yaxis\":\"y\",\"type\":\"scattergl\"},{\"hovertemplate\":\"Country Name=Bhutan\\u003cbr\\u003eYear=%{x}\\u003cbr\\u003eAccess to electricity (% pop)=%{y}\\u003cextra\\u003e\\u003c\\u002fextra\\u003e\",\"legendgroup\":\"Bhutan\",\"line\":{\"color\":\"#00cc96\",\"dash\":\"solid\"},\"marker\":{\"symbol\":\"circle\"},\"mode\":\"lines\",\"name\":\"Bhutan\",\"showlegend\":true,\"x\":[\"1990 [YR1990]\",\"2000 [YR2000]\",\"2014 [YR2014]\",\"2015 [YR2015]\",\"2016 [YR2016]\",\"2017 [YR2017]\",\"2018 [YR2018]\",\"2019 [YR2019]\",\"2020 [YR2020]\",\"2021 [YR2021]\",\"2022 [YR2022]\",\"2023 [YR2023]\"],\"xaxis\":\"x\",\"y\":[null,31.2,91.4,95.4,99.3,97.7,100.0,100.0,100.0,100.0,100.0,null],\"yaxis\":\"y\",\"type\":\"scattergl\"},{\"hovertemplate\":\"Country Name=Bolivia\\u003cbr\\u003eYear=%{x}\\u003cbr\\u003eAccess to electricity (% pop)=%{y}\\u003cextra\\u003e\\u003c\\u002fextra\\u003e\",\"legendgroup\":\"Bolivia\",\"line\":{\"color\":\"#ab63fa\",\"dash\":\"solid\"},\"marker\":{\"symbol\":\"circle\"},\"mode\":\"lines\",\"name\":\"Bolivia\",\"showlegend\":true,\"x\":[\"1990 [YR1990]\",\"2000 [YR2000]\",\"2014 [YR2014]\",\"2015 [YR2015]\",\"2016 [YR2016]\",\"2017 [YR2017]\",\"2018 [YR2018]\",\"2019 [YR2019]\",\"2020 [YR2020]\",\"2021 [YR2021]\",\"2022 [YR2022]\",\"2023 [YR2023]\"],\"xaxis\":\"x\",\"y\":[null,70.0,90.0,91.5,91.8,91.8,92.8,95.1,97.2,98.6,99.9,null],\"yaxis\":\"y\",\"type\":\"scattergl\"},{\"hovertemplate\":\"Country Name=Bosnia and Herzegovina\\u003cbr\\u003eYear=%{x}\\u003cbr\\u003eAccess to electricity (% pop)=%{y}\\u003cextra\\u003e\\u003c\\u002fextra\\u003e\",\"legendgroup\":\"Bosnia and Herzegovina\",\"line\":{\"color\":\"#FFA15A\",\"dash\":\"solid\"},\"marker\":{\"symbol\":\"circle\"},\"mode\":\"lines\",\"name\":\"Bosnia and Herzegovina\",\"showlegend\":true,\"x\":[\"1990 [YR1990]\",\"2000 [YR2000]\",\"2014 [YR2014]\",\"2015 [YR2015]\",\"2016 [YR2016]\",\"2017 [YR2017]\",\"2018 [YR2018]\",\"2019 [YR2019]\",\"2020 [YR2020]\",\"2021 [YR2021]\",\"2022 [YR2022]\",\"2023 [YR2023]\"],\"xaxis\":\"x\",\"y\":[100.0,99.0,99.9,99.7,100.0,100.0,100.0,100.0,100.0,100.0,100.0,null],\"yaxis\":\"y\",\"type\":\"scattergl\"},{\"hovertemplate\":\"Country Name=Botswana\\u003cbr\\u003eYear=%{x}\\u003cbr\\u003eAccess to electricity (% pop)=%{y}\\u003cextra\\u003e\\u003c\\u002fextra\\u003e\",\"legendgroup\":\"Botswana\",\"line\":{\"color\":\"#19d3f3\",\"dash\":\"solid\"},\"marker\":{\"symbol\":\"circle\"},\"mode\":\"lines\",\"name\":\"Botswana\",\"showlegend\":true,\"x\":[\"1990 [YR1990]\",\"2000 [YR2000]\",\"2014 [YR2014]\",\"2015 [YR2015]\",\"2016 [YR2016]\",\"2017 [YR2017]\",\"2018 [YR2018]\",\"2019 [YR2019]\",\"2020 [YR2020]\",\"2021 [YR2021]\",\"2022 [YR2022]\",\"2023 [YR2023]\"],\"xaxis\":\"x\",\"y\":[null,26.5,60.0,62.1,64.2,67.4,68.3,70.1,71.8,73.7,75.9,null],\"yaxis\":\"y\",\"type\":\"scattergl\"},{\"hovertemplate\":\"Country Name=Brazil\\u003cbr\\u003eYear=%{x}\\u003cbr\\u003eAccess to electricity (% pop)=%{y}\\u003cextra\\u003e\\u003c\\u002fextra\\u003e\",\"legendgroup\":\"Brazil\",\"line\":{\"color\":\"#FF6692\",\"dash\":\"solid\"},\"marker\":{\"symbol\":\"circle\"},\"mode\":\"lines\",\"name\":\"Brazil\",\"showlegend\":true,\"x\":[\"1990 [YR1990]\",\"2000 [YR2000]\",\"2014 [YR2014]\",\"2015 [YR2015]\",\"2016 [YR2016]\",\"2017 [YR2017]\",\"2018 [YR2018]\",\"2019 [YR2019]\",\"2020 [YR2020]\",\"2021 [YR2021]\",\"2022 [YR2022]\",\"2023 [YR2023]\"],\"xaxis\":\"x\",\"y\":[87.475116,94.4,99.7,99.7,99.7,99.8,99.7,99.8,99.7,99.5,100.0,null],\"yaxis\":\"y\",\"type\":\"scattergl\"},{\"hovertemplate\":\"Country Name=British Virgin Islands\\u003cbr\\u003eYear=%{x}\\u003cbr\\u003eAccess to electricity (% pop)=%{y}\\u003cextra\\u003e\\u003c\\u002fextra\\u003e\",\"legendgroup\":\"British Virgin Islands\",\"line\":{\"color\":\"#B6E880\",\"dash\":\"solid\"},\"marker\":{\"symbol\":\"circle\"},\"mode\":\"lines\",\"name\":\"British Virgin Islands\",\"showlegend\":true,\"x\":[\"1990 [YR1990]\",\"2000 [YR2000]\",\"2014 [YR2014]\",\"2015 [YR2015]\",\"2016 [YR2016]\",\"2017 [YR2017]\",\"2018 [YR2018]\",\"2019 [YR2019]\",\"2020 [YR2020]\",\"2021 [YR2021]\",\"2022 [YR2022]\",\"2023 [YR2023]\"],\"xaxis\":\"x\",\"y\":[94.606559753418,97.1,99.2,100.0,100.0,100.0,100.0,100.0,100.0,100.0,100.0,null],\"yaxis\":\"y\",\"type\":\"scattergl\"},{\"hovertemplate\":\"Country Name=Brunei Darussalam\\u003cbr\\u003eYear=%{x}\\u003cbr\\u003eAccess to electricity (% pop)=%{y}\\u003cextra\\u003e\\u003c\\u002fextra\\u003e\",\"legendgroup\":\"Brunei Darussalam\",\"line\":{\"color\":\"#FF97FF\",\"dash\":\"solid\"},\"marker\":{\"symbol\":\"circle\"},\"mode\":\"lines\",\"name\":\"Brunei Darussalam\",\"showlegend\":true,\"x\":[\"1990 [YR1990]\",\"2000 [YR2000]\",\"2014 [YR2014]\",\"2015 [YR2015]\",\"2016 [YR2016]\",\"2017 [YR2017]\",\"2018 [YR2018]\",\"2019 [YR2019]\",\"2020 [YR2020]\",\"2021 [YR2021]\",\"2022 [YR2022]\",\"2023 [YR2023]\"],\"xaxis\":\"x\",\"y\":[100.0,100.0,100.0,100.0,100.0,100.0,100.0,100.0,100.0,100.0,100.0,null],\"yaxis\":\"y\",\"type\":\"scattergl\"},{\"hovertemplate\":\"Country Name=Bulgaria\\u003cbr\\u003eYear=%{x}\\u003cbr\\u003eAccess to electricity (% pop)=%{y}\\u003cextra\\u003e\\u003c\\u002fextra\\u003e\",\"legendgroup\":\"Bulgaria\",\"line\":{\"color\":\"#FECB52\",\"dash\":\"solid\"},\"marker\":{\"symbol\":\"circle\"},\"mode\":\"lines\",\"name\":\"Bulgaria\",\"showlegend\":true,\"x\":[\"1990 [YR1990]\",\"2000 [YR2000]\",\"2014 [YR2014]\",\"2015 [YR2015]\",\"2016 [YR2016]\",\"2017 [YR2017]\",\"2018 [YR2018]\",\"2019 [YR2019]\",\"2020 [YR2020]\",\"2021 [YR2021]\",\"2022 [YR2022]\",\"2023 [YR2023]\"],\"xaxis\":\"x\",\"y\":[100.0,88.1,95.9,96.6,97.3,98.1,98.7,99.2,99.7,99.8,100.0,null],\"yaxis\":\"y\",\"type\":\"scattergl\"},{\"hovertemplate\":\"Country Name=Burkina Faso\\u003cbr\\u003eYear=%{x}\\u003cbr\\u003eAccess to electricity (% pop)=%{y}\\u003cextra\\u003e\\u003c\\u002fextra\\u003e\",\"legendgroup\":\"Burkina Faso\",\"line\":{\"color\":\"#636efa\",\"dash\":\"solid\"},\"marker\":{\"symbol\":\"circle\"},\"mode\":\"lines\",\"name\":\"Burkina Faso\",\"showlegend\":true,\"x\":[\"1990 [YR1990]\",\"2000 [YR2000]\",\"2014 [YR2014]\",\"2015 [YR2015]\",\"2016 [YR2016]\",\"2017 [YR2017]\",\"2018 [YR2018]\",\"2019 [YR2019]\",\"2020 [YR2020]\",\"2021 [YR2021]\",\"2022 [YR2022]\",\"2023 [YR2023]\"],\"xaxis\":\"x\",\"y\":[null,9.1,19.2,16.2,16.6,17.0,14.4,17.6,18.5,19.0,19.5,null],\"yaxis\":\"y\",\"type\":\"scattergl\"},{\"hovertemplate\":\"Country Name=Burundi\\u003cbr\\u003eYear=%{x}\\u003cbr\\u003eAccess to electricity (% pop)=%{y}\\u003cextra\\u003e\\u003c\\u002fextra\\u003e\",\"legendgroup\":\"Burundi\",\"line\":{\"color\":\"#EF553B\",\"dash\":\"solid\"},\"marker\":{\"symbol\":\"circle\"},\"mode\":\"lines\",\"name\":\"Burundi\",\"showlegend\":true,\"x\":[\"1990 [YR1990]\",\"2000 [YR2000]\",\"2014 [YR2014]\",\"2015 [YR2015]\",\"2016 [YR2016]\",\"2017 [YR2017]\",\"2018 [YR2018]\",\"2019 [YR2019]\",\"2020 [YR2020]\",\"2021 [YR2021]\",\"2022 [YR2022]\",\"2023 [YR2023]\"],\"xaxis\":\"x\",\"y\":[null,2.5,7.0,7.9,8.5,9.3,9.5,9.8,9.1,10.2,10.3,null],\"yaxis\":\"y\",\"type\":\"scattergl\"},{\"hovertemplate\":\"Country Name=Cabo Verde\\u003cbr\\u003eYear=%{x}\\u003cbr\\u003eAccess to electricity (% pop)=%{y}\\u003cextra\\u003e\\u003c\\u002fextra\\u003e\",\"legendgroup\":\"Cabo Verde\",\"line\":{\"color\":\"#00cc96\",\"dash\":\"solid\"},\"marker\":{\"symbol\":\"circle\"},\"mode\":\"lines\",\"name\":\"Cabo Verde\",\"showlegend\":true,\"x\":[\"1990 [YR1990]\",\"2000 [YR2000]\",\"2014 [YR2014]\",\"2015 [YR2015]\",\"2016 [YR2016]\",\"2017 [YR2017]\",\"2018 [YR2018]\",\"2019 [YR2019]\",\"2020 [YR2020]\",\"2021 [YR2021]\",\"2022 [YR2022]\",\"2023 [YR2023]\"],\"xaxis\":\"x\",\"y\":[null,58.6,85.3,86.4,87.5,88.6,90.2,91.4,93.7,95.5,97.1,null],\"yaxis\":\"y\",\"type\":\"scattergl\"},{\"hovertemplate\":\"Country Name=Cambodia\\u003cbr\\u003eYear=%{x}\\u003cbr\\u003eAccess to electricity (% pop)=%{y}\\u003cextra\\u003e\\u003c\\u002fextra\\u003e\",\"legendgroup\":\"Cambodia\",\"line\":{\"color\":\"#ab63fa\",\"dash\":\"solid\"},\"marker\":{\"symbol\":\"circle\"},\"mode\":\"lines\",\"name\":\"Cambodia\",\"showlegend\":true,\"x\":[\"1990 [YR1990]\",\"2000 [YR2000]\",\"2014 [YR2014]\",\"2015 [YR2015]\",\"2016 [YR2016]\",\"2017 [YR2017]\",\"2018 [YR2018]\",\"2019 [YR2019]\",\"2020 [YR2020]\",\"2021 [YR2021]\",\"2022 [YR2022]\",\"2023 [YR2023]\"],\"xaxis\":\"x\",\"y\":[null,16.6,56.1,62.7,68.8,89.1,80.7,84.0,86.4,82.5,92.3,null],\"yaxis\":\"y\",\"type\":\"scattergl\"},{\"hovertemplate\":\"Country Name=Cameroon\\u003cbr\\u003eYear=%{x}\\u003cbr\\u003eAccess to electricity (% pop)=%{y}\\u003cextra\\u003e\\u003c\\u002fextra\\u003e\",\"legendgroup\":\"Cameroon\",\"line\":{\"color\":\"#FFA15A\",\"dash\":\"solid\"},\"marker\":{\"symbol\":\"circle\"},\"mode\":\"lines\",\"name\":\"Cameroon\",\"showlegend\":true,\"x\":[\"1990 [YR1990]\",\"2000 [YR2000]\",\"2014 [YR2014]\",\"2015 [YR2015]\",\"2016 [YR2016]\",\"2017 [YR2017]\",\"2018 [YR2018]\",\"2019 [YR2019]\",\"2020 [YR2020]\",\"2021 [YR2021]\",\"2022 [YR2022]\",\"2023 [YR2023]\"],\"xaxis\":\"x\",\"y\":[null,41.0,56.8,58.6,59.8,60.9,62.2,63.2,64.3,65.4,71.0,null],\"yaxis\":\"y\",\"type\":\"scattergl\"},{\"hovertemplate\":\"Country Name=Canada\\u003cbr\\u003eYear=%{x}\\u003cbr\\u003eAccess to electricity (% pop)=%{y}\\u003cextra\\u003e\\u003c\\u002fextra\\u003e\",\"legendgroup\":\"Canada\",\"line\":{\"color\":\"#19d3f3\",\"dash\":\"solid\"},\"marker\":{\"symbol\":\"circle\"},\"mode\":\"lines\",\"name\":\"Canada\",\"showlegend\":true,\"x\":[\"1990 [YR1990]\",\"2000 [YR2000]\",\"2014 [YR2014]\",\"2015 [YR2015]\",\"2016 [YR2016]\",\"2017 [YR2017]\",\"2018 [YR2018]\",\"2019 [YR2019]\",\"2020 [YR2020]\",\"2021 [YR2021]\",\"2022 [YR2022]\",\"2023 [YR2023]\"],\"xaxis\":\"x\",\"y\":[100.0,100.0,100.0,100.0,100.0,100.0,100.0,100.0,100.0,100.0,100.0,null],\"yaxis\":\"y\",\"type\":\"scattergl\"},{\"hovertemplate\":\"Country Name=Cayman Islands\\u003cbr\\u003eYear=%{x}\\u003cbr\\u003eAccess to electricity (% pop)=%{y}\\u003cextra\\u003e\\u003c\\u002fextra\\u003e\",\"legendgroup\":\"Cayman Islands\",\"line\":{\"color\":\"#FF6692\",\"dash\":\"solid\"},\"marker\":{\"symbol\":\"circle\"},\"mode\":\"lines\",\"name\":\"Cayman Islands\",\"showlegend\":true,\"x\":[\"1990 [YR1990]\",\"2000 [YR2000]\",\"2014 [YR2014]\",\"2015 [YR2015]\",\"2016 [YR2016]\",\"2017 [YR2017]\",\"2018 [YR2018]\",\"2019 [YR2019]\",\"2020 [YR2020]\",\"2021 [YR2021]\",\"2022 [YR2022]\",\"2023 [YR2023]\"],\"xaxis\":\"x\",\"y\":[99.846923828125,100.0,100.0,100.0,100.0,100.0,100.0,100.0,100.0,100.0,100.0,null],\"yaxis\":\"y\",\"type\":\"scattergl\"},{\"hovertemplate\":\"Country Name=Central African Republic\\u003cbr\\u003eYear=%{x}\\u003cbr\\u003eAccess to electricity (% pop)=%{y}\\u003cextra\\u003e\\u003c\\u002fextra\\u003e\",\"legendgroup\":\"Central African Republic\",\"line\":{\"color\":\"#B6E880\",\"dash\":\"solid\"},\"marker\":{\"symbol\":\"circle\"},\"mode\":\"lines\",\"name\":\"Central African Republic\",\"showlegend\":true,\"x\":[\"1990 [YR1990]\",\"2000 [YR2000]\",\"2014 [YR2014]\",\"2015 [YR2015]\",\"2016 [YR2016]\",\"2017 [YR2017]\",\"2018 [YR2018]\",\"2019 [YR2019]\",\"2020 [YR2020]\",\"2021 [YR2021]\",\"2022 [YR2022]\",\"2023 [YR2023]\"],\"xaxis\":\"x\",\"y\":[null,6.0,12.0,12.7,13.4,14.1,14.6,14.3,15.4,15.7,15.7,null],\"yaxis\":\"y\",\"type\":\"scattergl\"},{\"hovertemplate\":\"Country Name=Chad\\u003cbr\\u003eYear=%{x}\\u003cbr\\u003eAccess to electricity (% pop)=%{y}\\u003cextra\\u003e\\u003c\\u002fextra\\u003e\",\"legendgroup\":\"Chad\",\"line\":{\"color\":\"#FF97FF\",\"dash\":\"solid\"},\"marker\":{\"symbol\":\"circle\"},\"mode\":\"lines\",\"name\":\"Chad\",\"showlegend\":true,\"x\":[\"1990 [YR1990]\",\"2000 [YR2000]\",\"2014 [YR2014]\",\"2015 [YR2015]\",\"2016 [YR2016]\",\"2017 [YR2017]\",\"2018 [YR2018]\",\"2019 [YR2019]\",\"2020 [YR2020]\",\"2021 [YR2021]\",\"2022 [YR2022]\",\"2023 [YR2023]\"],\"xaxis\":\"x\",\"y\":[null,3.1,8.4,7.7,9.2,10.9,10.1,8.4,10.9,11.3,11.7,null],\"yaxis\":\"y\",\"type\":\"scattergl\"},{\"hovertemplate\":\"Country Name=Channel Islands\\u003cbr\\u003eYear=%{x}\\u003cbr\\u003eAccess to electricity (% pop)=%{y}\\u003cextra\\u003e\\u003c\\u002fextra\\u003e\",\"legendgroup\":\"Channel Islands\",\"line\":{\"color\":\"#FECB52\",\"dash\":\"solid\"},\"marker\":{\"symbol\":\"circle\"},\"mode\":\"lines\",\"name\":\"Channel Islands\",\"showlegend\":true,\"x\":[\"1990 [YR1990]\",\"2000 [YR2000]\",\"2014 [YR2014]\",\"2015 [YR2015]\",\"2016 [YR2016]\",\"2017 [YR2017]\",\"2018 [YR2018]\",\"2019 [YR2019]\",\"2020 [YR2020]\",\"2021 [YR2021]\",\"2022 [YR2022]\",\"2023 [YR2023]\"],\"xaxis\":\"x\",\"y\":[100.0,100.0,100.0,100.0,100.0,100.0,100.0,100.0,100.0,100.0,100.0,null],\"yaxis\":\"y\",\"type\":\"scattergl\"},{\"hovertemplate\":\"Country Name=Chile\\u003cbr\\u003eYear=%{x}\\u003cbr\\u003eAccess to electricity (% pop)=%{y}\\u003cextra\\u003e\\u003c\\u002fextra\\u003e\",\"legendgroup\":\"Chile\",\"line\":{\"color\":\"#636efa\",\"dash\":\"solid\"},\"marker\":{\"symbol\":\"circle\"},\"mode\":\"lines\",\"name\":\"Chile\",\"showlegend\":true,\"x\":[\"1990 [YR1990]\",\"2000 [YR2000]\",\"2014 [YR2014]\",\"2015 [YR2015]\",\"2016 [YR2016]\",\"2017 [YR2017]\",\"2018 [YR2018]\",\"2019 [YR2019]\",\"2020 [YR2020]\",\"2021 [YR2021]\",\"2022 [YR2022]\",\"2023 [YR2023]\"],\"xaxis\":\"x\",\"y\":[92.257427,97.9,100.0,99.7,100.0,99.7,100.0,100.0,100.0,100.0,100.0,null],\"yaxis\":\"y\",\"type\":\"scattergl\"},{\"hovertemplate\":\"Country Name=China\\u003cbr\\u003eYear=%{x}\\u003cbr\\u003eAccess to electricity (% pop)=%{y}\\u003cextra\\u003e\\u003c\\u002fextra\\u003e\",\"legendgroup\":\"China\",\"line\":{\"color\":\"#EF553B\",\"dash\":\"solid\"},\"marker\":{\"symbol\":\"circle\"},\"mode\":\"lines\",\"name\":\"China\",\"showlegend\":true,\"x\":[\"1990 [YR1990]\",\"2000 [YR2000]\",\"2014 [YR2014]\",\"2015 [YR2015]\",\"2016 [YR2016]\",\"2017 [YR2017]\",\"2018 [YR2018]\",\"2019 [YR2019]\",\"2020 [YR2020]\",\"2021 [YR2021]\",\"2022 [YR2022]\",\"2023 [YR2023]\"],\"xaxis\":\"x\",\"y\":[null,96.7,100.0,100.0,100.0,100.0,100.0,100.0,100.0,100.0,100.0,null],\"yaxis\":\"y\",\"type\":\"scattergl\"},{\"hovertemplate\":\"Country Name=Colombia\\u003cbr\\u003eYear=%{x}\\u003cbr\\u003eAccess to electricity (% pop)=%{y}\\u003cextra\\u003e\\u003c\\u002fextra\\u003e\",\"legendgroup\":\"Colombia\",\"line\":{\"color\":\"#00cc96\",\"dash\":\"solid\"},\"marker\":{\"symbol\":\"circle\"},\"mode\":\"lines\",\"name\":\"Colombia\",\"showlegend\":true,\"x\":[\"1990 [YR1990]\",\"2000 [YR2000]\",\"2014 [YR2014]\",\"2015 [YR2015]\",\"2016 [YR2016]\",\"2017 [YR2017]\",\"2018 [YR2018]\",\"2019 [YR2019]\",\"2020 [YR2020]\",\"2021 [YR2021]\",\"2022 [YR2022]\",\"2023 [YR2023]\"],\"xaxis\":\"x\",\"y\":[89.9,95.2,97.8,98.2,98.4,98.5,98.5,99.4,99.7,100.0,100.0,null],\"yaxis\":\"y\",\"type\":\"scattergl\"},{\"hovertemplate\":\"Country Name=Comoros\\u003cbr\\u003eYear=%{x}\\u003cbr\\u003eAccess to electricity (% pop)=%{y}\\u003cextra\\u003e\\u003c\\u002fextra\\u003e\",\"legendgroup\":\"Comoros\",\"line\":{\"color\":\"#ab63fa\",\"dash\":\"solid\"},\"marker\":{\"symbol\":\"circle\"},\"mode\":\"lines\",\"name\":\"Comoros\",\"showlegend\":true,\"x\":[\"1990 [YR1990]\",\"2000 [YR2000]\",\"2014 [YR2014]\",\"2015 [YR2015]\",\"2016 [YR2016]\",\"2017 [YR2017]\",\"2018 [YR2018]\",\"2019 [YR2019]\",\"2020 [YR2020]\",\"2021 [YR2021]\",\"2022 [YR2022]\",\"2023 [YR2023]\"],\"xaxis\":\"x\",\"y\":[null,39.8,71.8,74.1,76.4,78.7,81.0,83.3,85.6,87.9,89.9,null],\"yaxis\":\"y\",\"type\":\"scattergl\"},{\"hovertemplate\":\"Country Name=Congo, Dem. Rep.\\u003cbr\\u003eYear=%{x}\\u003cbr\\u003eAccess to electricity (% pop)=%{y}\\u003cextra\\u003e\\u003c\\u002fextra\\u003e\",\"legendgroup\":\"Congo, Dem. Rep.\",\"line\":{\"color\":\"#FFA15A\",\"dash\":\"solid\"},\"marker\":{\"symbol\":\"circle\"},\"mode\":\"lines\",\"name\":\"Congo, Dem. Rep.\",\"showlegend\":true,\"x\":[\"1990 [YR1990]\",\"2000 [YR2000]\",\"2014 [YR2014]\",\"2015 [YR2015]\",\"2016 [YR2016]\",\"2017 [YR2017]\",\"2018 [YR2018]\",\"2019 [YR2019]\",\"2020 [YR2020]\",\"2021 [YR2021]\",\"2022 [YR2022]\",\"2023 [YR2023]\"],\"xaxis\":\"x\",\"y\":[null,6.7,13.5,16.6,17.3,18.0,18.7,19.1,20.1,20.8,21.5,null],\"yaxis\":\"y\",\"type\":\"scattergl\"},{\"hovertemplate\":\"Country Name=Congo, Rep.\\u003cbr\\u003eYear=%{x}\\u003cbr\\u003eAccess to electricity (% pop)=%{y}\\u003cextra\\u003e\\u003c\\u002fextra\\u003e\",\"legendgroup\":\"Congo, Rep.\",\"line\":{\"color\":\"#19d3f3\",\"dash\":\"solid\"},\"marker\":{\"symbol\":\"circle\"},\"mode\":\"lines\",\"name\":\"Congo, Rep.\",\"showlegend\":true,\"x\":[\"1990 [YR1990]\",\"2000 [YR2000]\",\"2014 [YR2014]\",\"2015 [YR2015]\",\"2016 [YR2016]\",\"2017 [YR2017]\",\"2018 [YR2018]\",\"2019 [YR2019]\",\"2020 [YR2020]\",\"2021 [YR2021]\",\"2022 [YR2022]\",\"2023 [YR2023]\"],\"xaxis\":\"x\",\"y\":[null,29.4,43.4,44.3,45.3,46.2,47.0,47.7,48.7,49.7,50.6,null],\"yaxis\":\"y\",\"type\":\"scattergl\"},{\"hovertemplate\":\"Country Name=Costa Rica\\u003cbr\\u003eYear=%{x}\\u003cbr\\u003eAccess to electricity (% pop)=%{y}\\u003cextra\\u003e\\u003c\\u002fextra\\u003e\",\"legendgroup\":\"Costa Rica\",\"line\":{\"color\":\"#FF6692\",\"dash\":\"solid\"},\"marker\":{\"symbol\":\"circle\"},\"mode\":\"lines\",\"name\":\"Costa Rica\",\"showlegend\":true,\"x\":[\"1990 [YR1990]\",\"2000 [YR2000]\",\"2014 [YR2014]\",\"2015 [YR2015]\",\"2016 [YR2016]\",\"2017 [YR2017]\",\"2018 [YR2018]\",\"2019 [YR2019]\",\"2020 [YR2020]\",\"2021 [YR2021]\",\"2022 [YR2022]\",\"2023 [YR2023]\"],\"xaxis\":\"x\",\"y\":[null,96.9,99.4,99.4,99.5,99.6,99.7,99.7,99.9,100.0,100.0,null],\"yaxis\":\"y\",\"type\":\"scattergl\"},{\"hovertemplate\":\"Country Name=Cote d'Ivoire\\u003cbr\\u003eYear=%{x}\\u003cbr\\u003eAccess to electricity (% pop)=%{y}\\u003cextra\\u003e\\u003c\\u002fextra\\u003e\",\"legendgroup\":\"Cote d'Ivoire\",\"line\":{\"color\":\"#B6E880\",\"dash\":\"solid\"},\"marker\":{\"symbol\":\"circle\"},\"mode\":\"lines\",\"name\":\"Cote d'Ivoire\",\"showlegend\":true,\"x\":[\"1990 [YR1990]\",\"2000 [YR2000]\",\"2014 [YR2014]\",\"2015 [YR2015]\",\"2016 [YR2016]\",\"2017 [YR2017]\",\"2018 [YR2018]\",\"2019 [YR2019]\",\"2020 [YR2020]\",\"2021 [YR2021]\",\"2022 [YR2022]\",\"2023 [YR2023]\"],\"xaxis\":\"x\",\"y\":[null,48.7,61.9,62.6,64.3,65.6,67.1,68.6,69.9,71.1,70.4,null],\"yaxis\":\"y\",\"type\":\"scattergl\"},{\"hovertemplate\":\"Country Name=Croatia\\u003cbr\\u003eYear=%{x}\\u003cbr\\u003eAccess to electricity (% pop)=%{y}\\u003cextra\\u003e\\u003c\\u002fextra\\u003e\",\"legendgroup\":\"Croatia\",\"line\":{\"color\":\"#FF97FF\",\"dash\":\"solid\"},\"marker\":{\"symbol\":\"circle\"},\"mode\":\"lines\",\"name\":\"Croatia\",\"showlegend\":true,\"x\":[\"1990 [YR1990]\",\"2000 [YR2000]\",\"2014 [YR2014]\",\"2015 [YR2015]\",\"2016 [YR2016]\",\"2017 [YR2017]\",\"2018 [YR2018]\",\"2019 [YR2019]\",\"2020 [YR2020]\",\"2021 [YR2021]\",\"2022 [YR2022]\",\"2023 [YR2023]\"],\"xaxis\":\"x\",\"y\":[100.0,100.0,100.0,100.0,100.0,100.0,100.0,100.0,100.0,100.0,100.0,null],\"yaxis\":\"y\",\"type\":\"scattergl\"},{\"hovertemplate\":\"Country Name=Cuba\\u003cbr\\u003eYear=%{x}\\u003cbr\\u003eAccess to electricity (% pop)=%{y}\\u003cextra\\u003e\\u003c\\u002fextra\\u003e\",\"legendgroup\":\"Cuba\",\"line\":{\"color\":\"#FECB52\",\"dash\":\"solid\"},\"marker\":{\"symbol\":\"circle\"},\"mode\":\"lines\",\"name\":\"Cuba\",\"showlegend\":true,\"x\":[\"1990 [YR1990]\",\"2000 [YR2000]\",\"2014 [YR2014]\",\"2015 [YR2015]\",\"2016 [YR2016]\",\"2017 [YR2017]\",\"2018 [YR2018]\",\"2019 [YR2019]\",\"2020 [YR2020]\",\"2021 [YR2021]\",\"2022 [YR2022]\",\"2023 [YR2023]\"],\"xaxis\":\"x\",\"y\":[null,97.0,98.7,99.0,99.2,99.4,99.6,99.8,99.9,100.0,100.0,null],\"yaxis\":\"y\",\"type\":\"scattergl\"},{\"hovertemplate\":\"Country Name=Curacao\\u003cbr\\u003eYear=%{x}\\u003cbr\\u003eAccess to electricity (% pop)=%{y}\\u003cextra\\u003e\\u003c\\u002fextra\\u003e\",\"legendgroup\":\"Curacao\",\"line\":{\"color\":\"#636efa\",\"dash\":\"solid\"},\"marker\":{\"symbol\":\"circle\"},\"mode\":\"lines\",\"name\":\"Curacao\",\"showlegend\":true,\"x\":[\"1990 [YR1990]\",\"2000 [YR2000]\",\"2014 [YR2014]\",\"2015 [YR2015]\",\"2016 [YR2016]\",\"2017 [YR2017]\",\"2018 [YR2018]\",\"2019 [YR2019]\",\"2020 [YR2020]\",\"2021 [YR2021]\",\"2022 [YR2022]\",\"2023 [YR2023]\"],\"xaxis\":\"x\",\"y\":[100.0,100.0,100.0,100.0,100.0,100.0,100.0,100.0,100.0,100.0,100.0,null],\"yaxis\":\"y\",\"type\":\"scattergl\"},{\"hovertemplate\":\"Country Name=Cyprus\\u003cbr\\u003eYear=%{x}\\u003cbr\\u003eAccess to electricity (% pop)=%{y}\\u003cextra\\u003e\\u003c\\u002fextra\\u003e\",\"legendgroup\":\"Cyprus\",\"line\":{\"color\":\"#EF553B\",\"dash\":\"solid\"},\"marker\":{\"symbol\":\"circle\"},\"mode\":\"lines\",\"name\":\"Cyprus\",\"showlegend\":true,\"x\":[\"1990 [YR1990]\",\"2000 [YR2000]\",\"2014 [YR2014]\",\"2015 [YR2015]\",\"2016 [YR2016]\",\"2017 [YR2017]\",\"2018 [YR2018]\",\"2019 [YR2019]\",\"2020 [YR2020]\",\"2021 [YR2021]\",\"2022 [YR2022]\",\"2023 [YR2023]\"],\"xaxis\":\"x\",\"y\":[100.0,100.0,100.0,100.0,100.0,100.0,100.0,100.0,100.0,100.0,100.0,null],\"yaxis\":\"y\",\"type\":\"scattergl\"},{\"hovertemplate\":\"Country Name=Czechia\\u003cbr\\u003eYear=%{x}\\u003cbr\\u003eAccess to electricity (% pop)=%{y}\\u003cextra\\u003e\\u003c\\u002fextra\\u003e\",\"legendgroup\":\"Czechia\",\"line\":{\"color\":\"#00cc96\",\"dash\":\"solid\"},\"marker\":{\"symbol\":\"circle\"},\"mode\":\"lines\",\"name\":\"Czechia\",\"showlegend\":true,\"x\":[\"1990 [YR1990]\",\"2000 [YR2000]\",\"2014 [YR2014]\",\"2015 [YR2015]\",\"2016 [YR2016]\",\"2017 [YR2017]\",\"2018 [YR2018]\",\"2019 [YR2019]\",\"2020 [YR2020]\",\"2021 [YR2021]\",\"2022 [YR2022]\",\"2023 [YR2023]\"],\"xaxis\":\"x\",\"y\":[100.0,100.0,100.0,100.0,100.0,100.0,100.0,100.0,100.0,100.0,100.0,null],\"yaxis\":\"y\",\"type\":\"scattergl\"},{\"hovertemplate\":\"Country Name=Denmark\\u003cbr\\u003eYear=%{x}\\u003cbr\\u003eAccess to electricity (% pop)=%{y}\\u003cextra\\u003e\\u003c\\u002fextra\\u003e\",\"legendgroup\":\"Denmark\",\"line\":{\"color\":\"#ab63fa\",\"dash\":\"solid\"},\"marker\":{\"symbol\":\"circle\"},\"mode\":\"lines\",\"name\":\"Denmark\",\"showlegend\":true,\"x\":[\"1990 [YR1990]\",\"2000 [YR2000]\",\"2014 [YR2014]\",\"2015 [YR2015]\",\"2016 [YR2016]\",\"2017 [YR2017]\",\"2018 [YR2018]\",\"2019 [YR2019]\",\"2020 [YR2020]\",\"2021 [YR2021]\",\"2022 [YR2022]\",\"2023 [YR2023]\"],\"xaxis\":\"x\",\"y\":[100.0,100.0,100.0,100.0,100.0,100.0,100.0,100.0,100.0,100.0,100.0,null],\"yaxis\":\"y\",\"type\":\"scattergl\"},{\"hovertemplate\":\"Country Name=Djibouti\\u003cbr\\u003eYear=%{x}\\u003cbr\\u003eAccess to electricity (% pop)=%{y}\\u003cextra\\u003e\\u003c\\u002fextra\\u003e\",\"legendgroup\":\"Djibouti\",\"line\":{\"color\":\"#FFA15A\",\"dash\":\"solid\"},\"marker\":{\"symbol\":\"circle\"},\"mode\":\"lines\",\"name\":\"Djibouti\",\"showlegend\":true,\"x\":[\"1990 [YR1990]\",\"2000 [YR2000]\",\"2014 [YR2014]\",\"2015 [YR2015]\",\"2016 [YR2016]\",\"2017 [YR2017]\",\"2018 [YR2018]\",\"2019 [YR2019]\",\"2020 [YR2020]\",\"2021 [YR2021]\",\"2022 [YR2022]\",\"2023 [YR2023]\"],\"xaxis\":\"x\",\"y\":[null,56.0,58.9,59.1,59.8,60.2,62.4,64.7,64.5,65.4,65.0,null],\"yaxis\":\"y\",\"type\":\"scattergl\"},{\"hovertemplate\":\"Country Name=Dominica\\u003cbr\\u003eYear=%{x}\\u003cbr\\u003eAccess to electricity (% pop)=%{y}\\u003cextra\\u003e\\u003c\\u002fextra\\u003e\",\"legendgroup\":\"Dominica\",\"line\":{\"color\":\"#19d3f3\",\"dash\":\"solid\"},\"marker\":{\"symbol\":\"circle\"},\"mode\":\"lines\",\"name\":\"Dominica\",\"showlegend\":true,\"x\":[\"1990 [YR1990]\",\"2000 [YR2000]\",\"2014 [YR2014]\",\"2015 [YR2015]\",\"2016 [YR2016]\",\"2017 [YR2017]\",\"2018 [YR2018]\",\"2019 [YR2019]\",\"2020 [YR2020]\",\"2021 [YR2021]\",\"2022 [YR2022]\",\"2023 [YR2023]\"],\"xaxis\":\"x\",\"y\":[null,81.1,95.7,96.7,97.8,98.9,99.6,99.9,100.0,100.0,100.0,null],\"yaxis\":\"y\",\"type\":\"scattergl\"},{\"hovertemplate\":\"Country Name=Dominican Republic\\u003cbr\\u003eYear=%{x}\\u003cbr\\u003eAccess to electricity (% pop)=%{y}\\u003cextra\\u003e\\u003c\\u002fextra\\u003e\",\"legendgroup\":\"Dominican Republic\",\"line\":{\"color\":\"#FF6692\",\"dash\":\"solid\"},\"marker\":{\"symbol\":\"circle\"},\"mode\":\"lines\",\"name\":\"Dominican Republic\",\"showlegend\":true,\"x\":[\"1990 [YR1990]\",\"2000 [YR2000]\",\"2014 [YR2014]\",\"2015 [YR2015]\",\"2016 [YR2016]\",\"2017 [YR2017]\",\"2018 [YR2018]\",\"2019 [YR2019]\",\"2020 [YR2020]\",\"2021 [YR2021]\",\"2022 [YR2022]\",\"2023 [YR2023]\"],\"xaxis\":\"x\",\"y\":[null,88.8,98.5,98.6,98.9,100.0,98.9,99.0,100.0,98.1,98.1,null],\"yaxis\":\"y\",\"type\":\"scattergl\"},{\"hovertemplate\":\"Country Name=Ecuador\\u003cbr\\u003eYear=%{x}\\u003cbr\\u003eAccess to electricity (% pop)=%{y}\\u003cextra\\u003e\\u003c\\u002fextra\\u003e\",\"legendgroup\":\"Ecuador\",\"line\":{\"color\":\"#B6E880\",\"dash\":\"solid\"},\"marker\":{\"symbol\":\"circle\"},\"mode\":\"lines\",\"name\":\"Ecuador\",\"showlegend\":true,\"x\":[\"1990 [YR1990]\",\"2000 [YR2000]\",\"2014 [YR2014]\",\"2015 [YR2015]\",\"2016 [YR2016]\",\"2017 [YR2017]\",\"2018 [YR2018]\",\"2019 [YR2019]\",\"2020 [YR2020]\",\"2021 [YR2021]\",\"2022 [YR2022]\",\"2023 [YR2023]\"],\"xaxis\":\"x\",\"y\":[null,93.7,99.0,98.8,98.7,99.2,98.7,99.1,98.9,100.0,100.0,null],\"yaxis\":\"y\",\"type\":\"scattergl\"},{\"hovertemplate\":\"Country Name=Egypt, Arab Rep.\\u003cbr\\u003eYear=%{x}\\u003cbr\\u003eAccess to electricity (% pop)=%{y}\\u003cextra\\u003e\\u003c\\u002fextra\\u003e\",\"legendgroup\":\"Egypt, Arab Rep.\",\"line\":{\"color\":\"#FF97FF\",\"dash\":\"solid\"},\"marker\":{\"symbol\":\"circle\"},\"mode\":\"lines\",\"name\":\"Egypt, Arab Rep.\",\"showlegend\":true,\"x\":[\"1990 [YR1990]\",\"2000 [YR2000]\",\"2014 [YR2014]\",\"2015 [YR2015]\",\"2016 [YR2016]\",\"2017 [YR2017]\",\"2018 [YR2018]\",\"2019 [YR2019]\",\"2020 [YR2020]\",\"2021 [YR2021]\",\"2022 [YR2022]\",\"2023 [YR2023]\"],\"xaxis\":\"x\",\"y\":[null,97.7,99.8,99.3,100.0,100.0,100.0,100.0,100.0,100.0,100.0,null],\"yaxis\":\"y\",\"type\":\"scattergl\"},{\"hovertemplate\":\"Country Name=El Salvador\\u003cbr\\u003eYear=%{x}\\u003cbr\\u003eAccess to electricity (% pop)=%{y}\\u003cextra\\u003e\\u003c\\u002fextra\\u003e\",\"legendgroup\":\"El Salvador\",\"line\":{\"color\":\"#FECB52\",\"dash\":\"solid\"},\"marker\":{\"symbol\":\"circle\"},\"mode\":\"lines\",\"name\":\"El Salvador\",\"showlegend\":true,\"x\":[\"1990 [YR1990]\",\"2000 [YR2000]\",\"2014 [YR2014]\",\"2015 [YR2015]\",\"2016 [YR2016]\",\"2017 [YR2017]\",\"2018 [YR2018]\",\"2019 [YR2019]\",\"2020 [YR2020]\",\"2021 [YR2021]\",\"2022 [YR2022]\",\"2023 [YR2023]\"],\"xaxis\":\"x\",\"y\":[null,84.5,95.1,95.4,96.0,96.8,97.0,97.4,99.7,97.9,100.0,null],\"yaxis\":\"y\",\"type\":\"scattergl\"},{\"hovertemplate\":\"Country Name=Equatorial Guinea\\u003cbr\\u003eYear=%{x}\\u003cbr\\u003eAccess to electricity (% pop)=%{y}\\u003cextra\\u003e\\u003c\\u002fextra\\u003e\",\"legendgroup\":\"Equatorial Guinea\",\"line\":{\"color\":\"#636efa\",\"dash\":\"solid\"},\"marker\":{\"symbol\":\"circle\"},\"mode\":\"lines\",\"name\":\"Equatorial Guinea\",\"showlegend\":true,\"x\":[\"1990 [YR1990]\",\"2000 [YR2000]\",\"2014 [YR2014]\",\"2015 [YR2015]\",\"2016 [YR2016]\",\"2017 [YR2017]\",\"2018 [YR2018]\",\"2019 [YR2019]\",\"2020 [YR2020]\",\"2021 [YR2021]\",\"2022 [YR2022]\",\"2023 [YR2023]\"],\"xaxis\":\"x\",\"y\":[null,64.8,66.0,66.1,66.2,66.4,66.5,66.6,66.7,66.8,67.0,null],\"yaxis\":\"y\",\"type\":\"scattergl\"},{\"hovertemplate\":\"Country Name=Eritrea\\u003cbr\\u003eYear=%{x}\\u003cbr\\u003eAccess to electricity (% pop)=%{y}\\u003cextra\\u003e\\u003c\\u002fextra\\u003e\",\"legendgroup\":\"Eritrea\",\"line\":{\"color\":\"#EF553B\",\"dash\":\"solid\"},\"marker\":{\"symbol\":\"circle\"},\"mode\":\"lines\",\"name\":\"Eritrea\",\"showlegend\":true,\"x\":[\"1990 [YR1990]\",\"2000 [YR2000]\",\"2014 [YR2014]\",\"2015 [YR2015]\",\"2016 [YR2016]\",\"2017 [YR2017]\",\"2018 [YR2018]\",\"2019 [YR2019]\",\"2020 [YR2020]\",\"2021 [YR2021]\",\"2022 [YR2022]\",\"2023 [YR2023]\"],\"xaxis\":\"x\",\"y\":[null,29.3,44.6,45.8,46.9,48.0,49.1,50.3,51.4,52.5,55.4,null],\"yaxis\":\"y\",\"type\":\"scattergl\"},{\"hovertemplate\":\"Country Name=Estonia\\u003cbr\\u003eYear=%{x}\\u003cbr\\u003eAccess to electricity (% pop)=%{y}\\u003cextra\\u003e\\u003c\\u002fextra\\u003e\",\"legendgroup\":\"Estonia\",\"line\":{\"color\":\"#00cc96\",\"dash\":\"solid\"},\"marker\":{\"symbol\":\"circle\"},\"mode\":\"lines\",\"name\":\"Estonia\",\"showlegend\":true,\"x\":[\"1990 [YR1990]\",\"2000 [YR2000]\",\"2014 [YR2014]\",\"2015 [YR2015]\",\"2016 [YR2016]\",\"2017 [YR2017]\",\"2018 [YR2018]\",\"2019 [YR2019]\",\"2020 [YR2020]\",\"2021 [YR2021]\",\"2022 [YR2022]\",\"2023 [YR2023]\"],\"xaxis\":\"x\",\"y\":[100.0,100.0,100.0,100.0,100.0,100.0,100.0,100.0,100.0,100.0,100.0,null],\"yaxis\":\"y\",\"type\":\"scattergl\"},{\"hovertemplate\":\"Country Name=Eswatini\\u003cbr\\u003eYear=%{x}\\u003cbr\\u003eAccess to electricity (% pop)=%{y}\\u003cextra\\u003e\\u003c\\u002fextra\\u003e\",\"legendgroup\":\"Eswatini\",\"line\":{\"color\":\"#ab63fa\",\"dash\":\"solid\"},\"marker\":{\"symbol\":\"circle\"},\"mode\":\"lines\",\"name\":\"Eswatini\",\"showlegend\":true,\"x\":[\"1990 [YR1990]\",\"2000 [YR2000]\",\"2014 [YR2014]\",\"2015 [YR2015]\",\"2016 [YR2016]\",\"2017 [YR2017]\",\"2018 [YR2018]\",\"2019 [YR2019]\",\"2020 [YR2020]\",\"2021 [YR2021]\",\"2022 [YR2022]\",\"2023 [YR2023]\"],\"xaxis\":\"x\",\"y\":[null,20.4,65.0,64.1,63.4,73.5,74.0,77.0,80.0,82.9,82.3,null],\"yaxis\":\"y\",\"type\":\"scattergl\"},{\"hovertemplate\":\"Country Name=Ethiopia\\u003cbr\\u003eYear=%{x}\\u003cbr\\u003eAccess to electricity (% pop)=%{y}\\u003cextra\\u003e\\u003c\\u002fextra\\u003e\",\"legendgroup\":\"Ethiopia\",\"line\":{\"color\":\"#FFA15A\",\"dash\":\"solid\"},\"marker\":{\"symbol\":\"circle\"},\"mode\":\"lines\",\"name\":\"Ethiopia\",\"showlegend\":true,\"x\":[\"1990 [YR1990]\",\"2000 [YR2000]\",\"2014 [YR2014]\",\"2015 [YR2015]\",\"2016 [YR2016]\",\"2017 [YR2017]\",\"2018 [YR2018]\",\"2019 [YR2019]\",\"2020 [YR2020]\",\"2021 [YR2021]\",\"2022 [YR2022]\",\"2023 [YR2023]\"],\"xaxis\":\"x\",\"y\":[null,12.7,27.2,29.0,42.9,44.3,44.8,48.0,51.1,54.2,55.0,null],\"yaxis\":\"y\",\"type\":\"scattergl\"},{\"hovertemplate\":\"Country Name=Faroe Islands\\u003cbr\\u003eYear=%{x}\\u003cbr\\u003eAccess to electricity (% pop)=%{y}\\u003cextra\\u003e\\u003c\\u002fextra\\u003e\",\"legendgroup\":\"Faroe Islands\",\"line\":{\"color\":\"#19d3f3\",\"dash\":\"solid\"},\"marker\":{\"symbol\":\"circle\"},\"mode\":\"lines\",\"name\":\"Faroe Islands\",\"showlegend\":true,\"x\":[\"1990 [YR1990]\",\"2000 [YR2000]\",\"2014 [YR2014]\",\"2015 [YR2015]\",\"2016 [YR2016]\",\"2017 [YR2017]\",\"2018 [YR2018]\",\"2019 [YR2019]\",\"2020 [YR2020]\",\"2021 [YR2021]\",\"2022 [YR2022]\",\"2023 [YR2023]\"],\"xaxis\":\"x\",\"y\":[100.0,100.0,100.0,100.0,100.0,100.0,100.0,100.0,100.0,100.0,100.0,null],\"yaxis\":\"y\",\"type\":\"scattergl\"},{\"hovertemplate\":\"Country Name=Fiji\\u003cbr\\u003eYear=%{x}\\u003cbr\\u003eAccess to electricity (% pop)=%{y}\\u003cextra\\u003e\\u003c\\u002fextra\\u003e\",\"legendgroup\":\"Fiji\",\"line\":{\"color\":\"#FF6692\",\"dash\":\"solid\"},\"marker\":{\"symbol\":\"circle\"},\"mode\":\"lines\",\"name\":\"Fiji\",\"showlegend\":true,\"x\":[\"1990 [YR1990]\",\"2000 [YR2000]\",\"2014 [YR2014]\",\"2015 [YR2015]\",\"2016 [YR2016]\",\"2017 [YR2017]\",\"2018 [YR2018]\",\"2019 [YR2019]\",\"2020 [YR2020]\",\"2021 [YR2021]\",\"2022 [YR2022]\",\"2023 [YR2023]\"],\"xaxis\":\"x\",\"y\":[null,76.8,93.0,93.2,93.4,96.0,95.1,96.1,97.1,92.1,92.0,null],\"yaxis\":\"y\",\"type\":\"scattergl\"},{\"hovertemplate\":\"Country Name=Finland\\u003cbr\\u003eYear=%{x}\\u003cbr\\u003eAccess to electricity (% pop)=%{y}\\u003cextra\\u003e\\u003c\\u002fextra\\u003e\",\"legendgroup\":\"Finland\",\"line\":{\"color\":\"#B6E880\",\"dash\":\"solid\"},\"marker\":{\"symbol\":\"circle\"},\"mode\":\"lines\",\"name\":\"Finland\",\"showlegend\":true,\"x\":[\"1990 [YR1990]\",\"2000 [YR2000]\",\"2014 [YR2014]\",\"2015 [YR2015]\",\"2016 [YR2016]\",\"2017 [YR2017]\",\"2018 [YR2018]\",\"2019 [YR2019]\",\"2020 [YR2020]\",\"2021 [YR2021]\",\"2022 [YR2022]\",\"2023 [YR2023]\"],\"xaxis\":\"x\",\"y\":[100.0,100.0,100.0,100.0,100.0,100.0,100.0,100.0,100.0,100.0,100.0,null],\"yaxis\":\"y\",\"type\":\"scattergl\"},{\"hovertemplate\":\"Country Name=France\\u003cbr\\u003eYear=%{x}\\u003cbr\\u003eAccess to electricity (% pop)=%{y}\\u003cextra\\u003e\\u003c\\u002fextra\\u003e\",\"legendgroup\":\"France\",\"line\":{\"color\":\"#FF97FF\",\"dash\":\"solid\"},\"marker\":{\"symbol\":\"circle\"},\"mode\":\"lines\",\"name\":\"France\",\"showlegend\":true,\"x\":[\"1990 [YR1990]\",\"2000 [YR2000]\",\"2014 [YR2014]\",\"2015 [YR2015]\",\"2016 [YR2016]\",\"2017 [YR2017]\",\"2018 [YR2018]\",\"2019 [YR2019]\",\"2020 [YR2020]\",\"2021 [YR2021]\",\"2022 [YR2022]\",\"2023 [YR2023]\"],\"xaxis\":\"x\",\"y\":[100.0,100.0,100.0,100.0,100.0,100.0,100.0,100.0,100.0,100.0,100.0,null],\"yaxis\":\"y\",\"type\":\"scattergl\"},{\"hovertemplate\":\"Country Name=French Polynesia\\u003cbr\\u003eYear=%{x}\\u003cbr\\u003eAccess to electricity (% pop)=%{y}\\u003cextra\\u003e\\u003c\\u002fextra\\u003e\",\"legendgroup\":\"French Polynesia\",\"line\":{\"color\":\"#FECB52\",\"dash\":\"solid\"},\"marker\":{\"symbol\":\"circle\"},\"mode\":\"lines\",\"name\":\"French Polynesia\",\"showlegend\":true,\"x\":[\"1990 [YR1990]\",\"2000 [YR2000]\",\"2014 [YR2014]\",\"2015 [YR2015]\",\"2016 [YR2016]\",\"2017 [YR2017]\",\"2018 [YR2018]\",\"2019 [YR2019]\",\"2020 [YR2020]\",\"2021 [YR2021]\",\"2022 [YR2022]\",\"2023 [YR2023]\"],\"xaxis\":\"x\",\"y\":[100.0,100.0,100.0,100.0,100.0,100.0,100.0,100.0,100.0,100.0,100.0,null],\"yaxis\":\"y\",\"type\":\"scattergl\"},{\"hovertemplate\":\"Country Name=Gabon\\u003cbr\\u003eYear=%{x}\\u003cbr\\u003eAccess to electricity (% pop)=%{y}\\u003cextra\\u003e\\u003c\\u002fextra\\u003e\",\"legendgroup\":\"Gabon\",\"line\":{\"color\":\"#636efa\",\"dash\":\"solid\"},\"marker\":{\"symbol\":\"circle\"},\"mode\":\"lines\",\"name\":\"Gabon\",\"showlegend\":true,\"x\":[\"1990 [YR1990]\",\"2000 [YR2000]\",\"2014 [YR2014]\",\"2015 [YR2015]\",\"2016 [YR2016]\",\"2017 [YR2017]\",\"2018 [YR2018]\",\"2019 [YR2019]\",\"2020 [YR2020]\",\"2021 [YR2021]\",\"2022 [YR2022]\",\"2023 [YR2023]\"],\"xaxis\":\"x\",\"y\":[null,73.6,87.1,87.3,88.1,86.3,89.6,90.3,91.1,91.8,93.5,null],\"yaxis\":\"y\",\"type\":\"scattergl\"},{\"hovertemplate\":\"Country Name=Gambia, The\\u003cbr\\u003eYear=%{x}\\u003cbr\\u003eAccess to electricity (% pop)=%{y}\\u003cextra\\u003e\\u003c\\u002fextra\\u003e\",\"legendgroup\":\"Gambia, The\",\"line\":{\"color\":\"#EF553B\",\"dash\":\"solid\"},\"marker\":{\"symbol\":\"circle\"},\"mode\":\"lines\",\"name\":\"Gambia, The\",\"showlegend\":true,\"x\":[\"1990 [YR1990]\",\"2000 [YR2000]\",\"2014 [YR2014]\",\"2015 [YR2015]\",\"2016 [YR2016]\",\"2017 [YR2017]\",\"2018 [YR2018]\",\"2019 [YR2019]\",\"2020 [YR2020]\",\"2021 [YR2021]\",\"2022 [YR2022]\",\"2023 [YR2023]\"],\"xaxis\":\"x\",\"y\":[null,34.3,53.0,54.7,56.4,56.2,60.3,62.1,62.2,63.7,65.4,null],\"yaxis\":\"y\",\"type\":\"scattergl\"},{\"hovertemplate\":\"Country Name=Georgia\\u003cbr\\u003eYear=%{x}\\u003cbr\\u003eAccess to electricity (% pop)=%{y}\\u003cextra\\u003e\\u003c\\u002fextra\\u003e\",\"legendgroup\":\"Georgia\",\"line\":{\"color\":\"#00cc96\",\"dash\":\"solid\"},\"marker\":{\"symbol\":\"circle\"},\"mode\":\"lines\",\"name\":\"Georgia\",\"showlegend\":true,\"x\":[\"1990 [YR1990]\",\"2000 [YR2000]\",\"2014 [YR2014]\",\"2015 [YR2015]\",\"2016 [YR2016]\",\"2017 [YR2017]\",\"2018 [YR2018]\",\"2019 [YR2019]\",\"2020 [YR2020]\",\"2021 [YR2021]\",\"2022 [YR2022]\",\"2023 [YR2023]\"],\"xaxis\":\"x\",\"y\":[null,99.8,100.0,100.0,100.0,100.0,99.9,100.0,100.0,100.0,100.0,null],\"yaxis\":\"y\",\"type\":\"scattergl\"},{\"hovertemplate\":\"Country Name=Germany\\u003cbr\\u003eYear=%{x}\\u003cbr\\u003eAccess to electricity (% pop)=%{y}\\u003cextra\\u003e\\u003c\\u002fextra\\u003e\",\"legendgroup\":\"Germany\",\"line\":{\"color\":\"#ab63fa\",\"dash\":\"solid\"},\"marker\":{\"symbol\":\"circle\"},\"mode\":\"lines\",\"name\":\"Germany\",\"showlegend\":true,\"x\":[\"1990 [YR1990]\",\"2000 [YR2000]\",\"2014 [YR2014]\",\"2015 [YR2015]\",\"2016 [YR2016]\",\"2017 [YR2017]\",\"2018 [YR2018]\",\"2019 [YR2019]\",\"2020 [YR2020]\",\"2021 [YR2021]\",\"2022 [YR2022]\",\"2023 [YR2023]\"],\"xaxis\":\"x\",\"y\":[100.0,100.0,100.0,100.0,100.0,100.0,100.0,100.0,100.0,100.0,100.0,null],\"yaxis\":\"y\",\"type\":\"scattergl\"},{\"hovertemplate\":\"Country Name=Ghana\\u003cbr\\u003eYear=%{x}\\u003cbr\\u003eAccess to electricity (% pop)=%{y}\\u003cextra\\u003e\\u003c\\u002fextra\\u003e\",\"legendgroup\":\"Ghana\",\"line\":{\"color\":\"#FFA15A\",\"dash\":\"solid\"},\"marker\":{\"symbol\":\"circle\"},\"mode\":\"lines\",\"name\":\"Ghana\",\"showlegend\":true,\"x\":[\"1990 [YR1990]\",\"2000 [YR2000]\",\"2014 [YR2014]\",\"2015 [YR2015]\",\"2016 [YR2016]\",\"2017 [YR2017]\",\"2018 [YR2018]\",\"2019 [YR2019]\",\"2020 [YR2020]\",\"2021 [YR2021]\",\"2022 [YR2022]\",\"2023 [YR2023]\"],\"xaxis\":\"x\",\"y\":[null,43.7,78.3,74.0,79.3,79.0,80.4,83.5,85.4,86.3,85.1,null],\"yaxis\":\"y\",\"type\":\"scattergl\"},{\"hovertemplate\":\"Country Name=Gibraltar\\u003cbr\\u003eYear=%{x}\\u003cbr\\u003eAccess to electricity (% pop)=%{y}\\u003cextra\\u003e\\u003c\\u002fextra\\u003e\",\"legendgroup\":\"Gibraltar\",\"line\":{\"color\":\"#19d3f3\",\"dash\":\"solid\"},\"marker\":{\"symbol\":\"circle\"},\"mode\":\"lines\",\"name\":\"Gibraltar\",\"showlegend\":true,\"x\":[\"1990 [YR1990]\",\"2000 [YR2000]\",\"2014 [YR2014]\",\"2015 [YR2015]\",\"2016 [YR2016]\",\"2017 [YR2017]\",\"2018 [YR2018]\",\"2019 [YR2019]\",\"2020 [YR2020]\",\"2021 [YR2021]\",\"2022 [YR2022]\",\"2023 [YR2023]\"],\"xaxis\":\"x\",\"y\":[100.0,99.9,99.9,100.0,100.0,100.0,100.0,100.0,100.0,100.0,100.0,null],\"yaxis\":\"y\",\"type\":\"scattergl\"},{\"hovertemplate\":\"Country Name=Greece\\u003cbr\\u003eYear=%{x}\\u003cbr\\u003eAccess to electricity (% pop)=%{y}\\u003cextra\\u003e\\u003c\\u002fextra\\u003e\",\"legendgroup\":\"Greece\",\"line\":{\"color\":\"#FF6692\",\"dash\":\"solid\"},\"marker\":{\"symbol\":\"circle\"},\"mode\":\"lines\",\"name\":\"Greece\",\"showlegend\":true,\"x\":[\"1990 [YR1990]\",\"2000 [YR2000]\",\"2014 [YR2014]\",\"2015 [YR2015]\",\"2016 [YR2016]\",\"2017 [YR2017]\",\"2018 [YR2018]\",\"2019 [YR2019]\",\"2020 [YR2020]\",\"2021 [YR2021]\",\"2022 [YR2022]\",\"2023 [YR2023]\"],\"xaxis\":\"x\",\"y\":[100.0,100.0,100.0,100.0,100.0,100.0,100.0,100.0,100.0,100.0,100.0,null],\"yaxis\":\"y\",\"type\":\"scattergl\"},{\"hovertemplate\":\"Country Name=Greenland\\u003cbr\\u003eYear=%{x}\\u003cbr\\u003eAccess to electricity (% pop)=%{y}\\u003cextra\\u003e\\u003c\\u002fextra\\u003e\",\"legendgroup\":\"Greenland\",\"line\":{\"color\":\"#B6E880\",\"dash\":\"solid\"},\"marker\":{\"symbol\":\"circle\"},\"mode\":\"lines\",\"name\":\"Greenland\",\"showlegend\":true,\"x\":[\"1990 [YR1990]\",\"2000 [YR2000]\",\"2014 [YR2014]\",\"2015 [YR2015]\",\"2016 [YR2016]\",\"2017 [YR2017]\",\"2018 [YR2018]\",\"2019 [YR2019]\",\"2020 [YR2020]\",\"2021 [YR2021]\",\"2022 [YR2022]\",\"2023 [YR2023]\"],\"xaxis\":\"x\",\"y\":[100.0,100.0,100.0,100.0,100.0,100.0,100.0,100.0,100.0,100.0,100.0,null],\"yaxis\":\"y\",\"type\":\"scattergl\"},{\"hovertemplate\":\"Country Name=Grenada\\u003cbr\\u003eYear=%{x}\\u003cbr\\u003eAccess to electricity (% pop)=%{y}\\u003cextra\\u003e\\u003c\\u002fextra\\u003e\",\"legendgroup\":\"Grenada\",\"line\":{\"color\":\"#FF97FF\",\"dash\":\"solid\"},\"marker\":{\"symbol\":\"circle\"},\"mode\":\"lines\",\"name\":\"Grenada\",\"showlegend\":true,\"x\":[\"1990 [YR1990]\",\"2000 [YR2000]\",\"2014 [YR2014]\",\"2015 [YR2015]\",\"2016 [YR2016]\",\"2017 [YR2017]\",\"2018 [YR2018]\",\"2019 [YR2019]\",\"2020 [YR2020]\",\"2021 [YR2021]\",\"2022 [YR2022]\",\"2023 [YR2023]\"],\"xaxis\":\"x\",\"y\":[null,86.0,91.0,91.4,91.8,92.2,92.3,93.0,93.4,93.7,94.2,null],\"yaxis\":\"y\",\"type\":\"scattergl\"},{\"hovertemplate\":\"Country Name=Guam\\u003cbr\\u003eYear=%{x}\\u003cbr\\u003eAccess to electricity (% pop)=%{y}\\u003cextra\\u003e\\u003c\\u002fextra\\u003e\",\"legendgroup\":\"Guam\",\"line\":{\"color\":\"#FECB52\",\"dash\":\"solid\"},\"marker\":{\"symbol\":\"circle\"},\"mode\":\"lines\",\"name\":\"Guam\",\"showlegend\":true,\"x\":[\"1990 [YR1990]\",\"2000 [YR2000]\",\"2014 [YR2014]\",\"2015 [YR2015]\",\"2016 [YR2016]\",\"2017 [YR2017]\",\"2018 [YR2018]\",\"2019 [YR2019]\",\"2020 [YR2020]\",\"2021 [YR2021]\",\"2022 [YR2022]\",\"2023 [YR2023]\"],\"xaxis\":\"x\",\"y\":[99.8443069458008,100.0,100.0,100.0,100.0,100.0,100.0,100.0,100.0,100.0,100.0,null],\"yaxis\":\"y\",\"type\":\"scattergl\"},{\"hovertemplate\":\"Country Name=Guatemala\\u003cbr\\u003eYear=%{x}\\u003cbr\\u003eAccess to electricity (% pop)=%{y}\\u003cextra\\u003e\\u003c\\u002fextra\\u003e\",\"legendgroup\":\"Guatemala\",\"line\":{\"color\":\"#636efa\",\"dash\":\"solid\"},\"marker\":{\"symbol\":\"circle\"},\"mode\":\"lines\",\"name\":\"Guatemala\",\"showlegend\":true,\"x\":[\"1990 [YR1990]\",\"2000 [YR2000]\",\"2014 [YR2014]\",\"2015 [YR2015]\",\"2016 [YR2016]\",\"2017 [YR2017]\",\"2018 [YR2018]\",\"2019 [YR2019]\",\"2020 [YR2020]\",\"2021 [YR2021]\",\"2022 [YR2022]\",\"2023 [YR2023]\"],\"xaxis\":\"x\",\"y\":[null,73.3,85.5,90.5,91.8,93.3,94.2,95.4,96.6,97.9,99.1,null],\"yaxis\":\"y\",\"type\":\"scattergl\"},{\"hovertemplate\":\"Country Name=Guinea\\u003cbr\\u003eYear=%{x}\\u003cbr\\u003eAccess to electricity (% pop)=%{y}\\u003cextra\\u003e\\u003c\\u002fextra\\u003e\",\"legendgroup\":\"Guinea\",\"line\":{\"color\":\"#EF553B\",\"dash\":\"solid\"},\"marker\":{\"symbol\":\"circle\"},\"mode\":\"lines\",\"name\":\"Guinea\",\"showlegend\":true,\"x\":[\"1990 [YR1990]\",\"2000 [YR2000]\",\"2014 [YR2014]\",\"2015 [YR2015]\",\"2016 [YR2016]\",\"2017 [YR2017]\",\"2018 [YR2018]\",\"2019 [YR2019]\",\"2020 [YR2020]\",\"2021 [YR2021]\",\"2022 [YR2022]\",\"2023 [YR2023]\"],\"xaxis\":\"x\",\"y\":[null,15.2,33.5,34.9,33.5,35.4,45.0,42.2,44.7,46.8,47.7,null],\"yaxis\":\"y\",\"type\":\"scattergl\"},{\"hovertemplate\":\"Country Name=Guinea-Bissau\\u003cbr\\u003eYear=%{x}\\u003cbr\\u003eAccess to electricity (% pop)=%{y}\\u003cextra\\u003e\\u003c\\u002fextra\\u003e\",\"legendgroup\":\"Guinea-Bissau\",\"line\":{\"color\":\"#00cc96\",\"dash\":\"solid\"},\"marker\":{\"symbol\":\"circle\"},\"mode\":\"lines\",\"name\":\"Guinea-Bissau\",\"showlegend\":true,\"x\":[\"1990 [YR1990]\",\"2000 [YR2000]\",\"2014 [YR2014]\",\"2015 [YR2015]\",\"2016 [YR2016]\",\"2017 [YR2017]\",\"2018 [YR2018]\",\"2019 [YR2019]\",\"2020 [YR2020]\",\"2021 [YR2021]\",\"2022 [YR2022]\",\"2023 [YR2023]\"],\"xaxis\":\"x\",\"y\":[null,null,17.2,20.1,22.9,26.0,28.4,30.9,33.4,35.8,37.4,null],\"yaxis\":\"y\",\"type\":\"scattergl\"},{\"hovertemplate\":\"Country Name=Guyana\\u003cbr\\u003eYear=%{x}\\u003cbr\\u003eAccess to electricity (% pop)=%{y}\\u003cextra\\u003e\\u003c\\u002fextra\\u003e\",\"legendgroup\":\"Guyana\",\"line\":{\"color\":\"#ab63fa\",\"dash\":\"solid\"},\"marker\":{\"symbol\":\"circle\"},\"mode\":\"lines\",\"name\":\"Guyana\",\"showlegend\":true,\"x\":[\"1990 [YR1990]\",\"2000 [YR2000]\",\"2014 [YR2014]\",\"2015 [YR2015]\",\"2016 [YR2016]\",\"2017 [YR2017]\",\"2018 [YR2018]\",\"2019 [YR2019]\",\"2020 [YR2020]\",\"2021 [YR2021]\",\"2022 [YR2022]\",\"2023 [YR2023]\"],\"xaxis\":\"x\",\"y\":[null,74.6,86.9,88.0,89.0,90.0,90.9,91.6,92.3,92.9,93.0,null],\"yaxis\":\"y\",\"type\":\"scattergl\"},{\"hovertemplate\":\"Country Name=Haiti\\u003cbr\\u003eYear=%{x}\\u003cbr\\u003eAccess to electricity (% pop)=%{y}\\u003cextra\\u003e\\u003c\\u002fextra\\u003e\",\"legendgroup\":\"Haiti\",\"line\":{\"color\":\"#FFA15A\",\"dash\":\"solid\"},\"marker\":{\"symbol\":\"circle\"},\"mode\":\"lines\",\"name\":\"Haiti\",\"showlegend\":true,\"x\":[\"1990 [YR1990]\",\"2000 [YR2000]\",\"2014 [YR2014]\",\"2015 [YR2015]\",\"2016 [YR2016]\",\"2017 [YR2017]\",\"2018 [YR2018]\",\"2019 [YR2019]\",\"2020 [YR2020]\",\"2021 [YR2021]\",\"2022 [YR2022]\",\"2023 [YR2023]\"],\"xaxis\":\"x\",\"y\":[null,33.7,39.6,40.8,40.4,43.3,44.4,45.4,46.3,47.2,49.3,null],\"yaxis\":\"y\",\"type\":\"scattergl\"},{\"hovertemplate\":\"Country Name=Honduras\\u003cbr\\u003eYear=%{x}\\u003cbr\\u003eAccess to electricity (% pop)=%{y}\\u003cextra\\u003e\\u003c\\u002fextra\\u003e\",\"legendgroup\":\"Honduras\",\"line\":{\"color\":\"#19d3f3\",\"dash\":\"solid\"},\"marker\":{\"symbol\":\"circle\"},\"mode\":\"lines\",\"name\":\"Honduras\",\"showlegend\":true,\"x\":[\"1990 [YR1990]\",\"2000 [YR2000]\",\"2014 [YR2014]\",\"2015 [YR2015]\",\"2016 [YR2016]\",\"2017 [YR2017]\",\"2018 [YR2018]\",\"2019 [YR2019]\",\"2020 [YR2020]\",\"2021 [YR2021]\",\"2022 [YR2022]\",\"2023 [YR2023]\"],\"xaxis\":\"x\",\"y\":[null,67.4,88.7,90.0,91.6,86.5,91.6,91.1,93.1,94.1,94.4,null],\"yaxis\":\"y\",\"type\":\"scattergl\"},{\"hovertemplate\":\"Country Name=Hong Kong SAR, China\\u003cbr\\u003eYear=%{x}\\u003cbr\\u003eAccess to electricity (% pop)=%{y}\\u003cextra\\u003e\\u003c\\u002fextra\\u003e\",\"legendgroup\":\"Hong Kong SAR, China\",\"line\":{\"color\":\"#FF6692\",\"dash\":\"solid\"},\"marker\":{\"symbol\":\"circle\"},\"mode\":\"lines\",\"name\":\"Hong Kong SAR, China\",\"showlegend\":true,\"x\":[\"1990 [YR1990]\",\"2000 [YR2000]\",\"2014 [YR2014]\",\"2015 [YR2015]\",\"2016 [YR2016]\",\"2017 [YR2017]\",\"2018 [YR2018]\",\"2019 [YR2019]\",\"2020 [YR2020]\",\"2021 [YR2021]\",\"2022 [YR2022]\",\"2023 [YR2023]\"],\"xaxis\":\"x\",\"y\":[100.0,100.0,100.0,100.0,100.0,100.0,100.0,100.0,100.0,100.0,100.0,null],\"yaxis\":\"y\",\"type\":\"scattergl\"},{\"hovertemplate\":\"Country Name=Hungary\\u003cbr\\u003eYear=%{x}\\u003cbr\\u003eAccess to electricity (% pop)=%{y}\\u003cextra\\u003e\\u003c\\u002fextra\\u003e\",\"legendgroup\":\"Hungary\",\"line\":{\"color\":\"#B6E880\",\"dash\":\"solid\"},\"marker\":{\"symbol\":\"circle\"},\"mode\":\"lines\",\"name\":\"Hungary\",\"showlegend\":true,\"x\":[\"1990 [YR1990]\",\"2000 [YR2000]\",\"2014 [YR2014]\",\"2015 [YR2015]\",\"2016 [YR2016]\",\"2017 [YR2017]\",\"2018 [YR2018]\",\"2019 [YR2019]\",\"2020 [YR2020]\",\"2021 [YR2021]\",\"2022 [YR2022]\",\"2023 [YR2023]\"],\"xaxis\":\"x\",\"y\":[100.0,100.0,100.0,100.0,100.0,100.0,100.0,100.0,100.0,100.0,100.0,null],\"yaxis\":\"y\",\"type\":\"scattergl\"},{\"hovertemplate\":\"Country Name=Iceland\\u003cbr\\u003eYear=%{x}\\u003cbr\\u003eAccess to electricity (% pop)=%{y}\\u003cextra\\u003e\\u003c\\u002fextra\\u003e\",\"legendgroup\":\"Iceland\",\"line\":{\"color\":\"#FF97FF\",\"dash\":\"solid\"},\"marker\":{\"symbol\":\"circle\"},\"mode\":\"lines\",\"name\":\"Iceland\",\"showlegend\":true,\"x\":[\"1990 [YR1990]\",\"2000 [YR2000]\",\"2014 [YR2014]\",\"2015 [YR2015]\",\"2016 [YR2016]\",\"2017 [YR2017]\",\"2018 [YR2018]\",\"2019 [YR2019]\",\"2020 [YR2020]\",\"2021 [YR2021]\",\"2022 [YR2022]\",\"2023 [YR2023]\"],\"xaxis\":\"x\",\"y\":[100.0,100.0,100.0,100.0,100.0,100.0,100.0,100.0,100.0,100.0,100.0,null],\"yaxis\":\"y\",\"type\":\"scattergl\"},{\"hovertemplate\":\"Country Name=India\\u003cbr\\u003eYear=%{x}\\u003cbr\\u003eAccess to electricity (% pop)=%{y}\\u003cextra\\u003e\\u003c\\u002fextra\\u003e\",\"legendgroup\":\"India\",\"line\":{\"color\":\"#FECB52\",\"dash\":\"solid\"},\"marker\":{\"symbol\":\"circle\"},\"mode\":\"lines\",\"name\":\"India\",\"showlegend\":true,\"x\":[\"1990 [YR1990]\",\"2000 [YR2000]\",\"2014 [YR2014]\",\"2015 [YR2015]\",\"2016 [YR2016]\",\"2017 [YR2017]\",\"2018 [YR2018]\",\"2019 [YR2019]\",\"2020 [YR2020]\",\"2021 [YR2021]\",\"2022 [YR2022]\",\"2023 [YR2023]\"],\"xaxis\":\"x\",\"y\":[null,60.3,85.1,88.0,89.6,91.8,95.7,95.9,96.5,99.6,99.2,null],\"yaxis\":\"y\",\"type\":\"scattergl\"},{\"hovertemplate\":\"Country Name=Indonesia\\u003cbr\\u003eYear=%{x}\\u003cbr\\u003eAccess to electricity (% pop)=%{y}\\u003cextra\\u003e\\u003c\\u002fextra\\u003e\",\"legendgroup\":\"Indonesia\",\"line\":{\"color\":\"#636efa\",\"dash\":\"solid\"},\"marker\":{\"symbol\":\"circle\"},\"mode\":\"lines\",\"name\":\"Indonesia\",\"showlegend\":true,\"x\":[\"1990 [YR1990]\",\"2000 [YR2000]\",\"2014 [YR2014]\",\"2015 [YR2015]\",\"2016 [YR2016]\",\"2017 [YR2017]\",\"2018 [YR2018]\",\"2019 [YR2019]\",\"2020 [YR2020]\",\"2021 [YR2021]\",\"2022 [YR2022]\",\"2023 [YR2023]\"],\"xaxis\":\"x\",\"y\":[null,86.3,97.0,97.5,97.6,98.1,98.5,98.9,97.0,99.2,100.0,null],\"yaxis\":\"y\",\"type\":\"scattergl\"},{\"hovertemplate\":\"Country Name=Iran, Islamic Rep.\\u003cbr\\u003eYear=%{x}\\u003cbr\\u003eAccess to electricity (% pop)=%{y}\\u003cextra\\u003e\\u003c\\u002fextra\\u003e\",\"legendgroup\":\"Iran, Islamic Rep.\",\"line\":{\"color\":\"#EF553B\",\"dash\":\"solid\"},\"marker\":{\"symbol\":\"circle\"},\"mode\":\"lines\",\"name\":\"Iran, Islamic Rep.\",\"showlegend\":true,\"x\":[\"1990 [YR1990]\",\"2000 [YR2000]\",\"2014 [YR2014]\",\"2015 [YR2015]\",\"2016 [YR2016]\",\"2017 [YR2017]\",\"2018 [YR2018]\",\"2019 [YR2019]\",\"2020 [YR2020]\",\"2021 [YR2021]\",\"2022 [YR2022]\",\"2023 [YR2023]\"],\"xaxis\":\"x\",\"y\":[null,97.9,100.0,100.0,100.0,99.9,100.0,100.0,100.0,100.0,100.0,null],\"yaxis\":\"y\",\"type\":\"scattergl\"},{\"hovertemplate\":\"Country Name=Iraq\\u003cbr\\u003eYear=%{x}\\u003cbr\\u003eAccess to electricity (% pop)=%{y}\\u003cextra\\u003e\\u003c\\u002fextra\\u003e\",\"legendgroup\":\"Iraq\",\"line\":{\"color\":\"#00cc96\",\"dash\":\"solid\"},\"marker\":{\"symbol\":\"circle\"},\"mode\":\"lines\",\"name\":\"Iraq\",\"showlegend\":true,\"x\":[\"1990 [YR1990]\",\"2000 [YR2000]\",\"2014 [YR2014]\",\"2015 [YR2015]\",\"2016 [YR2016]\",\"2017 [YR2017]\",\"2018 [YR2018]\",\"2019 [YR2019]\",\"2020 [YR2020]\",\"2021 [YR2021]\",\"2022 [YR2022]\",\"2023 [YR2023]\"],\"xaxis\":\"x\",\"y\":[null,96.8,99.2,99.4,99.7,99.9,99.9,100.0,100.0,100.0,100.0,null],\"yaxis\":\"y\",\"type\":\"scattergl\"},{\"hovertemplate\":\"Country Name=Ireland\\u003cbr\\u003eYear=%{x}\\u003cbr\\u003eAccess to electricity (% pop)=%{y}\\u003cextra\\u003e\\u003c\\u002fextra\\u003e\",\"legendgroup\":\"Ireland\",\"line\":{\"color\":\"#ab63fa\",\"dash\":\"solid\"},\"marker\":{\"symbol\":\"circle\"},\"mode\":\"lines\",\"name\":\"Ireland\",\"showlegend\":true,\"x\":[\"1990 [YR1990]\",\"2000 [YR2000]\",\"2014 [YR2014]\",\"2015 [YR2015]\",\"2016 [YR2016]\",\"2017 [YR2017]\",\"2018 [YR2018]\",\"2019 [YR2019]\",\"2020 [YR2020]\",\"2021 [YR2021]\",\"2022 [YR2022]\",\"2023 [YR2023]\"],\"xaxis\":\"x\",\"y\":[100.0,100.0,100.0,100.0,100.0,100.0,100.0,100.0,100.0,100.0,100.0,null],\"yaxis\":\"y\",\"type\":\"scattergl\"},{\"hovertemplate\":\"Country Name=Isle of Man\\u003cbr\\u003eYear=%{x}\\u003cbr\\u003eAccess to electricity (% pop)=%{y}\\u003cextra\\u003e\\u003c\\u002fextra\\u003e\",\"legendgroup\":\"Isle of Man\",\"line\":{\"color\":\"#FFA15A\",\"dash\":\"solid\"},\"marker\":{\"symbol\":\"circle\"},\"mode\":\"lines\",\"name\":\"Isle of Man\",\"showlegend\":true,\"x\":[\"1990 [YR1990]\",\"2000 [YR2000]\",\"2014 [YR2014]\",\"2015 [YR2015]\",\"2016 [YR2016]\",\"2017 [YR2017]\",\"2018 [YR2018]\",\"2019 [YR2019]\",\"2020 [YR2020]\",\"2021 [YR2021]\",\"2022 [YR2022]\",\"2023 [YR2023]\"],\"xaxis\":\"x\",\"y\":[100.0,100.0,100.0,100.0,100.0,100.0,100.0,100.0,100.0,100.0,100.0,null],\"yaxis\":\"y\",\"type\":\"scattergl\"},{\"hovertemplate\":\"Country Name=Israel\\u003cbr\\u003eYear=%{x}\\u003cbr\\u003eAccess to electricity (% pop)=%{y}\\u003cextra\\u003e\\u003c\\u002fextra\\u003e\",\"legendgroup\":\"Israel\",\"line\":{\"color\":\"#19d3f3\",\"dash\":\"solid\"},\"marker\":{\"symbol\":\"circle\"},\"mode\":\"lines\",\"name\":\"Israel\",\"showlegend\":true,\"x\":[\"1990 [YR1990]\",\"2000 [YR2000]\",\"2014 [YR2014]\",\"2015 [YR2015]\",\"2016 [YR2016]\",\"2017 [YR2017]\",\"2018 [YR2018]\",\"2019 [YR2019]\",\"2020 [YR2020]\",\"2021 [YR2021]\",\"2022 [YR2022]\",\"2023 [YR2023]\"],\"xaxis\":\"x\",\"y\":[100.0,100.0,100.0,100.0,100.0,100.0,100.0,100.0,100.0,100.0,100.0,null],\"yaxis\":\"y\",\"type\":\"scattergl\"},{\"hovertemplate\":\"Country Name=Italy\\u003cbr\\u003eYear=%{x}\\u003cbr\\u003eAccess to electricity (% pop)=%{y}\\u003cextra\\u003e\\u003c\\u002fextra\\u003e\",\"legendgroup\":\"Italy\",\"line\":{\"color\":\"#FF6692\",\"dash\":\"solid\"},\"marker\":{\"symbol\":\"circle\"},\"mode\":\"lines\",\"name\":\"Italy\",\"showlegend\":true,\"x\":[\"1990 [YR1990]\",\"2000 [YR2000]\",\"2014 [YR2014]\",\"2015 [YR2015]\",\"2016 [YR2016]\",\"2017 [YR2017]\",\"2018 [YR2018]\",\"2019 [YR2019]\",\"2020 [YR2020]\",\"2021 [YR2021]\",\"2022 [YR2022]\",\"2023 [YR2023]\"],\"xaxis\":\"x\",\"y\":[100.0,100.0,100.0,100.0,100.0,100.0,100.0,100.0,100.0,100.0,100.0,null],\"yaxis\":\"y\",\"type\":\"scattergl\"},{\"hovertemplate\":\"Country Name=Jamaica\\u003cbr\\u003eYear=%{x}\\u003cbr\\u003eAccess to electricity (% pop)=%{y}\\u003cextra\\u003e\\u003c\\u002fextra\\u003e\",\"legendgroup\":\"Jamaica\",\"line\":{\"color\":\"#B6E880\",\"dash\":\"solid\"},\"marker\":{\"symbol\":\"circle\"},\"mode\":\"lines\",\"name\":\"Jamaica\",\"showlegend\":true,\"x\":[\"1990 [YR1990]\",\"2000 [YR2000]\",\"2014 [YR2014]\",\"2015 [YR2015]\",\"2016 [YR2016]\",\"2017 [YR2017]\",\"2018 [YR2018]\",\"2019 [YR2019]\",\"2020 [YR2020]\",\"2021 [YR2021]\",\"2022 [YR2022]\",\"2023 [YR2023]\"],\"xaxis\":\"x\",\"y\":[70.334586,84.4,93.3,94.9,96.6,97.4,98.2,98.9,99.7,100.0,100.0,null],\"yaxis\":\"y\",\"type\":\"scattergl\"},{\"hovertemplate\":\"Country Name=Japan\\u003cbr\\u003eYear=%{x}\\u003cbr\\u003eAccess to electricity (% pop)=%{y}\\u003cextra\\u003e\\u003c\\u002fextra\\u003e\",\"legendgroup\":\"Japan\",\"line\":{\"color\":\"#FF97FF\",\"dash\":\"solid\"},\"marker\":{\"symbol\":\"circle\"},\"mode\":\"lines\",\"name\":\"Japan\",\"showlegend\":true,\"x\":[\"1990 [YR1990]\",\"2000 [YR2000]\",\"2014 [YR2014]\",\"2015 [YR2015]\",\"2016 [YR2016]\",\"2017 [YR2017]\",\"2018 [YR2018]\",\"2019 [YR2019]\",\"2020 [YR2020]\",\"2021 [YR2021]\",\"2022 [YR2022]\",\"2023 [YR2023]\"],\"xaxis\":\"x\",\"y\":[100.0,100.0,100.0,100.0,100.0,100.0,100.0,100.0,100.0,100.0,100.0,null],\"yaxis\":\"y\",\"type\":\"scattergl\"},{\"hovertemplate\":\"Country Name=Jordan\\u003cbr\\u003eYear=%{x}\\u003cbr\\u003eAccess to electricity (% pop)=%{y}\\u003cextra\\u003e\\u003c\\u002fextra\\u003e\",\"legendgroup\":\"Jordan\",\"line\":{\"color\":\"#FECB52\",\"dash\":\"solid\"},\"marker\":{\"symbol\":\"circle\"},\"mode\":\"lines\",\"name\":\"Jordan\",\"showlegend\":true,\"x\":[\"1990 [YR1990]\",\"2000 [YR2000]\",\"2014 [YR2014]\",\"2015 [YR2015]\",\"2016 [YR2016]\",\"2017 [YR2017]\",\"2018 [YR2018]\",\"2019 [YR2019]\",\"2020 [YR2020]\",\"2021 [YR2021]\",\"2022 [YR2022]\",\"2023 [YR2023]\"],\"xaxis\":\"x\",\"y\":[96.8,99.0,99.8,99.9,100.0,100.0,99.9,99.9,99.9,99.9,100.0,null],\"yaxis\":\"y\",\"type\":\"scattergl\"},{\"hovertemplate\":\"Country Name=Kazakhstan\\u003cbr\\u003eYear=%{x}\\u003cbr\\u003eAccess to electricity (% pop)=%{y}\\u003cextra\\u003e\\u003c\\u002fextra\\u003e\",\"legendgroup\":\"Kazakhstan\",\"line\":{\"color\":\"#636efa\",\"dash\":\"solid\"},\"marker\":{\"symbol\":\"circle\"},\"mode\":\"lines\",\"name\":\"Kazakhstan\",\"showlegend\":true,\"x\":[\"1990 [YR1990]\",\"2000 [YR2000]\",\"2014 [YR2014]\",\"2015 [YR2015]\",\"2016 [YR2016]\",\"2017 [YR2017]\",\"2018 [YR2018]\",\"2019 [YR2019]\",\"2020 [YR2020]\",\"2021 [YR2021]\",\"2022 [YR2022]\",\"2023 [YR2023]\"],\"xaxis\":\"x\",\"y\":[null,99.6,100.0,100.0,100.0,100.0,100.0,100.0,100.0,100.0,100.0,null],\"yaxis\":\"y\",\"type\":\"scattergl\"},{\"hovertemplate\":\"Country Name=Kenya\\u003cbr\\u003eYear=%{x}\\u003cbr\\u003eAccess to electricity (% pop)=%{y}\\u003cextra\\u003e\\u003c\\u002fextra\\u003e\",\"legendgroup\":\"Kenya\",\"line\":{\"color\":\"#EF553B\",\"dash\":\"solid\"},\"marker\":{\"symbol\":\"circle\"},\"mode\":\"lines\",\"name\":\"Kenya\",\"showlegend\":true,\"x\":[\"1990 [YR1990]\",\"2000 [YR2000]\",\"2014 [YR2014]\",\"2015 [YR2015]\",\"2016 [YR2016]\",\"2017 [YR2017]\",\"2018 [YR2018]\",\"2019 [YR2019]\",\"2020 [YR2020]\",\"2021 [YR2021]\",\"2022 [YR2022]\",\"2023 [YR2023]\"],\"xaxis\":\"x\",\"y\":[null,15.2,36.0,41.6,53.1,55.8,61.2,69.7,71.5,76.5,76.0,null],\"yaxis\":\"y\",\"type\":\"scattergl\"},{\"hovertemplate\":\"Country Name=Kiribati\\u003cbr\\u003eYear=%{x}\\u003cbr\\u003eAccess to electricity (% pop)=%{y}\\u003cextra\\u003e\\u003c\\u002fextra\\u003e\",\"legendgroup\":\"Kiribati\",\"line\":{\"color\":\"#00cc96\",\"dash\":\"solid\"},\"marker\":{\"symbol\":\"circle\"},\"mode\":\"lines\",\"name\":\"Kiribati\",\"showlegend\":true,\"x\":[\"1990 [YR1990]\",\"2000 [YR2000]\",\"2014 [YR2014]\",\"2015 [YR2015]\",\"2016 [YR2016]\",\"2017 [YR2017]\",\"2018 [YR2018]\",\"2019 [YR2019]\",\"2020 [YR2020]\",\"2021 [YR2021]\",\"2022 [YR2022]\",\"2023 [YR2023]\"],\"xaxis\":\"x\",\"y\":[null,55.6,83.4,90.6,92.6,85.7,87.5,89.3,91.0,92.8,94.4,null],\"yaxis\":\"y\",\"type\":\"scattergl\"},{\"hovertemplate\":\"Country Name=Korea, Dem. People's Rep.\\u003cbr\\u003eYear=%{x}\\u003cbr\\u003eAccess to electricity (% pop)=%{y}\\u003cextra\\u003e\\u003c\\u002fextra\\u003e\",\"legendgroup\":\"Korea, Dem. People's Rep.\",\"line\":{\"color\":\"#ab63fa\",\"dash\":\"solid\"},\"marker\":{\"symbol\":\"circle\"},\"mode\":\"lines\",\"name\":\"Korea, Dem. People's Rep.\",\"showlegend\":true,\"x\":[\"1990 [YR1990]\",\"2000 [YR2000]\",\"2014 [YR2014]\",\"2015 [YR2015]\",\"2016 [YR2016]\",\"2017 [YR2017]\",\"2018 [YR2018]\",\"2019 [YR2019]\",\"2020 [YR2020]\",\"2021 [YR2021]\",\"2022 [YR2022]\",\"2023 [YR2023]\"],\"xaxis\":\"x\",\"y\":[null,null,37.8,40.0,42.1,44.2,46.3,48.4,50.5,52.6,54.7,null],\"yaxis\":\"y\",\"type\":\"scattergl\"},{\"hovertemplate\":\"Country Name=Korea, Rep.\\u003cbr\\u003eYear=%{x}\\u003cbr\\u003eAccess to electricity (% pop)=%{y}\\u003cextra\\u003e\\u003c\\u002fextra\\u003e\",\"legendgroup\":\"Korea, Rep.\",\"line\":{\"color\":\"#FFA15A\",\"dash\":\"solid\"},\"marker\":{\"symbol\":\"circle\"},\"mode\":\"lines\",\"name\":\"Korea, Rep.\",\"showlegend\":true,\"x\":[\"1990 [YR1990]\",\"2000 [YR2000]\",\"2014 [YR2014]\",\"2015 [YR2015]\",\"2016 [YR2016]\",\"2017 [YR2017]\",\"2018 [YR2018]\",\"2019 [YR2019]\",\"2020 [YR2020]\",\"2021 [YR2021]\",\"2022 [YR2022]\",\"2023 [YR2023]\"],\"xaxis\":\"x\",\"y\":[99.8828430175781,100.0,100.0,100.0,100.0,100.0,100.0,100.0,100.0,100.0,100.0,null],\"yaxis\":\"y\",\"type\":\"scattergl\"},{\"hovertemplate\":\"Country Name=Kosovo\\u003cbr\\u003eYear=%{x}\\u003cbr\\u003eAccess to electricity (% pop)=%{y}\\u003cextra\\u003e\\u003c\\u002fextra\\u003e\",\"legendgroup\":\"Kosovo\",\"line\":{\"color\":\"#19d3f3\",\"dash\":\"solid\"},\"marker\":{\"symbol\":\"circle\"},\"mode\":\"lines\",\"name\":\"Kosovo\",\"showlegend\":true,\"x\":[\"1990 [YR1990]\",\"2000 [YR2000]\",\"2014 [YR2014]\",\"2015 [YR2015]\",\"2016 [YR2016]\",\"2017 [YR2017]\",\"2018 [YR2018]\",\"2019 [YR2019]\",\"2020 [YR2020]\",\"2021 [YR2021]\",\"2022 [YR2022]\",\"2023 [YR2023]\"],\"xaxis\":\"x\",\"y\":[100.0,null,null,null,null,null,null,null,null,null,null,null],\"yaxis\":\"y\",\"type\":\"scattergl\"},{\"hovertemplate\":\"Country Name=Kuwait\\u003cbr\\u003eYear=%{x}\\u003cbr\\u003eAccess to electricity (% pop)=%{y}\\u003cextra\\u003e\\u003c\\u002fextra\\u003e\",\"legendgroup\":\"Kuwait\",\"line\":{\"color\":\"#FF6692\",\"dash\":\"solid\"},\"marker\":{\"symbol\":\"circle\"},\"mode\":\"lines\",\"name\":\"Kuwait\",\"showlegend\":true,\"x\":[\"1990 [YR1990]\",\"2000 [YR2000]\",\"2014 [YR2014]\",\"2015 [YR2015]\",\"2016 [YR2016]\",\"2017 [YR2017]\",\"2018 [YR2018]\",\"2019 [YR2019]\",\"2020 [YR2020]\",\"2021 [YR2021]\",\"2022 [YR2022]\",\"2023 [YR2023]\"],\"xaxis\":\"x\",\"y\":[100.0,100.0,100.0,100.0,100.0,100.0,100.0,100.0,100.0,100.0,100.0,null],\"yaxis\":\"y\",\"type\":\"scattergl\"},{\"hovertemplate\":\"Country Name=Kyrgyz Republic\\u003cbr\\u003eYear=%{x}\\u003cbr\\u003eAccess to electricity (% pop)=%{y}\\u003cextra\\u003e\\u003c\\u002fextra\\u003e\",\"legendgroup\":\"Kyrgyz Republic\",\"line\":{\"color\":\"#B6E880\",\"dash\":\"solid\"},\"marker\":{\"symbol\":\"circle\"},\"mode\":\"lines\",\"name\":\"Kyrgyz Republic\",\"showlegend\":true,\"x\":[\"1990 [YR1990]\",\"2000 [YR2000]\",\"2014 [YR2014]\",\"2015 [YR2015]\",\"2016 [YR2016]\",\"2017 [YR2017]\",\"2018 [YR2018]\",\"2019 [YR2019]\",\"2020 [YR2020]\",\"2021 [YR2021]\",\"2022 [YR2022]\",\"2023 [YR2023]\"],\"xaxis\":\"x\",\"y\":[null,99.6,99.8,98.7,99.7,100.0,100.0,99.9,99.9,99.7,99.7,null],\"yaxis\":\"y\",\"type\":\"scattergl\"},{\"hovertemplate\":\"Country Name=Lao PDR\\u003cbr\\u003eYear=%{x}\\u003cbr\\u003eAccess to electricity (% pop)=%{y}\\u003cextra\\u003e\\u003c\\u002fextra\\u003e\",\"legendgroup\":\"Lao PDR\",\"line\":{\"color\":\"#FF97FF\",\"dash\":\"solid\"},\"marker\":{\"symbol\":\"circle\"},\"mode\":\"lines\",\"name\":\"Lao PDR\",\"showlegend\":true,\"x\":[\"1990 [YR1990]\",\"2000 [YR2000]\",\"2014 [YR2014]\",\"2015 [YR2015]\",\"2016 [YR2016]\",\"2017 [YR2017]\",\"2018 [YR2018]\",\"2019 [YR2019]\",\"2020 [YR2020]\",\"2021 [YR2021]\",\"2022 [YR2022]\",\"2023 [YR2023]\"],\"xaxis\":\"x\",\"y\":[null,42.6,82.5,89.7,89.0,93.6,92.9,98.4,99.3,100.0,100.0,null],\"yaxis\":\"y\",\"type\":\"scattergl\"},{\"hovertemplate\":\"Country Name=Latvia\\u003cbr\\u003eYear=%{x}\\u003cbr\\u003eAccess to electricity (% pop)=%{y}\\u003cextra\\u003e\\u003c\\u002fextra\\u003e\",\"legendgroup\":\"Latvia\",\"line\":{\"color\":\"#FECB52\",\"dash\":\"solid\"},\"marker\":{\"symbol\":\"circle\"},\"mode\":\"lines\",\"name\":\"Latvia\",\"showlegend\":true,\"x\":[\"1990 [YR1990]\",\"2000 [YR2000]\",\"2014 [YR2014]\",\"2015 [YR2015]\",\"2016 [YR2016]\",\"2017 [YR2017]\",\"2018 [YR2018]\",\"2019 [YR2019]\",\"2020 [YR2020]\",\"2021 [YR2021]\",\"2022 [YR2022]\",\"2023 [YR2023]\"],\"xaxis\":\"x\",\"y\":[100.0,99.9,100.0,100.0,100.0,100.0,100.0,100.0,100.0,100.0,100.0,null],\"yaxis\":\"y\",\"type\":\"scattergl\"},{\"hovertemplate\":\"Country Name=Lebanon\\u003cbr\\u003eYear=%{x}\\u003cbr\\u003eAccess to electricity (% pop)=%{y}\\u003cextra\\u003e\\u003c\\u002fextra\\u003e\",\"legendgroup\":\"Lebanon\",\"line\":{\"color\":\"#636efa\",\"dash\":\"solid\"},\"marker\":{\"symbol\":\"circle\"},\"mode\":\"lines\",\"name\":\"Lebanon\",\"showlegend\":true,\"x\":[\"1990 [YR1990]\",\"2000 [YR2000]\",\"2014 [YR2014]\",\"2015 [YR2015]\",\"2016 [YR2016]\",\"2017 [YR2017]\",\"2018 [YR2018]\",\"2019 [YR2019]\",\"2020 [YR2020]\",\"2021 [YR2021]\",\"2022 [YR2022]\",\"2023 [YR2023]\"],\"xaxis\":\"x\",\"y\":[null,99.3,99.7,99.7,99.8,99.9,99.7,100.0,100.0,100.0,100.0,null],\"yaxis\":\"y\",\"type\":\"scattergl\"},{\"hovertemplate\":\"Country Name=Lesotho\\u003cbr\\u003eYear=%{x}\\u003cbr\\u003eAccess to electricity (% pop)=%{y}\\u003cextra\\u003e\\u003c\\u002fextra\\u003e\",\"legendgroup\":\"Lesotho\",\"line\":{\"color\":\"#EF553B\",\"dash\":\"solid\"},\"marker\":{\"symbol\":\"circle\"},\"mode\":\"lines\",\"name\":\"Lesotho\",\"showlegend\":true,\"x\":[\"1990 [YR1990]\",\"2000 [YR2000]\",\"2014 [YR2014]\",\"2015 [YR2015]\",\"2016 [YR2016]\",\"2017 [YR2017]\",\"2018 [YR2018]\",\"2019 [YR2019]\",\"2020 [YR2020]\",\"2021 [YR2021]\",\"2022 [YR2022]\",\"2023 [YR2023]\"],\"xaxis\":\"x\",\"y\":[null,4.3,27.8,31.8,35.1,33.7,47.0,44.6,47.5,50.4,50.0,null],\"yaxis\":\"y\",\"type\":\"scattergl\"},{\"hovertemplate\":\"Country Name=Liberia\\u003cbr\\u003eYear=%{x}\\u003cbr\\u003eAccess to electricity (% pop)=%{y}\\u003cextra\\u003e\\u003c\\u002fextra\\u003e\",\"legendgroup\":\"Liberia\",\"line\":{\"color\":\"#00cc96\",\"dash\":\"solid\"},\"marker\":{\"symbol\":\"circle\"},\"mode\":\"lines\",\"name\":\"Liberia\",\"showlegend\":true,\"x\":[\"1990 [YR1990]\",\"2000 [YR2000]\",\"2014 [YR2014]\",\"2015 [YR2015]\",\"2016 [YR2016]\",\"2017 [YR2017]\",\"2018 [YR2018]\",\"2019 [YR2019]\",\"2020 [YR2020]\",\"2021 [YR2021]\",\"2022 [YR2022]\",\"2023 [YR2023]\"],\"xaxis\":\"x\",\"y\":[null,null,9.4,15.2,17.7,24.2,22.8,23.1,27.6,29.8,31.8,null],\"yaxis\":\"y\",\"type\":\"scattergl\"},{\"hovertemplate\":\"Country Name=Libya\\u003cbr\\u003eYear=%{x}\\u003cbr\\u003eAccess to electricity (% pop)=%{y}\\u003cextra\\u003e\\u003c\\u002fextra\\u003e\",\"legendgroup\":\"Libya\",\"line\":{\"color\":\"#ab63fa\",\"dash\":\"solid\"},\"marker\":{\"symbol\":\"circle\"},\"mode\":\"lines\",\"name\":\"Libya\",\"showlegend\":true,\"x\":[\"1990 [YR1990]\",\"2000 [YR2000]\",\"2014 [YR2014]\",\"2015 [YR2015]\",\"2016 [YR2016]\",\"2017 [YR2017]\",\"2018 [YR2018]\",\"2019 [YR2019]\",\"2020 [YR2020]\",\"2021 [YR2021]\",\"2022 [YR2022]\",\"2023 [YR2023]\"],\"xaxis\":\"x\",\"y\":[null,99.8,75.5,73.8,72.2,70.6,67.0,68.5,69.4,70.2,70.0,null],\"yaxis\":\"y\",\"type\":\"scattergl\"},{\"hovertemplate\":\"Country Name=Liechtenstein\\u003cbr\\u003eYear=%{x}\\u003cbr\\u003eAccess to electricity (% pop)=%{y}\\u003cextra\\u003e\\u003c\\u002fextra\\u003e\",\"legendgroup\":\"Liechtenstein\",\"line\":{\"color\":\"#FFA15A\",\"dash\":\"solid\"},\"marker\":{\"symbol\":\"circle\"},\"mode\":\"lines\",\"name\":\"Liechtenstein\",\"showlegend\":true,\"x\":[\"1990 [YR1990]\",\"2000 [YR2000]\",\"2014 [YR2014]\",\"2015 [YR2015]\",\"2016 [YR2016]\",\"2017 [YR2017]\",\"2018 [YR2018]\",\"2019 [YR2019]\",\"2020 [YR2020]\",\"2021 [YR2021]\",\"2022 [YR2022]\",\"2023 [YR2023]\"],\"xaxis\":\"x\",\"y\":[100.0,100.0,100.0,100.0,100.0,100.0,100.0,100.0,100.0,100.0,100.0,null],\"yaxis\":\"y\",\"type\":\"scattergl\"},{\"hovertemplate\":\"Country Name=Lithuania\\u003cbr\\u003eYear=%{x}\\u003cbr\\u003eAccess to electricity (% pop)=%{y}\\u003cextra\\u003e\\u003c\\u002fextra\\u003e\",\"legendgroup\":\"Lithuania\",\"line\":{\"color\":\"#19d3f3\",\"dash\":\"solid\"},\"marker\":{\"symbol\":\"circle\"},\"mode\":\"lines\",\"name\":\"Lithuania\",\"showlegend\":true,\"x\":[\"1990 [YR1990]\",\"2000 [YR2000]\",\"2014 [YR2014]\",\"2015 [YR2015]\",\"2016 [YR2016]\",\"2017 [YR2017]\",\"2018 [YR2018]\",\"2019 [YR2019]\",\"2020 [YR2020]\",\"2021 [YR2021]\",\"2022 [YR2022]\",\"2023 [YR2023]\"],\"xaxis\":\"x\",\"y\":[100.0,99.5,100.0,100.0,100.0,100.0,100.0,100.0,100.0,100.0,100.0,null],\"yaxis\":\"y\",\"type\":\"scattergl\"},{\"hovertemplate\":\"Country Name=Luxembourg\\u003cbr\\u003eYear=%{x}\\u003cbr\\u003eAccess to electricity (% pop)=%{y}\\u003cextra\\u003e\\u003c\\u002fextra\\u003e\",\"legendgroup\":\"Luxembourg\",\"line\":{\"color\":\"#FF6692\",\"dash\":\"solid\"},\"marker\":{\"symbol\":\"circle\"},\"mode\":\"lines\",\"name\":\"Luxembourg\",\"showlegend\":true,\"x\":[\"1990 [YR1990]\",\"2000 [YR2000]\",\"2014 [YR2014]\",\"2015 [YR2015]\",\"2016 [YR2016]\",\"2017 [YR2017]\",\"2018 [YR2018]\",\"2019 [YR2019]\",\"2020 [YR2020]\",\"2021 [YR2021]\",\"2022 [YR2022]\",\"2023 [YR2023]\"],\"xaxis\":\"x\",\"y\":[100.0,100.0,100.0,100.0,100.0,100.0,100.0,100.0,100.0,100.0,100.0,null],\"yaxis\":\"y\",\"type\":\"scattergl\"},{\"hovertemplate\":\"Country Name=Macao SAR, China\\u003cbr\\u003eYear=%{x}\\u003cbr\\u003eAccess to electricity (% pop)=%{y}\\u003cextra\\u003e\\u003c\\u002fextra\\u003e\",\"legendgroup\":\"Macao SAR, China\",\"line\":{\"color\":\"#B6E880\",\"dash\":\"solid\"},\"marker\":{\"symbol\":\"circle\"},\"mode\":\"lines\",\"name\":\"Macao SAR, China\",\"showlegend\":true,\"x\":[\"1990 [YR1990]\",\"2000 [YR2000]\",\"2014 [YR2014]\",\"2015 [YR2015]\",\"2016 [YR2016]\",\"2017 [YR2017]\",\"2018 [YR2018]\",\"2019 [YR2019]\",\"2020 [YR2020]\",\"2021 [YR2021]\",\"2022 [YR2022]\",\"2023 [YR2023]\"],\"xaxis\":\"x\",\"y\":[99.8492813110352,100.0,100.0,100.0,100.0,100.0,100.0,100.0,100.0,100.0,100.0,null],\"yaxis\":\"y\",\"type\":\"scattergl\"},{\"hovertemplate\":\"Country Name=Madagascar\\u003cbr\\u003eYear=%{x}\\u003cbr\\u003eAccess to electricity (% pop)=%{y}\\u003cextra\\u003e\\u003c\\u002fextra\\u003e\",\"legendgroup\":\"Madagascar\",\"line\":{\"color\":\"#FF97FF\",\"dash\":\"solid\"},\"marker\":{\"symbol\":\"circle\"},\"mode\":\"lines\",\"name\":\"Madagascar\",\"showlegend\":true,\"x\":[\"1990 [YR1990]\",\"2000 [YR2000]\",\"2014 [YR2014]\",\"2015 [YR2015]\",\"2016 [YR2016]\",\"2017 [YR2017]\",\"2018 [YR2018]\",\"2019 [YR2019]\",\"2020 [YR2020]\",\"2021 [YR2021]\",\"2022 [YR2022]\",\"2023 [YR2023]\"],\"xaxis\":\"x\",\"y\":[null,12.6,23.0,23.8,22.9,24.1,36.5,31.0,32.0,35.1,36.1,null],\"yaxis\":\"y\",\"type\":\"scattergl\"},{\"hovertemplate\":\"Country Name=Malawi\\u003cbr\\u003eYear=%{x}\\u003cbr\\u003eAccess to electricity (% pop)=%{y}\\u003cextra\\u003e\\u003c\\u002fextra\\u003e\",\"legendgroup\":\"Malawi\",\"line\":{\"color\":\"#FECB52\",\"dash\":\"solid\"},\"marker\":{\"symbol\":\"circle\"},\"mode\":\"lines\",\"name\":\"Malawi\",\"showlegend\":true,\"x\":[\"1990 [YR1990]\",\"2000 [YR2000]\",\"2014 [YR2014]\",\"2015 [YR2015]\",\"2016 [YR2016]\",\"2017 [YR2017]\",\"2018 [YR2018]\",\"2019 [YR2019]\",\"2020 [YR2020]\",\"2021 [YR2021]\",\"2022 [YR2022]\",\"2023 [YR2023]\"],\"xaxis\":\"x\",\"y\":[null,4.8,11.9,10.8,11.0,12.7,18.0,11.2,11.5,14.2,14.0,null],\"yaxis\":\"y\",\"type\":\"scattergl\"},{\"hovertemplate\":\"Country Name=Malaysia\\u003cbr\\u003eYear=%{x}\\u003cbr\\u003eAccess to electricity (% pop)=%{y}\\u003cextra\\u003e\\u003c\\u002fextra\\u003e\",\"legendgroup\":\"Malaysia\",\"line\":{\"color\":\"#636efa\",\"dash\":\"solid\"},\"marker\":{\"symbol\":\"circle\"},\"mode\":\"lines\",\"name\":\"Malaysia\",\"showlegend\":true,\"x\":[\"1990 [YR1990]\",\"2000 [YR2000]\",\"2014 [YR2014]\",\"2015 [YR2015]\",\"2016 [YR2016]\",\"2017 [YR2017]\",\"2018 [YR2018]\",\"2019 [YR2019]\",\"2020 [YR2020]\",\"2021 [YR2021]\",\"2022 [YR2022]\",\"2023 [YR2023]\"],\"xaxis\":\"x\",\"y\":[null,98.6,99.7,99.9,99.9,100.0,100.0,100.0,100.0,100.0,100.0,null],\"yaxis\":\"y\",\"type\":\"scattergl\"},{\"hovertemplate\":\"Country Name=Maldives\\u003cbr\\u003eYear=%{x}\\u003cbr\\u003eAccess to electricity (% pop)=%{y}\\u003cextra\\u003e\\u003c\\u002fextra\\u003e\",\"legendgroup\":\"Maldives\",\"line\":{\"color\":\"#EF553B\",\"dash\":\"solid\"},\"marker\":{\"symbol\":\"circle\"},\"mode\":\"lines\",\"name\":\"Maldives\",\"showlegend\":true,\"x\":[\"1990 [YR1990]\",\"2000 [YR2000]\",\"2014 [YR2014]\",\"2015 [YR2015]\",\"2016 [YR2016]\",\"2017 [YR2017]\",\"2018 [YR2018]\",\"2019 [YR2019]\",\"2020 [YR2020]\",\"2021 [YR2021]\",\"2022 [YR2022]\",\"2023 [YR2023]\"],\"xaxis\":\"x\",\"y\":[null,83.8,100.0,99.8,100.0,99.8,100.0,100.0,100.0,100.0,100.0,null],\"yaxis\":\"y\",\"type\":\"scattergl\"},{\"hovertemplate\":\"Country Name=Mali\\u003cbr\\u003eYear=%{x}\\u003cbr\\u003eAccess to electricity (% pop)=%{y}\\u003cextra\\u003e\\u003c\\u002fextra\\u003e\",\"legendgroup\":\"Mali\",\"line\":{\"color\":\"#00cc96\",\"dash\":\"solid\"},\"marker\":{\"symbol\":\"circle\"},\"mode\":\"lines\",\"name\":\"Mali\",\"showlegend\":true,\"x\":[\"1990 [YR1990]\",\"2000 [YR2000]\",\"2014 [YR2014]\",\"2015 [YR2015]\",\"2016 [YR2016]\",\"2017 [YR2017]\",\"2018 [YR2018]\",\"2019 [YR2019]\",\"2020 [YR2020]\",\"2021 [YR2021]\",\"2022 [YR2022]\",\"2023 [YR2023]\"],\"xaxis\":\"x\",\"y\":[null,9.6,34.2,37.6,38.8,34.8,50.9,47.9,50.6,53.4,53.0,null],\"yaxis\":\"y\",\"type\":\"scattergl\"},{\"hovertemplate\":\"Country Name=Malta\\u003cbr\\u003eYear=%{x}\\u003cbr\\u003eAccess to electricity (% pop)=%{y}\\u003cextra\\u003e\\u003c\\u002fextra\\u003e\",\"legendgroup\":\"Malta\",\"line\":{\"color\":\"#ab63fa\",\"dash\":\"solid\"},\"marker\":{\"symbol\":\"circle\"},\"mode\":\"lines\",\"name\":\"Malta\",\"showlegend\":true,\"x\":[\"1990 [YR1990]\",\"2000 [YR2000]\",\"2014 [YR2014]\",\"2015 [YR2015]\",\"2016 [YR2016]\",\"2017 [YR2017]\",\"2018 [YR2018]\",\"2019 [YR2019]\",\"2020 [YR2020]\",\"2021 [YR2021]\",\"2022 [YR2022]\",\"2023 [YR2023]\"],\"xaxis\":\"x\",\"y\":[100.0,100.0,100.0,100.0,100.0,100.0,100.0,100.0,100.0,100.0,100.0,null],\"yaxis\":\"y\",\"type\":\"scattergl\"},{\"hovertemplate\":\"Country Name=Marshall Islands\\u003cbr\\u003eYear=%{x}\\u003cbr\\u003eAccess to electricity (% pop)=%{y}\\u003cextra\\u003e\\u003c\\u002fextra\\u003e\",\"legendgroup\":\"Marshall Islands\",\"line\":{\"color\":\"#FFA15A\",\"dash\":\"solid\"},\"marker\":{\"symbol\":\"circle\"},\"mode\":\"lines\",\"name\":\"Marshall Islands\",\"showlegend\":true,\"x\":[\"1990 [YR1990]\",\"2000 [YR2000]\",\"2014 [YR2014]\",\"2015 [YR2015]\",\"2016 [YR2016]\",\"2017 [YR2017]\",\"2018 [YR2018]\",\"2019 [YR2019]\",\"2020 [YR2020]\",\"2021 [YR2021]\",\"2022 [YR2022]\",\"2023 [YR2023]\"],\"xaxis\":\"x\",\"y\":[null,68.6,91.5,92.1,92.7,93.8,95.3,96.8,98.3,99.8,100.0,null],\"yaxis\":\"y\",\"type\":\"scattergl\"},{\"hovertemplate\":\"Country Name=Mauritania\\u003cbr\\u003eYear=%{x}\\u003cbr\\u003eAccess to electricity (% pop)=%{y}\\u003cextra\\u003e\\u003c\\u002fextra\\u003e\",\"legendgroup\":\"Mauritania\",\"line\":{\"color\":\"#19d3f3\",\"dash\":\"solid\"},\"marker\":{\"symbol\":\"circle\"},\"mode\":\"lines\",\"name\":\"Mauritania\",\"showlegend\":true,\"x\":[\"1990 [YR1990]\",\"2000 [YR2000]\",\"2014 [YR2014]\",\"2015 [YR2015]\",\"2016 [YR2016]\",\"2017 [YR2017]\",\"2018 [YR2018]\",\"2019 [YR2019]\",\"2020 [YR2020]\",\"2021 [YR2021]\",\"2022 [YR2022]\",\"2023 [YR2023]\"],\"xaxis\":\"x\",\"y\":[null,19.1,38.8,39.5,41.2,42.9,43.6,44.9,45.4,47.7,49.0,null],\"yaxis\":\"y\",\"type\":\"scattergl\"},{\"hovertemplate\":\"Country Name=Mauritius\\u003cbr\\u003eYear=%{x}\\u003cbr\\u003eAccess to electricity (% pop)=%{y}\\u003cextra\\u003e\\u003c\\u002fextra\\u003e\",\"legendgroup\":\"Mauritius\",\"line\":{\"color\":\"#FF6692\",\"dash\":\"solid\"},\"marker\":{\"symbol\":\"circle\"},\"mode\":\"lines\",\"name\":\"Mauritius\",\"showlegend\":true,\"x\":[\"1990 [YR1990]\",\"2000 [YR2000]\",\"2014 [YR2014]\",\"2015 [YR2015]\",\"2016 [YR2016]\",\"2017 [YR2017]\",\"2018 [YR2018]\",\"2019 [YR2019]\",\"2020 [YR2020]\",\"2021 [YR2021]\",\"2022 [YR2022]\",\"2023 [YR2023]\"],\"xaxis\":\"x\",\"y\":[99.0415649414063,99.0,99.5,99.6,99.7,99.6,99.8,100.0,99.5,99.6,100.0,null],\"yaxis\":\"y\",\"type\":\"scattergl\"},{\"hovertemplate\":\"Country Name=Mexico\\u003cbr\\u003eYear=%{x}\\u003cbr\\u003eAccess to electricity (% pop)=%{y}\\u003cextra\\u003e\\u003c\\u002fextra\\u003e\",\"legendgroup\":\"Mexico\",\"line\":{\"color\":\"#B6E880\",\"dash\":\"solid\"},\"marker\":{\"symbol\":\"circle\"},\"mode\":\"lines\",\"name\":\"Mexico\",\"showlegend\":true,\"x\":[\"1990 [YR1990]\",\"2000 [YR2000]\",\"2014 [YR2014]\",\"2015 [YR2015]\",\"2016 [YR2016]\",\"2017 [YR2017]\",\"2018 [YR2018]\",\"2019 [YR2019]\",\"2020 [YR2020]\",\"2021 [YR2021]\",\"2022 [YR2022]\",\"2023 [YR2023]\"],\"xaxis\":\"x\",\"y\":[null,98.0,99.2,99.0,99.5,100.0,99.5,99.6,99.4,100.0,100.0,null],\"yaxis\":\"y\",\"type\":\"scattergl\"},{\"hovertemplate\":\"Country Name=Micronesia, Fed. Sts.\\u003cbr\\u003eYear=%{x}\\u003cbr\\u003eAccess to electricity (% pop)=%{y}\\u003cextra\\u003e\\u003c\\u002fextra\\u003e\",\"legendgroup\":\"Micronesia, Fed. Sts.\",\"line\":{\"color\":\"#FF97FF\",\"dash\":\"solid\"},\"marker\":{\"symbol\":\"circle\"},\"mode\":\"lines\",\"name\":\"Micronesia, Fed. Sts.\",\"showlegend\":true,\"x\":[\"1990 [YR1990]\",\"2000 [YR2000]\",\"2014 [YR2014]\",\"2015 [YR2015]\",\"2016 [YR2016]\",\"2017 [YR2017]\",\"2018 [YR2018]\",\"2019 [YR2019]\",\"2020 [YR2020]\",\"2021 [YR2021]\",\"2022 [YR2022]\",\"2023 [YR2023]\"],\"xaxis\":\"x\",\"y\":[null,46.0,71.2,73.0,74.8,76.5,78.3,80.1,81.9,83.6,85.3,null],\"yaxis\":\"y\",\"type\":\"scattergl\"},{\"hovertemplate\":\"Country Name=Moldova\\u003cbr\\u003eYear=%{x}\\u003cbr\\u003eAccess to electricity (% pop)=%{y}\\u003cextra\\u003e\\u003c\\u002fextra\\u003e\",\"legendgroup\":\"Moldova\",\"line\":{\"color\":\"#FECB52\",\"dash\":\"solid\"},\"marker\":{\"symbol\":\"circle\"},\"mode\":\"lines\",\"name\":\"Moldova\",\"showlegend\":true,\"x\":[\"1990 [YR1990]\",\"2000 [YR2000]\",\"2014 [YR2014]\",\"2015 [YR2015]\",\"2016 [YR2016]\",\"2017 [YR2017]\",\"2018 [YR2018]\",\"2019 [YR2019]\",\"2020 [YR2020]\",\"2021 [YR2021]\",\"2022 [YR2022]\",\"2023 [YR2023]\"],\"xaxis\":\"x\",\"y\":[100.0,98.7,99.8,99.9,99.9,100.0,100.0,100.0,100.0,100.0,100.0,null],\"yaxis\":\"y\",\"type\":\"scattergl\"},{\"hovertemplate\":\"Country Name=Monaco\\u003cbr\\u003eYear=%{x}\\u003cbr\\u003eAccess to electricity (% pop)=%{y}\\u003cextra\\u003e\\u003c\\u002fextra\\u003e\",\"legendgroup\":\"Monaco\",\"line\":{\"color\":\"#636efa\",\"dash\":\"solid\"},\"marker\":{\"symbol\":\"circle\"},\"mode\":\"lines\",\"name\":\"Monaco\",\"showlegend\":true,\"x\":[\"1990 [YR1990]\",\"2000 [YR2000]\",\"2014 [YR2014]\",\"2015 [YR2015]\",\"2016 [YR2016]\",\"2017 [YR2017]\",\"2018 [YR2018]\",\"2019 [YR2019]\",\"2020 [YR2020]\",\"2021 [YR2021]\",\"2022 [YR2022]\",\"2023 [YR2023]\"],\"xaxis\":\"x\",\"y\":[100.0,100.0,100.0,100.0,100.0,100.0,100.0,100.0,100.0,100.0,100.0,null],\"yaxis\":\"y\",\"type\":\"scattergl\"},{\"hovertemplate\":\"Country Name=Mongolia\\u003cbr\\u003eYear=%{x}\\u003cbr\\u003eAccess to electricity (% pop)=%{y}\\u003cextra\\u003e\\u003c\\u002fextra\\u003e\",\"legendgroup\":\"Mongolia\",\"line\":{\"color\":\"#EF553B\",\"dash\":\"solid\"},\"marker\":{\"symbol\":\"circle\"},\"mode\":\"lines\",\"name\":\"Mongolia\",\"showlegend\":true,\"x\":[\"1990 [YR1990]\",\"2000 [YR2000]\",\"2014 [YR2014]\",\"2015 [YR2015]\",\"2016 [YR2016]\",\"2017 [YR2017]\",\"2018 [YR2018]\",\"2019 [YR2019]\",\"2020 [YR2020]\",\"2021 [YR2021]\",\"2022 [YR2022]\",\"2023 [YR2023]\"],\"xaxis\":\"x\",\"y\":[null,67.3,86.0,88.0,90.8,93.6,98.1,98.9,99.5,100.0,100.0,null],\"yaxis\":\"y\",\"type\":\"scattergl\"},{\"hovertemplate\":\"Country Name=Montenegro\\u003cbr\\u003eYear=%{x}\\u003cbr\\u003eAccess to electricity (% pop)=%{y}\\u003cextra\\u003e\\u003c\\u002fextra\\u003e\",\"legendgroup\":\"Montenegro\",\"line\":{\"color\":\"#00cc96\",\"dash\":\"solid\"},\"marker\":{\"symbol\":\"circle\"},\"mode\":\"lines\",\"name\":\"Montenegro\",\"showlegend\":true,\"x\":[\"1990 [YR1990]\",\"2000 [YR2000]\",\"2014 [YR2014]\",\"2015 [YR2015]\",\"2016 [YR2016]\",\"2017 [YR2017]\",\"2018 [YR2018]\",\"2019 [YR2019]\",\"2020 [YR2020]\",\"2021 [YR2021]\",\"2022 [YR2022]\",\"2023 [YR2023]\"],\"xaxis\":\"x\",\"y\":[100.0,99.1,97.7,99.5,99.6,100.0,100.0,100.0,99.9,99.8,100.0,null],\"yaxis\":\"y\",\"type\":\"scattergl\"},{\"hovertemplate\":\"Country Name=Morocco\\u003cbr\\u003eYear=%{x}\\u003cbr\\u003eAccess to electricity (% pop)=%{y}\\u003cextra\\u003e\\u003c\\u002fextra\\u003e\",\"legendgroup\":\"Morocco\",\"line\":{\"color\":\"#ab63fa\",\"dash\":\"solid\"},\"marker\":{\"symbol\":\"circle\"},\"mode\":\"lines\",\"name\":\"Morocco\",\"showlegend\":true,\"x\":[\"1990 [YR1990]\",\"2000 [YR2000]\",\"2014 [YR2014]\",\"2015 [YR2015]\",\"2016 [YR2016]\",\"2017 [YR2017]\",\"2018 [YR2018]\",\"2019 [YR2019]\",\"2020 [YR2020]\",\"2021 [YR2021]\",\"2022 [YR2022]\",\"2023 [YR2023]\"],\"xaxis\":\"x\",\"y\":[null,69.8,97.3,97.3,97.8,100.0,98.1,99.6,100.0,100.0,100.0,null],\"yaxis\":\"y\",\"type\":\"scattergl\"},{\"hovertemplate\":\"Country Name=Mozambique\\u003cbr\\u003eYear=%{x}\\u003cbr\\u003eAccess to electricity (% pop)=%{y}\\u003cextra\\u003e\\u003c\\u002fextra\\u003e\",\"legendgroup\":\"Mozambique\",\"line\":{\"color\":\"#FFA15A\",\"dash\":\"solid\"},\"marker\":{\"symbol\":\"circle\"},\"mode\":\"lines\",\"name\":\"Mozambique\",\"showlegend\":true,\"x\":[\"1990 [YR1990]\",\"2000 [YR2000]\",\"2014 [YR2014]\",\"2015 [YR2015]\",\"2016 [YR2016]\",\"2017 [YR2017]\",\"2018 [YR2018]\",\"2019 [YR2019]\",\"2020 [YR2020]\",\"2021 [YR2021]\",\"2022 [YR2022]\",\"2023 [YR2023]\"],\"xaxis\":\"x\",\"y\":[null,6.1,24.8,24.0,26.2,24.3,31.1,29.7,30.6,31.5,33.2,null],\"yaxis\":\"y\",\"type\":\"scattergl\"},{\"hovertemplate\":\"Country Name=Myanmar\\u003cbr\\u003eYear=%{x}\\u003cbr\\u003eAccess to electricity (% pop)=%{y}\\u003cextra\\u003e\\u003c\\u002fextra\\u003e\",\"legendgroup\":\"Myanmar\",\"line\":{\"color\":\"#19d3f3\",\"dash\":\"solid\"},\"marker\":{\"symbol\":\"circle\"},\"mode\":\"lines\",\"name\":\"Myanmar\",\"showlegend\":true,\"x\":[\"1990 [YR1990]\",\"2000 [YR2000]\",\"2014 [YR2014]\",\"2015 [YR2015]\",\"2016 [YR2016]\",\"2017 [YR2017]\",\"2018 [YR2018]\",\"2019 [YR2019]\",\"2020 [YR2020]\",\"2021 [YR2021]\",\"2022 [YR2022]\",\"2023 [YR2023]\"],\"xaxis\":\"x\",\"y\":[null,41.9,52.0,60.5,55.6,69.8,66.1,68.3,70.4,72.5,73.7,null],\"yaxis\":\"y\",\"type\":\"scattergl\"},{\"hovertemplate\":\"Country Name=Namibia\\u003cbr\\u003eYear=%{x}\\u003cbr\\u003eAccess to electricity (% pop)=%{y}\\u003cextra\\u003e\\u003c\\u002fextra\\u003e\",\"legendgroup\":\"Namibia\",\"line\":{\"color\":\"#FF6692\",\"dash\":\"solid\"},\"marker\":{\"symbol\":\"circle\"},\"mode\":\"lines\",\"name\":\"Namibia\",\"showlegend\":true,\"x\":[\"1990 [YR1990]\",\"2000 [YR2000]\",\"2014 [YR2014]\",\"2015 [YR2015]\",\"2016 [YR2016]\",\"2017 [YR2017]\",\"2018 [YR2018]\",\"2019 [YR2019]\",\"2020 [YR2020]\",\"2021 [YR2021]\",\"2022 [YR2022]\",\"2023 [YR2023]\"],\"xaxis\":\"x\",\"y\":[null,36.5,48.4,51.6,49.7,52.5,52.3,53.3,52.3,55.2,56.2,null],\"yaxis\":\"y\",\"type\":\"scattergl\"},{\"hovertemplate\":\"Country Name=Nauru\\u003cbr\\u003eYear=%{x}\\u003cbr\\u003eAccess to electricity (% pop)=%{y}\\u003cextra\\u003e\\u003c\\u002fextra\\u003e\",\"legendgroup\":\"Nauru\",\"line\":{\"color\":\"#B6E880\",\"dash\":\"solid\"},\"marker\":{\"symbol\":\"circle\"},\"mode\":\"lines\",\"name\":\"Nauru\",\"showlegend\":true,\"x\":[\"1990 [YR1990]\",\"2000 [YR2000]\",\"2014 [YR2014]\",\"2015 [YR2015]\",\"2016 [YR2016]\",\"2017 [YR2017]\",\"2018 [YR2018]\",\"2019 [YR2019]\",\"2020 [YR2020]\",\"2021 [YR2021]\",\"2022 [YR2022]\",\"2023 [YR2023]\"],\"xaxis\":\"x\",\"y\":[98.9990844726563,99.1,99.5,99.0,99.7,99.8,99.9,100.0,100.0,100.0,100.0,null],\"yaxis\":\"y\",\"type\":\"scattergl\"},{\"hovertemplate\":\"Country Name=Nepal\\u003cbr\\u003eYear=%{x}\\u003cbr\\u003eAccess to electricity (% pop)=%{y}\\u003cextra\\u003e\\u003c\\u002fextra\\u003e\",\"legendgroup\":\"Nepal\",\"line\":{\"color\":\"#FF97FF\",\"dash\":\"solid\"},\"marker\":{\"symbol\":\"circle\"},\"mode\":\"lines\",\"name\":\"Nepal\",\"showlegend\":true,\"x\":[\"1990 [YR1990]\",\"2000 [YR2000]\",\"2014 [YR2014]\",\"2015 [YR2015]\",\"2016 [YR2016]\",\"2017 [YR2017]\",\"2018 [YR2018]\",\"2019 [YR2019]\",\"2020 [YR2020]\",\"2021 [YR2021]\",\"2022 [YR2022]\",\"2023 [YR2023]\"],\"xaxis\":\"x\",\"y\":[null,29.9,84.9,82.0,90.7,86.6,93.9,89.9,89.9,89.9,91.3,null],\"yaxis\":\"y\",\"type\":\"scattergl\"},{\"hovertemplate\":\"Country Name=Netherlands\\u003cbr\\u003eYear=%{x}\\u003cbr\\u003eAccess to electricity (% pop)=%{y}\\u003cextra\\u003e\\u003c\\u002fextra\\u003e\",\"legendgroup\":\"Netherlands\",\"line\":{\"color\":\"#FECB52\",\"dash\":\"solid\"},\"marker\":{\"symbol\":\"circle\"},\"mode\":\"lines\",\"name\":\"Netherlands\",\"showlegend\":true,\"x\":[\"1990 [YR1990]\",\"2000 [YR2000]\",\"2014 [YR2014]\",\"2015 [YR2015]\",\"2016 [YR2016]\",\"2017 [YR2017]\",\"2018 [YR2018]\",\"2019 [YR2019]\",\"2020 [YR2020]\",\"2021 [YR2021]\",\"2022 [YR2022]\",\"2023 [YR2023]\"],\"xaxis\":\"x\",\"y\":[100.0,100.0,100.0,100.0,100.0,100.0,100.0,100.0,100.0,100.0,100.0,null],\"yaxis\":\"y\",\"type\":\"scattergl\"},{\"hovertemplate\":\"Country Name=New Caledonia\\u003cbr\\u003eYear=%{x}\\u003cbr\\u003eAccess to electricity (% pop)=%{y}\\u003cextra\\u003e\\u003c\\u002fextra\\u003e\",\"legendgroup\":\"New Caledonia\",\"line\":{\"color\":\"#636efa\",\"dash\":\"solid\"},\"marker\":{\"symbol\":\"circle\"},\"mode\":\"lines\",\"name\":\"New Caledonia\",\"showlegend\":true,\"x\":[\"1990 [YR1990]\",\"2000 [YR2000]\",\"2014 [YR2014]\",\"2015 [YR2015]\",\"2016 [YR2016]\",\"2017 [YR2017]\",\"2018 [YR2018]\",\"2019 [YR2019]\",\"2020 [YR2020]\",\"2021 [YR2021]\",\"2022 [YR2022]\",\"2023 [YR2023]\"],\"xaxis\":\"x\",\"y\":[99.8443069458008,100.0,100.0,100.0,100.0,100.0,100.0,100.0,100.0,100.0,100.0,null],\"yaxis\":\"y\",\"type\":\"scattergl\"},{\"hovertemplate\":\"Country Name=New Zealand\\u003cbr\\u003eYear=%{x}\\u003cbr\\u003eAccess to electricity (% pop)=%{y}\\u003cextra\\u003e\\u003c\\u002fextra\\u003e\",\"legendgroup\":\"New Zealand\",\"line\":{\"color\":\"#EF553B\",\"dash\":\"solid\"},\"marker\":{\"symbol\":\"circle\"},\"mode\":\"lines\",\"name\":\"New Zealand\",\"showlegend\":true,\"x\":[\"1990 [YR1990]\",\"2000 [YR2000]\",\"2014 [YR2014]\",\"2015 [YR2015]\",\"2016 [YR2016]\",\"2017 [YR2017]\",\"2018 [YR2018]\",\"2019 [YR2019]\",\"2020 [YR2020]\",\"2021 [YR2021]\",\"2022 [YR2022]\",\"2023 [YR2023]\"],\"xaxis\":\"x\",\"y\":[100.0,100.0,100.0,100.0,100.0,100.0,100.0,100.0,100.0,100.0,100.0,null],\"yaxis\":\"y\",\"type\":\"scattergl\"},{\"hovertemplate\":\"Country Name=Nicaragua\\u003cbr\\u003eYear=%{x}\\u003cbr\\u003eAccess to electricity (% pop)=%{y}\\u003cextra\\u003e\\u003c\\u002fextra\\u003e\",\"legendgroup\":\"Nicaragua\",\"line\":{\"color\":\"#00cc96\",\"dash\":\"solid\"},\"marker\":{\"symbol\":\"circle\"},\"mode\":\"lines\",\"name\":\"Nicaragua\",\"showlegend\":true,\"x\":[\"1990 [YR1990]\",\"2000 [YR2000]\",\"2014 [YR2014]\",\"2015 [YR2015]\",\"2016 [YR2016]\",\"2017 [YR2017]\",\"2018 [YR2018]\",\"2019 [YR2019]\",\"2020 [YR2020]\",\"2021 [YR2021]\",\"2022 [YR2022]\",\"2023 [YR2023]\"],\"xaxis\":\"x\",\"y\":[null,73.0,81.9,83.2,83.9,84.6,85.2,85.7,86.0,86.3,86.5,null],\"yaxis\":\"y\",\"type\":\"scattergl\"},{\"hovertemplate\":\"Country Name=Niger\\u003cbr\\u003eYear=%{x}\\u003cbr\\u003eAccess to electricity (% pop)=%{y}\\u003cextra\\u003e\\u003c\\u002fextra\\u003e\",\"legendgroup\":\"Niger\",\"line\":{\"color\":\"#ab63fa\",\"dash\":\"solid\"},\"marker\":{\"symbol\":\"circle\"},\"mode\":\"lines\",\"name\":\"Niger\",\"showlegend\":true,\"x\":[\"1990 [YR1990]\",\"2000 [YR2000]\",\"2014 [YR2014]\",\"2015 [YR2015]\",\"2016 [YR2016]\",\"2017 [YR2017]\",\"2018 [YR2018]\",\"2019 [YR2019]\",\"2020 [YR2020]\",\"2021 [YR2021]\",\"2022 [YR2022]\",\"2023 [YR2023]\"],\"xaxis\":\"x\",\"y\":[null,6.5,15.7,16.6,17.0,17.6,17.6,18.5,18.7,18.6,19.5,null],\"yaxis\":\"y\",\"type\":\"scattergl\"},{\"hovertemplate\":\"Country Name=Nigeria\\u003cbr\\u003eYear=%{x}\\u003cbr\\u003eAccess to electricity (% pop)=%{y}\\u003cextra\\u003e\\u003c\\u002fextra\\u003e\",\"legendgroup\":\"Nigeria\",\"line\":{\"color\":\"#FFA15A\",\"dash\":\"solid\"},\"marker\":{\"symbol\":\"circle\"},\"mode\":\"lines\",\"name\":\"Nigeria\",\"showlegend\":true,\"x\":[\"1990 [YR1990]\",\"2000 [YR2000]\",\"2014 [YR2014]\",\"2015 [YR2015]\",\"2016 [YR2016]\",\"2017 [YR2017]\",\"2018 [YR2018]\",\"2019 [YR2019]\",\"2020 [YR2020]\",\"2021 [YR2021]\",\"2022 [YR2022]\",\"2023 [YR2023]\"],\"xaxis\":\"x\",\"y\":[27.3,43.2,54.2,52.5,59.3,54.4,56.5,55.4,55.4,59.5,60.5,null],\"yaxis\":\"y\",\"type\":\"scattergl\"},{\"hovertemplate\":\"Country Name=North Macedonia\\u003cbr\\u003eYear=%{x}\\u003cbr\\u003eAccess to electricity (% pop)=%{y}\\u003cextra\\u003e\\u003c\\u002fextra\\u003e\",\"legendgroup\":\"North Macedonia\",\"line\":{\"color\":\"#19d3f3\",\"dash\":\"solid\"},\"marker\":{\"symbol\":\"circle\"},\"mode\":\"lines\",\"name\":\"North Macedonia\",\"showlegend\":true,\"x\":[\"1990 [YR1990]\",\"2000 [YR2000]\",\"2014 [YR2014]\",\"2015 [YR2015]\",\"2016 [YR2016]\",\"2017 [YR2017]\",\"2018 [YR2018]\",\"2019 [YR2019]\",\"2020 [YR2020]\",\"2021 [YR2021]\",\"2022 [YR2022]\",\"2023 [YR2023]\"],\"xaxis\":\"x\",\"y\":[100.0,99.0,99.8,99.9,100.0,100.0,99.8,100.0,100.0,100.0,100.0,null],\"yaxis\":\"y\",\"type\":\"scattergl\"},{\"hovertemplate\":\"Country Name=Northern Mariana Islands\\u003cbr\\u003eYear=%{x}\\u003cbr\\u003eAccess to electricity (% pop)=%{y}\\u003cextra\\u003e\\u003c\\u002fextra\\u003e\",\"legendgroup\":\"Northern Mariana Islands\",\"line\":{\"color\":\"#FF6692\",\"dash\":\"solid\"},\"marker\":{\"symbol\":\"circle\"},\"mode\":\"lines\",\"name\":\"Northern Mariana Islands\",\"showlegend\":true,\"x\":[\"1990 [YR1990]\",\"2000 [YR2000]\",\"2014 [YR2014]\",\"2015 [YR2015]\",\"2016 [YR2016]\",\"2017 [YR2017]\",\"2018 [YR2018]\",\"2019 [YR2019]\",\"2020 [YR2020]\",\"2021 [YR2021]\",\"2022 [YR2022]\",\"2023 [YR2023]\"],\"xaxis\":\"x\",\"y\":[99.8532638549805,100.0,100.0,100.0,100.0,100.0,100.0,100.0,100.0,100.0,100.0,null],\"yaxis\":\"y\",\"type\":\"scattergl\"},{\"hovertemplate\":\"Country Name=Norway\\u003cbr\\u003eYear=%{x}\\u003cbr\\u003eAccess to electricity (% pop)=%{y}\\u003cextra\\u003e\\u003c\\u002fextra\\u003e\",\"legendgroup\":\"Norway\",\"line\":{\"color\":\"#B6E880\",\"dash\":\"solid\"},\"marker\":{\"symbol\":\"circle\"},\"mode\":\"lines\",\"name\":\"Norway\",\"showlegend\":true,\"x\":[\"1990 [YR1990]\",\"2000 [YR2000]\",\"2014 [YR2014]\",\"2015 [YR2015]\",\"2016 [YR2016]\",\"2017 [YR2017]\",\"2018 [YR2018]\",\"2019 [YR2019]\",\"2020 [YR2020]\",\"2021 [YR2021]\",\"2022 [YR2022]\",\"2023 [YR2023]\"],\"xaxis\":\"x\",\"y\":[100.0,100.0,100.0,100.0,100.0,100.0,100.0,100.0,100.0,100.0,100.0,null],\"yaxis\":\"y\",\"type\":\"scattergl\"},{\"hovertemplate\":\"Country Name=Oman\\u003cbr\\u003eYear=%{x}\\u003cbr\\u003eAccess to electricity (% pop)=%{y}\\u003cextra\\u003e\\u003c\\u002fextra\\u003e\",\"legendgroup\":\"Oman\",\"line\":{\"color\":\"#FF97FF\",\"dash\":\"solid\"},\"marker\":{\"symbol\":\"circle\"},\"mode\":\"lines\",\"name\":\"Oman\",\"showlegend\":true,\"x\":[\"1990 [YR1990]\",\"2000 [YR2000]\",\"2014 [YR2014]\",\"2015 [YR2015]\",\"2016 [YR2016]\",\"2017 [YR2017]\",\"2018 [YR2018]\",\"2019 [YR2019]\",\"2020 [YR2020]\",\"2021 [YR2021]\",\"2022 [YR2022]\",\"2023 [YR2023]\"],\"xaxis\":\"x\",\"y\":[100.0,100.0,100.0,100.0,100.0,100.0,100.0,100.0,100.0,100.0,100.0,null],\"yaxis\":\"y\",\"type\":\"scattergl\"},{\"hovertemplate\":\"Country Name=Pakistan\\u003cbr\\u003eYear=%{x}\\u003cbr\\u003eAccess to electricity (% pop)=%{y}\\u003cextra\\u003e\\u003c\\u002fextra\\u003e\",\"legendgroup\":\"Pakistan\",\"line\":{\"color\":\"#FECB52\",\"dash\":\"solid\"},\"marker\":{\"symbol\":\"circle\"},\"mode\":\"lines\",\"name\":\"Pakistan\",\"showlegend\":true,\"x\":[\"1990 [YR1990]\",\"2000 [YR2000]\",\"2014 [YR2014]\",\"2015 [YR2015]\",\"2016 [YR2016]\",\"2017 [YR2017]\",\"2018 [YR2018]\",\"2019 [YR2019]\",\"2020 [YR2020]\",\"2021 [YR2021]\",\"2022 [YR2022]\",\"2023 [YR2023]\"],\"xaxis\":\"x\",\"y\":[null,72.8,90.1,91.0,91.8,92.7,93.4,93.9,94.5,94.9,95.0,null],\"yaxis\":\"y\",\"type\":\"scattergl\"},{\"hovertemplate\":\"Country Name=Palau\\u003cbr\\u003eYear=%{x}\\u003cbr\\u003eAccess to electricity (% pop)=%{y}\\u003cextra\\u003e\\u003c\\u002fextra\\u003e\",\"legendgroup\":\"Palau\",\"line\":{\"color\":\"#636efa\",\"dash\":\"solid\"},\"marker\":{\"symbol\":\"circle\"},\"mode\":\"lines\",\"name\":\"Palau\",\"showlegend\":true,\"x\":[\"1990 [YR1990]\",\"2000 [YR2000]\",\"2014 [YR2014]\",\"2015 [YR2015]\",\"2016 [YR2016]\",\"2017 [YR2017]\",\"2018 [YR2018]\",\"2019 [YR2019]\",\"2020 [YR2020]\",\"2021 [YR2021]\",\"2022 [YR2022]\",\"2023 [YR2023]\"],\"xaxis\":\"x\",\"y\":[96.6253509521484,97.9,99.8,99.5,100.0,100.0,100.0,100.0,100.0,100.0,100.0,null],\"yaxis\":\"y\",\"type\":\"scattergl\"},{\"hovertemplate\":\"Country Name=Panama\\u003cbr\\u003eYear=%{x}\\u003cbr\\u003eAccess to electricity (% pop)=%{y}\\u003cextra\\u003e\\u003c\\u002fextra\\u003e\",\"legendgroup\":\"Panama\",\"line\":{\"color\":\"#EF553B\",\"dash\":\"solid\"},\"marker\":{\"symbol\":\"circle\"},\"mode\":\"lines\",\"name\":\"Panama\",\"showlegend\":true,\"x\":[\"1990 [YR1990]\",\"2000 [YR2000]\",\"2014 [YR2014]\",\"2015 [YR2015]\",\"2016 [YR2016]\",\"2017 [YR2017]\",\"2018 [YR2018]\",\"2019 [YR2019]\",\"2020 [YR2020]\",\"2021 [YR2021]\",\"2022 [YR2022]\",\"2023 [YR2023]\"],\"xaxis\":\"x\",\"y\":[70.19,81.4,90.8,91.6,92.4,93.7,93.8,93.9,95.3,95.3,95.0,null],\"yaxis\":\"y\",\"type\":\"scattergl\"},{\"hovertemplate\":\"Country Name=Papua New Guinea\\u003cbr\\u003eYear=%{x}\\u003cbr\\u003eAccess to electricity (% pop)=%{y}\\u003cextra\\u003e\\u003c\\u002fextra\\u003e\",\"legendgroup\":\"Papua New Guinea\",\"line\":{\"color\":\"#00cc96\",\"dash\":\"solid\"},\"marker\":{\"symbol\":\"circle\"},\"mode\":\"lines\",\"name\":\"Papua New Guinea\",\"showlegend\":true,\"x\":[\"1990 [YR1990]\",\"2000 [YR2000]\",\"2014 [YR2014]\",\"2015 [YR2015]\",\"2016 [YR2016]\",\"2017 [YR2017]\",\"2018 [YR2018]\",\"2019 [YR2019]\",\"2020 [YR2020]\",\"2021 [YR2021]\",\"2022 [YR2022]\",\"2023 [YR2023]\"],\"xaxis\":\"x\",\"y\":[null,12.4,18.1,18.4,13.5,19.2,16.6,23.6,20.5,20.9,19.0,null],\"yaxis\":\"y\",\"type\":\"scattergl\"},{\"hovertemplate\":\"Country Name=Paraguay\\u003cbr\\u003eYear=%{x}\\u003cbr\\u003eAccess to electricity (% pop)=%{y}\\u003cextra\\u003e\\u003c\\u002fextra\\u003e\",\"legendgroup\":\"Paraguay\",\"line\":{\"color\":\"#ab63fa\",\"dash\":\"solid\"},\"marker\":{\"symbol\":\"circle\"},\"mode\":\"lines\",\"name\":\"Paraguay\",\"showlegend\":true,\"x\":[\"1990 [YR1990]\",\"2000 [YR2000]\",\"2014 [YR2014]\",\"2015 [YR2015]\",\"2016 [YR2016]\",\"2017 [YR2017]\",\"2018 [YR2018]\",\"2019 [YR2019]\",\"2020 [YR2020]\",\"2021 [YR2021]\",\"2022 [YR2022]\",\"2023 [YR2023]\"],\"xaxis\":\"x\",\"y\":[null,89.6,99.0,99.3,98.4,99.3,99.6,99.7,99.7,100.0,100.0,null],\"yaxis\":\"y\",\"type\":\"scattergl\"},{\"hovertemplate\":\"Country Name=Peru\\u003cbr\\u003eYear=%{x}\\u003cbr\\u003eAccess to electricity (% pop)=%{y}\\u003cextra\\u003e\\u003c\\u002fextra\\u003e\",\"legendgroup\":\"Peru\",\"line\":{\"color\":\"#FFA15A\",\"dash\":\"solid\"},\"marker\":{\"symbol\":\"circle\"},\"mode\":\"lines\",\"name\":\"Peru\",\"showlegend\":true,\"x\":[\"1990 [YR1990]\",\"2000 [YR2000]\",\"2014 [YR2014]\",\"2015 [YR2015]\",\"2016 [YR2016]\",\"2017 [YR2017]\",\"2018 [YR2018]\",\"2019 [YR2019]\",\"2020 [YR2020]\",\"2021 [YR2021]\",\"2022 [YR2022]\",\"2023 [YR2023]\"],\"xaxis\":\"x\",\"y\":[null,72.5,92.9,93.9,94.2,94.8,95.2,95.6,96.2,95.6,96.2,null],\"yaxis\":\"y\",\"type\":\"scattergl\"},{\"hovertemplate\":\"Country Name=Philippines\\u003cbr\\u003eYear=%{x}\\u003cbr\\u003eAccess to electricity (% pop)=%{y}\\u003cextra\\u003e\\u003c\\u002fextra\\u003e\",\"legendgroup\":\"Philippines\",\"line\":{\"color\":\"#19d3f3\",\"dash\":\"solid\"},\"marker\":{\"symbol\":\"circle\"},\"mode\":\"lines\",\"name\":\"Philippines\",\"showlegend\":true,\"x\":[\"1990 [YR1990]\",\"2000 [YR2000]\",\"2014 [YR2014]\",\"2015 [YR2015]\",\"2016 [YR2016]\",\"2017 [YR2017]\",\"2018 [YR2018]\",\"2019 [YR2019]\",\"2020 [YR2020]\",\"2021 [YR2021]\",\"2022 [YR2022]\",\"2023 [YR2023]\"],\"xaxis\":\"x\",\"y\":[null,74.7,89.8,89.1,92.0,93.0,94.2,95.3,96.4,97.5,94.8,null],\"yaxis\":\"y\",\"type\":\"scattergl\"},{\"hovertemplate\":\"Country Name=Poland\\u003cbr\\u003eYear=%{x}\\u003cbr\\u003eAccess to electricity (% pop)=%{y}\\u003cextra\\u003e\\u003c\\u002fextra\\u003e\",\"legendgroup\":\"Poland\",\"line\":{\"color\":\"#FF6692\",\"dash\":\"solid\"},\"marker\":{\"symbol\":\"circle\"},\"mode\":\"lines\",\"name\":\"Poland\",\"showlegend\":true,\"x\":[\"1990 [YR1990]\",\"2000 [YR2000]\",\"2014 [YR2014]\",\"2015 [YR2015]\",\"2016 [YR2016]\",\"2017 [YR2017]\",\"2018 [YR2018]\",\"2019 [YR2019]\",\"2020 [YR2020]\",\"2021 [YR2021]\",\"2022 [YR2022]\",\"2023 [YR2023]\"],\"xaxis\":\"x\",\"y\":[100.0,100.0,100.0,100.0,100.0,100.0,100.0,100.0,100.0,100.0,100.0,null],\"yaxis\":\"y\",\"type\":\"scattergl\"},{\"hovertemplate\":\"Country Name=Portugal\\u003cbr\\u003eYear=%{x}\\u003cbr\\u003eAccess to electricity (% pop)=%{y}\\u003cextra\\u003e\\u003c\\u002fextra\\u003e\",\"legendgroup\":\"Portugal\",\"line\":{\"color\":\"#B6E880\",\"dash\":\"solid\"},\"marker\":{\"symbol\":\"circle\"},\"mode\":\"lines\",\"name\":\"Portugal\",\"showlegend\":true,\"x\":[\"1990 [YR1990]\",\"2000 [YR2000]\",\"2014 [YR2014]\",\"2015 [YR2015]\",\"2016 [YR2016]\",\"2017 [YR2017]\",\"2018 [YR2018]\",\"2019 [YR2019]\",\"2020 [YR2020]\",\"2021 [YR2021]\",\"2022 [YR2022]\",\"2023 [YR2023]\"],\"xaxis\":\"x\",\"y\":[100.0,100.0,100.0,100.0,100.0,100.0,100.0,100.0,100.0,100.0,100.0,null],\"yaxis\":\"y\",\"type\":\"scattergl\"},{\"hovertemplate\":\"Country Name=Puerto Rico\\u003cbr\\u003eYear=%{x}\\u003cbr\\u003eAccess to electricity (% pop)=%{y}\\u003cextra\\u003e\\u003c\\u002fextra\\u003e\",\"legendgroup\":\"Puerto Rico\",\"line\":{\"color\":\"#FF97FF\",\"dash\":\"solid\"},\"marker\":{\"symbol\":\"circle\"},\"mode\":\"lines\",\"name\":\"Puerto Rico\",\"showlegend\":true,\"x\":[\"1990 [YR1990]\",\"2000 [YR2000]\",\"2014 [YR2014]\",\"2015 [YR2015]\",\"2016 [YR2016]\",\"2017 [YR2017]\",\"2018 [YR2018]\",\"2019 [YR2019]\",\"2020 [YR2020]\",\"2021 [YR2021]\",\"2022 [YR2022]\",\"2023 [YR2023]\"],\"xaxis\":\"x\",\"y\":[99.9834289550781,100.0,100.0,100.0,100.0,100.0,100.0,100.0,100.0,100.0,100.0,null],\"yaxis\":\"y\",\"type\":\"scattergl\"},{\"hovertemplate\":\"Country Name=Qatar\\u003cbr\\u003eYear=%{x}\\u003cbr\\u003eAccess to electricity (% pop)=%{y}\\u003cextra\\u003e\\u003c\\u002fextra\\u003e\",\"legendgroup\":\"Qatar\",\"line\":{\"color\":\"#FECB52\",\"dash\":\"solid\"},\"marker\":{\"symbol\":\"circle\"},\"mode\":\"lines\",\"name\":\"Qatar\",\"showlegend\":true,\"x\":[\"1990 [YR1990]\",\"2000 [YR2000]\",\"2014 [YR2014]\",\"2015 [YR2015]\",\"2016 [YR2016]\",\"2017 [YR2017]\",\"2018 [YR2018]\",\"2019 [YR2019]\",\"2020 [YR2020]\",\"2021 [YR2021]\",\"2022 [YR2022]\",\"2023 [YR2023]\"],\"xaxis\":\"x\",\"y\":[100.0,100.0,100.0,100.0,100.0,100.0,100.0,100.0,100.0,100.0,100.0,null],\"yaxis\":\"y\",\"type\":\"scattergl\"},{\"hovertemplate\":\"Country Name=Romania\\u003cbr\\u003eYear=%{x}\\u003cbr\\u003eAccess to electricity (% pop)=%{y}\\u003cextra\\u003e\\u003c\\u002fextra\\u003e\",\"legendgroup\":\"Romania\",\"line\":{\"color\":\"#636efa\",\"dash\":\"solid\"},\"marker\":{\"symbol\":\"circle\"},\"mode\":\"lines\",\"name\":\"Romania\",\"showlegend\":true,\"x\":[\"1990 [YR1990]\",\"2000 [YR2000]\",\"2014 [YR2014]\",\"2015 [YR2015]\",\"2016 [YR2016]\",\"2017 [YR2017]\",\"2018 [YR2018]\",\"2019 [YR2019]\",\"2020 [YR2020]\",\"2021 [YR2021]\",\"2022 [YR2022]\",\"2023 [YR2023]\"],\"xaxis\":\"x\",\"y\":[100.0,94.4,98.4,98.8,99.1,100.0,99.8,100.0,100.0,100.0,100.0,null],\"yaxis\":\"y\",\"type\":\"scattergl\"},{\"hovertemplate\":\"Country Name=Russian Federation\\u003cbr\\u003eYear=%{x}\\u003cbr\\u003eAccess to electricity (% pop)=%{y}\\u003cextra\\u003e\\u003c\\u002fextra\\u003e\",\"legendgroup\":\"Russian Federation\",\"line\":{\"color\":\"#EF553B\",\"dash\":\"solid\"},\"marker\":{\"symbol\":\"circle\"},\"mode\":\"lines\",\"name\":\"Russian Federation\",\"showlegend\":true,\"x\":[\"1990 [YR1990]\",\"2000 [YR2000]\",\"2014 [YR2014]\",\"2015 [YR2015]\",\"2016 [YR2016]\",\"2017 [YR2017]\",\"2018 [YR2018]\",\"2019 [YR2019]\",\"2020 [YR2020]\",\"2021 [YR2021]\",\"2022 [YR2022]\",\"2023 [YR2023]\"],\"xaxis\":\"x\",\"y\":[100.0,97.8,100.0,95.5,99.4,100.0,100.0,99.8,99.9,100.0,100.0,null],\"yaxis\":\"y\",\"type\":\"scattergl\"},{\"hovertemplate\":\"Country Name=Rwanda\\u003cbr\\u003eYear=%{x}\\u003cbr\\u003eAccess to electricity (% pop)=%{y}\\u003cextra\\u003e\\u003c\\u002fextra\\u003e\",\"legendgroup\":\"Rwanda\",\"line\":{\"color\":\"#00cc96\",\"dash\":\"solid\"},\"marker\":{\"symbol\":\"circle\"},\"mode\":\"lines\",\"name\":\"Rwanda\",\"showlegend\":true,\"x\":[\"1990 [YR1990]\",\"2000 [YR2000]\",\"2014 [YR2014]\",\"2015 [YR2015]\",\"2016 [YR2016]\",\"2017 [YR2017]\",\"2018 [YR2018]\",\"2019 [YR2019]\",\"2020 [YR2020]\",\"2021 [YR2021]\",\"2022 [YR2022]\",\"2023 [YR2023]\"],\"xaxis\":\"x\",\"y\":[null,6.2,19.8,22.8,29.4,34.1,38.0,46.6,45.2,48.7,50.6,null],\"yaxis\":\"y\",\"type\":\"scattergl\"},{\"hovertemplate\":\"Country Name=Samoa\\u003cbr\\u003eYear=%{x}\\u003cbr\\u003eAccess to electricity (% pop)=%{y}\\u003cextra\\u003e\\u003c\\u002fextra\\u003e\",\"legendgroup\":\"Samoa\",\"line\":{\"color\":\"#ab63fa\",\"dash\":\"solid\"},\"marker\":{\"symbol\":\"circle\"},\"mode\":\"lines\",\"name\":\"Samoa\",\"showlegend\":true,\"x\":[\"1990 [YR1990]\",\"2000 [YR2000]\",\"2014 [YR2014]\",\"2015 [YR2015]\",\"2016 [YR2016]\",\"2017 [YR2017]\",\"2018 [YR2018]\",\"2019 [YR2019]\",\"2020 [YR2020]\",\"2021 [YR2021]\",\"2022 [YR2022]\",\"2023 [YR2023]\"],\"xaxis\":\"x\",\"y\":[null,88.0,97.9,98.2,98.9,96.8,99.8,99.2,100.0,98.3,98.3,null],\"yaxis\":\"y\",\"type\":\"scattergl\"},{\"hovertemplate\":\"Country Name=San Marino\\u003cbr\\u003eYear=%{x}\\u003cbr\\u003eAccess to electricity (% pop)=%{y}\\u003cextra\\u003e\\u003c\\u002fextra\\u003e\",\"legendgroup\":\"San Marino\",\"line\":{\"color\":\"#FFA15A\",\"dash\":\"solid\"},\"marker\":{\"symbol\":\"circle\"},\"mode\":\"lines\",\"name\":\"San Marino\",\"showlegend\":true,\"x\":[\"1990 [YR1990]\",\"2000 [YR2000]\",\"2014 [YR2014]\",\"2015 [YR2015]\",\"2016 [YR2016]\",\"2017 [YR2017]\",\"2018 [YR2018]\",\"2019 [YR2019]\",\"2020 [YR2020]\",\"2021 [YR2021]\",\"2022 [YR2022]\",\"2023 [YR2023]\"],\"xaxis\":\"x\",\"y\":[100.0,100.0,100.0,100.0,100.0,100.0,100.0,100.0,100.0,100.0,100.0,null],\"yaxis\":\"y\",\"type\":\"scattergl\"},{\"hovertemplate\":\"Country Name=Sao Tome and Principe\\u003cbr\\u003eYear=%{x}\\u003cbr\\u003eAccess to electricity (% pop)=%{y}\\u003cextra\\u003e\\u003c\\u002fextra\\u003e\",\"legendgroup\":\"Sao Tome and Principe\",\"line\":{\"color\":\"#19d3f3\",\"dash\":\"solid\"},\"marker\":{\"symbol\":\"circle\"},\"mode\":\"lines\",\"name\":\"Sao Tome and Principe\",\"showlegend\":true,\"x\":[\"1990 [YR1990]\",\"2000 [YR2000]\",\"2014 [YR2014]\",\"2015 [YR2015]\",\"2016 [YR2016]\",\"2017 [YR2017]\",\"2018 [YR2018]\",\"2019 [YR2019]\",\"2020 [YR2020]\",\"2021 [YR2021]\",\"2022 [YR2022]\",\"2023 [YR2023]\"],\"xaxis\":\"x\",\"y\":[null,52.9,68.6,67.3,69.4,74.3,71.0,75.1,76.8,78.5,78.0,null],\"yaxis\":\"y\",\"type\":\"scattergl\"},{\"hovertemplate\":\"Country Name=Saudi Arabia\\u003cbr\\u003eYear=%{x}\\u003cbr\\u003eAccess to electricity (% pop)=%{y}\\u003cextra\\u003e\\u003c\\u002fextra\\u003e\",\"legendgroup\":\"Saudi Arabia\",\"line\":{\"color\":\"#FF6692\",\"dash\":\"solid\"},\"marker\":{\"symbol\":\"circle\"},\"mode\":\"lines\",\"name\":\"Saudi Arabia\",\"showlegend\":true,\"x\":[\"1990 [YR1990]\",\"2000 [YR2000]\",\"2014 [YR2014]\",\"2015 [YR2015]\",\"2016 [YR2016]\",\"2017 [YR2017]\",\"2018 [YR2018]\",\"2019 [YR2019]\",\"2020 [YR2020]\",\"2021 [YR2021]\",\"2022 [YR2022]\",\"2023 [YR2023]\"],\"xaxis\":\"x\",\"y\":[100.0,100.0,100.0,100.0,99.9,100.0,99.9,100.0,100.0,100.0,100.0,null],\"yaxis\":\"y\",\"type\":\"scattergl\"},{\"hovertemplate\":\"Country Name=Senegal\\u003cbr\\u003eYear=%{x}\\u003cbr\\u003eAccess to electricity (% pop)=%{y}\\u003cextra\\u003e\\u003c\\u002fextra\\u003e\",\"legendgroup\":\"Senegal\",\"line\":{\"color\":\"#B6E880\",\"dash\":\"solid\"},\"marker\":{\"symbol\":\"circle\"},\"mode\":\"lines\",\"name\":\"Senegal\",\"showlegend\":true,\"x\":[\"1990 [YR1990]\",\"2000 [YR2000]\",\"2014 [YR2014]\",\"2015 [YR2015]\",\"2016 [YR2016]\",\"2017 [YR2017]\",\"2018 [YR2018]\",\"2019 [YR2019]\",\"2020 [YR2020]\",\"2021 [YR2021]\",\"2022 [YR2022]\",\"2023 [YR2023]\"],\"xaxis\":\"x\",\"y\":[null,37.7,61.0,60.5,64.5,61.7,66.0,70.4,64.3,68.0,67.9,null],\"yaxis\":\"y\",\"type\":\"scattergl\"},{\"hovertemplate\":\"Country Name=Serbia\\u003cbr\\u003eYear=%{x}\\u003cbr\\u003eAccess to electricity (% pop)=%{y}\\u003cextra\\u003e\\u003c\\u002fextra\\u003e\",\"legendgroup\":\"Serbia\",\"line\":{\"color\":\"#FF97FF\",\"dash\":\"solid\"},\"marker\":{\"symbol\":\"circle\"},\"mode\":\"lines\",\"name\":\"Serbia\",\"showlegend\":true,\"x\":[\"1990 [YR1990]\",\"2000 [YR2000]\",\"2014 [YR2014]\",\"2015 [YR2015]\",\"2016 [YR2016]\",\"2017 [YR2017]\",\"2018 [YR2018]\",\"2019 [YR2019]\",\"2020 [YR2020]\",\"2021 [YR2021]\",\"2022 [YR2022]\",\"2023 [YR2023]\"],\"xaxis\":\"x\",\"y\":[100.0,99.9,99.7,99.9,99.9,100.0,100.0,99.8,100.0,100.0,100.0,null],\"yaxis\":\"y\",\"type\":\"scattergl\"},{\"hovertemplate\":\"Country Name=Seychelles\\u003cbr\\u003eYear=%{x}\\u003cbr\\u003eAccess to electricity (% pop)=%{y}\\u003cextra\\u003e\\u003c\\u002fextra\\u003e\",\"legendgroup\":\"Seychelles\",\"line\":{\"color\":\"#FECB52\",\"dash\":\"solid\"},\"marker\":{\"symbol\":\"circle\"},\"mode\":\"lines\",\"name\":\"Seychelles\",\"showlegend\":true,\"x\":[\"1990 [YR1990]\",\"2000 [YR2000]\",\"2014 [YR2014]\",\"2015 [YR2015]\",\"2016 [YR2016]\",\"2017 [YR2017]\",\"2018 [YR2018]\",\"2019 [YR2019]\",\"2020 [YR2020]\",\"2021 [YR2021]\",\"2022 [YR2022]\",\"2023 [YR2023]\"],\"xaxis\":\"x\",\"y\":[null,94.1,100.0,100.0,100.0,100.0,100.0,100.0,100.0,100.0,100.0,null],\"yaxis\":\"y\",\"type\":\"scattergl\"},{\"hovertemplate\":\"Country Name=Sierra Leone\\u003cbr\\u003eYear=%{x}\\u003cbr\\u003eAccess to electricity (% pop)=%{y}\\u003cextra\\u003e\\u003c\\u002fextra\\u003e\",\"legendgroup\":\"Sierra Leone\",\"line\":{\"color\":\"#636efa\",\"dash\":\"solid\"},\"marker\":{\"symbol\":\"circle\"},\"mode\":\"lines\",\"name\":\"Sierra Leone\",\"showlegend\":true,\"x\":[\"1990 [YR1990]\",\"2000 [YR2000]\",\"2014 [YR2014]\",\"2015 [YR2015]\",\"2016 [YR2016]\",\"2017 [YR2017]\",\"2018 [YR2018]\",\"2019 [YR2019]\",\"2020 [YR2020]\",\"2021 [YR2021]\",\"2022 [YR2022]\",\"2023 [YR2023]\"],\"xaxis\":\"x\",\"y\":[null,7.7,18.8,19.7,20.3,23.4,26.1,22.7,26.3,27.5,29.4,null],\"yaxis\":\"y\",\"type\":\"scattergl\"},{\"hovertemplate\":\"Country Name=Singapore\\u003cbr\\u003eYear=%{x}\\u003cbr\\u003eAccess to electricity (% pop)=%{y}\\u003cextra\\u003e\\u003c\\u002fextra\\u003e\",\"legendgroup\":\"Singapore\",\"line\":{\"color\":\"#EF553B\",\"dash\":\"solid\"},\"marker\":{\"symbol\":\"circle\"},\"mode\":\"lines\",\"name\":\"Singapore\",\"showlegend\":true,\"x\":[\"1990 [YR1990]\",\"2000 [YR2000]\",\"2014 [YR2014]\",\"2015 [YR2015]\",\"2016 [YR2016]\",\"2017 [YR2017]\",\"2018 [YR2018]\",\"2019 [YR2019]\",\"2020 [YR2020]\",\"2021 [YR2021]\",\"2022 [YR2022]\",\"2023 [YR2023]\"],\"xaxis\":\"x\",\"y\":[100.0,100.0,100.0,100.0,100.0,100.0,100.0,100.0,100.0,100.0,100.0,null],\"yaxis\":\"y\",\"type\":\"scattergl\"},{\"hovertemplate\":\"Country Name=Sint Maarten (Dutch part)\\u003cbr\\u003eYear=%{x}\\u003cbr\\u003eAccess to electricity (% pop)=%{y}\\u003cextra\\u003e\\u003c\\u002fextra\\u003e\",\"legendgroup\":\"Sint Maarten (Dutch part)\",\"line\":{\"color\":\"#00cc96\",\"dash\":\"solid\"},\"marker\":{\"symbol\":\"circle\"},\"mode\":\"lines\",\"name\":\"Sint Maarten (Dutch part)\",\"showlegend\":true,\"x\":[\"1990 [YR1990]\",\"2000 [YR2000]\",\"2014 [YR2014]\",\"2015 [YR2015]\",\"2016 [YR2016]\",\"2017 [YR2017]\",\"2018 [YR2018]\",\"2019 [YR2019]\",\"2020 [YR2020]\",\"2021 [YR2021]\",\"2022 [YR2022]\",\"2023 [YR2023]\"],\"xaxis\":\"x\",\"y\":[100.0,100.0,100.0,100.0,100.0,100.0,100.0,100.0,100.0,100.0,100.0,null],\"yaxis\":\"y\",\"type\":\"scattergl\"},{\"hovertemplate\":\"Country Name=Slovak Republic\\u003cbr\\u003eYear=%{x}\\u003cbr\\u003eAccess to electricity (% pop)=%{y}\\u003cextra\\u003e\\u003c\\u002fextra\\u003e\",\"legendgroup\":\"Slovak Republic\",\"line\":{\"color\":\"#ab63fa\",\"dash\":\"solid\"},\"marker\":{\"symbol\":\"circle\"},\"mode\":\"lines\",\"name\":\"Slovak Republic\",\"showlegend\":true,\"x\":[\"1990 [YR1990]\",\"2000 [YR2000]\",\"2014 [YR2014]\",\"2015 [YR2015]\",\"2016 [YR2016]\",\"2017 [YR2017]\",\"2018 [YR2018]\",\"2019 [YR2019]\",\"2020 [YR2020]\",\"2021 [YR2021]\",\"2022 [YR2022]\",\"2023 [YR2023]\"],\"xaxis\":\"x\",\"y\":[100.0,100.0,100.0,100.0,100.0,100.0,100.0,100.0,100.0,100.0,100.0,null],\"yaxis\":\"y\",\"type\":\"scattergl\"},{\"hovertemplate\":\"Country Name=Slovenia\\u003cbr\\u003eYear=%{x}\\u003cbr\\u003eAccess to electricity (% pop)=%{y}\\u003cextra\\u003e\\u003c\\u002fextra\\u003e\",\"legendgroup\":\"Slovenia\",\"line\":{\"color\":\"#FFA15A\",\"dash\":\"solid\"},\"marker\":{\"symbol\":\"circle\"},\"mode\":\"lines\",\"name\":\"Slovenia\",\"showlegend\":true,\"x\":[\"1990 [YR1990]\",\"2000 [YR2000]\",\"2014 [YR2014]\",\"2015 [YR2015]\",\"2016 [YR2016]\",\"2017 [YR2017]\",\"2018 [YR2018]\",\"2019 [YR2019]\",\"2020 [YR2020]\",\"2021 [YR2021]\",\"2022 [YR2022]\",\"2023 [YR2023]\"],\"xaxis\":\"x\",\"y\":[100.0,100.0,100.0,100.0,100.0,100.0,100.0,100.0,100.0,100.0,100.0,null],\"yaxis\":\"y\",\"type\":\"scattergl\"},{\"hovertemplate\":\"Country Name=Solomon Islands\\u003cbr\\u003eYear=%{x}\\u003cbr\\u003eAccess to electricity (% pop)=%{y}\\u003cextra\\u003e\\u003c\\u002fextra\\u003e\",\"legendgroup\":\"Solomon Islands\",\"line\":{\"color\":\"#19d3f3\",\"dash\":\"solid\"},\"marker\":{\"symbol\":\"circle\"},\"mode\":\"lines\",\"name\":\"Solomon Islands\",\"showlegend\":true,\"x\":[\"1990 [YR1990]\",\"2000 [YR2000]\",\"2014 [YR2014]\",\"2015 [YR2015]\",\"2016 [YR2016]\",\"2017 [YR2017]\",\"2018 [YR2018]\",\"2019 [YR2019]\",\"2020 [YR2020]\",\"2021 [YR2021]\",\"2022 [YR2022]\",\"2023 [YR2023]\"],\"xaxis\":\"x\",\"y\":[null,4.7,50.5,55.1,58.2,62.9,65.8,69.4,72.9,76.3,76.0,null],\"yaxis\":\"y\",\"type\":\"scattergl\"},{\"hovertemplate\":\"Country Name=Somalia\\u003cbr\\u003eYear=%{x}\\u003cbr\\u003eAccess to electricity (% pop)=%{y}\\u003cextra\\u003e\\u003c\\u002fextra\\u003e\",\"legendgroup\":\"Somalia\",\"line\":{\"color\":\"#FF6692\",\"dash\":\"solid\"},\"marker\":{\"symbol\":\"circle\"},\"mode\":\"lines\",\"name\":\"Somalia\",\"showlegend\":true,\"x\":[\"1990 [YR1990]\",\"2000 [YR2000]\",\"2014 [YR2014]\",\"2015 [YR2015]\",\"2016 [YR2016]\",\"2017 [YR2017]\",\"2018 [YR2018]\",\"2019 [YR2019]\",\"2020 [YR2020]\",\"2021 [YR2021]\",\"2022 [YR2022]\",\"2023 [YR2023]\"],\"xaxis\":\"x\",\"y\":[null,2.1,51.4,51.2,51.1,52.1,50.7,49.2,49.9,49.3,48.9,null],\"yaxis\":\"y\",\"type\":\"scattergl\"},{\"hovertemplate\":\"Country Name=South Africa\\u003cbr\\u003eYear=%{x}\\u003cbr\\u003eAccess to electricity (% pop)=%{y}\\u003cextra\\u003e\\u003c\\u002fextra\\u003e\",\"legendgroup\":\"South Africa\",\"line\":{\"color\":\"#B6E880\",\"dash\":\"solid\"},\"marker\":{\"symbol\":\"circle\"},\"mode\":\"lines\",\"name\":\"South Africa\",\"showlegend\":true,\"x\":[\"1990 [YR1990]\",\"2000 [YR2000]\",\"2014 [YR2014]\",\"2015 [YR2015]\",\"2016 [YR2016]\",\"2017 [YR2017]\",\"2018 [YR2018]\",\"2019 [YR2019]\",\"2020 [YR2020]\",\"2021 [YR2021]\",\"2022 [YR2022]\",\"2023 [YR2023]\"],\"xaxis\":\"x\",\"y\":[null,72.4,85.9,85.3,83.9,84.4,84.7,85.0,90.0,89.3,86.5,null],\"yaxis\":\"y\",\"type\":\"scattergl\"},{\"hovertemplate\":\"Country Name=South Sudan\\u003cbr\\u003eYear=%{x}\\u003cbr\\u003eAccess to electricity (% pop)=%{y}\\u003cextra\\u003e\\u003c\\u002fextra\\u003e\",\"legendgroup\":\"South Sudan\",\"line\":{\"color\":\"#FF97FF\",\"dash\":\"solid\"},\"marker\":{\"symbol\":\"circle\"},\"mode\":\"lines\",\"name\":\"South Sudan\",\"showlegend\":true,\"x\":[\"1990 [YR1990]\",\"2000 [YR2000]\",\"2014 [YR2014]\",\"2015 [YR2015]\",\"2016 [YR2016]\",\"2017 [YR2017]\",\"2018 [YR2018]\",\"2019 [YR2019]\",\"2020 [YR2020]\",\"2021 [YR2021]\",\"2022 [YR2022]\",\"2023 [YR2023]\"],\"xaxis\":\"x\",\"y\":[null,null,4.3,4.8,5.3,4.2,6.3,6.8,7.3,7.7,8.4,null],\"yaxis\":\"y\",\"type\":\"scattergl\"},{\"hovertemplate\":\"Country Name=Spain\\u003cbr\\u003eYear=%{x}\\u003cbr\\u003eAccess to electricity (% pop)=%{y}\\u003cextra\\u003e\\u003c\\u002fextra\\u003e\",\"legendgroup\":\"Spain\",\"line\":{\"color\":\"#FECB52\",\"dash\":\"solid\"},\"marker\":{\"symbol\":\"circle\"},\"mode\":\"lines\",\"name\":\"Spain\",\"showlegend\":true,\"x\":[\"1990 [YR1990]\",\"2000 [YR2000]\",\"2014 [YR2014]\",\"2015 [YR2015]\",\"2016 [YR2016]\",\"2017 [YR2017]\",\"2018 [YR2018]\",\"2019 [YR2019]\",\"2020 [YR2020]\",\"2021 [YR2021]\",\"2022 [YR2022]\",\"2023 [YR2023]\"],\"xaxis\":\"x\",\"y\":[100.0,100.0,100.0,100.0,100.0,100.0,100.0,100.0,100.0,100.0,100.0,null],\"yaxis\":\"y\",\"type\":\"scattergl\"},{\"hovertemplate\":\"Country Name=Sri Lanka\\u003cbr\\u003eYear=%{x}\\u003cbr\\u003eAccess to electricity (% pop)=%{y}\\u003cextra\\u003e\\u003c\\u002fextra\\u003e\",\"legendgroup\":\"Sri Lanka\",\"line\":{\"color\":\"#636efa\",\"dash\":\"solid\"},\"marker\":{\"symbol\":\"circle\"},\"mode\":\"lines\",\"name\":\"Sri Lanka\",\"showlegend\":true,\"x\":[\"1990 [YR1990]\",\"2000 [YR2000]\",\"2014 [YR2014]\",\"2015 [YR2015]\",\"2016 [YR2016]\",\"2017 [YR2017]\",\"2018 [YR2018]\",\"2019 [YR2019]\",\"2020 [YR2020]\",\"2021 [YR2021]\",\"2022 [YR2022]\",\"2023 [YR2023]\"],\"xaxis\":\"x\",\"y\":[null,70.3,92.7,94.3,97.5,97.5,99.6,99.8,100.0,100.0,100.0,null],\"yaxis\":\"y\",\"type\":\"scattergl\"},{\"hovertemplate\":\"Country Name=St. Kitts and Nevis\\u003cbr\\u003eYear=%{x}\\u003cbr\\u003eAccess to electricity (% pop)=%{y}\\u003cextra\\u003e\\u003c\\u002fextra\\u003e\",\"legendgroup\":\"St. Kitts and Nevis\",\"line\":{\"color\":\"#EF553B\",\"dash\":\"solid\"},\"marker\":{\"symbol\":\"circle\"},\"mode\":\"lines\",\"name\":\"St. Kitts and Nevis\",\"showlegend\":true,\"x\":[\"1990 [YR1990]\",\"2000 [YR2000]\",\"2014 [YR2014]\",\"2015 [YR2015]\",\"2016 [YR2016]\",\"2017 [YR2017]\",\"2018 [YR2018]\",\"2019 [YR2019]\",\"2020 [YR2020]\",\"2021 [YR2021]\",\"2022 [YR2022]\",\"2023 [YR2023]\"],\"xaxis\":\"x\",\"y\":[91.3068161010742,95.4,100.0,100.0,100.0,100.0,100.0,100.0,100.0,100.0,100.0,null],\"yaxis\":\"y\",\"type\":\"scattergl\"},{\"hovertemplate\":\"Country Name=St. Lucia\\u003cbr\\u003eYear=%{x}\\u003cbr\\u003eAccess to electricity (% pop)=%{y}\\u003cextra\\u003e\\u003c\\u002fextra\\u003e\",\"legendgroup\":\"St. Lucia\",\"line\":{\"color\":\"#00cc96\",\"dash\":\"solid\"},\"marker\":{\"symbol\":\"circle\"},\"mode\":\"lines\",\"name\":\"St. Lucia\",\"showlegend\":true,\"x\":[\"1990 [YR1990]\",\"2000 [YR2000]\",\"2014 [YR2014]\",\"2015 [YR2015]\",\"2016 [YR2016]\",\"2017 [YR2017]\",\"2018 [YR2018]\",\"2019 [YR2019]\",\"2020 [YR2020]\",\"2021 [YR2021]\",\"2022 [YR2022]\",\"2023 [YR2023]\"],\"xaxis\":\"x\",\"y\":[null,86.0,98.1,99.0,99.8,99.9,100.0,100.0,100.0,100.0,100.0,null],\"yaxis\":\"y\",\"type\":\"scattergl\"},{\"hovertemplate\":\"Country Name=St. Martin (French part)\\u003cbr\\u003eYear=%{x}\\u003cbr\\u003eAccess to electricity (% pop)=%{y}\\u003cextra\\u003e\\u003c\\u002fextra\\u003e\",\"legendgroup\":\"St. Martin (French part)\",\"line\":{\"color\":\"#ab63fa\",\"dash\":\"solid\"},\"marker\":{\"symbol\":\"circle\"},\"mode\":\"lines\",\"name\":\"St. Martin (French part)\",\"showlegend\":true,\"x\":[\"1990 [YR1990]\",\"2000 [YR2000]\",\"2014 [YR2014]\",\"2015 [YR2015]\",\"2016 [YR2016]\",\"2017 [YR2017]\",\"2018 [YR2018]\",\"2019 [YR2019]\",\"2020 [YR2020]\",\"2021 [YR2021]\",\"2022 [YR2022]\",\"2023 [YR2023]\"],\"xaxis\":\"x\",\"y\":[100.0,100.0,100.0,100.0,100.0,100.0,100.0,100.0,100.0,100.0,100.0,null],\"yaxis\":\"y\",\"type\":\"scattergl\"},{\"hovertemplate\":\"Country Name=St. Vincent and the Grenadines\\u003cbr\\u003eYear=%{x}\\u003cbr\\u003eAccess to electricity (% pop)=%{y}\\u003cextra\\u003e\\u003c\\u002fextra\\u003e\",\"legendgroup\":\"St. Vincent and the Grenadines\",\"line\":{\"color\":\"#FFA15A\",\"dash\":\"solid\"},\"marker\":{\"symbol\":\"circle\"},\"mode\":\"lines\",\"name\":\"St. Vincent and the Grenadines\",\"showlegend\":true,\"x\":[\"1990 [YR1990]\",\"2000 [YR2000]\",\"2014 [YR2014]\",\"2015 [YR2015]\",\"2016 [YR2016]\",\"2017 [YR2017]\",\"2018 [YR2018]\",\"2019 [YR2019]\",\"2020 [YR2020]\",\"2021 [YR2021]\",\"2022 [YR2022]\",\"2023 [YR2023]\"],\"xaxis\":\"x\",\"y\":[null,80.0,98.1,99.4,99.7,100.0,100.0,100.0,100.0,100.0,100.0,null],\"yaxis\":\"y\",\"type\":\"scattergl\"},{\"hovertemplate\":\"Country Name=Sudan\\u003cbr\\u003eYear=%{x}\\u003cbr\\u003eAccess to electricity (% pop)=%{y}\\u003cextra\\u003e\\u003c\\u002fextra\\u003e\",\"legendgroup\":\"Sudan\",\"line\":{\"color\":\"#19d3f3\",\"dash\":\"solid\"},\"marker\":{\"symbol\":\"circle\"},\"mode\":\"lines\",\"name\":\"Sudan\",\"showlegend\":true,\"x\":[\"1990 [YR1990]\",\"2000 [YR2000]\",\"2014 [YR2014]\",\"2015 [YR2015]\",\"2016 [YR2016]\",\"2017 [YR2017]\",\"2018 [YR2018]\",\"2019 [YR2019]\",\"2020 [YR2020]\",\"2021 [YR2021]\",\"2022 [YR2022]\",\"2023 [YR2023]\"],\"xaxis\":\"x\",\"y\":[32.8,23.0,44.9,48.0,50.5,53.0,55.3,57.6,59.7,61.8,63.2,null],\"yaxis\":\"y\",\"type\":\"scattergl\"},{\"hovertemplate\":\"Country Name=Suriname\\u003cbr\\u003eYear=%{x}\\u003cbr\\u003eAccess to electricity (% pop)=%{y}\\u003cextra\\u003e\\u003c\\u002fextra\\u003e\",\"legendgroup\":\"Suriname\",\"line\":{\"color\":\"#FF6692\",\"dash\":\"solid\"},\"marker\":{\"symbol\":\"circle\"},\"mode\":\"lines\",\"name\":\"Suriname\",\"showlegend\":true,\"x\":[\"1990 [YR1990]\",\"2000 [YR2000]\",\"2014 [YR2014]\",\"2015 [YR2015]\",\"2016 [YR2016]\",\"2017 [YR2017]\",\"2018 [YR2018]\",\"2019 [YR2019]\",\"2020 [YR2020]\",\"2021 [YR2021]\",\"2022 [YR2022]\",\"2023 [YR2023]\"],\"xaxis\":\"x\",\"y\":[null,95.4,94.6,95.0,95.8,96.6,97.4,97.9,98.4,98.8,99.0,null],\"yaxis\":\"y\",\"type\":\"scattergl\"},{\"hovertemplate\":\"Country Name=Sweden\\u003cbr\\u003eYear=%{x}\\u003cbr\\u003eAccess to electricity (% pop)=%{y}\\u003cextra\\u003e\\u003c\\u002fextra\\u003e\",\"legendgroup\":\"Sweden\",\"line\":{\"color\":\"#B6E880\",\"dash\":\"solid\"},\"marker\":{\"symbol\":\"circle\"},\"mode\":\"lines\",\"name\":\"Sweden\",\"showlegend\":true,\"x\":[\"1990 [YR1990]\",\"2000 [YR2000]\",\"2014 [YR2014]\",\"2015 [YR2015]\",\"2016 [YR2016]\",\"2017 [YR2017]\",\"2018 [YR2018]\",\"2019 [YR2019]\",\"2020 [YR2020]\",\"2021 [YR2021]\",\"2022 [YR2022]\",\"2023 [YR2023]\"],\"xaxis\":\"x\",\"y\":[100.0,100.0,100.0,100.0,100.0,100.0,100.0,100.0,100.0,100.0,100.0,null],\"yaxis\":\"y\",\"type\":\"scattergl\"},{\"hovertemplate\":\"Country Name=Switzerland\\u003cbr\\u003eYear=%{x}\\u003cbr\\u003eAccess to electricity (% pop)=%{y}\\u003cextra\\u003e\\u003c\\u002fextra\\u003e\",\"legendgroup\":\"Switzerland\",\"line\":{\"color\":\"#FF97FF\",\"dash\":\"solid\"},\"marker\":{\"symbol\":\"circle\"},\"mode\":\"lines\",\"name\":\"Switzerland\",\"showlegend\":true,\"x\":[\"1990 [YR1990]\",\"2000 [YR2000]\",\"2014 [YR2014]\",\"2015 [YR2015]\",\"2016 [YR2016]\",\"2017 [YR2017]\",\"2018 [YR2018]\",\"2019 [YR2019]\",\"2020 [YR2020]\",\"2021 [YR2021]\",\"2022 [YR2022]\",\"2023 [YR2023]\"],\"xaxis\":\"x\",\"y\":[100.0,100.0,100.0,100.0,100.0,100.0,100.0,100.0,100.0,100.0,100.0,null],\"yaxis\":\"y\",\"type\":\"scattergl\"},{\"hovertemplate\":\"Country Name=Syrian Arab Republic\\u003cbr\\u003eYear=%{x}\\u003cbr\\u003eAccess to electricity (% pop)=%{y}\\u003cextra\\u003e\\u003c\\u002fextra\\u003e\",\"legendgroup\":\"Syrian Arab Republic\",\"line\":{\"color\":\"#FECB52\",\"dash\":\"solid\"},\"marker\":{\"symbol\":\"circle\"},\"mode\":\"lines\",\"name\":\"Syrian Arab Republic\",\"showlegend\":true,\"x\":[\"1990 [YR1990]\",\"2000 [YR2000]\",\"2014 [YR2014]\",\"2015 [YR2015]\",\"2016 [YR2016]\",\"2017 [YR2017]\",\"2018 [YR2018]\",\"2019 [YR2019]\",\"2020 [YR2020]\",\"2021 [YR2021]\",\"2022 [YR2022]\",\"2023 [YR2023]\"],\"xaxis\":\"x\",\"y\":[null,93.4,90.2,90.0,89.8,89.6,86.0,89.2,89.0,88.8,89.0,null],\"yaxis\":\"y\",\"type\":\"scattergl\"},{\"hovertemplate\":\"Country Name=Tajikistan\\u003cbr\\u003eYear=%{x}\\u003cbr\\u003eAccess to electricity (% pop)=%{y}\\u003cextra\\u003e\\u003c\\u002fextra\\u003e\",\"legendgroup\":\"Tajikistan\",\"line\":{\"color\":\"#636efa\",\"dash\":\"solid\"},\"marker\":{\"symbol\":\"circle\"},\"mode\":\"lines\",\"name\":\"Tajikistan\",\"showlegend\":true,\"x\":[\"1990 [YR1990]\",\"2000 [YR2000]\",\"2014 [YR2014]\",\"2015 [YR2015]\",\"2016 [YR2016]\",\"2017 [YR2017]\",\"2018 [YR2018]\",\"2019 [YR2019]\",\"2020 [YR2020]\",\"2021 [YR2021]\",\"2022 [YR2022]\",\"2023 [YR2023]\"],\"xaxis\":\"x\",\"y\":[null,98.5,99.1,98.0,99.3,99.3,99.3,99.4,99.5,99.6,100.0,null],\"yaxis\":\"y\",\"type\":\"scattergl\"},{\"hovertemplate\":\"Country Name=Tanzania\\u003cbr\\u003eYear=%{x}\\u003cbr\\u003eAccess to electricity (% pop)=%{y}\\u003cextra\\u003e\\u003c\\u002fextra\\u003e\",\"legendgroup\":\"Tanzania\",\"line\":{\"color\":\"#EF553B\",\"dash\":\"solid\"},\"marker\":{\"symbol\":\"circle\"},\"mode\":\"lines\",\"name\":\"Tanzania\",\"showlegend\":true,\"x\":[\"1990 [YR1990]\",\"2000 [YR2000]\",\"2014 [YR2014]\",\"2015 [YR2015]\",\"2016 [YR2016]\",\"2017 [YR2017]\",\"2018 [YR2018]\",\"2019 [YR2019]\",\"2020 [YR2020]\",\"2021 [YR2021]\",\"2022 [YR2022]\",\"2023 [YR2023]\"],\"xaxis\":\"x\",\"y\":[null,8.7,23.5,26.2,32.8,32.1,34.9,37.7,39.9,42.7,45.8,null],\"yaxis\":\"y\",\"type\":\"scattergl\"},{\"hovertemplate\":\"Country Name=Thailand\\u003cbr\\u003eYear=%{x}\\u003cbr\\u003eAccess to electricity (% pop)=%{y}\\u003cextra\\u003e\\u003c\\u002fextra\\u003e\",\"legendgroup\":\"Thailand\",\"line\":{\"color\":\"#00cc96\",\"dash\":\"solid\"},\"marker\":{\"symbol\":\"circle\"},\"mode\":\"lines\",\"name\":\"Thailand\",\"showlegend\":true,\"x\":[\"1990 [YR1990]\",\"2000 [YR2000]\",\"2014 [YR2014]\",\"2015 [YR2015]\",\"2016 [YR2016]\",\"2017 [YR2017]\",\"2018 [YR2018]\",\"2019 [YR2019]\",\"2020 [YR2020]\",\"2021 [YR2021]\",\"2022 [YR2022]\",\"2023 [YR2023]\"],\"xaxis\":\"x\",\"y\":[null,82.1,99.5,99.6,99.9,99.9,99.8,99.9,100.0,100.0,99.9,null],\"yaxis\":\"y\",\"type\":\"scattergl\"},{\"hovertemplate\":\"Country Name=Timor-Leste\\u003cbr\\u003eYear=%{x}\\u003cbr\\u003eAccess to electricity (% pop)=%{y}\\u003cextra\\u003e\\u003c\\u002fextra\\u003e\",\"legendgroup\":\"Timor-Leste\",\"line\":{\"color\":\"#ab63fa\",\"dash\":\"solid\"},\"marker\":{\"symbol\":\"circle\"},\"mode\":\"lines\",\"name\":\"Timor-Leste\",\"showlegend\":true,\"x\":[\"1990 [YR1990]\",\"2000 [YR2000]\",\"2014 [YR2014]\",\"2015 [YR2015]\",\"2016 [YR2016]\",\"2017 [YR2017]\",\"2018 [YR2018]\",\"2019 [YR2019]\",\"2020 [YR2020]\",\"2021 [YR2021]\",\"2022 [YR2022]\",\"2023 [YR2023]\"],\"xaxis\":\"x\",\"y\":[null,17.8,62.4,67.3,76.5,79.5,85.2,90.6,96.0,100.0,99.7,null],\"yaxis\":\"y\",\"type\":\"scattergl\"},{\"hovertemplate\":\"Country Name=Togo\\u003cbr\\u003eYear=%{x}\\u003cbr\\u003eAccess to electricity (% pop)=%{y}\\u003cextra\\u003e\\u003c\\u002fextra\\u003e\",\"legendgroup\":\"Togo\",\"line\":{\"color\":\"#FFA15A\",\"dash\":\"solid\"},\"marker\":{\"symbol\":\"circle\"},\"mode\":\"lines\",\"name\":\"Togo\",\"showlegend\":true,\"x\":[\"1990 [YR1990]\",\"2000 [YR2000]\",\"2014 [YR2014]\",\"2015 [YR2015]\",\"2016 [YR2016]\",\"2017 [YR2017]\",\"2018 [YR2018]\",\"2019 [YR2019]\",\"2020 [YR2020]\",\"2021 [YR2021]\",\"2022 [YR2022]\",\"2023 [YR2023]\"],\"xaxis\":\"x\",\"y\":[null,17.0,45.7,44.7,46.8,48.0,50.0,52.5,54.1,55.7,57.2,null],\"yaxis\":\"y\",\"type\":\"scattergl\"},{\"hovertemplate\":\"Country Name=Tonga\\u003cbr\\u003eYear=%{x}\\u003cbr\\u003eAccess to electricity (% pop)=%{y}\\u003cextra\\u003e\\u003c\\u002fextra\\u003e\",\"legendgroup\":\"Tonga\",\"line\":{\"color\":\"#19d3f3\",\"dash\":\"solid\"},\"marker\":{\"symbol\":\"circle\"},\"mode\":\"lines\",\"name\":\"Tonga\",\"showlegend\":true,\"x\":[\"1990 [YR1990]\",\"2000 [YR2000]\",\"2014 [YR2014]\",\"2015 [YR2015]\",\"2016 [YR2016]\",\"2017 [YR2017]\",\"2018 [YR2018]\",\"2019 [YR2019]\",\"2020 [YR2020]\",\"2021 [YR2021]\",\"2022 [YR2022]\",\"2023 [YR2023]\"],\"xaxis\":\"x\",\"y\":[null,85.6,95.9,100.0,97.0,98.2,99.0,98.4,99.9,100.0,100.0,null],\"yaxis\":\"y\",\"type\":\"scattergl\"},{\"hovertemplate\":\"Country Name=Trinidad and Tobago\\u003cbr\\u003eYear=%{x}\\u003cbr\\u003eAccess to electricity (% pop)=%{y}\\u003cextra\\u003e\\u003c\\u002fextra\\u003e\",\"legendgroup\":\"Trinidad and Tobago\",\"line\":{\"color\":\"#FF6692\",\"dash\":\"solid\"},\"marker\":{\"symbol\":\"circle\"},\"mode\":\"lines\",\"name\":\"Trinidad and Tobago\",\"showlegend\":true,\"x\":[\"1990 [YR1990]\",\"2000 [YR2000]\",\"2014 [YR2014]\",\"2015 [YR2015]\",\"2016 [YR2016]\",\"2017 [YR2017]\",\"2018 [YR2018]\",\"2019 [YR2019]\",\"2020 [YR2020]\",\"2021 [YR2021]\",\"2022 [YR2022]\",\"2023 [YR2023]\"],\"xaxis\":\"x\",\"y\":[null,91.3,100.0,100.0,100.0,100.0,100.0,100.0,100.0,100.0,100.0,null],\"yaxis\":\"y\",\"type\":\"scattergl\"},{\"hovertemplate\":\"Country Name=Tunisia\\u003cbr\\u003eYear=%{x}\\u003cbr\\u003eAccess to electricity (% pop)=%{y}\\u003cextra\\u003e\\u003c\\u002fextra\\u003e\",\"legendgroup\":\"Tunisia\",\"line\":{\"color\":\"#B6E880\",\"dash\":\"solid\"},\"marker\":{\"symbol\":\"circle\"},\"mode\":\"lines\",\"name\":\"Tunisia\",\"showlegend\":true,\"x\":[\"1990 [YR1990]\",\"2000 [YR2000]\",\"2014 [YR2014]\",\"2015 [YR2015]\",\"2016 [YR2016]\",\"2017 [YR2017]\",\"2018 [YR2018]\",\"2019 [YR2019]\",\"2020 [YR2020]\",\"2021 [YR2021]\",\"2022 [YR2022]\",\"2023 [YR2023]\"],\"xaxis\":\"x\",\"y\":[null,94.8,99.8,99.9,100.0,100.0,99.8,100.0,99.9,99.9,100.0,null],\"yaxis\":\"y\",\"type\":\"scattergl\"},{\"hovertemplate\":\"Country Name=Turkiye\\u003cbr\\u003eYear=%{x}\\u003cbr\\u003eAccess to electricity (% pop)=%{y}\\u003cextra\\u003e\\u003c\\u002fextra\\u003e\",\"legendgroup\":\"Turkiye\",\"line\":{\"color\":\"#FF97FF\",\"dash\":\"solid\"},\"marker\":{\"symbol\":\"circle\"},\"mode\":\"lines\",\"name\":\"Turkiye\",\"showlegend\":true,\"x\":[\"1990 [YR1990]\",\"2000 [YR2000]\",\"2014 [YR2014]\",\"2015 [YR2015]\",\"2016 [YR2016]\",\"2017 [YR2017]\",\"2018 [YR2018]\",\"2019 [YR2019]\",\"2020 [YR2020]\",\"2021 [YR2021]\",\"2022 [YR2022]\",\"2023 [YR2023]\"],\"xaxis\":\"x\",\"y\":[null,99.9,100.0,100.0,100.0,100.0,100.0,100.0,100.0,100.0,100.0,null],\"yaxis\":\"y\",\"type\":\"scattergl\"},{\"hovertemplate\":\"Country Name=Turkmenistan\\u003cbr\\u003eYear=%{x}\\u003cbr\\u003eAccess to electricity (% pop)=%{y}\\u003cextra\\u003e\\u003c\\u002fextra\\u003e\",\"legendgroup\":\"Turkmenistan\",\"line\":{\"color\":\"#FECB52\",\"dash\":\"solid\"},\"marker\":{\"symbol\":\"circle\"},\"mode\":\"lines\",\"name\":\"Turkmenistan\",\"showlegend\":true,\"x\":[\"1990 [YR1990]\",\"2000 [YR2000]\",\"2014 [YR2014]\",\"2015 [YR2015]\",\"2016 [YR2016]\",\"2017 [YR2017]\",\"2018 [YR2018]\",\"2019 [YR2019]\",\"2020 [YR2020]\",\"2021 [YR2021]\",\"2022 [YR2022]\",\"2023 [YR2023]\"],\"xaxis\":\"x\",\"y\":[null,99.6,100.0,100.0,100.0,100.0,100.0,99.9,100.0,100.0,100.0,null],\"yaxis\":\"y\",\"type\":\"scattergl\"},{\"hovertemplate\":\"Country Name=Turks and Caicos Islands\\u003cbr\\u003eYear=%{x}\\u003cbr\\u003eAccess to electricity (% pop)=%{y}\\u003cextra\\u003e\\u003c\\u002fextra\\u003e\",\"legendgroup\":\"Turks and Caicos Islands\",\"line\":{\"color\":\"#636efa\",\"dash\":\"solid\"},\"marker\":{\"symbol\":\"circle\"},\"mode\":\"lines\",\"name\":\"Turks and Caicos Islands\",\"showlegend\":true,\"x\":[\"1990 [YR1990]\",\"2000 [YR2000]\",\"2014 [YR2014]\",\"2015 [YR2015]\",\"2016 [YR2016]\",\"2017 [YR2017]\",\"2018 [YR2018]\",\"2019 [YR2019]\",\"2020 [YR2020]\",\"2021 [YR2021]\",\"2022 [YR2022]\",\"2023 [YR2023]\"],\"xaxis\":\"x\",\"y\":[88.7,95.6,100.0,100.0,100.0,100.0,100.0,100.0,99.4,100.0,99.9,null],\"yaxis\":\"y\",\"type\":\"scattergl\"},{\"hovertemplate\":\"Country Name=Tuvalu\\u003cbr\\u003eYear=%{x}\\u003cbr\\u003eAccess to electricity (% pop)=%{y}\\u003cextra\\u003e\\u003c\\u002fextra\\u003e\",\"legendgroup\":\"Tuvalu\",\"line\":{\"color\":\"#EF553B\",\"dash\":\"solid\"},\"marker\":{\"symbol\":\"circle\"},\"mode\":\"lines\",\"name\":\"Tuvalu\",\"showlegend\":true,\"x\":[\"1990 [YR1990]\",\"2000 [YR2000]\",\"2014 [YR2014]\",\"2015 [YR2015]\",\"2016 [YR2016]\",\"2017 [YR2017]\",\"2018 [YR2018]\",\"2019 [YR2019]\",\"2020 [YR2020]\",\"2021 [YR2021]\",\"2022 [YR2022]\",\"2023 [YR2023]\"],\"xaxis\":\"x\",\"y\":[null,94.6,97.9,98.1,97.3,98.7,99.0,99.7,99.4,99.7,100.0,null],\"yaxis\":\"y\",\"type\":\"scattergl\"},{\"hovertemplate\":\"Country Name=Uganda\\u003cbr\\u003eYear=%{x}\\u003cbr\\u003eAccess to electricity (% pop)=%{y}\\u003cextra\\u003e\\u003c\\u002fextra\\u003e\",\"legendgroup\":\"Uganda\",\"line\":{\"color\":\"#00cc96\",\"dash\":\"solid\"},\"marker\":{\"symbol\":\"circle\"},\"mode\":\"lines\",\"name\":\"Uganda\",\"showlegend\":true,\"x\":[\"1990 [YR1990]\",\"2000 [YR2000]\",\"2014 [YR2014]\",\"2015 [YR2015]\",\"2016 [YR2016]\",\"2017 [YR2017]\",\"2018 [YR2018]\",\"2019 [YR2019]\",\"2020 [YR2020]\",\"2021 [YR2021]\",\"2022 [YR2022]\",\"2023 [YR2023]\"],\"xaxis\":\"x\",\"y\":[null,7.4,20.4,18.5,26.7,32.4,41.9,41.3,42.1,45.2,47.1,null],\"yaxis\":\"y\",\"type\":\"scattergl\"},{\"hovertemplate\":\"Country Name=Ukraine\\u003cbr\\u003eYear=%{x}\\u003cbr\\u003eAccess to electricity (% pop)=%{y}\\u003cextra\\u003e\\u003c\\u002fextra\\u003e\",\"legendgroup\":\"Ukraine\",\"line\":{\"color\":\"#ab63fa\",\"dash\":\"solid\"},\"marker\":{\"symbol\":\"circle\"},\"mode\":\"lines\",\"name\":\"Ukraine\",\"showlegend\":true,\"x\":[\"1990 [YR1990]\",\"2000 [YR2000]\",\"2014 [YR2014]\",\"2015 [YR2015]\",\"2016 [YR2016]\",\"2017 [YR2017]\",\"2018 [YR2018]\",\"2019 [YR2019]\",\"2020 [YR2020]\",\"2021 [YR2021]\",\"2022 [YR2022]\",\"2023 [YR2023]\"],\"xaxis\":\"x\",\"y\":[100.0,99.1,100.0,100.0,100.0,100.0,100.0,100.0,100.0,100.0,100.0,null],\"yaxis\":\"y\",\"type\":\"scattergl\"},{\"hovertemplate\":\"Country Name=United Arab Emirates\\u003cbr\\u003eYear=%{x}\\u003cbr\\u003eAccess to electricity (% pop)=%{y}\\u003cextra\\u003e\\u003c\\u002fextra\\u003e\",\"legendgroup\":\"United Arab Emirates\",\"line\":{\"color\":\"#FFA15A\",\"dash\":\"solid\"},\"marker\":{\"symbol\":\"circle\"},\"mode\":\"lines\",\"name\":\"United Arab Emirates\",\"showlegend\":true,\"x\":[\"1990 [YR1990]\",\"2000 [YR2000]\",\"2014 [YR2014]\",\"2015 [YR2015]\",\"2016 [YR2016]\",\"2017 [YR2017]\",\"2018 [YR2018]\",\"2019 [YR2019]\",\"2020 [YR2020]\",\"2021 [YR2021]\",\"2022 [YR2022]\",\"2023 [YR2023]\"],\"xaxis\":\"x\",\"y\":[100.0,100.0,100.0,100.0,100.0,100.0,100.0,100.0,100.0,100.0,100.0,null],\"yaxis\":\"y\",\"type\":\"scattergl\"},{\"hovertemplate\":\"Country Name=United Kingdom\\u003cbr\\u003eYear=%{x}\\u003cbr\\u003eAccess to electricity (% pop)=%{y}\\u003cextra\\u003e\\u003c\\u002fextra\\u003e\",\"legendgroup\":\"United Kingdom\",\"line\":{\"color\":\"#19d3f3\",\"dash\":\"solid\"},\"marker\":{\"symbol\":\"circle\"},\"mode\":\"lines\",\"name\":\"United Kingdom\",\"showlegend\":true,\"x\":[\"1990 [YR1990]\",\"2000 [YR2000]\",\"2014 [YR2014]\",\"2015 [YR2015]\",\"2016 [YR2016]\",\"2017 [YR2017]\",\"2018 [YR2018]\",\"2019 [YR2019]\",\"2020 [YR2020]\",\"2021 [YR2021]\",\"2022 [YR2022]\",\"2023 [YR2023]\"],\"xaxis\":\"x\",\"y\":[100.0,100.0,100.0,100.0,100.0,100.0,100.0,100.0,100.0,100.0,100.0,null],\"yaxis\":\"y\",\"type\":\"scattergl\"},{\"hovertemplate\":\"Country Name=United States\\u003cbr\\u003eYear=%{x}\\u003cbr\\u003eAccess to electricity (% pop)=%{y}\\u003cextra\\u003e\\u003c\\u002fextra\\u003e\",\"legendgroup\":\"United States\",\"line\":{\"color\":\"#FF6692\",\"dash\":\"solid\"},\"marker\":{\"symbol\":\"circle\"},\"mode\":\"lines\",\"name\":\"United States\",\"showlegend\":true,\"x\":[\"1990 [YR1990]\",\"2000 [YR2000]\",\"2014 [YR2014]\",\"2015 [YR2015]\",\"2016 [YR2016]\",\"2017 [YR2017]\",\"2018 [YR2018]\",\"2019 [YR2019]\",\"2020 [YR2020]\",\"2021 [YR2021]\",\"2022 [YR2022]\",\"2023 [YR2023]\"],\"xaxis\":\"x\",\"y\":[100.0,100.0,100.0,100.0,100.0,100.0,100.0,100.0,100.0,100.0,100.0,null],\"yaxis\":\"y\",\"type\":\"scattergl\"},{\"hovertemplate\":\"Country Name=Uruguay\\u003cbr\\u003eYear=%{x}\\u003cbr\\u003eAccess to electricity (% pop)=%{y}\\u003cextra\\u003e\\u003c\\u002fextra\\u003e\",\"legendgroup\":\"Uruguay\",\"line\":{\"color\":\"#B6E880\",\"dash\":\"solid\"},\"marker\":{\"symbol\":\"circle\"},\"mode\":\"lines\",\"name\":\"Uruguay\",\"showlegend\":true,\"x\":[\"1990 [YR1990]\",\"2000 [YR2000]\",\"2014 [YR2014]\",\"2015 [YR2015]\",\"2016 [YR2016]\",\"2017 [YR2017]\",\"2018 [YR2018]\",\"2019 [YR2019]\",\"2020 [YR2020]\",\"2021 [YR2021]\",\"2022 [YR2022]\",\"2023 [YR2023]\"],\"xaxis\":\"x\",\"y\":[null,97.6,99.7,99.7,99.7,99.8,99.8,99.9,100.0,100.0,100.0,null],\"yaxis\":\"y\",\"type\":\"scattergl\"},{\"hovertemplate\":\"Country Name=Uzbekistan\\u003cbr\\u003eYear=%{x}\\u003cbr\\u003eAccess to electricity (% pop)=%{y}\\u003cextra\\u003e\\u003c\\u002fextra\\u003e\",\"legendgroup\":\"Uzbekistan\",\"line\":{\"color\":\"#FF97FF\",\"dash\":\"solid\"},\"marker\":{\"symbol\":\"circle\"},\"mode\":\"lines\",\"name\":\"Uzbekistan\",\"showlegend\":true,\"x\":[\"1990 [YR1990]\",\"2000 [YR2000]\",\"2014 [YR2014]\",\"2015 [YR2015]\",\"2016 [YR2016]\",\"2017 [YR2017]\",\"2018 [YR2018]\",\"2019 [YR2019]\",\"2020 [YR2020]\",\"2021 [YR2021]\",\"2022 [YR2022]\",\"2023 [YR2023]\"],\"xaxis\":\"x\",\"y\":[null,99.6,99.8,99.9,99.9,100.0,100.0,100.0,100.0,99.9,100.0,null],\"yaxis\":\"y\",\"type\":\"scattergl\"},{\"hovertemplate\":\"Country Name=Vanuatu\\u003cbr\\u003eYear=%{x}\\u003cbr\\u003eAccess to electricity (% pop)=%{y}\\u003cextra\\u003e\\u003c\\u002fextra\\u003e\",\"legendgroup\":\"Vanuatu\",\"line\":{\"color\":\"#FECB52\",\"dash\":\"solid\"},\"marker\":{\"symbol\":\"circle\"},\"mode\":\"lines\",\"name\":\"Vanuatu\",\"showlegend\":true,\"x\":[\"1990 [YR1990]\",\"2000 [YR2000]\",\"2014 [YR2014]\",\"2015 [YR2015]\",\"2016 [YR2016]\",\"2017 [YR2017]\",\"2018 [YR2018]\",\"2019 [YR2019]\",\"2020 [YR2020]\",\"2021 [YR2021]\",\"2022 [YR2022]\",\"2023 [YR2023]\"],\"xaxis\":\"x\",\"y\":[null,22.2,49.1,52.3,57.8,62.8,61.6,64.5,67.3,70.0,70.0,null],\"yaxis\":\"y\",\"type\":\"scattergl\"},{\"hovertemplate\":\"Country Name=Venezuela, RB\\u003cbr\\u003eYear=%{x}\\u003cbr\\u003eAccess to electricity (% pop)=%{y}\\u003cextra\\u003e\\u003c\\u002fextra\\u003e\",\"legendgroup\":\"Venezuela, RB\",\"line\":{\"color\":\"#636efa\",\"dash\":\"solid\"},\"marker\":{\"symbol\":\"circle\"},\"mode\":\"lines\",\"name\":\"Venezuela, RB\",\"showlegend\":true,\"x\":[\"1990 [YR1990]\",\"2000 [YR2000]\",\"2014 [YR2014]\",\"2015 [YR2015]\",\"2016 [YR2016]\",\"2017 [YR2017]\",\"2018 [YR2018]\",\"2019 [YR2019]\",\"2020 [YR2020]\",\"2021 [YR2021]\",\"2022 [YR2022]\",\"2023 [YR2023]\"],\"xaxis\":\"x\",\"y\":[null,98.9,100.0,100.0,99.4,99.2,99.9,99.8,99.9,100.0,100.0,null],\"yaxis\":\"y\",\"type\":\"scattergl\"},{\"hovertemplate\":\"Country Name=Viet Nam\\u003cbr\\u003eYear=%{x}\\u003cbr\\u003eAccess to electricity (% pop)=%{y}\\u003cextra\\u003e\\u003c\\u002fextra\\u003e\",\"legendgroup\":\"Viet Nam\",\"line\":{\"color\":\"#EF553B\",\"dash\":\"solid\"},\"marker\":{\"symbol\":\"circle\"},\"mode\":\"lines\",\"name\":\"Viet Nam\",\"showlegend\":true,\"x\":[\"1990 [YR1990]\",\"2000 [YR2000]\",\"2014 [YR2014]\",\"2015 [YR2015]\",\"2016 [YR2016]\",\"2017 [YR2017]\",\"2018 [YR2018]\",\"2019 [YR2019]\",\"2020 [YR2020]\",\"2021 [YR2021]\",\"2022 [YR2022]\",\"2023 [YR2023]\"],\"xaxis\":\"x\",\"y\":[null,88.2,99.2,99.3,99.2,100.0,100.0,99.4,99.8,100.0,100.0,null],\"yaxis\":\"y\",\"type\":\"scattergl\"},{\"hovertemplate\":\"Country Name=Virgin Islands (U.S.)\\u003cbr\\u003eYear=%{x}\\u003cbr\\u003eAccess to electricity (% pop)=%{y}\\u003cextra\\u003e\\u003c\\u002fextra\\u003e\",\"legendgroup\":\"Virgin Islands (U.S.)\",\"line\":{\"color\":\"#00cc96\",\"dash\":\"solid\"},\"marker\":{\"symbol\":\"circle\"},\"mode\":\"lines\",\"name\":\"Virgin Islands (U.S.)\",\"showlegend\":true,\"x\":[\"1990 [YR1990]\",\"2000 [YR2000]\",\"2014 [YR2014]\",\"2015 [YR2015]\",\"2016 [YR2016]\",\"2017 [YR2017]\",\"2018 [YR2018]\",\"2019 [YR2019]\",\"2020 [YR2020]\",\"2021 [YR2021]\",\"2022 [YR2022]\",\"2023 [YR2023]\"],\"xaxis\":\"x\",\"y\":[100.0,100.0,100.0,100.0,100.0,100.0,100.0,100.0,100.0,100.0,100.0,null],\"yaxis\":\"y\",\"type\":\"scattergl\"},{\"hovertemplate\":\"Country Name=West Bank and Gaza\\u003cbr\\u003eYear=%{x}\\u003cbr\\u003eAccess to electricity (% pop)=%{y}\\u003cextra\\u003e\\u003c\\u002fextra\\u003e\",\"legendgroup\":\"West Bank and Gaza\",\"line\":{\"color\":\"#ab63fa\",\"dash\":\"solid\"},\"marker\":{\"symbol\":\"circle\"},\"mode\":\"lines\",\"name\":\"West Bank and Gaza\",\"showlegend\":true,\"x\":[\"1990 [YR1990]\",\"2000 [YR2000]\",\"2014 [YR2014]\",\"2015 [YR2015]\",\"2016 [YR2016]\",\"2017 [YR2017]\",\"2018 [YR2018]\",\"2019 [YR2019]\",\"2020 [YR2020]\",\"2021 [YR2021]\",\"2022 [YR2022]\",\"2023 [YR2023]\"],\"xaxis\":\"x\",\"y\":[null,99.7,99.9,99.9,100.0,99.9,100.0,100.0,100.0,100.0,100.0,null],\"yaxis\":\"y\",\"type\":\"scattergl\"},{\"hovertemplate\":\"Country Name=Yemen, Rep.\\u003cbr\\u003eYear=%{x}\\u003cbr\\u003eAccess to electricity (% pop)=%{y}\\u003cextra\\u003e\\u003c\\u002fextra\\u003e\",\"legendgroup\":\"Yemen, Rep.\",\"line\":{\"color\":\"#FFA15A\",\"dash\":\"solid\"},\"marker\":{\"symbol\":\"circle\"},\"mode\":\"lines\",\"name\":\"Yemen, Rep.\",\"showlegend\":true,\"x\":[\"1990 [YR1990]\",\"2000 [YR2000]\",\"2014 [YR2014]\",\"2015 [YR2015]\",\"2016 [YR2016]\",\"2017 [YR2017]\",\"2018 [YR2018]\",\"2019 [YR2019]\",\"2020 [YR2020]\",\"2021 [YR2021]\",\"2022 [YR2022]\",\"2023 [YR2023]\"],\"xaxis\":\"x\",\"y\":[null,49.2,66.1,67.4,68.9,79.2,62.0,72.8,73.9,74.9,76.0,null],\"yaxis\":\"y\",\"type\":\"scattergl\"},{\"hovertemplate\":\"Country Name=Zambia\\u003cbr\\u003eYear=%{x}\\u003cbr\\u003eAccess to electricity (% pop)=%{y}\\u003cextra\\u003e\\u003c\\u002fextra\\u003e\",\"legendgroup\":\"Zambia\",\"line\":{\"color\":\"#19d3f3\",\"dash\":\"solid\"},\"marker\":{\"symbol\":\"circle\"},\"mode\":\"lines\",\"name\":\"Zambia\",\"showlegend\":true,\"x\":[\"1990 [YR1990]\",\"2000 [YR2000]\",\"2014 [YR2014]\",\"2015 [YR2015]\",\"2016 [YR2016]\",\"2017 [YR2017]\",\"2018 [YR2018]\",\"2019 [YR2019]\",\"2020 [YR2020]\",\"2021 [YR2021]\",\"2022 [YR2022]\",\"2023 [YR2023]\"],\"xaxis\":\"x\",\"y\":[13.9,16.7,27.9,31.1,35.4,40.3,40.2,43.0,44.6,46.7,47.8,null],\"yaxis\":\"y\",\"type\":\"scattergl\"},{\"hovertemplate\":\"Country Name=Zimbabwe\\u003cbr\\u003eYear=%{x}\\u003cbr\\u003eAccess to electricity (% pop)=%{y}\\u003cextra\\u003e\\u003c\\u002fextra\\u003e\",\"legendgroup\":\"Zimbabwe\",\"line\":{\"color\":\"#FF6692\",\"dash\":\"solid\"},\"marker\":{\"symbol\":\"circle\"},\"mode\":\"lines\",\"name\":\"Zimbabwe\",\"showlegend\":true,\"x\":[\"1990 [YR1990]\",\"2000 [YR2000]\",\"2014 [YR2014]\",\"2015 [YR2015]\",\"2016 [YR2016]\",\"2017 [YR2017]\",\"2018 [YR2018]\",\"2019 [YR2019]\",\"2020 [YR2020]\",\"2021 [YR2021]\",\"2022 [YR2022]\",\"2023 [YR2023]\"],\"xaxis\":\"x\",\"y\":[null,33.7,32.3,33.7,42.5,44.0,45.4,46.7,52.7,49.0,50.1,null],\"yaxis\":\"y\",\"type\":\"scattergl\"},{\"hovertemplate\":\"Country Name=Africa Eastern and Southern\\u003cbr\\u003eYear=%{x}\\u003cbr\\u003eAccess to electricity (% pop)=%{y}\\u003cextra\\u003e\\u003c\\u002fextra\\u003e\",\"legendgroup\":\"Africa Eastern and Southern\",\"line\":{\"color\":\"#B6E880\",\"dash\":\"solid\"},\"marker\":{\"symbol\":\"circle\"},\"mode\":\"lines\",\"name\":\"Africa Eastern and Southern\",\"showlegend\":true,\"x\":[\"1990 [YR1990]\",\"2000 [YR2000]\",\"2014 [YR2014]\",\"2015 [YR2015]\",\"2016 [YR2016]\",\"2017 [YR2017]\",\"2018 [YR2018]\",\"2019 [YR2019]\",\"2020 [YR2020]\",\"2021 [YR2021]\",\"2022 [YR2022]\",\"2023 [YR2023]\"],\"xaxis\":\"x\",\"y\":[null,19.9638817610371,31.860474023504,33.9038001286462,38.8546244221511,40.199898068195,43.0171479832647,44.3812594428681,46.2648745577187,48.100862134193,48.7119945935567,null],\"yaxis\":\"y\",\"type\":\"scattergl\"},{\"hovertemplate\":\"Country Name=Africa Western and Central\\u003cbr\\u003eYear=%{x}\\u003cbr\\u003eAccess to electricity (% pop)=%{y}\\u003cextra\\u003e\\u003c\\u002fextra\\u003e\",\"legendgroup\":\"Africa Western and Central\",\"line\":{\"color\":\"#FF97FF\",\"dash\":\"solid\"},\"marker\":{\"symbol\":\"circle\"},\"mode\":\"lines\",\"name\":\"Africa Western and Central\",\"showlegend\":true,\"x\":[\"1990 [YR1990]\",\"2000 [YR2000]\",\"2014 [YR2014]\",\"2015 [YR2015]\",\"2016 [YR2016]\",\"2017 [YR2017]\",\"2018 [YR2018]\",\"2019 [YR2019]\",\"2020 [YR2020]\",\"2021 [YR2021]\",\"2022 [YR2022]\",\"2023 [YR2023]\"],\"xaxis\":\"x\",\"y\":[null,34.1432102135773,47.6625364866446,46.7587390583886,50.906114634764,48.789457473528,51.2110549404709,51.1680826551065,51.7308990685072,54.224724307904,55.4375772541101,null],\"yaxis\":\"y\",\"type\":\"scattergl\"},{\"hovertemplate\":\"Country Name=Arab World\\u003cbr\\u003eYear=%{x}\\u003cbr\\u003eAccess to electricity (% pop)=%{y}\\u003cextra\\u003e\\u003c\\u002fextra\\u003e\",\"legendgroup\":\"Arab World\",\"line\":{\"color\":\"#FECB52\",\"dash\":\"solid\"},\"marker\":{\"symbol\":\"circle\"},\"mode\":\"lines\",\"name\":\"Arab World\",\"showlegend\":true,\"x\":[\"1990 [YR1990]\",\"2000 [YR2000]\",\"2014 [YR2014]\",\"2015 [YR2015]\",\"2016 [YR2016]\",\"2017 [YR2017]\",\"2018 [YR2018]\",\"2019 [YR2019]\",\"2020 [YR2020]\",\"2021 [YR2021]\",\"2022 [YR2022]\",\"2023 [YR2023]\"],\"xaxis\":\"x\",\"y\":[null,81.0997416649668,88.8342958618003,89.0475351878897,89.5411657691967,90.6663018742983,89.1692812379426,90.3581538695401,90.6384870529171,90.8493820461977,91.0264045161148,null],\"yaxis\":\"y\",\"type\":\"scattergl\"},{\"hovertemplate\":\"Country Name=Caribbean small states\\u003cbr\\u003eYear=%{x}\\u003cbr\\u003eAccess to electricity (% pop)=%{y}\\u003cextra\\u003e\\u003c\\u002fextra\\u003e\",\"legendgroup\":\"Caribbean small states\",\"line\":{\"color\":\"#636efa\",\"dash\":\"solid\"},\"marker\":{\"symbol\":\"circle\"},\"mode\":\"lines\",\"name\":\"Caribbean small states\",\"showlegend\":true,\"x\":[\"1990 [YR1990]\",\"2000 [YR2000]\",\"2014 [YR2014]\",\"2015 [YR2015]\",\"2016 [YR2016]\",\"2017 [YR2017]\",\"2018 [YR2018]\",\"2019 [YR2019]\",\"2020 [YR2020]\",\"2021 [YR2021]\",\"2022 [YR2022]\",\"2023 [YR2023]\"],\"xaxis\":\"x\",\"y\":[null,87.0272667097087,93.9555303410912,94.4839855823945,95.1697890618449,95.7430331185145,95.804767395244,96.2215700753372,97.0414890291467,97.3939355970029,97.5932932895718,null],\"yaxis\":\"y\",\"type\":\"scattergl\"},{\"hovertemplate\":\"Country Name=Central Europe and the Baltics\\u003cbr\\u003eYear=%{x}\\u003cbr\\u003eAccess to electricity (% pop)=%{y}\\u003cextra\\u003e\\u003c\\u002fextra\\u003e\",\"legendgroup\":\"Central Europe and the Baltics\",\"line\":{\"color\":\"#EF553B\",\"dash\":\"solid\"},\"marker\":{\"symbol\":\"circle\"},\"mode\":\"lines\",\"name\":\"Central Europe and the Baltics\",\"showlegend\":true,\"x\":[\"1990 [YR1990]\",\"2000 [YR2000]\",\"2014 [YR2014]\",\"2015 [YR2015]\",\"2016 [YR2016]\",\"2017 [YR2017]\",\"2018 [YR2018]\",\"2019 [YR2019]\",\"2020 [YR2020]\",\"2021 [YR2021]\",\"2022 [YR2022]\",\"2023 [YR2023]\"],\"xaxis\":\"x\",\"y\":[100.0,97.9262635329594,99.4060407563452,99.5333634023846,99.6409785046505,99.86914260178,99.8729516393806,99.9455010885556,99.9796417892388,99.9864361919036,100.0,null],\"yaxis\":\"y\",\"type\":\"scattergl\"},{\"hovertemplate\":\"Country Name=Early-demographic dividend\\u003cbr\\u003eYear=%{x}\\u003cbr\\u003eAccess to electricity (% pop)=%{y}\\u003cextra\\u003e\\u003c\\u002fextra\\u003e\",\"legendgroup\":\"Early-demographic dividend\",\"line\":{\"color\":\"#00cc96\",\"dash\":\"solid\"},\"marker\":{\"symbol\":\"circle\"},\"mode\":\"lines\",\"name\":\"Early-demographic dividend\",\"showlegend\":true,\"x\":[\"1990 [YR1990]\",\"2000 [YR2000]\",\"2014 [YR2014]\",\"2015 [YR2015]\",\"2016 [YR2016]\",\"2017 [YR2017]\",\"2018 [YR2018]\",\"2019 [YR2019]\",\"2020 [YR2020]\",\"2021 [YR2021]\",\"2022 [YR2022]\",\"2023 [YR2023]\"],\"xaxis\":\"x\",\"y\":[null,67.5690834435773,84.7781290421301,86.8527487873062,88.3686079048487,90.5262379043035,92.0349140485874,92.834365738276,93.4926075631317,95.2851631707137,95.1851634429426,null],\"yaxis\":\"y\",\"type\":\"scattergl\"},{\"hovertemplate\":\"Country Name=East Asia & Pacific\\u003cbr\\u003eYear=%{x}\\u003cbr\\u003eAccess to electricity (% pop)=%{y}\\u003cextra\\u003e\\u003c\\u002fextra\\u003e\",\"legendgroup\":\"East Asia & Pacific\",\"line\":{\"color\":\"#ab63fa\",\"dash\":\"solid\"},\"marker\":{\"symbol\":\"circle\"},\"mode\":\"lines\",\"name\":\"East Asia & Pacific\",\"showlegend\":true,\"x\":[\"1990 [YR1990]\",\"2000 [YR2000]\",\"2014 [YR2014]\",\"2015 [YR2015]\",\"2016 [YR2016]\",\"2017 [YR2017]\",\"2018 [YR2018]\",\"2019 [YR2019]\",\"2020 [YR2020]\",\"2021 [YR2021]\",\"2022 [YR2022]\",\"2023 [YR2023]\"],\"xaxis\":\"x\",\"y\":[null,92.080656312843,96.650227815738,96.9635036230764,97.0422752719492,97.6980233866031,97.6650202588857,97.8779427927934,97.8013659805564,98.1555450173615,98.2132410752903,null],\"yaxis\":\"y\",\"type\":\"scattergl\"},{\"hovertemplate\":\"Country Name=East Asia & Pacific (excluding high income)\\u003cbr\\u003eYear=%{x}\\u003cbr\\u003eAccess to electricity (% pop)=%{y}\\u003cextra\\u003e\\u003c\\u002fextra\\u003e\",\"legendgroup\":\"East Asia & Pacific (excluding high income)\",\"line\":{\"color\":\"#FFA15A\",\"dash\":\"solid\"},\"marker\":{\"symbol\":\"circle\"},\"mode\":\"lines\",\"name\":\"East Asia & Pacific (excluding high income)\",\"showlegend\":true,\"x\":[\"1990 [YR1990]\",\"2000 [YR2000]\",\"2014 [YR2014]\",\"2015 [YR2015]\",\"2016 [YR2016]\",\"2017 [YR2017]\",\"2018 [YR2018]\",\"2019 [YR2019]\",\"2020 [YR2020]\",\"2021 [YR2021]\",\"2022 [YR2022]\",\"2023 [YR2023]\"],\"xaxis\":\"x\",\"y\":[null,91.1581940859182,96.2870699100877,96.6357464510822,96.7243162467113,97.4517427779889,97.4161347769004,97.6524316332846,97.5687165889393,97.9617970162443,98.026194403413,null],\"yaxis\":\"y\",\"type\":\"scattergl\"},{\"hovertemplate\":\"Country Name=East Asia & Pacific (IDA & IBRD countries)\\u003cbr\\u003eYear=%{x}\\u003cbr\\u003eAccess to electricity (% pop)=%{y}\\u003cextra\\u003e\\u003c\\u002fextra\\u003e\",\"legendgroup\":\"East Asia & Pacific (IDA & IBRD countries)\",\"line\":{\"color\":\"#19d3f3\",\"dash\":\"solid\"},\"marker\":{\"symbol\":\"circle\"},\"mode\":\"lines\",\"name\":\"East Asia & Pacific (IDA & IBRD countries)\",\"showlegend\":true,\"x\":[\"1990 [YR1990]\",\"2000 [YR2000]\",\"2014 [YR2014]\",\"2015 [YR2015]\",\"2016 [YR2016]\",\"2017 [YR2017]\",\"2018 [YR2018]\",\"2019 [YR2019]\",\"2020 [YR2020]\",\"2021 [YR2021]\",\"2022 [YR2022]\",\"2023 [YR2023]\"],\"xaxis\":\"x\",\"y\":[null,91.1583141767936,97.0185492289121,97.342378290966,97.4042780321237,98.1128558182722,98.0496113702534,98.2621398882088,98.1511649991063,98.5234655577502,98.563293539577,null],\"yaxis\":\"y\",\"type\":\"scattergl\"},{\"hovertemplate\":\"Country Name=Euro area\\u003cbr\\u003eYear=%{x}\\u003cbr\\u003eAccess to electricity (% pop)=%{y}\\u003cextra\\u003e\\u003c\\u002fextra\\u003e\",\"legendgroup\":\"Euro area\",\"line\":{\"color\":\"#FF6692\",\"dash\":\"solid\"},\"marker\":{\"symbol\":\"circle\"},\"mode\":\"lines\",\"name\":\"Euro area\",\"showlegend\":true,\"x\":[\"1990 [YR1990]\",\"2000 [YR2000]\",\"2014 [YR2014]\",\"2015 [YR2015]\",\"2016 [YR2016]\",\"2017 [YR2017]\",\"2018 [YR2018]\",\"2019 [YR2019]\",\"2020 [YR2020]\",\"2021 [YR2021]\",\"2022 [YR2022]\",\"2023 [YR2023]\"],\"xaxis\":\"x\",\"y\":[100.0,99.9939024980174,100.0,100.0,100.0,100.0,100.0,100.0,100.0,100.0,100.0,null],\"yaxis\":\"y\",\"type\":\"scattergl\"},{\"hovertemplate\":\"Country Name=Europe & Central Asia\\u003cbr\\u003eYear=%{x}\\u003cbr\\u003eAccess to electricity (% pop)=%{y}\\u003cextra\\u003e\\u003c\\u002fextra\\u003e\",\"legendgroup\":\"Europe & Central Asia\",\"line\":{\"color\":\"#B6E880\",\"dash\":\"solid\"},\"marker\":{\"symbol\":\"circle\"},\"mode\":\"lines\",\"name\":\"Europe & Central Asia\",\"showlegend\":true,\"x\":[\"1990 [YR1990]\",\"2000 [YR2000]\",\"2014 [YR2014]\",\"2015 [YR2015]\",\"2016 [YR2016]\",\"2017 [YR2017]\",\"2018 [YR2018]\",\"2019 [YR2019]\",\"2020 [YR2020]\",\"2021 [YR2021]\",\"2022 [YR2022]\",\"2023 [YR2023]\"],\"xaxis\":\"x\",\"y\":[100.0,99.1137058587738,99.8754093344162,99.1669776184071,99.8283065055591,99.9637094037616,99.9704727607712,99.9533142481858,99.9760236823625,99.9881579022417,99.9977236468108,null],\"yaxis\":\"y\",\"type\":\"scattergl\"},{\"hovertemplate\":\"Country Name=Europe & Central Asia (excluding high income)\\u003cbr\\u003eYear=%{x}\\u003cbr\\u003eAccess to electricity (% pop)=%{y}\\u003cextra\\u003e\\u003c\\u002fextra\\u003e\",\"legendgroup\":\"Europe & Central Asia (excluding high income)\",\"line\":{\"color\":\"#FF97FF\",\"dash\":\"solid\"},\"marker\":{\"symbol\":\"circle\"},\"mode\":\"lines\",\"name\":\"Europe & Central Asia (excluding high income)\",\"showlegend\":true,\"x\":[\"1990 [YR1990]\",\"2000 [YR2000]\",\"2014 [YR2014]\",\"2015 [YR2015]\",\"2016 [YR2016]\",\"2017 [YR2017]\",\"2018 [YR2018]\",\"2019 [YR2019]\",\"2020 [YR2020]\",\"2021 [YR2021]\",\"2022 [YR2022]\",\"2023 [YR2023]\"],\"xaxis\":\"x\",\"y\":[null,98.9925837200275,99.7837597994349,99.7676812016782,99.8655891836026,99.9183821940095,99.942320081113,99.9663713381538,99.9777773685799,99.9616380974146,99.9914644530224,null],\"yaxis\":\"y\",\"type\":\"scattergl\"},{\"hovertemplate\":\"Country Name=Europe & Central Asia (IDA & IBRD countries)\\u003cbr\\u003eYear=%{x}\\u003cbr\\u003eAccess to electricity (% pop)=%{y}\\u003cextra\\u003e\\u003c\\u002fextra\\u003e\",\"legendgroup\":\"Europe & Central Asia (IDA & IBRD countries)\",\"line\":{\"color\":\"#FECB52\",\"dash\":\"solid\"},\"marker\":{\"symbol\":\"circle\"},\"mode\":\"lines\",\"name\":\"Europe & Central Asia (IDA & IBRD countries)\",\"showlegend\":true,\"x\":[\"1990 [YR1990]\",\"2000 [YR2000]\",\"2014 [YR2014]\",\"2015 [YR2015]\",\"2016 [YR2016]\",\"2017 [YR2017]\",\"2018 [YR2018]\",\"2019 [YR2019]\",\"2020 [YR2020]\",\"2021 [YR2021]\",\"2022 [YR2022]\",\"2023 [YR2023]\"],\"xaxis\":\"x\",\"y\":[100.0,98.2465834253865,99.7496943982014,98.3274195169609,99.655469757283,99.9272265326044,99.940819336018,99.9065322711927,99.9520178888209,99.9763188018388,99.9954069607762,null],\"yaxis\":\"y\",\"type\":\"scattergl\"},{\"hovertemplate\":\"Country Name=European Union\\u003cbr\\u003eYear=%{x}\\u003cbr\\u003eAccess to electricity (% pop)=%{y}\\u003cextra\\u003e\\u003c\\u002fextra\\u003e\",\"legendgroup\":\"European Union\",\"line\":{\"color\":\"#636efa\",\"dash\":\"solid\"},\"marker\":{\"symbol\":\"circle\"},\"mode\":\"lines\",\"name\":\"European Union\",\"showlegend\":true,\"x\":[\"1990 [YR1990]\",\"2000 [YR2000]\",\"2014 [YR2014]\",\"2015 [YR2015]\",\"2016 [YR2016]\",\"2017 [YR2017]\",\"2018 [YR2018]\",\"2019 [YR2019]\",\"2020 [YR2020]\",\"2021 [YR2021]\",\"2022 [YR2022]\",\"2023 [YR2023]\"],\"xaxis\":\"x\",\"y\":[100.0,99.4761938755859,99.8614239812103,99.8916168370621,99.9170013923783,99.9698703678352,99.9708561296605,99.9875256636779,99.9953534951789,99.9969239356276,100.0,null],\"yaxis\":\"y\",\"type\":\"scattergl\"},{\"hovertemplate\":\"Country Name=Fragile and conflict affected situations\\u003cbr\\u003eYear=%{x}\\u003cbr\\u003eAccess to electricity (% pop)=%{y}\\u003cextra\\u003e\\u003c\\u002fextra\\u003e\",\"legendgroup\":\"Fragile and conflict affected situations\",\"line\":{\"color\":\"#EF553B\",\"dash\":\"solid\"},\"marker\":{\"symbol\":\"circle\"},\"mode\":\"lines\",\"name\":\"Fragile and conflict affected situations\",\"showlegend\":true,\"x\":[\"1990 [YR1990]\",\"2000 [YR2000]\",\"2014 [YR2014]\",\"2015 [YR2015]\",\"2016 [YR2016]\",\"2017 [YR2017]\",\"2018 [YR2018]\",\"2019 [YR2019]\",\"2020 [YR2020]\",\"2021 [YR2021]\",\"2022 [YR2022]\",\"2023 [YR2023]\"],\"xaxis\":\"x\",\"y\":[null,40.5982967572402,50.0334416807631,50.0818317262279,54.1947420802944,54.5631752651004,54.5831226685803,55.5016312834383,56.346408400069,57.8615299350207,57.8181418204066,null],\"yaxis\":\"y\",\"type\":\"scattergl\"},{\"hovertemplate\":\"Country Name=Heavily indebted poor countries (HIPC)\\u003cbr\\u003eYear=%{x}\\u003cbr\\u003eAccess to electricity (% pop)=%{y}\\u003cextra\\u003e\\u003c\\u002fextra\\u003e\",\"legendgroup\":\"Heavily indebted poor countries (HIPC)\",\"line\":{\"color\":\"#00cc96\",\"dash\":\"solid\"},\"marker\":{\"symbol\":\"circle\"},\"mode\":\"lines\",\"name\":\"Heavily indebted poor countries (HIPC)\",\"showlegend\":true,\"x\":[\"1990 [YR1990]\",\"2000 [YR2000]\",\"2014 [YR2014]\",\"2015 [YR2015]\",\"2016 [YR2016]\",\"2017 [YR2017]\",\"2018 [YR2018]\",\"2019 [YR2019]\",\"2020 [YR2020]\",\"2021 [YR2021]\",\"2022 [YR2022]\",\"2023 [YR2023]\"],\"xaxis\":\"x\",\"y\":[null,17.8675254053848,35.3989999768092,35.4839102740872,40.6329285874508,41.5183905621843,44.0132817192788,45.0522458898094,46.3640414093557,48.0509504079887,48.6553933920956,null],\"yaxis\":\"y\",\"type\":\"scattergl\"},{\"hovertemplate\":\"Country Name=High income\\u003cbr\\u003eYear=%{x}\\u003cbr\\u003eAccess to electricity (% pop)=%{y}\\u003cextra\\u003e\\u003c\\u002fextra\\u003e\",\"legendgroup\":\"High income\",\"line\":{\"color\":\"#ab63fa\",\"dash\":\"solid\"},\"marker\":{\"symbol\":\"circle\"},\"mode\":\"lines\",\"name\":\"High income\",\"showlegend\":true,\"x\":[\"1990 [YR1990]\",\"2000 [YR2000]\",\"2014 [YR2014]\",\"2015 [YR2015]\",\"2016 [YR2016]\",\"2017 [YR2017]\",\"2018 [YR2018]\",\"2019 [YR2019]\",\"2020 [YR2020]\",\"2021 [YR2021]\",\"2022 [YR2022]\",\"2023 [YR2023]\"],\"xaxis\":\"x\",\"y\":[99.8425200685198,99.4524626648336,99.9189168958054,99.4422835628403,99.8758820464439,99.9608075777366,99.9631057051384,99.9505379687558,99.9686544956864,99.9798902530907,99.9798069474748,null],\"yaxis\":\"y\",\"type\":\"scattergl\"},{\"hovertemplate\":\"Country Name=IBRD only\\u003cbr\\u003eYear=%{x}\\u003cbr\\u003eAccess to electricity (% pop)=%{y}\\u003cextra\\u003e\\u003c\\u002fextra\\u003e\",\"legendgroup\":\"IBRD only\",\"line\":{\"color\":\"#FFA15A\",\"dash\":\"solid\"},\"marker\":{\"symbol\":\"circle\"},\"mode\":\"lines\",\"name\":\"IBRD only\",\"showlegend\":true,\"x\":[\"1990 [YR1990]\",\"2000 [YR2000]\",\"2014 [YR2014]\",\"2015 [YR2015]\",\"2016 [YR2016]\",\"2017 [YR2017]\",\"2018 [YR2018]\",\"2019 [YR2019]\",\"2020 [YR2020]\",\"2021 [YR2021]\",\"2022 [YR2022]\",\"2023 [YR2023]\"],\"xaxis\":\"x\",\"y\":[null,84.5263170160897,94.4349904993138,95.1884141896381,95.847095252009,96.6140192932522,97.7587635009644,97.8867643059813,98.0667929887089,99.1169517100785,98.9771817674784,null],\"yaxis\":\"y\",\"type\":\"scattergl\"},{\"hovertemplate\":\"Country Name=IDA & IBRD total\\u003cbr\\u003eYear=%{x}\\u003cbr\\u003eAccess to electricity (% pop)=%{y}\\u003cextra\\u003e\\u003c\\u002fextra\\u003e\",\"legendgroup\":\"IDA & IBRD total\",\"line\":{\"color\":\"#19d3f3\",\"dash\":\"solid\"},\"marker\":{\"symbol\":\"circle\"},\"mode\":\"lines\",\"name\":\"IDA & IBRD total\",\"showlegend\":true,\"x\":[\"1990 [YR1990]\",\"2000 [YR2000]\",\"2014 [YR2014]\",\"2015 [YR2015]\",\"2016 [YR2016]\",\"2017 [YR2017]\",\"2018 [YR2018]\",\"2019 [YR2019]\",\"2020 [YR2020]\",\"2021 [YR2021]\",\"2022 [YR2022]\",\"2023 [YR2023]\"],\"xaxis\":\"x\",\"y\":[null,74.0831790968894,84.0374385425314,84.8979365612511,86.2839085579144,87.2637509200286,88.2960951797823,88.6615853993001,89.0003692130539,90.1059784759654,90.0236427088539,null],\"yaxis\":\"y\",\"type\":\"scattergl\"},{\"hovertemplate\":\"Country Name=IDA blend\\u003cbr\\u003eYear=%{x}\\u003cbr\\u003eAccess to electricity (% pop)=%{y}\\u003cextra\\u003e\\u003c\\u002fextra\\u003e\",\"legendgroup\":\"IDA blend\",\"line\":{\"color\":\"#FF6692\",\"dash\":\"solid\"},\"marker\":{\"symbol\":\"circle\"},\"mode\":\"lines\",\"name\":\"IDA blend\",\"showlegend\":true,\"x\":[\"1990 [YR1990]\",\"2000 [YR2000]\",\"2014 [YR2014]\",\"2015 [YR2015]\",\"2016 [YR2016]\",\"2017 [YR2017]\",\"2018 [YR2018]\",\"2019 [YR2019]\",\"2020 [YR2020]\",\"2021 [YR2021]\",\"2022 [YR2022]\",\"2023 [YR2023]\"],\"xaxis\":\"x\",\"y\":[null,55.9714119039902,68.7595094033684,69.0584544888191,72.8985169734875,71.9060547127056,73.3946899985265,74.1134591811169,74.6422206071065,76.6323166518695,77.2202249370555,null],\"yaxis\":\"y\",\"type\":\"scattergl\"},{\"hovertemplate\":\"Country Name=IDA only\\u003cbr\\u003eYear=%{x}\\u003cbr\\u003eAccess to electricity (% pop)=%{y}\\u003cextra\\u003e\\u003c\\u002fextra\\u003e\",\"legendgroup\":\"IDA only\",\"line\":{\"color\":\"#B6E880\",\"dash\":\"solid\"},\"marker\":{\"symbol\":\"circle\"},\"mode\":\"lines\",\"name\":\"IDA only\",\"showlegend\":true,\"x\":[\"1990 [YR1990]\",\"2000 [YR2000]\",\"2014 [YR2014]\",\"2015 [YR2015]\",\"2016 [YR2016]\",\"2017 [YR2017]\",\"2018 [YR2018]\",\"2019 [YR2019]\",\"2020 [YR2020]\",\"2021 [YR2021]\",\"2022 [YR2022]\",\"2023 [YR2023]\"],\"xaxis\":\"x\",\"y\":[null,26.4350562984302,44.9427767431572,47.0891947927519,50.9990853826559,54.4361536322367,55.3160844961813,57.0959550724622,58.6069711033586,60.1327212117,60.6234216234335,null],\"yaxis\":\"y\",\"type\":\"scattergl\"},{\"hovertemplate\":\"Country Name=IDA total\\u003cbr\\u003eYear=%{x}\\u003cbr\\u003eAccess to electricity (% pop)=%{y}\\u003cextra\\u003e\\u003c\\u002fextra\\u003e\",\"legendgroup\":\"IDA total\",\"line\":{\"color\":\"#FF97FF\",\"dash\":\"solid\"},\"marker\":{\"symbol\":\"circle\"},\"mode\":\"lines\",\"name\":\"IDA total\",\"showlegend\":true,\"x\":[\"1990 [YR1990]\",\"2000 [YR2000]\",\"2014 [YR2014]\",\"2015 [YR2015]\",\"2016 [YR2016]\",\"2017 [YR2017]\",\"2018 [YR2018]\",\"2019 [YR2019]\",\"2020 [YR2020]\",\"2021 [YR2021]\",\"2022 [YR2022]\",\"2023 [YR2023]\"],\"xaxis\":\"x\",\"y\":[null,36.4025530411247,52.9422008030466,54.457463855061,58.3264142215853,60.2679332649365,61.3394550392999,62.7544694323566,63.9296623394879,65.6017359512866,66.1197318922923,null],\"yaxis\":\"y\",\"type\":\"scattergl\"},{\"hovertemplate\":\"Country Name=Late-demographic dividend\\u003cbr\\u003eYear=%{x}\\u003cbr\\u003eAccess to electricity (% pop)=%{y}\\u003cextra\\u003e\\u003c\\u002fextra\\u003e\",\"legendgroup\":\"Late-demographic dividend\",\"line\":{\"color\":\"#FECB52\",\"dash\":\"solid\"},\"marker\":{\"symbol\":\"circle\"},\"mode\":\"lines\",\"name\":\"Late-demographic dividend\",\"showlegend\":true,\"x\":[\"1990 [YR1990]\",\"2000 [YR2000]\",\"2014 [YR2014]\",\"2015 [YR2015]\",\"2016 [YR2016]\",\"2017 [YR2017]\",\"2018 [YR2018]\",\"2019 [YR2019]\",\"2020 [YR2020]\",\"2021 [YR2021]\",\"2022 [YR2022]\",\"2023 [YR2023]\"],\"xaxis\":\"x\",\"y\":[null,95.2456141733554,99.0133006644742,98.7891607198295,99.1246661085904,99.2795749258714,99.2872327792157,99.3356536729549,99.3926777630817,99.416690000063,99.4825175455422,null],\"yaxis\":\"y\",\"type\":\"scattergl\"},{\"hovertemplate\":\"Country Name=Latin America & Caribbean\\u003cbr\\u003eYear=%{x}\\u003cbr\\u003eAccess to electricity (% pop)=%{y}\\u003cextra\\u003e\\u003c\\u002fextra\\u003e\",\"legendgroup\":\"Latin America & Caribbean\",\"line\":{\"color\":\"#636efa\",\"dash\":\"solid\"},\"marker\":{\"symbol\":\"circle\"},\"mode\":\"lines\",\"name\":\"Latin America & Caribbean\",\"showlegend\":true,\"x\":[\"1990 [YR1990]\",\"2000 [YR2000]\",\"2014 [YR2014]\",\"2015 [YR2015]\",\"2016 [YR2016]\",\"2017 [YR2017]\",\"2018 [YR2018]\",\"2019 [YR2019]\",\"2020 [YR2020]\",\"2021 [YR2021]\",\"2022 [YR2022]\",\"2023 [YR2023]\"],\"xaxis\":\"x\",\"y\":[null,91.722504391963,97.0593672921663,97.2889505262466,97.4818550592041,97.7135942305631,97.7603349993766,98.0015266427987,98.152759448219,98.2743453702088,98.5791344954591,null],\"yaxis\":\"y\",\"type\":\"scattergl\"},{\"hovertemplate\":\"Country Name=Latin America & Caribbean (excluding high income)\\u003cbr\\u003eYear=%{x}\\u003cbr\\u003eAccess to electricity (% pop)=%{y}\\u003cextra\\u003e\\u003c\\u002fextra\\u003e\",\"legendgroup\":\"Latin America & Caribbean (excluding high income)\",\"line\":{\"color\":\"#EF553B\",\"dash\":\"solid\"},\"marker\":{\"symbol\":\"circle\"},\"mode\":\"lines\",\"name\":\"Latin America & Caribbean (excluding high income)\",\"showlegend\":true,\"x\":[\"1990 [YR1990]\",\"2000 [YR2000]\",\"2014 [YR2014]\",\"2015 [YR2015]\",\"2016 [YR2016]\",\"2017 [YR2017]\",\"2018 [YR2018]\",\"2019 [YR2019]\",\"2020 [YR2020]\",\"2021 [YR2021]\",\"2022 [YR2022]\",\"2023 [YR2023]\"],\"xaxis\":\"x\",\"y\":[null,91.113646802215,96.8125407490586,97.0711664557134,97.3029797168612,97.5717475090532,97.5791568486266,97.8532110437475,98.0060017525721,98.1365448192491,98.4762455431909,null],\"yaxis\":\"y\",\"type\":\"scattergl\"},{\"hovertemplate\":\"Country Name=Latin America & the Caribbean (IDA & IBRD countries)\\u003cbr\\u003eYear=%{x}\\u003cbr\\u003eAccess to electricity (% pop)=%{y}\\u003cextra\\u003e\\u003c\\u002fextra\\u003e\",\"legendgroup\":\"Latin America & the Caribbean (IDA & IBRD countries)\",\"line\":{\"color\":\"#00cc96\",\"dash\":\"solid\"},\"marker\":{\"symbol\":\"circle\"},\"mode\":\"lines\",\"name\":\"Latin America & the Caribbean (IDA & IBRD countries)\",\"showlegend\":true,\"x\":[\"1990 [YR1990]\",\"2000 [YR2000]\",\"2014 [YR2014]\",\"2015 [YR2015]\",\"2016 [YR2016]\",\"2017 [YR2017]\",\"2018 [YR2018]\",\"2019 [YR2019]\",\"2020 [YR2020]\",\"2021 [YR2021]\",\"2022 [YR2022]\",\"2023 [YR2023]\"],\"xaxis\":\"x\",\"y\":[null,91.532905512629,97.0063562569368,97.2370514445961,97.4319920019967,97.6667483687171,97.7119543642317,97.9559417265741,98.1092788328358,98.2324938466415,98.5451250779113,null],\"yaxis\":\"y\",\"type\":\"scattergl\"},{\"hovertemplate\":\"Country Name=Least developed countries: UN classification\\u003cbr\\u003eYear=%{x}\\u003cbr\\u003eAccess to electricity (% pop)=%{y}\\u003cextra\\u003e\\u003c\\u002fextra\\u003e\",\"legendgroup\":\"Least developed countries: UN classification\",\"line\":{\"color\":\"#ab63fa\",\"dash\":\"solid\"},\"marker\":{\"symbol\":\"circle\"},\"mode\":\"lines\",\"name\":\"Least developed countries: UN classification\",\"showlegend\":true,\"x\":[\"1990 [YR1990]\",\"2000 [YR2000]\",\"2014 [YR2014]\",\"2015 [YR2015]\",\"2016 [YR2016]\",\"2017 [YR2017]\",\"2018 [YR2018]\",\"2019 [YR2019]\",\"2020 [YR2020]\",\"2021 [YR2021]\",\"2022 [YR2022]\",\"2023 [YR2023]\"],\"xaxis\":\"x\",\"y\":[null,20.1822161091548,39.4566989775184,42.2813802769193,46.3321398827951,50.2107357057394,51.1674138439625,52.9514648159524,54.562507330301,56.2251693973526,56.8264012842674,null],\"yaxis\":\"y\",\"type\":\"scattergl\"},{\"hovertemplate\":\"Country Name=Low & middle income\\u003cbr\\u003eYear=%{x}\\u003cbr\\u003eAccess to electricity (% pop)=%{y}\\u003cextra\\u003e\\u003c\\u002fextra\\u003e\",\"legendgroup\":\"Low & middle income\",\"line\":{\"color\":\"#FFA15A\",\"dash\":\"solid\"},\"marker\":{\"symbol\":\"circle\"},\"mode\":\"lines\",\"name\":\"Low & middle income\",\"showlegend\":true,\"x\":[\"1990 [YR1990]\",\"2000 [YR2000]\",\"2014 [YR2014]\",\"2015 [YR2015]\",\"2016 [YR2016]\",\"2017 [YR2017]\",\"2018 [YR2018]\",\"2019 [YR2019]\",\"2020 [YR2020]\",\"2021 [YR2021]\",\"2022 [YR2022]\",\"2023 [YR2023]\"],\"xaxis\":\"x\",\"y\":[null,72.8544678231575,83.1677876328261,84.1863196499328,85.5482587344368,86.565149962679,87.6492919680925,88.0490889564092,88.4120504553677,89.570092140798,89.5002576329068,null],\"yaxis\":\"y\",\"type\":\"scattergl\"},{\"hovertemplate\":\"Country Name=Low income\\u003cbr\\u003eYear=%{x}\\u003cbr\\u003eAccess to electricity (% pop)=%{y}\\u003cextra\\u003e\\u003c\\u002fextra\\u003e\",\"legendgroup\":\"Low income\",\"line\":{\"color\":\"#19d3f3\",\"dash\":\"solid\"},\"marker\":{\"symbol\":\"circle\"},\"mode\":\"lines\",\"name\":\"Low income\",\"showlegend\":true,\"x\":[\"1990 [YR1990]\",\"2000 [YR2000]\",\"2014 [YR2014]\",\"2015 [YR2015]\",\"2016 [YR2016]\",\"2017 [YR2017]\",\"2018 [YR2018]\",\"2019 [YR2019]\",\"2020 [YR2020]\",\"2021 [YR2021]\",\"2022 [YR2022]\",\"2023 [YR2023]\"],\"xaxis\":\"x\",\"y\":[null,15.8054672531362,32.2789179055918,32.2126229767553,37.4463085105182,39.0805495764912,40.4843611286372,41.836982681727,43.217947106415,44.8163768347735,44.9483258927663,null],\"yaxis\":\"y\",\"type\":\"scattergl\"},{\"hovertemplate\":\"Country Name=Lower middle income\\u003cbr\\u003eYear=%{x}\\u003cbr\\u003eAccess to electricity (% pop)=%{y}\\u003cextra\\u003e\\u003c\\u002fextra\\u003e\",\"legendgroup\":\"Lower middle income\",\"line\":{\"color\":\"#FF6692\",\"dash\":\"solid\"},\"marker\":{\"symbol\":\"circle\"},\"mode\":\"lines\",\"name\":\"Lower middle income\",\"showlegend\":true,\"x\":[\"1990 [YR1990]\",\"2000 [YR2000]\",\"2014 [YR2014]\",\"2015 [YR2015]\",\"2016 [YR2016]\",\"2017 [YR2017]\",\"2018 [YR2018]\",\"2019 [YR2019]\",\"2020 [YR2020]\",\"2021 [YR2021]\",\"2022 [YR2022]\",\"2023 [YR2023]\"],\"xaxis\":\"x\",\"y\":[null,58.2676706695706,78.3455492706838,80.7234409574285,82.7714915723345,84.7280368393812,86.9830368829659,87.6841442253686,88.4522403939564,90.6238225668445,90.6193347387435,null],\"yaxis\":\"y\",\"type\":\"scattergl\"},{\"hovertemplate\":\"Country Name=Middle East & North Africa\\u003cbr\\u003eYear=%{x}\\u003cbr\\u003eAccess to electricity (% pop)=%{y}\\u003cextra\\u003e\\u003c\\u002fextra\\u003e\",\"legendgroup\":\"Middle East & North Africa\",\"line\":{\"color\":\"#B6E880\",\"dash\":\"solid\"},\"marker\":{\"symbol\":\"circle\"},\"mode\":\"lines\",\"name\":\"Middle East & North Africa\",\"showlegend\":true,\"x\":[\"1990 [YR1990]\",\"2000 [YR2000]\",\"2014 [YR2014]\",\"2015 [YR2015]\",\"2016 [YR2016]\",\"2017 [YR2017]\",\"2018 [YR2018]\",\"2019 [YR2019]\",\"2020 [YR2020]\",\"2021 [YR2021]\",\"2022 [YR2022]\",\"2023 [YR2023]\"],\"xaxis\":\"x\",\"y\":[null,92.4180531531316,96.5203825283056,96.5086550115235,96.7983436224903,97.6250026473811,96.1467646904579,97.1324839563419,97.2315412836112,97.2914835513583,97.3733015431867,null],\"yaxis\":\"y\",\"type\":\"scattergl\"},{\"hovertemplate\":\"Country Name=Middle East & North Africa (excluding high income)\\u003cbr\\u003eYear=%{x}\\u003cbr\\u003eAccess to electricity (% pop)=%{y}\\u003cextra\\u003e\\u003c\\u002fextra\\u003e\",\"legendgroup\":\"Middle East & North Africa (excluding high income)\",\"line\":{\"color\":\"#FF97FF\",\"dash\":\"solid\"},\"marker\":{\"symbol\":\"circle\"},\"mode\":\"lines\",\"name\":\"Middle East & North Africa (excluding high income)\",\"showlegend\":true,\"x\":[\"1990 [YR1990]\",\"2000 [YR2000]\",\"2014 [YR2014]\",\"2015 [YR2015]\",\"2016 [YR2016]\",\"2017 [YR2017]\",\"2018 [YR2018]\",\"2019 [YR2019]\",\"2020 [YR2020]\",\"2021 [YR2021]\",\"2022 [YR2022]\",\"2023 [YR2023]\"],\"xaxis\":\"x\",\"y\":[null,91.426218615127,95.9487475084581,95.9328003127985,96.276014130497,97.2291081354939,95.5104255149385,96.6517404120541,96.7733482603745,96.8500869295379,96.9464771200397,null],\"yaxis\":\"y\",\"type\":\"scattergl\"},{\"hovertemplate\":\"Country Name=Middle East & North Africa (IDA & IBRD countries)\\u003cbr\\u003eYear=%{x}\\u003cbr\\u003eAccess to electricity (% pop)=%{y}\\u003cextra\\u003e\\u003c\\u002fextra\\u003e\",\"legendgroup\":\"Middle East & North Africa (IDA & IBRD countries)\",\"line\":{\"color\":\"#FECB52\",\"dash\":\"solid\"},\"marker\":{\"symbol\":\"circle\"},\"mode\":\"lines\",\"name\":\"Middle East & North Africa (IDA & IBRD countries)\",\"showlegend\":true,\"x\":[\"1990 [YR1990]\",\"2000 [YR2000]\",\"2014 [YR2014]\",\"2015 [YR2015]\",\"2016 [YR2016]\",\"2017 [YR2017]\",\"2018 [YR2018]\",\"2019 [YR2019]\",\"2020 [YR2020]\",\"2021 [YR2021]\",\"2022 [YR2022]\",\"2023 [YR2023]\"],\"xaxis\":\"x\",\"y\":[null,91.3401715052384,95.9037641046041,95.8874892892129,96.2332941143712,97.1983752877486,95.4583357981029,96.6125775683893,96.7352691074454,96.8125528853954,96.9097460346813,null],\"yaxis\":\"y\",\"type\":\"scattergl\"},{\"hovertemplate\":\"Country Name=Middle income\\u003cbr\\u003eYear=%{x}\\u003cbr\\u003eAccess to electricity (% pop)=%{y}\\u003cextra\\u003e\\u003c\\u002fextra\\u003e\",\"legendgroup\":\"Middle income\",\"line\":{\"color\":\"#636efa\",\"dash\":\"solid\"},\"marker\":{\"symbol\":\"circle\"},\"mode\":\"lines\",\"name\":\"Middle income\",\"showlegend\":true,\"x\":[\"1990 [YR1990]\",\"2000 [YR2000]\",\"2014 [YR2014]\",\"2015 [YR2015]\",\"2016 [YR2016]\",\"2017 [YR2017]\",\"2018 [YR2018]\",\"2019 [YR2019]\",\"2020 [YR2020]\",\"2021 [YR2021]\",\"2022 [YR2022]\",\"2023 [YR2023]\"],\"xaxis\":\"x\",\"y\":[null,77.299823288762,88.5572255305389,89.763281693845,90.7857334721579,91.815222539659,92.9486959090124,93.3328680629391,93.673300524618,94.8751847446865,94.8855561460311,null],\"yaxis\":\"y\",\"type\":\"scattergl\"},{\"hovertemplate\":\"Country Name=North America\\u003cbr\\u003eYear=%{x}\\u003cbr\\u003eAccess to electricity (% pop)=%{y}\\u003cextra\\u003e\\u003c\\u002fextra\\u003e\",\"legendgroup\":\"North America\",\"line\":{\"color\":\"#EF553B\",\"dash\":\"solid\"},\"marker\":{\"symbol\":\"circle\"},\"mode\":\"lines\",\"name\":\"North America\",\"showlegend\":true,\"x\":[\"1990 [YR1990]\",\"2000 [YR2000]\",\"2014 [YR2014]\",\"2015 [YR2015]\",\"2016 [YR2016]\",\"2017 [YR2017]\",\"2018 [YR2018]\",\"2019 [YR2019]\",\"2020 [YR2020]\",\"2021 [YR2021]\",\"2022 [YR2022]\",\"2023 [YR2023]\"],\"xaxis\":\"x\",\"y\":[100.0,100.0,100.0,100.0,100.0,100.0,100.0,100.0,100.0,100.0,100.0,null],\"yaxis\":\"y\",\"type\":\"scattergl\"},{\"hovertemplate\":\"Country Name=Not classified\\u003cbr\\u003eYear=%{x}\\u003cbr\\u003eAccess to electricity (% pop)=%{y}\\u003cextra\\u003e\\u003c\\u002fextra\\u003e\",\"legendgroup\":\"Not classified\",\"line\":{\"color\":\"#00cc96\",\"dash\":\"solid\"},\"marker\":{\"symbol\":\"circle\"},\"mode\":\"lines\",\"name\":\"Not classified\",\"showlegend\":true,\"x\":[\"1990 [YR1990]\",\"2000 [YR2000]\",\"2014 [YR2014]\",\"2015 [YR2015]\",\"2016 [YR2016]\",\"2017 [YR2017]\",\"2018 [YR2018]\",\"2019 [YR2019]\",\"2020 [YR2020]\",\"2021 [YR2021]\",\"2022 [YR2022]\",\"2023 [YR2023]\"],\"xaxis\":\"x\",\"y\":[null,null,null,null,null,null,null,null,null,null,null,null],\"yaxis\":\"y\",\"type\":\"scattergl\"},{\"hovertemplate\":\"Country Name=OECD members\\u003cbr\\u003eYear=%{x}\\u003cbr\\u003eAccess to electricity (% pop)=%{y}\\u003cextra\\u003e\\u003c\\u002fextra\\u003e\",\"legendgroup\":\"OECD members\",\"line\":{\"color\":\"#ab63fa\",\"dash\":\"solid\"},\"marker\":{\"symbol\":\"circle\"},\"mode\":\"lines\",\"name\":\"OECD members\",\"showlegend\":true,\"x\":[\"1990 [YR1990]\",\"2000 [YR2000]\",\"2014 [YR2014]\",\"2015 [YR2015]\",\"2016 [YR2016]\",\"2017 [YR2017]\",\"2018 [YR2018]\",\"2019 [YR2019]\",\"2020 [YR2020]\",\"2021 [YR2021]\",\"2022 [YR2022]\",\"2023 [YR2023]\"],\"xaxis\":\"x\",\"y\":[99.546800179424,99.6359280517518,99.8482663987896,99.8396896396459,99.89585109751,99.9405764596022,99.8985605663644,99.9400367116293,99.9332673681265,100.0,100.0,null],\"yaxis\":\"y\",\"type\":\"scattergl\"},{\"hovertemplate\":\"Country Name=Other small states\\u003cbr\\u003eYear=%{x}\\u003cbr\\u003eAccess to electricity (% pop)=%{y}\\u003cextra\\u003e\\u003c\\u002fextra\\u003e\",\"legendgroup\":\"Other small states\",\"line\":{\"color\":\"#FFA15A\",\"dash\":\"solid\"},\"marker\":{\"symbol\":\"circle\"},\"mode\":\"lines\",\"name\":\"Other small states\",\"showlegend\":true,\"x\":[\"1990 [YR1990]\",\"2000 [YR2000]\",\"2014 [YR2014]\",\"2015 [YR2015]\",\"2016 [YR2016]\",\"2017 [YR2017]\",\"2018 [YR2018]\",\"2019 [YR2019]\",\"2020 [YR2020]\",\"2021 [YR2021]\",\"2022 [YR2022]\",\"2023 [YR2023]\"],\"xaxis\":\"x\",\"y\":[null,72.4961541796735,87.0248640437107,87.8757714925346,89.1589196955869,90.4945894126707,91.5254892263974,92.7013041706379,93.6071297305702,94.5025759531236,94.6027752416708,null],\"yaxis\":\"y\",\"type\":\"scattergl\"},{\"hovertemplate\":\"Country Name=Pacific island small states\\u003cbr\\u003eYear=%{x}\\u003cbr\\u003eAccess to electricity (% pop)=%{y}\\u003cextra\\u003e\\u003c\\u002fextra\\u003e\",\"legendgroup\":\"Pacific island small states\",\"line\":{\"color\":\"#19d3f3\",\"dash\":\"solid\"},\"marker\":{\"symbol\":\"circle\"},\"mode\":\"lines\",\"name\":\"Pacific island small states\",\"showlegend\":true,\"x\":[\"1990 [YR1990]\",\"2000 [YR2000]\",\"2014 [YR2014]\",\"2015 [YR2015]\",\"2016 [YR2016]\",\"2017 [YR2017]\",\"2018 [YR2018]\",\"2019 [YR2019]\",\"2020 [YR2020]\",\"2021 [YR2021]\",\"2022 [YR2022]\",\"2023 [YR2023]\"],\"xaxis\":\"x\",\"y\":[null,55.4438771570273,76.6814711878895,78.703229504003,80.1272307017537,82.3564554155498,82.9591610078136,84.5931602439996,86.4225510641771,85.849707571326,85.8227472405466,null],\"yaxis\":\"y\",\"type\":\"scattergl\"},{\"hovertemplate\":\"Country Name=Post-demographic dividend\\u003cbr\\u003eYear=%{x}\\u003cbr\\u003eAccess to electricity (% pop)=%{y}\\u003cextra\\u003e\\u003c\\u002fextra\\u003e\",\"legendgroup\":\"Post-demographic dividend\",\"line\":{\"color\":\"#FF6692\",\"dash\":\"solid\"},\"marker\":{\"symbol\":\"circle\"},\"mode\":\"lines\",\"name\":\"Post-demographic dividend\",\"showlegend\":true,\"x\":[\"1990 [YR1990]\",\"2000 [YR2000]\",\"2014 [YR2014]\",\"2015 [YR2015]\",\"2016 [YR2016]\",\"2017 [YR2017]\",\"2018 [YR2018]\",\"2019 [YR2019]\",\"2020 [YR2020]\",\"2021 [YR2021]\",\"2022 [YR2022]\",\"2023 [YR2023]\"],\"xaxis\":\"x\",\"y\":[99.9943911362469,99.7152423608883,99.9313827467578,99.9440320084058,99.9571187558814,99.970583083607,99.981741114911,99.9929550285056,99.9971273501603,99.9987681484921,100.0,null],\"yaxis\":\"y\",\"type\":\"scattergl\"},{\"hovertemplate\":\"Country Name=Pre-demographic dividend\\u003cbr\\u003eYear=%{x}\\u003cbr\\u003eAccess to electricity (% pop)=%{y}\\u003cextra\\u003e\\u003c\\u002fextra\\u003e\",\"legendgroup\":\"Pre-demographic dividend\",\"line\":{\"color\":\"#B6E880\",\"dash\":\"solid\"},\"marker\":{\"symbol\":\"circle\"},\"mode\":\"lines\",\"name\":\"Pre-demographic dividend\",\"showlegend\":true,\"x\":[\"1990 [YR1990]\",\"2000 [YR2000]\",\"2014 [YR2014]\",\"2015 [YR2015]\",\"2016 [YR2016]\",\"2017 [YR2017]\",\"2018 [YR2018]\",\"2019 [YR2019]\",\"2020 [YR2020]\",\"2021 [YR2021]\",\"2022 [YR2022]\",\"2023 [YR2023]\"],\"xaxis\":\"x\",\"y\":[null,24.871639267962,39.8441097568589,40.0606293618327,44.61180063733,44.320455294993,47.0762627878568,47.5782396795133,48.3855447902348,50.5238061632824,51.1203418281979,null],\"yaxis\":\"y\",\"type\":\"scattergl\"},{\"hovertemplate\":\"Country Name=Small states\\u003cbr\\u003eYear=%{x}\\u003cbr\\u003eAccess to electricity (% pop)=%{y}\\u003cextra\\u003e\\u003c\\u002fextra\\u003e\",\"legendgroup\":\"Small states\",\"line\":{\"color\":\"#FF97FF\",\"dash\":\"solid\"},\"marker\":{\"symbol\":\"circle\"},\"mode\":\"lines\",\"name\":\"Small states\",\"showlegend\":true,\"x\":[\"1990 [YR1990]\",\"2000 [YR2000]\",\"2014 [YR2014]\",\"2015 [YR2015]\",\"2016 [YR2016]\",\"2017 [YR2017]\",\"2018 [YR2018]\",\"2019 [YR2019]\",\"2020 [YR2020]\",\"2021 [YR2021]\",\"2022 [YR2022]\",\"2023 [YR2023]\"],\"xaxis\":\"x\",\"y\":[null,72.7326037651714,86.7803650873228,87.7309920878869,88.9341020251841,90.2630998844596,91.0865817462377,92.2015549079081,93.2090070960632,93.8179009205047,93.9107043828779,null],\"yaxis\":\"y\",\"type\":\"scattergl\"},{\"hovertemplate\":\"Country Name=South Asia\\u003cbr\\u003eYear=%{x}\\u003cbr\\u003eAccess to electricity (% pop)=%{y}\\u003cextra\\u003e\\u003c\\u002fextra\\u003e\",\"legendgroup\":\"South Asia\",\"line\":{\"color\":\"#FECB52\",\"dash\":\"solid\"},\"marker\":{\"symbol\":\"circle\"},\"mode\":\"lines\",\"name\":\"South Asia\",\"showlegend\":true,\"x\":[\"1990 [YR1990]\",\"2000 [YR2000]\",\"2014 [YR2014]\",\"2015 [YR2015]\",\"2016 [YR2016]\",\"2017 [YR2017]\",\"2018 [YR2018]\",\"2019 [YR2019]\",\"2020 [YR2020]\",\"2021 [YR2021]\",\"2022 [YR2022]\",\"2023 [YR2023]\"],\"xaxis\":\"x\",\"y\":[null,57.891737765281,83.8523954854089,86.7867132149237,88.9173147181527,91.6760241733433,94.6179244479771,95.3232055481217,96.197039231936,98.786423758525,98.2879959489889,null],\"yaxis\":\"y\",\"type\":\"scattergl\"},{\"hovertemplate\":\"Country Name=South Asia (IDA & IBRD)\\u003cbr\\u003eYear=%{x}\\u003cbr\\u003eAccess to electricity (% pop)=%{y}\\u003cextra\\u003e\\u003c\\u002fextra\\u003e\",\"legendgroup\":\"South Asia (IDA & IBRD)\",\"line\":{\"color\":\"#636efa\",\"dash\":\"solid\"},\"marker\":{\"symbol\":\"circle\"},\"mode\":\"lines\",\"name\":\"South Asia (IDA & IBRD)\",\"showlegend\":true,\"x\":[\"1990 [YR1990]\",\"2000 [YR2000]\",\"2014 [YR2014]\",\"2015 [YR2015]\",\"2016 [YR2016]\",\"2017 [YR2017]\",\"2018 [YR2018]\",\"2019 [YR2019]\",\"2020 [YR2020]\",\"2021 [YR2021]\",\"2022 [YR2022]\",\"2023 [YR2023]\"],\"xaxis\":\"x\",\"y\":[null,57.891737765281,83.8523954854089,86.7867132149237,88.9173147181527,91.6760241733433,94.6179244479771,95.3232055481217,96.197039231936,98.786423758525,98.2879959489889,null],\"yaxis\":\"y\",\"type\":\"scattergl\"},{\"hovertemplate\":\"Country Name=Sub-Saharan Africa\\u003cbr\\u003eYear=%{x}\\u003cbr\\u003eAccess to electricity (% pop)=%{y}\\u003cextra\\u003e\\u003c\\u002fextra\\u003e\",\"legendgroup\":\"Sub-Saharan Africa\",\"line\":{\"color\":\"#EF553B\",\"dash\":\"solid\"},\"marker\":{\"symbol\":\"circle\"},\"mode\":\"lines\",\"name\":\"Sub-Saharan Africa\",\"showlegend\":true,\"x\":[\"1990 [YR1990]\",\"2000 [YR2000]\",\"2014 [YR2014]\",\"2015 [YR2015]\",\"2016 [YR2016]\",\"2017 [YR2017]\",\"2018 [YR2018]\",\"2019 [YR2019]\",\"2020 [YR2020]\",\"2021 [YR2021]\",\"2022 [YR2022]\",\"2023 [YR2023]\"],\"xaxis\":\"x\",\"y\":[null,25.659147015754,38.2658690780816,39.1121832624488,43.7370505625674,43.6808105316438,46.3373545996798,47.1303990695105,48.478195544667,50.5800665756201,51.4347389951457,null],\"yaxis\":\"y\",\"type\":\"scattergl\"},{\"hovertemplate\":\"Country Name=Sub-Saharan Africa (excluding high income)\\u003cbr\\u003eYear=%{x}\\u003cbr\\u003eAccess to electricity (% pop)=%{y}\\u003cextra\\u003e\\u003c\\u002fextra\\u003e\",\"legendgroup\":\"Sub-Saharan Africa (excluding high income)\",\"line\":{\"color\":\"#00cc96\",\"dash\":\"solid\"},\"marker\":{\"symbol\":\"circle\"},\"mode\":\"lines\",\"name\":\"Sub-Saharan Africa (excluding high income)\",\"showlegend\":true,\"x\":[\"1990 [YR1990]\",\"2000 [YR2000]\",\"2014 [YR2014]\",\"2015 [YR2015]\",\"2016 [YR2016]\",\"2017 [YR2017]\",\"2018 [YR2018]\",\"2019 [YR2019]\",\"2020 [YR2020]\",\"2021 [YR2021]\",\"2022 [YR2022]\",\"2023 [YR2023]\"],\"xaxis\":\"x\",\"y\":[null,25.6507452124749,38.2601223073109,39.1065437139548,43.7319091609899,43.675736407086,46.3326008959214,47.1257966456512,48.4737889046716,50.5759132657492,51.4299317538115,null],\"yaxis\":\"y\",\"type\":\"scattergl\"},{\"hovertemplate\":\"Country Name=Sub-Saharan Africa (IDA & IBRD countries)\\u003cbr\\u003eYear=%{x}\\u003cbr\\u003eAccess to electricity (% pop)=%{y}\\u003cextra\\u003e\\u003c\\u002fextra\\u003e\",\"legendgroup\":\"Sub-Saharan Africa (IDA & IBRD countries)\",\"line\":{\"color\":\"#ab63fa\",\"dash\":\"solid\"},\"marker\":{\"symbol\":\"circle\"},\"mode\":\"lines\",\"name\":\"Sub-Saharan Africa (IDA & IBRD countries)\",\"showlegend\":true,\"x\":[\"1990 [YR1990]\",\"2000 [YR2000]\",\"2014 [YR2014]\",\"2015 [YR2015]\",\"2016 [YR2016]\",\"2017 [YR2017]\",\"2018 [YR2018]\",\"2019 [YR2019]\",\"2020 [YR2020]\",\"2021 [YR2021]\",\"2022 [YR2022]\",\"2023 [YR2023]\"],\"xaxis\":\"x\",\"y\":[null,25.659147015754,38.2658690780816,39.1121832624488,43.7370505625674,43.6808105316439,46.3373545996798,47.1303990695105,48.478195544667,50.5800665756201,51.4347389951457,null],\"yaxis\":\"y\",\"type\":\"scattergl\"},{\"hovertemplate\":\"Country Name=Upper middle income\\u003cbr\\u003eYear=%{x}\\u003cbr\\u003eAccess to electricity (% pop)=%{y}\\u003cextra\\u003e\\u003c\\u002fextra\\u003e\",\"legendgroup\":\"Upper middle income\",\"line\":{\"color\":\"#FFA15A\",\"dash\":\"solid\"},\"marker\":{\"symbol\":\"circle\"},\"mode\":\"lines\",\"name\":\"Upper middle income\",\"showlegend\":true,\"x\":[\"1990 [YR1990]\",\"2000 [YR2000]\",\"2014 [YR2014]\",\"2015 [YR2015]\",\"2016 [YR2016]\",\"2017 [YR2017]\",\"2018 [YR2018]\",\"2019 [YR2019]\",\"2020 [YR2020]\",\"2021 [YR2021]\",\"2022 [YR2022]\",\"2023 [YR2023]\"],\"xaxis\":\"x\",\"y\":[null,94.3274648640233,98.8894942576766,98.9709975774677,99.0052638487001,99.1339177479467,99.152882923018,99.2510521973761,99.1899480241711,99.4083794765038,99.4851190889072,null],\"yaxis\":\"y\",\"type\":\"scattergl\"},{\"hovertemplate\":\"Country Name=World\\u003cbr\\u003eYear=%{x}\\u003cbr\\u003eAccess to electricity (% pop)=%{y}\\u003cextra\\u003e\\u003c\\u002fextra\\u003e\",\"legendgroup\":\"World\",\"line\":{\"color\":\"#19d3f3\",\"dash\":\"solid\"},\"marker\":{\"symbol\":\"circle\"},\"mode\":\"lines\",\"name\":\"World\",\"showlegend\":true,\"x\":[\"1990 [YR1990]\",\"2000 [YR2000]\",\"2014 [YR2014]\",\"2015 [YR2015]\",\"2016 [YR2016]\",\"2017 [YR2017]\",\"2018 [YR2018]\",\"2019 [YR2019]\",\"2020 [YR2020]\",\"2021 [YR2021]\",\"2022 [YR2022]\",\"2023 [YR2023]\"],\"xaxis\":\"x\",\"y\":[null,78.3543617623921,86.3012690468959,87.0237851218521,88.1922255251927,89.0186672372511,89.8908858380532,90.199100032655,90.4854035957629,91.4203322426229,91.3525709654628,null],\"yaxis\":\"y\",\"type\":\"scattergl\"}],                        {\"template\":{\"data\":{\"histogram2dcontour\":[{\"type\":\"histogram2dcontour\",\"colorbar\":{\"outlinewidth\":0,\"ticks\":\"\"},\"colorscale\":[[0.0,\"#0d0887\"],[0.1111111111111111,\"#46039f\"],[0.2222222222222222,\"#7201a8\"],[0.3333333333333333,\"#9c179e\"],[0.4444444444444444,\"#bd3786\"],[0.5555555555555556,\"#d8576b\"],[0.6666666666666666,\"#ed7953\"],[0.7777777777777778,\"#fb9f3a\"],[0.8888888888888888,\"#fdca26\"],[1.0,\"#f0f921\"]]}],\"choropleth\":[{\"type\":\"choropleth\",\"colorbar\":{\"outlinewidth\":0,\"ticks\":\"\"}}],\"histogram2d\":[{\"type\":\"histogram2d\",\"colorbar\":{\"outlinewidth\":0,\"ticks\":\"\"},\"colorscale\":[[0.0,\"#0d0887\"],[0.1111111111111111,\"#46039f\"],[0.2222222222222222,\"#7201a8\"],[0.3333333333333333,\"#9c179e\"],[0.4444444444444444,\"#bd3786\"],[0.5555555555555556,\"#d8576b\"],[0.6666666666666666,\"#ed7953\"],[0.7777777777777778,\"#fb9f3a\"],[0.8888888888888888,\"#fdca26\"],[1.0,\"#f0f921\"]]}],\"heatmap\":[{\"type\":\"heatmap\",\"colorbar\":{\"outlinewidth\":0,\"ticks\":\"\"},\"colorscale\":[[0.0,\"#0d0887\"],[0.1111111111111111,\"#46039f\"],[0.2222222222222222,\"#7201a8\"],[0.3333333333333333,\"#9c179e\"],[0.4444444444444444,\"#bd3786\"],[0.5555555555555556,\"#d8576b\"],[0.6666666666666666,\"#ed7953\"],[0.7777777777777778,\"#fb9f3a\"],[0.8888888888888888,\"#fdca26\"],[1.0,\"#f0f921\"]]}],\"heatmapgl\":[{\"type\":\"heatmapgl\",\"colorbar\":{\"outlinewidth\":0,\"ticks\":\"\"},\"colorscale\":[[0.0,\"#0d0887\"],[0.1111111111111111,\"#46039f\"],[0.2222222222222222,\"#7201a8\"],[0.3333333333333333,\"#9c179e\"],[0.4444444444444444,\"#bd3786\"],[0.5555555555555556,\"#d8576b\"],[0.6666666666666666,\"#ed7953\"],[0.7777777777777778,\"#fb9f3a\"],[0.8888888888888888,\"#fdca26\"],[1.0,\"#f0f921\"]]}],\"contourcarpet\":[{\"type\":\"contourcarpet\",\"colorbar\":{\"outlinewidth\":0,\"ticks\":\"\"}}],\"contour\":[{\"type\":\"contour\",\"colorbar\":{\"outlinewidth\":0,\"ticks\":\"\"},\"colorscale\":[[0.0,\"#0d0887\"],[0.1111111111111111,\"#46039f\"],[0.2222222222222222,\"#7201a8\"],[0.3333333333333333,\"#9c179e\"],[0.4444444444444444,\"#bd3786\"],[0.5555555555555556,\"#d8576b\"],[0.6666666666666666,\"#ed7953\"],[0.7777777777777778,\"#fb9f3a\"],[0.8888888888888888,\"#fdca26\"],[1.0,\"#f0f921\"]]}],\"surface\":[{\"type\":\"surface\",\"colorbar\":{\"outlinewidth\":0,\"ticks\":\"\"},\"colorscale\":[[0.0,\"#0d0887\"],[0.1111111111111111,\"#46039f\"],[0.2222222222222222,\"#7201a8\"],[0.3333333333333333,\"#9c179e\"],[0.4444444444444444,\"#bd3786\"],[0.5555555555555556,\"#d8576b\"],[0.6666666666666666,\"#ed7953\"],[0.7777777777777778,\"#fb9f3a\"],[0.8888888888888888,\"#fdca26\"],[1.0,\"#f0f921\"]]}],\"mesh3d\":[{\"type\":\"mesh3d\",\"colorbar\":{\"outlinewidth\":0,\"ticks\":\"\"}}],\"scatter\":[{\"fillpattern\":{\"fillmode\":\"overlay\",\"size\":10,\"solidity\":0.2},\"type\":\"scatter\"}],\"parcoords\":[{\"type\":\"parcoords\",\"line\":{\"colorbar\":{\"outlinewidth\":0,\"ticks\":\"\"}}}],\"scatterpolargl\":[{\"type\":\"scatterpolargl\",\"marker\":{\"colorbar\":{\"outlinewidth\":0,\"ticks\":\"\"}}}],\"bar\":[{\"error_x\":{\"color\":\"#2a3f5f\"},\"error_y\":{\"color\":\"#2a3f5f\"},\"marker\":{\"line\":{\"color\":\"#E5ECF6\",\"width\":0.5},\"pattern\":{\"fillmode\":\"overlay\",\"size\":10,\"solidity\":0.2}},\"type\":\"bar\"}],\"scattergeo\":[{\"type\":\"scattergeo\",\"marker\":{\"colorbar\":{\"outlinewidth\":0,\"ticks\":\"\"}}}],\"scatterpolar\":[{\"type\":\"scatterpolar\",\"marker\":{\"colorbar\":{\"outlinewidth\":0,\"ticks\":\"\"}}}],\"histogram\":[{\"marker\":{\"pattern\":{\"fillmode\":\"overlay\",\"size\":10,\"solidity\":0.2}},\"type\":\"histogram\"}],\"scattergl\":[{\"type\":\"scattergl\",\"marker\":{\"colorbar\":{\"outlinewidth\":0,\"ticks\":\"\"}}}],\"scatter3d\":[{\"type\":\"scatter3d\",\"line\":{\"colorbar\":{\"outlinewidth\":0,\"ticks\":\"\"}},\"marker\":{\"colorbar\":{\"outlinewidth\":0,\"ticks\":\"\"}}}],\"scattermapbox\":[{\"type\":\"scattermapbox\",\"marker\":{\"colorbar\":{\"outlinewidth\":0,\"ticks\":\"\"}}}],\"scatterternary\":[{\"type\":\"scatterternary\",\"marker\":{\"colorbar\":{\"outlinewidth\":0,\"ticks\":\"\"}}}],\"scattercarpet\":[{\"type\":\"scattercarpet\",\"marker\":{\"colorbar\":{\"outlinewidth\":0,\"ticks\":\"\"}}}],\"carpet\":[{\"aaxis\":{\"endlinecolor\":\"#2a3f5f\",\"gridcolor\":\"white\",\"linecolor\":\"white\",\"minorgridcolor\":\"white\",\"startlinecolor\":\"#2a3f5f\"},\"baxis\":{\"endlinecolor\":\"#2a3f5f\",\"gridcolor\":\"white\",\"linecolor\":\"white\",\"minorgridcolor\":\"white\",\"startlinecolor\":\"#2a3f5f\"},\"type\":\"carpet\"}],\"table\":[{\"cells\":{\"fill\":{\"color\":\"#EBF0F8\"},\"line\":{\"color\":\"white\"}},\"header\":{\"fill\":{\"color\":\"#C8D4E3\"},\"line\":{\"color\":\"white\"}},\"type\":\"table\"}],\"barpolar\":[{\"marker\":{\"line\":{\"color\":\"#E5ECF6\",\"width\":0.5},\"pattern\":{\"fillmode\":\"overlay\",\"size\":10,\"solidity\":0.2}},\"type\":\"barpolar\"}],\"pie\":[{\"automargin\":true,\"type\":\"pie\"}]},\"layout\":{\"autotypenumbers\":\"strict\",\"colorway\":[\"#636efa\",\"#EF553B\",\"#00cc96\",\"#ab63fa\",\"#FFA15A\",\"#19d3f3\",\"#FF6692\",\"#B6E880\",\"#FF97FF\",\"#FECB52\"],\"font\":{\"color\":\"#2a3f5f\"},\"hovermode\":\"closest\",\"hoverlabel\":{\"align\":\"left\"},\"paper_bgcolor\":\"white\",\"plot_bgcolor\":\"#E5ECF6\",\"polar\":{\"bgcolor\":\"#E5ECF6\",\"angularaxis\":{\"gridcolor\":\"white\",\"linecolor\":\"white\",\"ticks\":\"\"},\"radialaxis\":{\"gridcolor\":\"white\",\"linecolor\":\"white\",\"ticks\":\"\"}},\"ternary\":{\"bgcolor\":\"#E5ECF6\",\"aaxis\":{\"gridcolor\":\"white\",\"linecolor\":\"white\",\"ticks\":\"\"},\"baxis\":{\"gridcolor\":\"white\",\"linecolor\":\"white\",\"ticks\":\"\"},\"caxis\":{\"gridcolor\":\"white\",\"linecolor\":\"white\",\"ticks\":\"\"}},\"coloraxis\":{\"colorbar\":{\"outlinewidth\":0,\"ticks\":\"\"}},\"colorscale\":{\"sequential\":[[0.0,\"#0d0887\"],[0.1111111111111111,\"#46039f\"],[0.2222222222222222,\"#7201a8\"],[0.3333333333333333,\"#9c179e\"],[0.4444444444444444,\"#bd3786\"],[0.5555555555555556,\"#d8576b\"],[0.6666666666666666,\"#ed7953\"],[0.7777777777777778,\"#fb9f3a\"],[0.8888888888888888,\"#fdca26\"],[1.0,\"#f0f921\"]],\"sequentialminus\":[[0.0,\"#0d0887\"],[0.1111111111111111,\"#46039f\"],[0.2222222222222222,\"#7201a8\"],[0.3333333333333333,\"#9c179e\"],[0.4444444444444444,\"#bd3786\"],[0.5555555555555556,\"#d8576b\"],[0.6666666666666666,\"#ed7953\"],[0.7777777777777778,\"#fb9f3a\"],[0.8888888888888888,\"#fdca26\"],[1.0,\"#f0f921\"]],\"diverging\":[[0,\"#8e0152\"],[0.1,\"#c51b7d\"],[0.2,\"#de77ae\"],[0.3,\"#f1b6da\"],[0.4,\"#fde0ef\"],[0.5,\"#f7f7f7\"],[0.6,\"#e6f5d0\"],[0.7,\"#b8e186\"],[0.8,\"#7fbc41\"],[0.9,\"#4d9221\"],[1,\"#276419\"]]},\"xaxis\":{\"gridcolor\":\"white\",\"linecolor\":\"white\",\"ticks\":\"\",\"title\":{\"standoff\":15},\"zerolinecolor\":\"white\",\"automargin\":true,\"zerolinewidth\":2},\"yaxis\":{\"gridcolor\":\"white\",\"linecolor\":\"white\",\"ticks\":\"\",\"title\":{\"standoff\":15},\"zerolinecolor\":\"white\",\"automargin\":true,\"zerolinewidth\":2},\"scene\":{\"xaxis\":{\"backgroundcolor\":\"#E5ECF6\",\"gridcolor\":\"white\",\"linecolor\":\"white\",\"showbackground\":true,\"ticks\":\"\",\"zerolinecolor\":\"white\",\"gridwidth\":2},\"yaxis\":{\"backgroundcolor\":\"#E5ECF6\",\"gridcolor\":\"white\",\"linecolor\":\"white\",\"showbackground\":true,\"ticks\":\"\",\"zerolinecolor\":\"white\",\"gridwidth\":2},\"zaxis\":{\"backgroundcolor\":\"#E5ECF6\",\"gridcolor\":\"white\",\"linecolor\":\"white\",\"showbackground\":true,\"ticks\":\"\",\"zerolinecolor\":\"white\",\"gridwidth\":2}},\"shapedefaults\":{\"line\":{\"color\":\"#2a3f5f\"}},\"annotationdefaults\":{\"arrowcolor\":\"#2a3f5f\",\"arrowhead\":0,\"arrowwidth\":1},\"geo\":{\"bgcolor\":\"white\",\"landcolor\":\"#E5ECF6\",\"subunitcolor\":\"white\",\"showland\":true,\"showlakes\":true,\"lakecolor\":\"white\"},\"title\":{\"x\":0.05},\"mapbox\":{\"style\":\"light\"}}},\"xaxis\":{\"anchor\":\"y\",\"domain\":[0.0,1.0],\"title\":{\"text\":\"Year\"}},\"yaxis\":{\"anchor\":\"x\",\"domain\":[0.0,1.0],\"title\":{\"text\":\"Access to electricity (% pop)\"}},\"legend\":{\"title\":{\"text\":\"Country Name\"},\"tracegroupgap\":0},\"margin\":{\"t\":60}},                        {\"responsive\": true}                    ).then(function(){\n",
       "                            \n",
       "var gd = document.getElementById('49f46447-598e-4879-ab1c-735152051c7f');\n",
       "var x = new MutationObserver(function (mutations, observer) {{\n",
       "        var display = window.getComputedStyle(gd).display;\n",
       "        if (!display || display === 'none') {{\n",
       "            console.log([gd, 'removed!']);\n",
       "            Plotly.purge(gd);\n",
       "            observer.disconnect();\n",
       "        }}\n",
       "}});\n",
       "\n",
       "// Listen for the removal of the full notebook cells\n",
       "var notebookContainer = gd.closest('#notebook-container');\n",
       "if (notebookContainer) {{\n",
       "    x.observe(notebookContainer, {childList: true});\n",
       "}}\n",
       "\n",
       "// Listen for the clearing of the current output cell\n",
       "var outputEl = gd.closest('.output');\n",
       "if (outputEl) {{\n",
       "    x.observe(outputEl, {childList: true});\n",
       "}}\n",
       "\n",
       "                        })                };                });            </script>        </div>"
      ]
     },
     "metadata": {},
     "output_type": "display_data"
    }
   ],
   "source": [
    "import plotly.express as px\n",
    "\n",
    "px.line(\n",
    "    electricity_per_year,\n",
    "    x=\"Year\",\n",
    "    y=\"Access to electricity (% pop)\",\n",
    "    color=\"Country Name\"\n",
    ")"
   ]
  },
  {
   "cell_type": "markdown",
   "id": "0954160b-3c4f-4dfb-94da-72ed164f6151",
   "metadata": {},
   "source": [
    "## Happiness data"
   ]
  },
  {
   "cell_type": "code",
   "execution_count": 53,
   "id": "1811116d-f511-4ee3-b596-c6cbfe288e5b",
   "metadata": {},
   "outputs": [
    {
     "data": {
      "text/html": [
       "<div>\n",
       "<style scoped>\n",
       "    .dataframe tbody tr th:only-of-type {\n",
       "        vertical-align: middle;\n",
       "    }\n",
       "\n",
       "    .dataframe tbody tr th {\n",
       "        vertical-align: top;\n",
       "    }\n",
       "\n",
       "    .dataframe thead th {\n",
       "        text-align: right;\n",
       "    }\n",
       "</style>\n",
       "<table border=\"1\" class=\"dataframe\">\n",
       "  <thead>\n",
       "    <tr style=\"text-align: right;\">\n",
       "      <th></th>\n",
       "      <th>Country name</th>\n",
       "      <th>year</th>\n",
       "      <th>Life Ladder</th>\n",
       "      <th>Log GDP per capita</th>\n",
       "      <th>Social support</th>\n",
       "      <th>Healthy life expectancy at birth</th>\n",
       "      <th>Freedom to make life choices</th>\n",
       "      <th>Generosity</th>\n",
       "      <th>Perceptions of corruption</th>\n",
       "      <th>Positive affect</th>\n",
       "      <th>Negative affect</th>\n",
       "    </tr>\n",
       "  </thead>\n",
       "  <tbody>\n",
       "    <tr>\n",
       "      <th>0</th>\n",
       "      <td>Afghanistan</td>\n",
       "      <td>2008</td>\n",
       "      <td>3.723590</td>\n",
       "      <td>7.350416</td>\n",
       "      <td>0.450662</td>\n",
       "      <td>50.500000</td>\n",
       "      <td>0.718114</td>\n",
       "      <td>0.164055</td>\n",
       "      <td>0.881686</td>\n",
       "      <td>0.414297</td>\n",
       "      <td>0.258195</td>\n",
       "    </tr>\n",
       "    <tr>\n",
       "      <th>1</th>\n",
       "      <td>Afghanistan</td>\n",
       "      <td>2009</td>\n",
       "      <td>4.401778</td>\n",
       "      <td>7.508646</td>\n",
       "      <td>0.552308</td>\n",
       "      <td>50.799999</td>\n",
       "      <td>0.678896</td>\n",
       "      <td>0.187297</td>\n",
       "      <td>0.850035</td>\n",
       "      <td>0.481421</td>\n",
       "      <td>0.237092</td>\n",
       "    </tr>\n",
       "    <tr>\n",
       "      <th>2</th>\n",
       "      <td>Afghanistan</td>\n",
       "      <td>2010</td>\n",
       "      <td>4.758381</td>\n",
       "      <td>7.613900</td>\n",
       "      <td>0.539075</td>\n",
       "      <td>51.099998</td>\n",
       "      <td>0.600127</td>\n",
       "      <td>0.117861</td>\n",
       "      <td>0.706766</td>\n",
       "      <td>0.516907</td>\n",
       "      <td>0.275324</td>\n",
       "    </tr>\n",
       "    <tr>\n",
       "      <th>3</th>\n",
       "      <td>Afghanistan</td>\n",
       "      <td>2011</td>\n",
       "      <td>3.831719</td>\n",
       "      <td>7.581259</td>\n",
       "      <td>0.521104</td>\n",
       "      <td>51.400002</td>\n",
       "      <td>0.495901</td>\n",
       "      <td>0.160098</td>\n",
       "      <td>0.731109</td>\n",
       "      <td>0.479835</td>\n",
       "      <td>0.267175</td>\n",
       "    </tr>\n",
       "    <tr>\n",
       "      <th>4</th>\n",
       "      <td>Afghanistan</td>\n",
       "      <td>2012</td>\n",
       "      <td>3.782938</td>\n",
       "      <td>7.660506</td>\n",
       "      <td>0.520637</td>\n",
       "      <td>51.700001</td>\n",
       "      <td>0.530935</td>\n",
       "      <td>0.234157</td>\n",
       "      <td>0.775620</td>\n",
       "      <td>0.613513</td>\n",
       "      <td>0.267919</td>\n",
       "    </tr>\n",
       "    <tr>\n",
       "      <th>...</th>\n",
       "      <td>...</td>\n",
       "      <td>...</td>\n",
       "      <td>...</td>\n",
       "      <td>...</td>\n",
       "      <td>...</td>\n",
       "      <td>...</td>\n",
       "      <td>...</td>\n",
       "      <td>...</td>\n",
       "      <td>...</td>\n",
       "      <td>...</td>\n",
       "      <td>...</td>\n",
       "    </tr>\n",
       "    <tr>\n",
       "      <th>2358</th>\n",
       "      <td>Zimbabwe</td>\n",
       "      <td>2019</td>\n",
       "      <td>2.693523</td>\n",
       "      <td>7.697755</td>\n",
       "      <td>0.759162</td>\n",
       "      <td>53.099998</td>\n",
       "      <td>0.631908</td>\n",
       "      <td>-0.050874</td>\n",
       "      <td>0.830652</td>\n",
       "      <td>0.658434</td>\n",
       "      <td>0.235354</td>\n",
       "    </tr>\n",
       "    <tr>\n",
       "      <th>2359</th>\n",
       "      <td>Zimbabwe</td>\n",
       "      <td>2020</td>\n",
       "      <td>3.159802</td>\n",
       "      <td>7.596050</td>\n",
       "      <td>0.717243</td>\n",
       "      <td>53.575001</td>\n",
       "      <td>0.643303</td>\n",
       "      <td>0.002848</td>\n",
       "      <td>0.788523</td>\n",
       "      <td>0.660658</td>\n",
       "      <td>0.345736</td>\n",
       "    </tr>\n",
       "    <tr>\n",
       "      <th>2360</th>\n",
       "      <td>Zimbabwe</td>\n",
       "      <td>2021</td>\n",
       "      <td>3.154578</td>\n",
       "      <td>7.656878</td>\n",
       "      <td>0.685151</td>\n",
       "      <td>54.049999</td>\n",
       "      <td>0.667636</td>\n",
       "      <td>-0.079007</td>\n",
       "      <td>0.756945</td>\n",
       "      <td>0.609917</td>\n",
       "      <td>0.241682</td>\n",
       "    </tr>\n",
       "    <tr>\n",
       "      <th>2361</th>\n",
       "      <td>Zimbabwe</td>\n",
       "      <td>2022</td>\n",
       "      <td>3.296220</td>\n",
       "      <td>7.670073</td>\n",
       "      <td>0.666172</td>\n",
       "      <td>54.525002</td>\n",
       "      <td>0.651987</td>\n",
       "      <td>-0.072935</td>\n",
       "      <td>0.752632</td>\n",
       "      <td>0.640609</td>\n",
       "      <td>0.191350</td>\n",
       "    </tr>\n",
       "    <tr>\n",
       "      <th>2362</th>\n",
       "      <td>Zimbabwe</td>\n",
       "      <td>2023</td>\n",
       "      <td>3.572386</td>\n",
       "      <td>7.678590</td>\n",
       "      <td>0.693817</td>\n",
       "      <td>55.000000</td>\n",
       "      <td>0.734613</td>\n",
       "      <td>-0.068837</td>\n",
       "      <td>0.757494</td>\n",
       "      <td>0.609752</td>\n",
       "      <td>0.178953</td>\n",
       "    </tr>\n",
       "  </tbody>\n",
       "</table>\n",
       "<p>2363 rows × 11 columns</p>\n",
       "</div>"
      ],
      "text/plain": [
       "     Country name  year  Life Ladder  Log GDP per capita  Social support  \\\n",
       "0     Afghanistan  2008     3.723590            7.350416        0.450662   \n",
       "1     Afghanistan  2009     4.401778            7.508646        0.552308   \n",
       "2     Afghanistan  2010     4.758381            7.613900        0.539075   \n",
       "3     Afghanistan  2011     3.831719            7.581259        0.521104   \n",
       "4     Afghanistan  2012     3.782938            7.660506        0.520637   \n",
       "...           ...   ...          ...                 ...             ...   \n",
       "2358     Zimbabwe  2019     2.693523            7.697755        0.759162   \n",
       "2359     Zimbabwe  2020     3.159802            7.596050        0.717243   \n",
       "2360     Zimbabwe  2021     3.154578            7.656878        0.685151   \n",
       "2361     Zimbabwe  2022     3.296220            7.670073        0.666172   \n",
       "2362     Zimbabwe  2023     3.572386            7.678590        0.693817   \n",
       "\n",
       "      Healthy life expectancy at birth  Freedom to make life choices  \\\n",
       "0                            50.500000                      0.718114   \n",
       "1                            50.799999                      0.678896   \n",
       "2                            51.099998                      0.600127   \n",
       "3                            51.400002                      0.495901   \n",
       "4                            51.700001                      0.530935   \n",
       "...                                ...                           ...   \n",
       "2358                         53.099998                      0.631908   \n",
       "2359                         53.575001                      0.643303   \n",
       "2360                         54.049999                      0.667636   \n",
       "2361                         54.525002                      0.651987   \n",
       "2362                         55.000000                      0.734613   \n",
       "\n",
       "      Generosity  Perceptions of corruption  Positive affect  Negative affect  \n",
       "0       0.164055                   0.881686         0.414297         0.258195  \n",
       "1       0.187297                   0.850035         0.481421         0.237092  \n",
       "2       0.117861                   0.706766         0.516907         0.275324  \n",
       "3       0.160098                   0.731109         0.479835         0.267175  \n",
       "4       0.234157                   0.775620         0.613513         0.267919  \n",
       "...          ...                        ...              ...              ...  \n",
       "2358   -0.050874                   0.830652         0.658434         0.235354  \n",
       "2359    0.002848                   0.788523         0.660658         0.345736  \n",
       "2360   -0.079007                   0.756945         0.609917         0.241682  \n",
       "2361   -0.072935                   0.752632         0.640609         0.191350  \n",
       "2362   -0.068837                   0.757494         0.609752         0.178953  \n",
       "\n",
       "[2363 rows x 11 columns]"
      ]
     },
     "execution_count": 53,
     "metadata": {},
     "output_type": "execute_result"
    }
   ],
   "source": [
    "happiness = pd.read_excel(\"DataForTable2.1.xls\")\n",
    "happiness"
   ]
  },
  {
   "cell_type": "markdown",
   "id": "de845618-ecd7-4102-bf40-b4a7d5264912",
   "metadata": {},
   "source": [
    "## Merge"
   ]
  },
  {
   "cell_type": "code",
   "execution_count": 54,
   "id": "a599e30b-4e51-4c39-8eed-5dabb0d5b36f",
   "metadata": {
    "scrolled": true
   },
   "outputs": [
    {
     "ename": "ValueError",
     "evalue": "You are trying to merge on object and int64 columns for key 'Year'. If you wish to proceed you should use pd.concat",
     "output_type": "error",
     "traceback": [
      "\u001b[0;31m---------------------------------------------------------------------------\u001b[0m",
      "\u001b[0;31mValueError\u001b[0m                                Traceback (most recent call last)",
      "Cell \u001b[0;32mIn[54], line 1\u001b[0m\n\u001b[0;32m----> 1\u001b[0m \u001b[43mpd\u001b[49m\u001b[38;5;241;43m.\u001b[39;49m\u001b[43mmerge\u001b[49m\u001b[43m(\u001b[49m\n\u001b[1;32m      2\u001b[0m \u001b[43m    \u001b[49m\u001b[43melectricity_per_year\u001b[49m\u001b[43m,\u001b[49m\n\u001b[1;32m      3\u001b[0m \u001b[43m    \u001b[49m\u001b[43mhappiness\u001b[49m\u001b[43m,\u001b[49m\n\u001b[1;32m      4\u001b[0m \u001b[43m    \u001b[49m\u001b[43mleft_on\u001b[49m\u001b[38;5;241;43m=\u001b[39;49m\u001b[43m[\u001b[49m\u001b[38;5;124;43m\"\u001b[39;49m\u001b[38;5;124;43mCountry Code\u001b[39;49m\u001b[38;5;124;43m\"\u001b[39;49m\u001b[43m,\u001b[49m\u001b[43m \u001b[49m\u001b[38;5;124;43m\"\u001b[39;49m\u001b[38;5;124;43mYear\u001b[39;49m\u001b[38;5;124;43m\"\u001b[39;49m\u001b[43m]\u001b[49m\u001b[43m,\u001b[49m\n\u001b[1;32m      5\u001b[0m \u001b[43m    \u001b[49m\u001b[43mright_on\u001b[49m\u001b[38;5;241;43m=\u001b[39;49m\u001b[43m[\u001b[49m\u001b[38;5;124;43m\"\u001b[39;49m\u001b[38;5;124;43mCountry name\u001b[39;49m\u001b[38;5;124;43m\"\u001b[39;49m\u001b[43m,\u001b[49m\u001b[43m \u001b[49m\u001b[38;5;124;43m\"\u001b[39;49m\u001b[38;5;124;43myear\u001b[39;49m\u001b[38;5;124;43m\"\u001b[39;49m\u001b[43m]\u001b[49m\n\u001b[1;32m      6\u001b[0m \u001b[43m)\u001b[49m\n",
      "File \u001b[0;32m/opt/homebrew/Caskroom/mambaforge/base/envs/computing-in-context/lib/python3.12/site-packages/pandas/core/reshape/merge.py:170\u001b[0m, in \u001b[0;36mmerge\u001b[0;34m(left, right, how, on, left_on, right_on, left_index, right_index, sort, suffixes, copy, indicator, validate)\u001b[0m\n\u001b[1;32m    155\u001b[0m     \u001b[38;5;28;01mreturn\u001b[39;00m _cross_merge(\n\u001b[1;32m    156\u001b[0m         left_df,\n\u001b[1;32m    157\u001b[0m         right_df,\n\u001b[0;32m   (...)\u001b[0m\n\u001b[1;32m    167\u001b[0m         copy\u001b[38;5;241m=\u001b[39mcopy,\n\u001b[1;32m    168\u001b[0m     )\n\u001b[1;32m    169\u001b[0m \u001b[38;5;28;01melse\u001b[39;00m:\n\u001b[0;32m--> 170\u001b[0m     op \u001b[38;5;241m=\u001b[39m \u001b[43m_MergeOperation\u001b[49m\u001b[43m(\u001b[49m\n\u001b[1;32m    171\u001b[0m \u001b[43m        \u001b[49m\u001b[43mleft_df\u001b[49m\u001b[43m,\u001b[49m\n\u001b[1;32m    172\u001b[0m \u001b[43m        \u001b[49m\u001b[43mright_df\u001b[49m\u001b[43m,\u001b[49m\n\u001b[1;32m    173\u001b[0m \u001b[43m        \u001b[49m\u001b[43mhow\u001b[49m\u001b[38;5;241;43m=\u001b[39;49m\u001b[43mhow\u001b[49m\u001b[43m,\u001b[49m\n\u001b[1;32m    174\u001b[0m \u001b[43m        \u001b[49m\u001b[43mon\u001b[49m\u001b[38;5;241;43m=\u001b[39;49m\u001b[43mon\u001b[49m\u001b[43m,\u001b[49m\n\u001b[1;32m    175\u001b[0m \u001b[43m        \u001b[49m\u001b[43mleft_on\u001b[49m\u001b[38;5;241;43m=\u001b[39;49m\u001b[43mleft_on\u001b[49m\u001b[43m,\u001b[49m\n\u001b[1;32m    176\u001b[0m \u001b[43m        \u001b[49m\u001b[43mright_on\u001b[49m\u001b[38;5;241;43m=\u001b[39;49m\u001b[43mright_on\u001b[49m\u001b[43m,\u001b[49m\n\u001b[1;32m    177\u001b[0m \u001b[43m        \u001b[49m\u001b[43mleft_index\u001b[49m\u001b[38;5;241;43m=\u001b[39;49m\u001b[43mleft_index\u001b[49m\u001b[43m,\u001b[49m\n\u001b[1;32m    178\u001b[0m \u001b[43m        \u001b[49m\u001b[43mright_index\u001b[49m\u001b[38;5;241;43m=\u001b[39;49m\u001b[43mright_index\u001b[49m\u001b[43m,\u001b[49m\n\u001b[1;32m    179\u001b[0m \u001b[43m        \u001b[49m\u001b[43msort\u001b[49m\u001b[38;5;241;43m=\u001b[39;49m\u001b[43msort\u001b[49m\u001b[43m,\u001b[49m\n\u001b[1;32m    180\u001b[0m \u001b[43m        \u001b[49m\u001b[43msuffixes\u001b[49m\u001b[38;5;241;43m=\u001b[39;49m\u001b[43msuffixes\u001b[49m\u001b[43m,\u001b[49m\n\u001b[1;32m    181\u001b[0m \u001b[43m        \u001b[49m\u001b[43mindicator\u001b[49m\u001b[38;5;241;43m=\u001b[39;49m\u001b[43mindicator\u001b[49m\u001b[43m,\u001b[49m\n\u001b[1;32m    182\u001b[0m \u001b[43m        \u001b[49m\u001b[43mvalidate\u001b[49m\u001b[38;5;241;43m=\u001b[39;49m\u001b[43mvalidate\u001b[49m\u001b[43m,\u001b[49m\n\u001b[1;32m    183\u001b[0m \u001b[43m    \u001b[49m\u001b[43m)\u001b[49m\n\u001b[1;32m    184\u001b[0m     \u001b[38;5;28;01mreturn\u001b[39;00m op\u001b[38;5;241m.\u001b[39mget_result(copy\u001b[38;5;241m=\u001b[39mcopy)\n",
      "File \u001b[0;32m/opt/homebrew/Caskroom/mambaforge/base/envs/computing-in-context/lib/python3.12/site-packages/pandas/core/reshape/merge.py:807\u001b[0m, in \u001b[0;36m_MergeOperation.__init__\u001b[0;34m(self, left, right, how, on, left_on, right_on, left_index, right_index, sort, suffixes, indicator, validate)\u001b[0m\n\u001b[1;32m    803\u001b[0m \u001b[38;5;28mself\u001b[39m\u001b[38;5;241m.\u001b[39m_validate_tolerance(\u001b[38;5;28mself\u001b[39m\u001b[38;5;241m.\u001b[39mleft_join_keys)\n\u001b[1;32m    805\u001b[0m \u001b[38;5;66;03m# validate the merge keys dtypes. We may need to coerce\u001b[39;00m\n\u001b[1;32m    806\u001b[0m \u001b[38;5;66;03m# to avoid incompatible dtypes\u001b[39;00m\n\u001b[0;32m--> 807\u001b[0m \u001b[38;5;28;43mself\u001b[39;49m\u001b[38;5;241;43m.\u001b[39;49m\u001b[43m_maybe_coerce_merge_keys\u001b[49m\u001b[43m(\u001b[49m\u001b[43m)\u001b[49m\n\u001b[1;32m    809\u001b[0m \u001b[38;5;66;03m# If argument passed to validate,\u001b[39;00m\n\u001b[1;32m    810\u001b[0m \u001b[38;5;66;03m# check if columns specified as unique\u001b[39;00m\n\u001b[1;32m    811\u001b[0m \u001b[38;5;66;03m# are in fact unique.\u001b[39;00m\n\u001b[1;32m    812\u001b[0m \u001b[38;5;28;01mif\u001b[39;00m validate \u001b[38;5;129;01mis\u001b[39;00m \u001b[38;5;129;01mnot\u001b[39;00m \u001b[38;5;28;01mNone\u001b[39;00m:\n",
      "File \u001b[0;32m/opt/homebrew/Caskroom/mambaforge/base/envs/computing-in-context/lib/python3.12/site-packages/pandas/core/reshape/merge.py:1508\u001b[0m, in \u001b[0;36m_MergeOperation._maybe_coerce_merge_keys\u001b[0;34m(self)\u001b[0m\n\u001b[1;32m   1502\u001b[0m     \u001b[38;5;66;03m# unless we are merging non-string-like with string-like\u001b[39;00m\n\u001b[1;32m   1503\u001b[0m     \u001b[38;5;28;01melif\u001b[39;00m (\n\u001b[1;32m   1504\u001b[0m         inferred_left \u001b[38;5;129;01min\u001b[39;00m string_types \u001b[38;5;129;01mand\u001b[39;00m inferred_right \u001b[38;5;129;01mnot\u001b[39;00m \u001b[38;5;129;01min\u001b[39;00m string_types\n\u001b[1;32m   1505\u001b[0m     ) \u001b[38;5;129;01mor\u001b[39;00m (\n\u001b[1;32m   1506\u001b[0m         inferred_right \u001b[38;5;129;01min\u001b[39;00m string_types \u001b[38;5;129;01mand\u001b[39;00m inferred_left \u001b[38;5;129;01mnot\u001b[39;00m \u001b[38;5;129;01min\u001b[39;00m string_types\n\u001b[1;32m   1507\u001b[0m     ):\n\u001b[0;32m-> 1508\u001b[0m         \u001b[38;5;28;01mraise\u001b[39;00m \u001b[38;5;167;01mValueError\u001b[39;00m(msg)\n\u001b[1;32m   1510\u001b[0m \u001b[38;5;66;03m# datetimelikes must match exactly\u001b[39;00m\n\u001b[1;32m   1511\u001b[0m \u001b[38;5;28;01melif\u001b[39;00m needs_i8_conversion(lk\u001b[38;5;241m.\u001b[39mdtype) \u001b[38;5;129;01mand\u001b[39;00m \u001b[38;5;129;01mnot\u001b[39;00m needs_i8_conversion(rk\u001b[38;5;241m.\u001b[39mdtype):\n",
      "\u001b[0;31mValueError\u001b[0m: You are trying to merge on object and int64 columns for key 'Year'. If you wish to proceed you should use pd.concat"
     ]
    }
   ],
   "source": [
    "pd.merge(\n",
    "    electricity_per_year,\n",
    "    happiness,\n",
    "    left_on=[\"Country Code\", \"Year\"],\n",
    "    right_on=[\"Country name\", \"year\"]\n",
    ")"
   ]
  },
  {
   "cell_type": "markdown",
   "id": "de7635cd-8d84-4a3c-881d-58c9b09ff200",
   "metadata": {},
   "source": [
    "### Clean"
   ]
  },
  {
   "cell_type": "code",
   "execution_count": 57,
   "id": "1e74833e-d34a-441e-8763-87cb38757ec8",
   "metadata": {},
   "outputs": [
    {
     "data": {
      "text/plain": [
       "array(['1990 [YR1990]', '2000 [YR2000]', '2014 [YR2014]', '2015 [YR2015]',\n",
       "       '2016 [YR2016]', '2017 [YR2017]', '2018 [YR2018]', '2019 [YR2019]',\n",
       "       '2020 [YR2020]', '2021 [YR2021]', '2022 [YR2022]', '2023 [YR2023]'],\n",
       "      dtype=object)"
      ]
     },
     "execution_count": 57,
     "metadata": {},
     "output_type": "execute_result"
    }
   ],
   "source": [
    "electricity_per_year[\"Year\"].unique()"
   ]
  },
  {
   "cell_type": "code",
   "execution_count": 63,
   "id": "bcc0241f-031c-4c58-a223-fe44a6719a41",
   "metadata": {},
   "outputs": [],
   "source": [
    "electricity_per_year[\"Year\"] = electricity_per_year[\"Year\"].str.replace(\n",
    "    r\" \\[YR\\d{4}\\]\",\n",
    "    \"\",\n",
    "    regex=True\n",
    ").astype(int)"
   ]
  },
  {
   "cell_type": "code",
   "execution_count": 64,
   "id": "b7c1e2a5-0db1-4ec9-8de8-284436bc5249",
   "metadata": {
    "scrolled": true
   },
   "outputs": [
    {
     "data": {
      "text/html": [
       "<div>\n",
       "<style scoped>\n",
       "    .dataframe tbody tr th:only-of-type {\n",
       "        vertical-align: middle;\n",
       "    }\n",
       "\n",
       "    .dataframe tbody tr th {\n",
       "        vertical-align: top;\n",
       "    }\n",
       "\n",
       "    .dataframe thead th {\n",
       "        text-align: right;\n",
       "    }\n",
       "</style>\n",
       "<table border=\"1\" class=\"dataframe\">\n",
       "  <thead>\n",
       "    <tr style=\"text-align: right;\">\n",
       "      <th></th>\n",
       "      <th>Series Name</th>\n",
       "      <th>Series Code</th>\n",
       "      <th>Country Name</th>\n",
       "      <th>Country Code</th>\n",
       "      <th>Year</th>\n",
       "      <th>Access to electricity (% pop)</th>\n",
       "    </tr>\n",
       "  </thead>\n",
       "  <tbody>\n",
       "    <tr>\n",
       "      <th>0</th>\n",
       "      <td>Access to electricity (% of population)</td>\n",
       "      <td>EG.ELC.ACCS.ZS</td>\n",
       "      <td>Afghanistan</td>\n",
       "      <td>AFG</td>\n",
       "      <td>1990</td>\n",
       "      <td>NaN</td>\n",
       "    </tr>\n",
       "    <tr>\n",
       "      <th>1</th>\n",
       "      <td>Access to electricity (% of population)</td>\n",
       "      <td>EG.ELC.ACCS.ZS</td>\n",
       "      <td>Albania</td>\n",
       "      <td>ALB</td>\n",
       "      <td>1990</td>\n",
       "      <td>100.0</td>\n",
       "    </tr>\n",
       "    <tr>\n",
       "      <th>2</th>\n",
       "      <td>Access to electricity (% of population)</td>\n",
       "      <td>EG.ELC.ACCS.ZS</td>\n",
       "      <td>Algeria</td>\n",
       "      <td>DZA</td>\n",
       "      <td>1990</td>\n",
       "      <td>NaN</td>\n",
       "    </tr>\n",
       "    <tr>\n",
       "      <th>3</th>\n",
       "      <td>Access to electricity (% of population)</td>\n",
       "      <td>EG.ELC.ACCS.ZS</td>\n",
       "      <td>American Samoa</td>\n",
       "      <td>ASM</td>\n",
       "      <td>1990</td>\n",
       "      <td>NaN</td>\n",
       "    </tr>\n",
       "    <tr>\n",
       "      <th>4</th>\n",
       "      <td>Access to electricity (% of population)</td>\n",
       "      <td>EG.ELC.ACCS.ZS</td>\n",
       "      <td>Andorra</td>\n",
       "      <td>AND</td>\n",
       "      <td>1990</td>\n",
       "      <td>100.0</td>\n",
       "    </tr>\n",
       "    <tr>\n",
       "      <th>...</th>\n",
       "      <td>...</td>\n",
       "      <td>...</td>\n",
       "      <td>...</td>\n",
       "      <td>...</td>\n",
       "      <td>...</td>\n",
       "      <td>...</td>\n",
       "    </tr>\n",
       "    <tr>\n",
       "      <th>3247</th>\n",
       "      <td>NaN</td>\n",
       "      <td>NaN</td>\n",
       "      <td>NaN</td>\n",
       "      <td>NaN</td>\n",
       "      <td>2023</td>\n",
       "      <td>NaN</td>\n",
       "    </tr>\n",
       "    <tr>\n",
       "      <th>3248</th>\n",
       "      <td>NaN</td>\n",
       "      <td>NaN</td>\n",
       "      <td>NaN</td>\n",
       "      <td>NaN</td>\n",
       "      <td>2023</td>\n",
       "      <td>NaN</td>\n",
       "    </tr>\n",
       "    <tr>\n",
       "      <th>3249</th>\n",
       "      <td>NaN</td>\n",
       "      <td>NaN</td>\n",
       "      <td>NaN</td>\n",
       "      <td>NaN</td>\n",
       "      <td>2023</td>\n",
       "      <td>NaN</td>\n",
       "    </tr>\n",
       "    <tr>\n",
       "      <th>3250</th>\n",
       "      <td>Data from database: World Development Indicators</td>\n",
       "      <td>NaN</td>\n",
       "      <td>NaN</td>\n",
       "      <td>NaN</td>\n",
       "      <td>2023</td>\n",
       "      <td>NaN</td>\n",
       "    </tr>\n",
       "    <tr>\n",
       "      <th>3251</th>\n",
       "      <td>Last Updated: 10/24/2024</td>\n",
       "      <td>NaN</td>\n",
       "      <td>NaN</td>\n",
       "      <td>NaN</td>\n",
       "      <td>2023</td>\n",
       "      <td>NaN</td>\n",
       "    </tr>\n",
       "  </tbody>\n",
       "</table>\n",
       "<p>3252 rows × 6 columns</p>\n",
       "</div>"
      ],
      "text/plain": [
       "                                           Series Name     Series Code  \\\n",
       "0              Access to electricity (% of population)  EG.ELC.ACCS.ZS   \n",
       "1              Access to electricity (% of population)  EG.ELC.ACCS.ZS   \n",
       "2              Access to electricity (% of population)  EG.ELC.ACCS.ZS   \n",
       "3              Access to electricity (% of population)  EG.ELC.ACCS.ZS   \n",
       "4              Access to electricity (% of population)  EG.ELC.ACCS.ZS   \n",
       "...                                                ...             ...   \n",
       "3247                                               NaN             NaN   \n",
       "3248                                               NaN             NaN   \n",
       "3249                                               NaN             NaN   \n",
       "3250  Data from database: World Development Indicators             NaN   \n",
       "3251                          Last Updated: 10/24/2024             NaN   \n",
       "\n",
       "        Country Name Country Code  Year  Access to electricity (% pop)  \n",
       "0        Afghanistan          AFG  1990                            NaN  \n",
       "1            Albania          ALB  1990                          100.0  \n",
       "2            Algeria          DZA  1990                            NaN  \n",
       "3     American Samoa          ASM  1990                            NaN  \n",
       "4            Andorra          AND  1990                          100.0  \n",
       "...              ...          ...   ...                            ...  \n",
       "3247             NaN          NaN  2023                            NaN  \n",
       "3248             NaN          NaN  2023                            NaN  \n",
       "3249             NaN          NaN  2023                            NaN  \n",
       "3250             NaN          NaN  2023                            NaN  \n",
       "3251             NaN          NaN  2023                            NaN  \n",
       "\n",
       "[3252 rows x 6 columns]"
      ]
     },
     "execution_count": 64,
     "metadata": {},
     "output_type": "execute_result"
    }
   ],
   "source": [
    "electricity_per_year"
   ]
  },
  {
   "cell_type": "code",
   "execution_count": 65,
   "id": "a94b30df-8286-4a2f-a6d0-104e7fbaa056",
   "metadata": {},
   "outputs": [
    {
     "data": {
      "text/html": [
       "<div>\n",
       "<style scoped>\n",
       "    .dataframe tbody tr th:only-of-type {\n",
       "        vertical-align: middle;\n",
       "    }\n",
       "\n",
       "    .dataframe tbody tr th {\n",
       "        vertical-align: top;\n",
       "    }\n",
       "\n",
       "    .dataframe thead th {\n",
       "        text-align: right;\n",
       "    }\n",
       "</style>\n",
       "<table border=\"1\" class=\"dataframe\">\n",
       "  <thead>\n",
       "    <tr style=\"text-align: right;\">\n",
       "      <th></th>\n",
       "      <th>Series Name</th>\n",
       "      <th>Series Code</th>\n",
       "      <th>Country Name</th>\n",
       "      <th>Country Code</th>\n",
       "      <th>Year</th>\n",
       "      <th>Access to electricity (% pop)</th>\n",
       "      <th>Country name</th>\n",
       "      <th>year</th>\n",
       "      <th>Life Ladder</th>\n",
       "      <th>Log GDP per capita</th>\n",
       "      <th>Social support</th>\n",
       "      <th>Healthy life expectancy at birth</th>\n",
       "      <th>Freedom to make life choices</th>\n",
       "      <th>Generosity</th>\n",
       "      <th>Perceptions of corruption</th>\n",
       "      <th>Positive affect</th>\n",
       "      <th>Negative affect</th>\n",
       "    </tr>\n",
       "  </thead>\n",
       "  <tbody>\n",
       "  </tbody>\n",
       "</table>\n",
       "</div>"
      ],
      "text/plain": [
       "Empty DataFrame\n",
       "Columns: [Series Name, Series Code, Country Name, Country Code, Year, Access to electricity (% pop), Country name, year, Life Ladder, Log GDP per capita, Social support, Healthy life expectancy at birth, Freedom to make life choices, Generosity, Perceptions of corruption, Positive affect, Negative affect]\n",
       "Index: []"
      ]
     },
     "execution_count": 65,
     "metadata": {},
     "output_type": "execute_result"
    }
   ],
   "source": [
    "pd.merge(\n",
    "    electricity_per_year,\n",
    "    happiness,\n",
    "    left_on=[\"Country Code\", \"Year\"],\n",
    "    right_on=[\"Country name\", \"year\"]\n",
    ")"
   ]
  },
  {
   "cell_type": "markdown",
   "id": "147a8f6f-7f0c-4e93-9b3b-aa8017fc1aab",
   "metadata": {},
   "source": [
    "See [end of official solution](https://computing-in-context.afeld.me/lecture_20_exercise_solution.html#two-y-axes)."
   ]
  }
 ],
 "metadata": {
  "kernelspec": {
   "display_name": "Python [conda env:computing-in-context] *",
   "language": "python",
   "name": "conda-env-computing-in-context-py"
  },
  "language_info": {
   "codemirror_mode": {
    "name": "ipython",
    "version": 3
   },
   "file_extension": ".py",
   "mimetype": "text/x-python",
   "name": "python",
   "nbconvert_exporter": "python",
   "pygments_lexer": "ipython3",
   "version": "3.12.7"
  }
 },
 "nbformat": 4,
 "nbformat_minor": 5
}
