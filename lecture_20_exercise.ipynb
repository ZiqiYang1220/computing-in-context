{
 "cells": [
  {
   "cell_type": "markdown",
   "id": "be2425c4-4d84-417b-b63d-f402b3a583df",
   "metadata": {
    "editable": true,
    "slideshow": {
     "slide_type": ""
    },
    "tags": []
   },
   "source": [
    "# Lecture 20 In-Class Exercise\n",
    "\n",
    "Show the change in [Access to Electricity](https://databank.worldbank.org/reports.aspx?dsid=2&series=EG.ELC.ACCS.ZS) by country over time, using [World Development Indicators data](https://datacatalog.worldbank.org/search/dataset/0037712/World-Development-Indicators)."
   ]
  },
  {
   "cell_type": "code",
   "execution_count": null,
   "id": "dd1a01fb-fb96-4a78-a103-975cc4dafa44",
   "metadata": {
    "editable": true,
    "slideshow": {
     "slide_type": ""
    },
    "tags": [
     "solution"
    ]
   },
   "outputs": [],
   "source": [
    "# your code here"
   ]
  }
 ],
 "metadata": {
  "kernelspec": {
   "display_name": "Python [conda env:computing-in-context] *",
   "language": "python",
   "name": "conda-env-computing-in-context-py"
  },
  "language_info": {
   "codemirror_mode": {
    "name": "ipython",
    "version": 3
   },
   "file_extension": ".py",
   "mimetype": "text/x-python",
   "name": "python",
   "nbconvert_exporter": "python",
   "pygments_lexer": "ipython3",
   "version": "3.12.7"
  }
 },
 "nbformat": 4,
 "nbformat_minor": 5
}
