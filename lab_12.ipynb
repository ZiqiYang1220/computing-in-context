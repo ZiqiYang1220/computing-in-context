{
 "cells": [
  {
   "cell_type": "markdown",
   "metadata": {
    "editable": true,
    "id": "Omm4n3FmPHlF",
    "slideshow": {
     "slide_type": "slide"
    },
    "tags": []
   },
   "source": [
    "# Lab 12\n",
    "\n",
    "_[General notebook information](https://computing-in-context.afeld.me/notebooks.html)_\n",
    "\n",
    "You'll need to [install](https://computing-in-context.afeld.me/notebooks.html#installing-packages) [`lxml`](https://anaconda.org/conda-forge/lxml) and [`requests`](https://anaconda.org/conda-forge/requests)."
   ]
  },
  {
   "cell_type": "markdown",
   "metadata": {
    "editable": true,
    "slideshow": {
     "slide_type": "slide"
    },
    "tags": []
   },
   "source": [
    "## Scraping\n",
    "\n",
    "Common tools:\n",
    "\n",
    "- [Beautiful Soup package](https://realpython.com/beautiful-soup-web-scraper-python/)\n",
    "- [pandas' `read_html()`](https://pandas.pydata.org/docs/user_guide/io.html#html)"
   ]
  },
  {
   "cell_type": "markdown",
   "metadata": {
    "editable": true,
    "slideshow": {
     "slide_type": "subslide"
    },
    "tags": []
   },
   "source": [
    "Pull [Wikipedia's list of countries by area](https://en.wikipedia.org/wiki/List_of_countries_and_dependencies_by_area#Countries_and_dependencies_by_area) into a DataFrame using `read_html()`."
   ]
  },
  {
   "cell_type": "code",
   "execution_count": null,
   "metadata": {
    "editable": true,
    "slideshow": {
     "slide_type": "-"
    },
    "tags": [
     "solution"
    ]
   },
   "outputs": [],
   "source": [
    "# your code here"
   ]
  },
  {
   "cell_type": "markdown",
   "metadata": {
    "editable": true,
    "slideshow": {
     "slide_type": "slide"
    },
    "tags": []
   },
   "source": [
    "## FEC data"
   ]
  },
  {
   "cell_type": "markdown",
   "metadata": {
    "editable": true,
    "slideshow": {
     "slide_type": ""
    },
    "tags": []
   },
   "source": [
    "We'll make an API call in the browser.\n",
    "\n",
    "1. Visit https://www.fec.gov/data/candidates/\n",
    "1. [Open Developer Tools](https://developer.mozilla.org/en-US/docs/Learn/Common_questions/What_are_browser_developer_tools#how_to_open_the_devtools_in_your_browser).\n",
    "1. Reload the page.\n",
    "1. In the Network tab's request list:\n",
    "   1. Filter to Fetch/XHR/AJAX (terminology will differ by browser)\n",
    "   1. Right-click the API call row.\n",
    "1. Click `Open in New Tab`. You will see an error.\n",
    "1. In the URL bar, replace the `api_key` value with `DEMO_KEY`. The URL should therefore contain `api_key=DEMO_KEY`.\n",
    "\n",
    "You should see a big wall of JSON data.\n"
   ]
  },
  {
   "cell_type": "markdown",
   "metadata": {
    "editable": true,
    "slideshow": {
     "slide_type": "subslide"
    },
    "tags": []
   },
   "source": [
    "### Querying\n",
    "\n",
    "Retrieve candidates who have raised funds. [API documentation.](https://api.open.fec.gov/developers/)"
   ]
  },
  {
   "cell_type": "code",
   "execution_count": null,
   "metadata": {
    "editable": true,
    "slideshow": {
     "slide_type": "-"
    },
    "tags": [
     "solution"
    ]
   },
   "outputs": [],
   "source": [
    "# your code here"
   ]
  },
  {
   "cell_type": "markdown",
   "metadata": {
    "editable": true,
    "slideshow": {
     "slide_type": ""
    },
    "tags": []
   },
   "source": [
    "Turn those results into a DataFrame."
   ]
  },
  {
   "cell_type": "code",
   "execution_count": null,
   "metadata": {
    "editable": true,
    "slideshow": {
     "slide_type": "-"
    },
    "tags": [
     "solution"
    ]
   },
   "outputs": [],
   "source": [
    "# your code here"
   ]
  },
  {
   "cell_type": "markdown",
   "metadata": {
    "editable": true,
    "slideshow": {
     "slide_type": ""
    },
    "tags": []
   },
   "source": [
    "Get [Jimmy McMillan](https://en.wikipedia.org/wiki/Jimmy_McMillan)'s latest candidacy information:"
   ]
  },
  {
   "cell_type": "code",
   "execution_count": null,
   "metadata": {
    "editable": true,
    "slideshow": {
     "slide_type": "-"
    },
    "tags": [
     "solution"
    ]
   },
   "outputs": [],
   "source": [
    "# your code here"
   ]
  },
  {
   "cell_type": "markdown",
   "metadata": {
    "editable": true,
    "slideshow": {
     "slide_type": "subslide"
    },
    "tags": []
   },
   "source": [
    "#### Retrieving nested data\n",
    "\n",
    "Retrieve the name of Jimmy's party as a standalone value."
   ]
  },
  {
   "cell_type": "code",
   "execution_count": null,
   "metadata": {
    "editable": true,
    "slideshow": {
     "slide_type": "-"
    },
    "tags": [
     "solution"
    ]
   },
   "outputs": [],
   "source": [
    "# your code here"
   ]
  },
  {
   "cell_type": "markdown",
   "metadata": {
    "editable": true,
    "slideshow": {
     "slide_type": "slide"
    },
    "tags": []
   },
   "source": [
    "## Pagination\n",
    "\n",
    "Get _all_ [NYC film permits](https://data.cityofnewyork.us/City-Government/Film-Permits/tg4x-b46p/about_data) through [the API](https://dev.socrata.com/foundry/data.cityofnewyork.us/tg4x-b46p). [Documentation on paging.](https://dev.socrata.com/docs/paging)\n",
    "\n",
    "**Hints**\n",
    "\n",
    "You'll probably want to create DataFrames for each page, then \"concatenate\" them. Here's a structure you can start with:"
   ]
  },
  {
   "cell_type": "code",
   "execution_count": null,
   "metadata": {
    "editable": true,
    "slideshow": {
     "slide_type": "-"
    },
    "tags": [
     "solution"
    ]
   },
   "outputs": [],
   "source": [
    "# in a loop\n",
    "#     get the first/next page of data\n",
    "#     combine with the data that's already been retrieved\n",
    "#     if there are fewer than the default number of records returned, stop the loop"
   ]
  },
  {
   "cell_type": "markdown",
   "metadata": {
    "editable": true,
    "slideshow": {
     "slide_type": "slide"
    },
    "tags": []
   },
   "source": [
    "## GitHub\n",
    "\n",
    "1. [Sign up](https://github.com/signup)\n",
    "1. [\"Publish to GitHub\"](https://code.visualstudio.com/docs/sourcecontrol/intro-to-git#_publish-local-repository-to-github)\n",
    "1. [Push](https://code.visualstudio.com/docs/sourcecontrol/overview#_remotes)\n",
    "1. Browse\n",
    "1. Make change\n",
    "1. Commit\n",
    "1. Push"
   ]
  },
  {
   "cell_type": "markdown",
   "metadata": {
    "editable": true,
    "slideshow": {
     "slide_type": "slide"
    },
    "tags": []
   },
   "source": [
    "## [JupyterBook](https://jupyterbook.org/)\n",
    "\n",
    "- Used to build the [course site](https://computing-in-context.afeld.me/)\n",
    "- [Install `jupyter-book` via Anaconda](notebooks.md#installing-packages)"
   ]
  },
  {
   "cell_type": "markdown",
   "metadata": {
    "editable": true,
    "slideshow": {
     "slide_type": "subslide"
    },
    "tags": []
   },
   "source": [
    "### [Config](https://jupyterbook.org/en/stable/customize/config.html)\n",
    "\n",
    "Create minimal `_config.yml`:\n",
    "\n",
    "```yaml\n",
    "title: NAME\n",
    "author: NAME\n",
    "\n",
    "execute:\n",
    "  execute_notebooks: off\n",
    "```\n",
    "\n",
    "[More about YAML.](https://www.cloudbees.com/blog/yaml-tutorial-everything-you-need-get-started)"
   ]
  },
  {
   "cell_type": "markdown",
   "metadata": {
    "editable": true,
    "slideshow": {
     "slide_type": "subslide"
    },
    "tags": []
   },
   "source": [
    "### [Table of contents](https://jupyterbook.org/customize/toc.html)\n",
    "\n",
    "Create a `_toc.yml`:\n",
    "\n",
    "```yaml\n",
    "format: jb-book\n",
    "root: project_3.ipynb\n",
    "```"
   ]
  },
  {
   "cell_type": "markdown",
   "metadata": {
    "editable": true,
    "slideshow": {
     "slide_type": "subslide"
    },
    "tags": []
   },
   "source": [
    "### [Build the site](https://jupyterbook.org/en/stable/start/build.html#build-your-books-html)\n",
    "\n",
    "[Open a terminal](https://code.visualstudio.com/docs/terminal/getting-started) and run:\n",
    "\n",
    "```sh\n",
    "jupyter-book build .\n",
    "```"
   ]
  },
  {
   "cell_type": "markdown",
   "metadata": {
    "editable": true,
    "slideshow": {
     "slide_type": "subslide"
    },
    "tags": []
   },
   "source": [
    "### View the site (locally)\n",
    "\n",
    "On Mac:\n",
    "\n",
    "```sh\n",
    "open _build/html/index.html\n",
    "```\n",
    "\n",
    "On Windows:\n",
    "\n",
    "```powershell\n",
    "\"_build\\html\\index.html\"\n",
    "```"
   ]
  },
  {
   "cell_type": "markdown",
   "metadata": {
    "editable": true,
    "slideshow": {
     "slide_type": "skip"
    },
    "tags": []
   },
   "source": [
    "Alternatively,\n",
    "\n",
    "- Find the file through Finder / Windows Explorer and double-click\n",
    "- From your browser, go to `File`->`Open File…`"
   ]
  },
  {
   "cell_type": "markdown",
   "metadata": {
    "editable": true,
    "slideshow": {
     "slide_type": "slide"
    },
    "tags": []
   },
   "source": [
    "## Commit changes\n",
    "\n",
    "1. Go to Source Control\n",
    "1. [View the diff](https://code.visualstudio.com/docs/sourcecontrol/overview#_viewing-diffs)\n",
    "1. [Ignore](https://docs.github.com/en/get-started/getting-started-with-git/ignoring-files#configuring-ignored-files-for-a-single-repository) `_build/` files\n",
    "1. Commit\n",
    "1. Push"
   ]
  },
  {
   "cell_type": "markdown",
   "metadata": {
    "editable": true,
    "slideshow": {
     "slide_type": ""
    },
    "tags": []
   },
   "source": [
    "---\n",
    "\n",
    "Submit via Gradescope."
   ]
  }
 ],
 "metadata": {
  "celltoolbar": "Slideshow",
  "kernelspec": {
   "display_name": "Python [conda env:computing-in-context] *",
   "language": "python",
   "name": "conda-env-computing-in-context-py"
  },
  "language_info": {
   "codemirror_mode": {
    "name": "ipython",
    "version": 3
   },
   "file_extension": ".py",
   "mimetype": "text/x-python",
   "name": "python",
   "nbconvert_exporter": "python",
   "pygments_lexer": "ipython3",
   "version": "3.12.7"
  },
  "rise": {
   "scroll": true
  }
 },
 "nbformat": 4,
 "nbformat_minor": 4
}
