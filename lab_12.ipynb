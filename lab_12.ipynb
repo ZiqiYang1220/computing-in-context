{
 "cells": [
  {
   "cell_type": "markdown",
   "metadata": {
    "editable": true,
    "id": "Omm4n3FmPHlF",
    "slideshow": {
     "slide_type": "slide"
    },
    "tags": []
   },
   "source": [
    "# Lab 12\n",
    "\n",
    "_[General notebook information](https://computing-in-context.afeld.me/notebooks.html)_\n",
    "\n",
    "You'll need to [install](https://computing-in-context.afeld.me/notebooks.html#installing-packages) [`lxml`](https://anaconda.org/conda-forge/lxml) and [`requests`](https://anaconda.org/conda-forge/requests)."
   ]
  },
  {
   "cell_type": "markdown",
   "metadata": {
    "editable": true,
    "slideshow": {
     "slide_type": "slide"
    },
    "tags": []
   },
   "source": [
    "## Scraping\n",
    "\n",
    "Common tools:\n",
    "\n",
    "- [Beautiful Soup package](https://realpython.com/beautiful-soup-web-scraper-python/)\n",
    "- [pandas' `read_html()`](https://pandas.pydata.org/docs/user_guide/io.html#html)"
   ]
  },
  {
   "cell_type": "markdown",
   "metadata": {
    "editable": true,
    "slideshow": {
     "slide_type": "subslide"
    },
    "tags": []
   },
   "source": [
    "Pull [Wikipedia's list of countries by area](https://en.wikipedia.org/wiki/List_of_countries_and_dependencies_by_area#Countries_and_dependencies_by_area) into a DataFrame using `read_html()`."
   ]
  },
  {
   "cell_type": "code",
   "execution_count": null,
   "metadata": {
    "editable": true,
    "slideshow": {
     "slide_type": "-"
    },
    "tags": [
     "solution"
    ]
   },
   "outputs": [],
   "source": [
    "# your code here"
   ]
  },
  {
   "cell_type": "markdown",
   "metadata": {
    "editable": true,
    "slideshow": {
     "slide_type": "slide"
    },
    "tags": []
   },
   "source": [
    "## FEC data"
   ]
  },
  {
   "cell_type": "markdown",
   "metadata": {
    "editable": true,
    "slideshow": {
     "slide_type": ""
    },
    "tags": []
   },
   "source": [
    "### API calls in the browser\n",
    "\n",
    "1. Visit https://www.fec.gov/data/candidates/\n",
    "1. [Open Developer Tools](https://developer.mozilla.org/en-US/docs/Learn/Common_questions/What_are_browser_developer_tools#how_to_open_the_devtools_in_your_browser).\n",
    "1. Reload the page.\n",
    "1. In the Network tab's request list:\n",
    "   1. Filter to Fetch/XHR/AJAX (terminology will differ by browser)\n",
    "   1. Right-click the API call row.\n",
    "1. Click `Open in New Tab`. You will see an error.\n",
    "1. In the URL bar, replace the `api_key` value with `DEMO_KEY`. The URL should therefore contain `api_key=DEMO_KEY`.\n",
    "\n",
    "You should see a big wall of JSON data.\n"
   ]
  },
  {
   "cell_type": "markdown",
   "metadata": {
    "editable": true,
    "slideshow": {
     "slide_type": "subslide"
    },
    "tags": []
   },
   "source": [
    "### Querying\n",
    "\n",
    "Retrieve candidates who have raised funds. [API documentation.](https://api.open.fec.gov/developers/)"
   ]
  },
  {
   "cell_type": "code",
   "execution_count": null,
   "metadata": {
    "editable": true,
    "slideshow": {
     "slide_type": "-"
    },
    "tags": [
     "solution"
    ]
   },
   "outputs": [],
   "source": [
    "# your code here"
   ]
  },
  {
   "cell_type": "markdown",
   "metadata": {
    "editable": true,
    "slideshow": {
     "slide_type": ""
    },
    "tags": []
   },
   "source": [
    "Get [Jimmy McMillan](https://en.wikipedia.org/wiki/Jimmy_McMillan)'s latest candidacy information:"
   ]
  },
  {
   "cell_type": "code",
   "execution_count": null,
   "metadata": {
    "editable": true,
    "slideshow": {
     "slide_type": "-"
    },
    "tags": [
     "solution"
    ]
   },
   "outputs": [],
   "source": [
    "# your code here"
   ]
  },
  {
   "cell_type": "markdown",
   "metadata": {
    "editable": true,
    "slideshow": {
     "slide_type": ""
    },
    "tags": []
   },
   "source": [
    "#### Retrieving nested data\n",
    "\n",
    "Retrieve the name of Jimmy's party as a standalone value."
   ]
  },
  {
   "cell_type": "code",
   "execution_count": null,
   "metadata": {
    "editable": true,
    "slideshow": {
     "slide_type": "-"
    },
    "tags": [
     "solution"
    ]
   },
   "outputs": [],
   "source": [
    "# your code here"
   ]
  },
  {
   "cell_type": "markdown",
   "metadata": {
    "editable": true,
    "slideshow": {
     "slide_type": "subslide"
    },
    "tags": []
   },
   "source": [
    "### Read into a DataFrame"
   ]
  },
  {
   "cell_type": "code",
   "execution_count": null,
   "metadata": {
    "editable": true,
    "slideshow": {
     "slide_type": "-"
    },
    "tags": [
     "solution"
    ]
   },
   "outputs": [],
   "source": [
    "# your code here"
   ]
  },
  {
   "cell_type": "markdown",
   "metadata": {
    "editable": true,
    "slideshow": {
     "slide_type": "slide"
    },
    "tags": []
   },
   "source": [
    "## Geocoding\n",
    "\n",
    "[Geocode](https://en.wikipedia.org/wiki/Address_geocoding) an address from Python using the [Nominatim API](https://nominatim.org/release-docs/develop/api/Search/). Print out the latitude and longitude. Any address is fine:\n",
    "\n",
    "- Your own\n",
    "- This building\n",
    "- etc.\n",
    "\n",
    "Per [their policies](https://operations.osmfoundation.org/policies/nominatim/#requirements), we'll need to specify a custom [User Agent](https://developer.mozilla.org/en-US/docs/Web/HTTP/Headers/User-Agent). Include the following in the call to `requests.get()`:\n",
    "\n",
    "```python\n",
    "headers={\"user-agent\": \"Python in-class exercise\"}\n",
    "```\n",
    "\n",
    "**Hint:** Try getting the API call working in your browser URL bar before calling it in Python."
   ]
  },
  {
   "cell_type": "code",
   "execution_count": null,
   "metadata": {
    "editable": true,
    "slideshow": {
     "slide_type": "-"
    },
    "tags": [
     "solution"
    ]
   },
   "outputs": [],
   "source": [
    "# your code here"
   ]
  },
  {
   "cell_type": "markdown",
   "metadata": {
    "editable": true,
    "slideshow": {
     "slide_type": "slide"
    },
    "tags": []
   },
   "source": [
    "## Pagination\n",
    "\n",
    "Starting with [the code from the lecture](https://computing-in-context.afeld.me/lecture_22.html#requests-from-the-last-week), get _all_ 311 requests from the past week in chunks of 1,000 at a time. [Documentation on paging.](https://dev.socrata.com/docs/paging)\n",
    "\n",
    "**Hints**\n",
    "\n",
    "You'll probably want to:\n",
    "\n",
    "- Start with a smaller time span / chunks so it runs quicker as you're getting it working.\n",
    "- Create DataFrames for each page, then \"concatenate\" them.\n",
    "\n",
    "Here's a structure you can start with:"
   ]
  },
  {
   "cell_type": "code",
   "execution_count": null,
   "metadata": {
    "editable": true,
    "slideshow": {
     "slide_type": "-"
    },
    "tags": [
     "solution"
    ]
   },
   "outputs": [],
   "source": [
    "# in a loop\n",
    "    # get the first/next page of data\n",
    "    # combine with the data that's already been retrieved\n",
    "    # if there are fewer than the default number of records returned, stop the loop"
   ]
  },
  {
   "cell_type": "markdown",
   "metadata": {
    "editable": true,
    "slideshow": {
     "slide_type": ""
    },
    "tags": []
   },
   "source": [
    "---\n",
    "\n",
    "Submit via Gradescope."
   ]
  }
 ],
 "metadata": {
  "celltoolbar": "Slideshow",
  "kernelspec": {
   "display_name": "Python [conda env:computing-in-context] *",
   "language": "python",
   "name": "conda-env-computing-in-context-py"
  },
  "language_info": {
   "codemirror_mode": {
    "name": "ipython",
    "version": 3
   },
   "file_extension": ".py",
   "mimetype": "text/x-python",
   "name": "python",
   "nbconvert_exporter": "python",
   "pygments_lexer": "ipython3",
   "version": "3.12.7"
  },
  "rise": {
   "scroll": true
  }
 },
 "nbformat": 4,
 "nbformat_minor": 4
}
