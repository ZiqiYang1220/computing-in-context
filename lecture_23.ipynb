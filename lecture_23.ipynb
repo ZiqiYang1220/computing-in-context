{
 "cells": [
  {
   "cell_type": "markdown",
   "id": "22df9ff0-4b08-4376-846e-14ba225cc79f",
   "metadata": {},
   "source": [
    "# Lecture 23: Sharing and collaboration\n",
    "\n",
    "TODO"
   ]
  }
 ],
 "metadata": {
  "kernelspec": {
   "display_name": "Python [conda env:computing-in-context] *",
   "language": "python",
   "name": "conda-env-computing-in-context-py"
  },
  "language_info": {
   "codemirror_mode": {
    "name": "ipython",
    "version": 3
   },
   "file_extension": ".py",
   "mimetype": "text/x-python",
   "name": "python",
   "nbconvert_exporter": "python",
   "pygments_lexer": "ipython3",
   "version": "3.12.7"
  }
 },
 "nbformat": 4,
 "nbformat_minor": 5
}
