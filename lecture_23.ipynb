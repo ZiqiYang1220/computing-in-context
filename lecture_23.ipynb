{
 "cells": [
  {
   "cell_type": "markdown",
   "id": "22df9ff0-4b08-4376-846e-14ba225cc79f",
   "metadata": {
    "editable": true,
    "slideshow": {
     "slide_type": "slide"
    },
    "tags": []
   },
   "source": [
    "# Lecture 23: Sharing and collaboration\n",
    "\n",
    "IN PROGRESS\n",
    "\n",
    "This lecture will be largely live demo. If everything works, it will be a miracle."
   ]
  },
  {
   "cell_type": "markdown",
   "id": "09618334-b8e2-49b7-b4e6-a8f86211b203",
   "metadata": {
    "editable": true,
    "slideshow": {
     "slide_type": "slide"
    },
    "tags": []
   },
   "source": [
    "## Hosted notebooks"
   ]
  },
  {
   "cell_type": "markdown",
   "id": "1682137f-f3b7-4ac3-bd06-d1fc53d85fe4",
   "metadata": {
    "editable": true,
    "slideshow": {
     "slide_type": "subslide"
    },
    "tags": []
   },
   "source": [
    "[Jupyter can run on \"on your computer (“local”), or in the cloud somewhere.\"](lecture_15.ipynb#where-to-python)"
   ]
  },
  {
   "cell_type": "markdown",
   "id": "fa95220f-0edb-44ec-9028-ce873c851092",
   "metadata": {
    "editable": true,
    "slideshow": {
     "slide_type": "subslide"
    },
    "tags": []
   },
   "source": [
    "### [Google Colab](https://colab.research.google.com/)\n",
    "\n",
    "- [Free](https://research.google.com/colaboratory/faq.html#free-to-use)\n",
    "- Can [upload an existing notebook](https://research.google.com/colaboratory/faq.html#importing-notebooks)\n",
    "- [\"Virtual machines are deleted when idle for a while, and have a maximum lifetime\"](https://research.google.com/colaboratory/faq.html#executed-code)\n",
    "    - File storage is ephemeral\n",
    "- Supports mounting Google Drive\n",
    "- Comes with various packages pre-installed\n",
    "    - Can [install others](https://colab.research.google.com/notebooks/snippets/importing_libraries.ipynb)"
   ]
  },
  {
   "cell_type": "markdown",
   "id": "85d41fd6-1168-4e3d-b03f-18e49a3cbb5a",
   "metadata": {
    "editable": true,
    "slideshow": {
     "slide_type": "slide"
    },
    "tags": []
   },
   "source": [
    "## Version control and collaboration (Git/GitHub)"
   ]
  },
  {
   "cell_type": "markdown",
   "id": "30e5dd11-13a3-4b65-a4fa-66ea09c7df13",
   "metadata": {
    "editable": true,
    "slideshow": {
     "slide_type": "slide"
    },
    "tags": []
   },
   "source": [
    "## Integrated development environments (IDEs; Visual Studio Code)"
   ]
  },
  {
   "cell_type": "markdown",
   "id": "36b4b254-b94c-4655-bb2d-ee403794474e",
   "metadata": {
    "editable": true,
    "slideshow": {
     "slide_type": "slide"
    },
    "tags": []
   },
   "source": [
    "## Command line\n",
    "\n",
    "- UNIX vs. Windows\n",
    "- Git BASH"
   ]
  }
 ],
 "metadata": {
  "kernelspec": {
   "display_name": "Python [conda env:computing-in-context] *",
   "language": "python",
   "name": "conda-env-computing-in-context-py"
  },
  "language_info": {
   "codemirror_mode": {
    "name": "ipython",
    "version": 3
   },
   "file_extension": ".py",
   "mimetype": "text/x-python",
   "name": "python",
   "nbconvert_exporter": "python",
   "pygments_lexer": "ipython3",
   "version": "3.12.7"
  }
 },
 "nbformat": 4,
 "nbformat_minor": 5
}
