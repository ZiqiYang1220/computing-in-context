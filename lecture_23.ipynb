{
 "cells": [
  {
   "cell_type": "markdown",
   "id": "22df9ff0-4b08-4376-846e-14ba225cc79f",
   "metadata": {
    "editable": true,
    "slideshow": {
     "slide_type": "slide"
    },
    "tags": []
   },
   "source": [
    "# Lecture 23: Sharing and collaboration\n",
    "\n",
    "IN PROGRESS"
   ]
  },
  {
   "cell_type": "markdown",
   "id": "09618334-b8e2-49b7-b4e6-a8f86211b203",
   "metadata": {
    "editable": true,
    "slideshow": {
     "slide_type": "slide"
    },
    "tags": []
   },
   "source": [
    "## Hosted notebooks (Google Colab)"
   ]
  },
  {
   "cell_type": "markdown",
   "id": "85d41fd6-1168-4e3d-b03f-18e49a3cbb5a",
   "metadata": {
    "editable": true,
    "slideshow": {
     "slide_type": "slide"
    },
    "tags": []
   },
   "source": [
    "## Version control and collaboration (Git/GitHub)"
   ]
  },
  {
   "cell_type": "markdown",
   "id": "30e5dd11-13a3-4b65-a4fa-66ea09c7df13",
   "metadata": {
    "editable": true,
    "slideshow": {
     "slide_type": ""
    },
    "tags": []
   },
   "source": [
    "## Integrated development environments (IDEs; Visual Studio Code)"
   ]
  },
  {
   "cell_type": "markdown",
   "id": "36b4b254-b94c-4655-bb2d-ee403794474e",
   "metadata": {
    "editable": true,
    "slideshow": {
     "slide_type": ""
    },
    "tags": []
   },
   "source": [
    "## Command line\n",
    "\n",
    "- UNIX vs. Windows\n",
    "- Git BASH"
   ]
  }
 ],
 "metadata": {
  "kernelspec": {
   "display_name": "Python [conda env:computing-in-context] *",
   "language": "python",
   "name": "conda-env-computing-in-context-py"
  },
  "language_info": {
   "codemirror_mode": {
    "name": "ipython",
    "version": 3
   },
   "file_extension": ".py",
   "mimetype": "text/x-python",
   "name": "python",
   "nbconvert_exporter": "python",
   "pygments_lexer": "ipython3",
   "version": "3.12.7"
  }
 },
 "nbformat": 4,
 "nbformat_minor": 5
}
