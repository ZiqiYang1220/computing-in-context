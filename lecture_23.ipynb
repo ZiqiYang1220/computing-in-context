{
 "cells": [
  {
   "cell_type": "markdown",
   "id": "22df9ff0-4b08-4376-846e-14ba225cc79f",
   "metadata": {
    "editable": true,
    "slideshow": {
     "slide_type": "slide"
    },
    "tags": []
   },
   "source": [
    "# Lecture 23: Sharing and collaboration\n",
    "\n",
    "IN PROGRESS"
   ]
  },
  {
   "cell_type": "markdown",
   "id": "136f8db2-844c-4919-bad8-d685d48608ba",
   "metadata": {
    "editable": true,
    "slideshow": {
     "slide_type": "slide"
    },
    "tags": []
   },
   "source": [
    "- This lecture will be largely live demo. If everything works, it will be a miracle.\n",
    "    - Thanks for your patience\n",
    "- Showing the recommended+supported path; if you're comfortable with alternatives, can use those.\n",
    "- We are just skimming the surface of these tools."
   ]
  },
  {
   "cell_type": "markdown",
   "id": "09618334-b8e2-49b7-b4e6-a8f86211b203",
   "metadata": {
    "editable": true,
    "slideshow": {
     "slide_type": "slide"
    },
    "tags": []
   },
   "source": [
    "## Hosted notebooks"
   ]
  },
  {
   "cell_type": "markdown",
   "id": "1682137f-f3b7-4ac3-bd06-d1fc53d85fe4",
   "metadata": {
    "editable": true,
    "slideshow": {
     "slide_type": "subslide"
    },
    "tags": []
   },
   "source": [
    "[Jupyter can run on \"on your computer (“local”), or in the cloud somewhere.\"](lecture_15.ipynb#where-to-python)"
   ]
  },
  {
   "cell_type": "markdown",
   "id": "fa95220f-0edb-44ec-9028-ce873c851092",
   "metadata": {
    "editable": true,
    "slideshow": {
     "slide_type": "subslide"
    },
    "tags": []
   },
   "source": [
    "### [Google Colab](https://colab.research.google.com/)\n",
    "\n",
    "- [Free](https://research.google.com/colaboratory/faq.html#free-to-use)\n",
    "- Can [upload an existing notebook](https://research.google.com/colaboratory/faq.html#importing-notebooks)\n",
    "- [\"Virtual machines are deleted when idle for a while, and have a maximum lifetime\"](https://research.google.com/colaboratory/faq.html#executed-code)\n",
    "    - File storage is ephemeral\n",
    "- Supports mounting Google Drive\n",
    "- Comes with various packages pre-installed\n",
    "    - Can [install others](https://colab.research.google.com/notebooks/snippets/importing_libraries.ipynb)"
   ]
  },
  {
   "cell_type": "markdown",
   "id": "30e5dd11-13a3-4b65-a4fa-66ea09c7df13",
   "metadata": {
    "editable": true,
    "slideshow": {
     "slide_type": "slide"
    },
    "tags": []
   },
   "source": [
    "## Integrated development environments (IDEs)\n",
    "\n",
    "- Like Notepad/TextEdit vs. Word\n",
    "    - Pros/cons?\n",
    "    - Jupyter is kinda halfway\n",
    "- Getting even more powerful with generative AI integrations"
   ]
  },
  {
   "cell_type": "markdown",
   "id": "77ff77d1-35b4-46ba-8e93-d0b2970db3e2",
   "metadata": {
    "editable": true,
    "slideshow": {
     "slide_type": "subslide"
    },
    "tags": []
   },
   "source": [
    "### [Visual Studio Code (VSCode)](https://code.visualstudio.com/)\n",
    "\n",
    "1. Download\n",
    "1. Install\n",
    "1. Create empty folder\n",
    "    1. Go to [open a folder/workspace](https://code.visualstudio.com/docs/editor/workspaces#_how-do-i-open-a-vs-code-workspace)\n",
    "    1. Navigate to where you want it\n",
    "    1. Click `New Folder`\n",
    "    1. Name it something like `computing-in-context`\n",
    "1. In sidebar, click [Source Control](https://code.visualstudio.com/docs/sourcecontrol/overview)\n",
    "1. [Install Git](https://code.visualstudio.com/docs/sourcecontrol/overview#_working-in-a-git-repository), if necessary\n",
    "    - Many ways to install\n",
    "    - [Using Anaconda](notebooks.md#installing-packages) is recommended\n",
    "1. [Initialize repository](https://code.visualstudio.com/docs/sourcecontrol/overview#_initialize-a-repository)\n",
    "1. Go to [Explorer](https://code.visualstudio.com/docs/getstarted/userinterface#_explorer-view)\n",
    "1. Create file `project_3.ipynb`\n",
    "1. [Select kernel](https://code.visualstudio.com/docs/datascience/jupyter-notebooks#_create-or-open-a-jupyter-notebook)\n",
    "    1. Click `Python Environments…`\n",
    "    1. Select [Python installed via Anaconda](https://docs.anaconda.com/working-with-conda/ide-tutorials/python-path/)"
   ]
  },
  {
   "cell_type": "markdown",
   "id": "85d41fd6-1168-4e3d-b03f-18e49a3cbb5a",
   "metadata": {
    "editable": true,
    "slideshow": {
     "slide_type": "slide"
    },
    "tags": []
   },
   "source": [
    "## Version control"
   ]
  },
  {
   "cell_type": "markdown",
   "id": "b6044e3f-f263-4980-b29a-f552cce6d9b6",
   "metadata": {
    "editable": true,
    "slideshow": {
     "slide_type": "subslide"
    },
    "tags": []
   },
   "source": [
    "When you're editing a file and make a mistake, what do you do?"
   ]
  },
  {
   "cell_type": "markdown",
   "id": "24ce3a8d-335f-4c2a-a7bf-cddeba6e8235",
   "metadata": {
    "editable": true,
    "slideshow": {
     "slide_type": ""
    },
    "tags": []
   },
   "source": [
    "[Changes over time (history)](https://speakerdeck.com/aidanfeldman/git-graphically?slide=2)"
   ]
  },
  {
   "cell_type": "markdown",
   "id": "114fd385-3902-4af5-8ea4-79740b8e4109",
   "metadata": {
    "editable": true,
    "slideshow": {
     "slide_type": "subslide"
    },
    "tags": []
   },
   "source": [
    "Undo/redo are useful"
   ]
  },
  {
   "cell_type": "markdown",
   "id": "efc4eb4e-c664-4195-8e8b-31d15d84d1c1",
   "metadata": {
    "editable": true,
    "slideshow": {
     "slide_type": "subslide"
    },
    "tags": []
   },
   "source": [
    "How would you try out a change that touches multiple files?"
   ]
  },
  {
   "cell_type": "markdown",
   "id": "d32faa9f-649f-49ac-9a4b-49a9b3590b7f",
   "metadata": {
    "editable": true,
    "slideshow": {
     "slide_type": "subslide"
    },
    "tags": []
   },
   "source": [
    "[Branching](https://speakerdeck.com/aidanfeldman/git-graphically?slide=7)"
   ]
  },
  {
   "cell_type": "markdown",
   "id": "04867028-9c41-4168-862b-87e88954b91b",
   "metadata": {
    "editable": true,
    "slideshow": {
     "slide_type": "subslide"
    },
    "tags": []
   },
   "source": [
    "### Git\n",
    "\n",
    "1. Initialize repo\n",
    "1. Commit files"
   ]
  },
  {
   "cell_type": "markdown",
   "id": "eb7a2738-d966-4ccc-a95f-b4354288e83b",
   "metadata": {
    "editable": true,
    "slideshow": {
     "slide_type": ""
    },
    "tags": []
   },
   "source": [
    "### Collaboration"
   ]
  },
  {
   "cell_type": "markdown",
   "id": "e5cba27a-8ce8-4132-b976-0053822fc02f",
   "metadata": {
    "editable": true,
    "slideshow": {
     "slide_type": "subslide"
    },
    "tags": []
   },
   "source": [
    "What might come up if working with other people on code/notebooks?"
   ]
  },
  {
   "cell_type": "markdown",
   "id": "01c2727c-6a98-4b62-a3d7-3f29c59313d2",
   "metadata": {
    "editable": true,
    "slideshow": {
     "slide_type": "subslide"
    },
    "tags": []
   },
   "source": [
    "#### GitHub\n",
    "\n",
    "1. Create repo\n",
    "1. Push\n",
    "1. Browse\n",
    "1. Commit\n",
    "1. Push"
   ]
  },
  {
   "cell_type": "markdown",
   "id": "36b4b254-b94c-4655-bb2d-ee403794474e",
   "metadata": {
    "editable": true,
    "slideshow": {
     "slide_type": "slide"
    },
    "tags": []
   },
   "source": [
    "## Command line\n",
    "\n",
    "- UNIX vs. Windows\n",
    "- Git BASH"
   ]
  },
  {
   "cell_type": "markdown",
   "id": "5bcee982-abd9-4bc0-8fcc-12ca5a11a838",
   "metadata": {
    "editable": true,
    "slideshow": {
     "slide_type": "slide"
    },
    "tags": []
   },
   "source": [
    "Will get more into these things in [Advanced Computing for Policy](https://docs.google.com/document/d/14hGiU8LP0vosSnaT2z_3BYIQM1S4stPN/edit)"
   ]
  }
 ],
 "metadata": {
  "kernelspec": {
   "display_name": "Python [conda env:computing-in-context] *",
   "language": "python",
   "name": "conda-env-computing-in-context-py"
  },
  "language_info": {
   "codemirror_mode": {
    "name": "ipython",
    "version": 3
   },
   "file_extension": ".py",
   "mimetype": "text/x-python",
   "name": "python",
   "nbconvert_exporter": "python",
   "pygments_lexer": "ipython3",
   "version": "3.12.7"
  }
 },
 "nbformat": 4,
 "nbformat_minor": 5
}
